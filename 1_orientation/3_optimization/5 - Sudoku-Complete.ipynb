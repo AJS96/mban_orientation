{
 "cells": [
  {
   "cell_type": "markdown",
   "metadata": {
    "deletable": true,
    "editable": true
   },
   "source": [
    "## Sudoku\n",
    "\n",
    "![Sudoku](http://upload.wikimedia.org/wikipedia/commons/f/ff/Sudoku-by-L2G-20050714.svg)\n",
    "\n",
    "**Sudoku** is a number puzzle played on a 9x9 grid. The challenge is to place a digit between 1 and 9 inclusive in each empty cell, such that the completed grid obeys the following rules:\n",
    "\n",
    "* Each row contains the numbers 1 to 9 once and only once.\n",
    "* Each column contains the numbers 1 to 9 once and only once.\n",
    "* Each 3x3 subgrid contains the numbers 1 to 9 once and only once.\n",
    "\n",
    "The most natural formulation of this problem would probably be something like\n",
    "\n",
    "$$x_{i,j} \\in \\{1, 2, \\dots, 9\\}$$\n",
    "\n",
    "which is of course something we can do with integer programming:\n",
    "\n",
    "$$1 \\leq x_{i,j} \\leq 9, ~ integer$$\n",
    "\n",
    "The challenge now is the constraints. One observation is that the numbers 1 to 9 add up to 45, so we could try something like:\n",
    "\n",
    "$$ \\sum_{j=1}^9 x_{i,j} = 45 $$\n",
    "\n",
    "And something similar for the columns and squares."
   ]
  },
  {
   "cell_type": "code",
   "execution_count": 3,
   "metadata": {
    "collapsed": false,
    "deletable": true,
    "editable": true
   },
   "outputs": [
    {
     "data": {
      "text/plain": [
       "9×9 Array{Int64,2}:\n",
       " 5  3  9  9  7  1  1  1  9\n",
       " 6  1  1  1  9  5  9  4  9\n",
       " 3  9  8  1  9  3  5  6  1\n",
       " 8  9  1  9  6  1  1  7  3\n",
       " 4  9  1  8  1  3  9  9  1\n",
       " 7  1  5  6  2  9  8  1  6\n",
       " 9  6  5  6  2  5  2  8  2\n",
       " 1  6  8  4  1  9  9  2  5\n",
       " 2  1  7  1  8  9  1  7  9"
      ]
     },
     "execution_count": 3,
     "metadata": {},
     "output_type": "execute_result"
    },
    {
     "name": "stdout",
     "output_type": "stream",
     "text": [
      "Academic license - for non-commercial use only\n"
     ]
    }
   ],
   "source": [
    "init_vals = [\n",
    "5 3 0 0 7 0 0 0 0\n",
    "6 0 0 1 9 5 0 0 0\n",
    "0 9 8 0 0 0 0 6 0\n",
    "8 0 0 0 6 0 0 0 3\n",
    "4 0 0 8 0 3 0 0 1\n",
    "7 0 0 0 2 0 0 0 6\n",
    "0 6 0 0 0 0 2 8 0\n",
    "0 0 0 4 1 9 0 0 5\n",
    "0 0 0 0 8 0 0 7 9\n",
    "]\n",
    "\n",
    "using JuMP, Gurobi\n",
    "function sudoku1()\n",
    "    sudoku = Model(solver=GurobiSolver(OutputFlag=0))\n",
    "    @variable(sudoku, 1 <= x[1:9,1:9] <= 9, Int)\n",
    "    @constraint(sudoku, rows[i=1:9], sum(x[i,:]) == 45)\n",
    "    @constraint(sudoku, cols[j=1:9], sum(x[:,j]) == 45)\n",
    "    @constraint(sudoku,subgrid[i=1:3:7,j=1:3:7], sum(x[i:i+2,j:j+2]) == 45)\n",
    "    for i in 1:9, j in 1:9\n",
    "        if init_vals[i,j] != 0\n",
    "            @constraint(sudoku, x[i,j] == init_vals[i,j])\n",
    "        end\n",
    "    end\n",
    "    \n",
    "    solve(sudoku)\n",
    "    \n",
    "    Int.(getvalue(x))\n",
    "end\n",
    "grid1 = sudoku1()"
   ]
  },
  {
   "cell_type": "markdown",
   "metadata": {
    "deletable": true,
    "editable": true
   },
   "source": [
    "Well that didn't work. Our model can't have been correct. This shows the importance of validating the output from an optimization model to make sure it makes sense and actually reflects the problem you are trying to solve.\n",
    "\n",
    "## Exercise\n",
    "\n",
    "Let's write a function to validate any sudoku solution and check if it is valid:"
   ]
  },
  {
   "cell_type": "code",
   "execution_count": 4,
   "metadata": {
    "collapsed": false,
    "deletable": true,
    "editable": true
   },
   "outputs": [
    {
     "data": {
      "text/plain": [
       "check_sudoku (generic function with 1 method)"
      ]
     },
     "execution_count": 4,
     "metadata": {},
     "output_type": "execute_result"
    }
   ],
   "source": [
    "function check_sudoku(grid)\n",
    "    isvalid = true\n",
    "    for row = 1:9\n",
    "        if length(unique(grid[row, :])) != 9\n",
    "            println(\"row $row is invalid\")\n",
    "            isvalid = false\n",
    "        end\n",
    "    end\n",
    "    for col = 1:9\n",
    "        if length(unique(grid[:, col])) != 9\n",
    "            println(\"col $col is invalid\")\n",
    "            isvalid = false\n",
    "        end\n",
    "    end\n",
    "    for i = 1:3:7, j = 1:3:7\n",
    "        if length(unique(grid[i:i+2, j:j+2])) != 9\n",
    "            println(\"3x3 square ($i,$j) is invalid\")\n",
    "            isvalid = false\n",
    "        end\n",
    "    end\n",
    "    return isvalid\n",
    "end    "
   ]
  },
  {
   "cell_type": "markdown",
   "metadata": {
    "deletable": true,
    "editable": true
   },
   "source": [
    "Let's try it out:"
   ]
  },
  {
   "cell_type": "code",
   "execution_count": 5,
   "metadata": {
    "collapsed": false,
    "deletable": true,
    "editable": true
   },
   "outputs": [
    {
     "data": {
      "text/plain": [
       "false"
      ]
     },
     "execution_count": 5,
     "metadata": {},
     "output_type": "execute_result"
    },
    {
     "name": "stdout",
     "output_type": "stream",
     "text": [
      "row 1 is invalid\n",
      "row 2 is invalid\n",
      "row 3 is invalid\n",
      "row 4 is invalid\n",
      "row 5 is invalid\n",
      "row 6 is invalid\n",
      "row 7 is invalid\n",
      "row 8 is invalid\n",
      "row 9 is invalid\n",
      "col 2 is invalid\n",
      "col 3 is invalid\n",
      "col 4 is invalid\n",
      "col 5 is invalid\n",
      "col 6 is invalid\n",
      "col 7 is invalid\n",
      "col 8 is invalid\n",
      "col 9 is invalid\n",
      "3x3 square (1,1) is invalid\n",
      "3x3 square (1,4) is invalid\n",
      "3x3 square (1,7) is invalid\n",
      "3x3 square (4,1) is invalid\n",
      "3x3 square (4,4) is invalid\n",
      "3x3 square (4,7) is invalid\n",
      "3x3 square (7,1) is invalid\n",
      "3x3 square (7,4) is invalid\n",
      "3x3 square (7,7) is invalid\n"
     ]
    }
   ],
   "source": [
    "check_sudoku(grid1)"
   ]
  },
  {
   "cell_type": "markdown",
   "metadata": {
    "deletable": true,
    "editable": true
   },
   "source": [
    "## New formulation\n",
    "\n",
    "Let's fix our formulation so it is correct. We can change our **variables**: $x_{i,j,k} = 1$ iff the number $k$ will appear in cell $(i,j)$. We can now use our 0-1 integer programming knowledge to model the problem. Consider the \"row\" constraints: we want each number to appear once and only once. This is equivalent to saying that\n",
    "\n",
    "$$\\sum_{j=1}^9 x_{i,j,k} = 1 \\quad \\forall i, k$$\n",
    "\n",
    "We can now model this as a $9\\times 9\\times 9$ dimensional problem - thats a lot of binary variables, surely Gurobi won't like that!"
   ]
  },
  {
   "cell_type": "code",
   "execution_count": 6,
   "metadata": {
    "collapsed": false,
    "deletable": true,
    "editable": true
   },
   "outputs": [
    {
     "data": {
      "text/plain": [
       "9×9×9 Array{Float64,3}:\n",
       "[:, :, 1] =\n",
       " 0.0  0.0  0.0  0.0  0.0  0.0  0.0  1.0  0.0\n",
       " 0.0  0.0  0.0  1.0  0.0  0.0  0.0  0.0  0.0\n",
       " 1.0  0.0  0.0  0.0  0.0  0.0  0.0  0.0  0.0\n",
       " 0.0  0.0  0.0  0.0  0.0  1.0  0.0  0.0  0.0\n",
       " 0.0  0.0  0.0  0.0  0.0  0.0  0.0  0.0  1.0\n",
       " 0.0  1.0  0.0  0.0  0.0  0.0  0.0  0.0  0.0\n",
       " 0.0  0.0  1.0  0.0  0.0  0.0  0.0  0.0  0.0\n",
       " 0.0  0.0  0.0  0.0  1.0  0.0  0.0  0.0  0.0\n",
       " 0.0  0.0  0.0  0.0  0.0  0.0  1.0  0.0  0.0\n",
       "\n",
       "[:, :, 2] =\n",
       " 0.0  0.0  0.0  0.0  0.0  0.0  0.0  0.0  1.0\n",
       " 0.0  0.0  1.0  0.0  0.0  0.0  0.0  0.0  0.0\n",
       " 0.0  0.0  0.0  0.0  0.0  1.0  0.0  0.0  0.0\n",
       " 0.0  0.0  0.0  0.0  0.0  0.0  0.0  1.0  0.0\n",
       " 0.0  1.0  0.0  0.0  0.0  0.0  0.0  0.0  0.0\n",
       " 0.0  0.0  0.0  0.0  1.0  0.0  0.0  0.0  0.0\n",
       " 0.0  0.0  0.0  0.0  0.0  0.0  1.0  0.0  0.0\n",
       " 1.0  0.0  0.0  0.0  0.0  0.0  0.0  0.0  0.0\n",
       " 0.0  0.0  0.0  1.0  0.0  0.0  0.0  0.0  0.0\n",
       "\n",
       "[:, :, 3] =\n",
       " 0.0  1.0  0.0  0.0  0.0  0.0  0.0  0.0  0.0\n",
       " 0.0  0.0  0.0  0.0  0.0  0.0  1.0  0.0  0.0\n",
       " 0.0  0.0  0.0  1.0  0.0  0.0  0.0  0.0  0.0\n",
       " 0.0  0.0  0.0  0.0  0.0  0.0  0.0  0.0  1.0\n",
       " 0.0  0.0  0.0  0.0  0.0  1.0  0.0  0.0  0.0\n",
       " 0.0  0.0  1.0  0.0  0.0  0.0  0.0  0.0  0.0\n",
       " 0.0  0.0  0.0  0.0  1.0  0.0  0.0  0.0  0.0\n",
       " 0.0  0.0  0.0  0.0  0.0  0.0  0.0  1.0  0.0\n",
       " 1.0  0.0  0.0  0.0  0.0  0.0  0.0  0.0  0.0\n",
       "\n",
       "[:, :, 4] =\n",
       " 0.0  0.0  1.0  0.0  0.0  0.0   0.0  0.0  0.0\n",
       " 0.0  0.0  0.0  0.0  0.0  0.0   0.0  1.0  0.0\n",
       " 0.0  0.0  0.0  0.0  1.0  0.0   0.0  0.0  0.0\n",
       " 0.0  0.0  0.0  0.0  0.0  0.0   1.0  0.0  0.0\n",
       " 1.0  0.0  0.0  0.0  0.0  0.0   0.0  0.0  0.0\n",
       " 0.0  0.0  0.0  0.0  0.0  1.0   0.0  0.0  0.0\n",
       " 0.0  0.0  0.0  0.0  0.0  0.0   0.0  0.0  1.0\n",
       " 0.0  0.0  0.0  1.0  0.0  0.0   0.0  0.0  0.0\n",
       " 0.0  1.0  0.0  0.0  0.0  0.0  -0.0  0.0  0.0\n",
       "\n",
       "[:, :, 5] =\n",
       " 1.0  0.0  0.0  0.0  0.0  0.0  0.0  0.0  0.0\n",
       " 0.0  0.0  0.0  0.0  0.0  1.0  0.0  0.0  0.0\n",
       " 0.0  0.0  0.0  0.0  0.0  0.0  1.0  0.0  0.0\n",
       " 0.0  1.0  0.0  0.0  0.0  0.0  0.0  0.0  0.0\n",
       " 0.0  0.0  0.0  0.0  1.0  0.0  0.0  0.0  0.0\n",
       " 0.0  0.0  0.0  0.0  0.0  0.0  0.0  1.0  0.0\n",
       " 0.0  0.0  0.0  1.0  0.0  0.0  0.0  0.0  0.0\n",
       " 0.0  0.0  0.0  0.0  0.0  0.0  0.0  0.0  1.0\n",
       " 0.0  0.0  1.0  0.0  0.0  0.0  0.0  0.0  0.0\n",
       "\n",
       "[:, :, 6] =\n",
       " 0.0  0.0  0.0  1.0  0.0  0.0  0.0  0.0  0.0\n",
       " 1.0  0.0  0.0  0.0  0.0  0.0  0.0  0.0  0.0\n",
       " 0.0  0.0  0.0  0.0  0.0  0.0  0.0  1.0  0.0\n",
       " 0.0  0.0  0.0  0.0  1.0  0.0  0.0  0.0  0.0\n",
       " 0.0  0.0  1.0  0.0  0.0  0.0  0.0  0.0  0.0\n",
       " 0.0  0.0  0.0  0.0  0.0  0.0  0.0  0.0  1.0\n",
       " 0.0  1.0  0.0  0.0  0.0  0.0  0.0  0.0  0.0\n",
       " 0.0  0.0  0.0  0.0  0.0  0.0  1.0  0.0  0.0\n",
       " 0.0  0.0  0.0  0.0  0.0  1.0  0.0  0.0  0.0\n",
       "\n",
       "[:, :, 7] =\n",
       " 0.0  0.0  0.0  0.0  1.0  0.0  0.0  0.0  0.0\n",
       " 0.0  1.0  0.0  0.0  0.0  0.0  0.0  0.0  0.0\n",
       " 0.0  0.0  0.0  0.0  0.0  0.0  0.0  0.0  1.0\n",
       " 0.0  0.0  0.0  1.0  0.0  0.0  0.0  0.0  0.0\n",
       " 0.0  0.0  0.0  0.0  0.0  0.0  1.0  0.0  0.0\n",
       " 1.0  0.0  0.0  0.0  0.0  0.0  0.0  0.0  0.0\n",
       " 0.0  0.0  0.0  0.0  0.0  1.0  0.0  0.0  0.0\n",
       " 0.0  0.0  1.0  0.0  0.0  0.0  0.0  0.0  0.0\n",
       " 0.0  0.0  0.0  0.0  0.0  0.0  0.0  1.0  0.0\n",
       "\n",
       "[:, :, 8] =\n",
       " 0.0  0.0  0.0  0.0  0.0  1.0  0.0  0.0  0.0\n",
       " 0.0  0.0  0.0  0.0  0.0  0.0  0.0  0.0  1.0\n",
       " 0.0  0.0  1.0  0.0  0.0  0.0  0.0  0.0  0.0\n",
       " 1.0  0.0  0.0  0.0  0.0  0.0  0.0  0.0  0.0\n",
       " 0.0  0.0  0.0  1.0  0.0  0.0  0.0  0.0  0.0\n",
       " 0.0  0.0  0.0  0.0  0.0  0.0  1.0  0.0  0.0\n",
       " 0.0  0.0  0.0  0.0  0.0  0.0  0.0  1.0  0.0\n",
       " 0.0  1.0  0.0  0.0  0.0  0.0  0.0  0.0  0.0\n",
       " 0.0  0.0  0.0  0.0  1.0  0.0  0.0  0.0  0.0\n",
       "\n",
       "[:, :, 9] =\n",
       " 0.0  0.0  0.0  0.0  0.0  0.0  1.0  0.0  0.0\n",
       " 0.0  0.0  0.0  0.0  1.0  0.0  0.0  0.0  0.0\n",
       " 0.0  1.0  0.0  0.0  0.0  0.0  0.0  0.0  0.0\n",
       " 0.0  0.0  1.0  0.0  0.0  0.0  0.0  0.0  0.0\n",
       " 0.0  0.0  0.0  0.0  0.0  0.0  0.0  1.0  0.0\n",
       " 0.0  0.0  0.0  1.0  0.0  0.0  0.0  0.0  0.0\n",
       " 1.0  0.0  0.0  0.0  0.0  0.0  0.0  0.0  0.0\n",
       " 0.0  0.0  0.0  0.0  0.0  1.0  0.0  0.0  0.0\n",
       " 0.0  0.0  0.0  0.0  0.0  0.0  0.0  0.0  1.0"
      ]
     },
     "execution_count": 6,
     "metadata": {},
     "output_type": "execute_result"
    },
    {
     "name": "stdout",
     "output_type": "stream",
     "text": [
      "Academic license - for non-commercial use only\n",
      "Optimize a model with 354 rows, 729 columns and 2946 nonzeros\n",
      "Variable types: 0 continuous, 729 integer (729 binary)\n",
      "Coefficient statistics:\n",
      "  Matrix range     [1e+00, 1e+00]\n",
      "  Objective range  [0e+00, 0e+00]\n",
      "  Bounds range     [1e+00, 1e+00]\n",
      "  RHS range        [1e+00, 1e+00]\n",
      "Presolve removed 354 rows and 729 columns\n",
      "Presolve time: 0.00s\n",
      "Presolve: All rows and columns removed\n",
      "\n",
      "Explored 0 nodes (0 simplex iterations) in 0.00 seconds\n",
      "Thread count was 1 (of 8 available processors)\n",
      "\n",
      "Solution count 1: 0 \n",
      "\n",
      "Optimal solution found (tolerance 1.00e-04)\n",
      "Best objective 0.000000000000e+00, best bound 0.000000000000e+00, gap 0.0000%\n"
     ]
    }
   ],
   "source": [
    "function sudoku2()\n",
    "    sudoku = Model(solver=GurobiSolver())\n",
    "\n",
    "    @variable(sudoku, x[i=1:9, j=1:9, k=1:9], Bin)\n",
    "\n",
    "    @constraints(sudoku, begin\n",
    "        # Constraint 1 - Exactly one value appears in each cell\n",
    "        cell[i=1:9, j=1:9], sum(x[i,j,:]) == 1\n",
    "        # Constraint 2 - Each value appears in each row exactly once\n",
    "        row[i=1:9, k=1:9], sum(x[i,:,k]) == 1\n",
    "        # Constraint 3 - Each value appears in each column exactly once\n",
    "        col[j=1:9, k=1:9], sum(x[:,j,k]) == 1\n",
    "        # Constraint 4 - Each value appears in each 3x3 subgrid exactly once\n",
    "        subgrid[i=1:3:7,j=1:3:7,val=1:9], sum(x[i:i+2,j:j+2,val]) == 1\n",
    "    end)\n",
    "\n",
    "    # Initial solution\n",
    "    for row in 1:9, col in 1:9\n",
    "        if init_vals[row,col] != 0\n",
    "            @constraint(sudoku, x[row, col, init_vals[row, col]] == 1)\n",
    "        end\n",
    "    end\n",
    "    \n",
    "    solve(sudoku)\n",
    "    \n",
    "    getvalue(x)\n",
    "end\n",
    "grid2 = sudoku2()"
   ]
  },
  {
   "cell_type": "markdown",
   "metadata": {
    "collapsed": true,
    "deletable": true,
    "editable": true
   },
   "source": [
    "We can check if this is a valid solution, but we have to change it into the grid format first!"
   ]
  },
  {
   "cell_type": "code",
   "execution_count": 7,
   "metadata": {
    "collapsed": false,
    "deletable": true,
    "editable": true
   },
   "outputs": [
    {
     "data": {
      "text/plain": [
       "9×9 Array{Int64,2}:\n",
       " 5  3  4  6  7  8  9  1  2\n",
       " 6  7  2  1  9  5  3  4  8\n",
       " 1  9  8  3  4  2  5  6  7\n",
       " 8  5  9  7  6  1  4  2  3\n",
       " 4  2  6  8  5  3  7  9  1\n",
       " 7  1  3  9  2  4  8  5  6\n",
       " 9  6  1  5  3  7  2  8  4\n",
       " 2  8  7  4  1  9  6  3  5\n",
       " 3  4  5  2  8  6  1  7  9"
      ]
     },
     "execution_count": 7,
     "metadata": {},
     "output_type": "execute_result"
    }
   ],
   "source": [
    "grid2a = zeros(Int, 9, 9)\n",
    "for i = 1:9\n",
    "    for j = 1:9\n",
    "        grid2a[i, j] = findfirst(grid2[i, j, :])\n",
    "    end\n",
    "end\n",
    "grid2a"
   ]
  },
  {
   "cell_type": "code",
   "execution_count": 8,
   "metadata": {
    "collapsed": false,
    "deletable": true,
    "editable": true
   },
   "outputs": [
    {
     "data": {
      "text/plain": [
       "true"
      ]
     },
     "execution_count": 8,
     "metadata": {},
     "output_type": "execute_result"
    }
   ],
   "source": [
    "check_sudoku(grid2a)"
   ]
  },
  {
   "cell_type": "markdown",
   "metadata": {
    "deletable": true,
    "editable": true
   },
   "source": [
    "It works!"
   ]
  }
 ],
 "metadata": {
  "kernelspec": {
   "display_name": "Julia 0.6.4",
   "language": "julia",
   "name": "julia-0.6"
  },
  "language_info": {
   "file_extension": ".jl",
   "mimetype": "application/julia",
   "name": "julia",
   "version": "0.6.4"
  }
 },
 "nbformat": 4,
 "nbformat_minor": 0
}
