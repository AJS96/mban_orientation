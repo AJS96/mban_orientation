{
 "cells": [
  {
   "cell_type": "markdown",
   "metadata": {},
   "source": [
    "# AirBnB assignment problem\n",
    "\n",
    "You are planning a weekend vacation in Boston for a large group of students. You would like to stay in AirBnB's, since this is generally cheaper than staying at an hotel.\n",
    "Unfortunately, this is quite complicated to organize!\n",
    "\n",
    "* AirBnBs accommodate different numbers of guests, so it is difficult to divide everyone into groups\n",
    "* Since there are many of you, some people might try to book the same listings and be disappointed\n",
    "* All the AirBnBs have different features and prices\n",
    "\n",
    "Instead of everyone trying to organize their own groups and bookings, you have volunteered to formulate an optimization model to determine where each person should stay.\n",
    "You sent out an initial survey to your classmates to find out what preferences and constraints you need to consider:\n",
    "* Some students requested to be placed in a Male only/Female only lisitng, while some were happy to share with anyone\n",
    "* Some students requested specific amenities: Kitchen, Air-con etc.\n",
    "\n",
    "You also decided to restrict the listings that you would consider based on certain criteria\n",
    "* You all want to be near each other for group activities, so we will only consider listings near central Boston or Back Bay\n",
    "* We will only consider listings with high review scores\n",
    "\n"
   ]
  },
  {
   "cell_type": "code",
   "execution_count": 88,
   "metadata": {},
   "outputs": [],
   "source": [
    "#import Pkg\n",
    "#Pkg.add(\"CSV\")\n",
    "#Pkg.add(\"DataFrames\")"
   ]
  },
  {
   "cell_type": "code",
   "execution_count": 1,
   "metadata": {},
   "outputs": [],
   "source": [
    "# first, set the working directory to the 3_optimization folder\n",
    "cd(\"/Users/Emma/Documents/MBAN/mban_orientation/1_orientation/3_optimization/\")"
   ]
  },
  {
   "cell_type": "code",
   "execution_count": 2,
   "metadata": {},
   "outputs": [],
   "source": [
    "# load packages\n",
    "using JuMP, Gurobi, DataFrames, CSV"
   ]
  },
  {
   "cell_type": "markdown",
   "metadata": {},
   "source": [
    "Yesterday we practiced filtering and manipulating the AirBnB data in R. Instead of starting from scratch in Julia, let's use our R skills to do some initial data processing.\n",
    "To do this, we'll need to do the following:\n",
    "* an R script that contains all the code we want to run: input_data.R\n",
    "* a way to tell Julia to run the R script\n",
    "* a way to read the output files from the R script into Julia\n",
    "\n",
    "To do this we'll need two commands:\n",
    "* the run( [command] ) function tells Julia to send a command to the terminal\n",
    "* the Rscript [script] [arguments] command tells your computer to open and R session and run a specific script"
   ]
  },
  {
   "cell_type": "code",
   "execution_count": 3,
   "metadata": {},
   "outputs": [
    {
     "name": "stderr",
     "output_type": "stream",
     "text": [
      "── Attaching packages ─────────────────────────────────────── tidyverse 1.2.1 ──\n",
      "✔ ggplot2 3.1.0     ✔ purrr   0.2.5\n",
      "✔ tibble  1.4.2     ✔ dplyr   0.7.7\n",
      "✔ tidyr   0.8.0     ✔ stringr 1.3.1\n",
      "✔ readr   1.1.1     ✔ forcats 0.3.0\n",
      "── Conflicts ────────────────────────────────────────── tidyverse_conflicts() ──\n",
      "✖ dplyr::filter() masks stats::filter()\n",
      "✖ dplyr::lag()    masks stats::lag()\n",
      "Warning messages:\n",
      "1: package ‘ggplot2’ was built under R version 3.4.4 \n",
      "2: package ‘purrr’ was built under R version 3.4.4 \n",
      "3: package ‘dplyr’ was built under R version 3.4.4 \n",
      "4: package ‘stringr’ was built under R version 3.4.4 \n",
      "Loading required package: methods\n",
      "\n",
      "Attaching package: ‘lubridate’\n",
      "\n",
      "The following object is masked from ‘package:base’:\n",
      "\n",
      "    date\n",
      "\n",
      "Warning message:\n",
      "package ‘lubridate’ was built under R version 3.4.4 \n"
     ]
    },
    {
     "name": "stdout",
     "output_type": "stream",
     "text": [
      "[1] \"2019-11-25\"\n"
     ]
    },
    {
     "name": "stderr",
     "output_type": "stream",
     "text": [
      "Parsed with column specification:\n",
      "cols(\n",
      "  .default = col_character(),\n",
      "  id = col_integer(),\n",
      "  scrape_id = col_double(),\n",
      "  last_scraped = col_date(format = \"\"),\n",
      "  host_id = col_integer(),\n",
      "  host_since = col_date(format = \"\"),\n",
      "  host_listings_count = col_integer(),\n",
      "  host_total_listings_count = col_integer(),\n",
      "  latitude = col_double(),\n",
      "  longitude = col_double(),\n",
      "  accommodates = col_integer(),\n",
      "  bathrooms = col_double(),\n",
      "  bedrooms = col_integer(),\n",
      "  beds = col_integer(),\n",
      "  square_feet = col_integer(),\n",
      "  guests_included = col_integer(),\n",
      "  minimum_nights = col_integer(),\n",
      "  maximum_nights = col_integer(),\n",
      "  minimum_minimum_nights = col_integer(),\n",
      "  maximum_minimum_nights = col_integer(),\n",
      "  minimum_maximum_nights = col_integer()\n",
      "  # ... with 24 more columns\n",
      ")\n",
      "See spec(...) for full column specifications.\n",
      "Warning message:\n",
      "package ‘bindrcpp’ was built under R version 3.4.4 \n",
      "Parsed with column specification:\n",
      "cols(\n",
      "  listing_id = col_integer(),\n",
      "  date = col_date(format = \"\"),\n",
      "  available = col_character(),\n",
      "  price = col_character(),\n",
      "  adjusted_price = col_character(),\n",
      "  minimum_nights = col_integer(),\n",
      "  maximum_nights = col_integer()\n",
      ")\n"
     ]
    },
    {
     "name": "stdout",
     "output_type": "stream",
     "text": [
      "[1] \"Success!\"\n"
     ]
    },
    {
     "data": {
      "text/plain": [
       "Process(`\u001b[4mRscript\u001b[24m \u001b[4minput_data.R\u001b[24m \u001b[4m2019-11-25\u001b[24m`, ProcessExited(0))"
      ]
     },
     "execution_count": 3,
     "metadata": {},
     "output_type": "execute_result"
    }
   ],
   "source": [
    "# our R script takes one argument: the date that we will start our stay\n",
    "\n",
    "# set the date that we want to start our booking\n",
    "date = \"2019-11-25\"\n",
    "\n",
    "# this line will run the R script \n",
    "run(`Rscript input_data.R $date`)"
   ]
  },
  {
   "cell_type": "code",
   "execution_count": 4,
   "metadata": {},
   "outputs": [
    {
     "data": {
      "text/html": [
       "<table class=\"data-frame\"><thead><tr><th></th><th>id</th><th>listing_url</th><th>scrape_id</th><th>last_scraped</th><th>name</th></tr><tr><th></th><th>Int64</th><th>String</th><th>Int64</th><th>Dates…</th><th>String</th></tr></thead><tbody><p>5 rows × 109 columns (omitted printing of 104 columns)</p><tr><th>1</th><td>311240</td><td>https://www.airbnb.com/rooms/311240</td><td>20190714024644</td><td>2019-07-14</td><td>Upscale Back Bay Studio, River Views</td></tr><tr><th>2</th><td>1090413</td><td>https://www.airbnb.com/rooms/1090413</td><td>20190714024644</td><td>2019-07-14</td><td>HynesConventionCtr-5min-Lge Rm-Pvt Bath</td></tr><tr><th>3</th><td>1090545</td><td>https://www.airbnb.com/rooms/1090545</td><td>20190714024644</td><td>2019-07-14</td><td>BostonCtrBackBay-Pvt Bath&amp;Rm-Comfy Bed</td></tr><tr><th>4</th><td>1868124</td><td>https://www.airbnb.com/rooms/1868124</td><td>20190714024644</td><td>2019-07-14</td><td>Lux Downtown Boston 1 Bedroom Apt w/pool</td></tr><tr><th>5</th><td>1868513</td><td>https://www.airbnb.com/rooms/1868513</td><td>20190714024644</td><td>2019-07-14</td><td>Lux 1 Bedroom in Post-War Back Bay building w/WiFi</td></tr></tbody></table>"
      ],
      "text/latex": [
       "\\begin{tabular}{r|cccccc}\n",
       "\t& id & listing\\_url & scrape\\_id & last\\_scraped & name & \\\\\n",
       "\t\\hline\n",
       "\t& Int64 & String & Int64 & Dates… & String & \\\\\n",
       "\t\\hline\n",
       "\t1 & 311240 & https://www.airbnb.com/rooms/311240 & 20190714024644 & 2019-07-14 & Upscale Back Bay Studio, River Views & $\\dots$ \\\\\n",
       "\t2 & 1090413 & https://www.airbnb.com/rooms/1090413 & 20190714024644 & 2019-07-14 & HynesConventionCtr-5min-Lge Rm-Pvt Bath & $\\dots$ \\\\\n",
       "\t3 & 1090545 & https://www.airbnb.com/rooms/1090545 & 20190714024644 & 2019-07-14 & BostonCtrBackBay-Pvt Bath\\&Rm-Comfy Bed & $\\dots$ \\\\\n",
       "\t4 & 1868124 & https://www.airbnb.com/rooms/1868124 & 20190714024644 & 2019-07-14 & Lux Downtown Boston 1 Bedroom Apt w/pool & $\\dots$ \\\\\n",
       "\t5 & 1868513 & https://www.airbnb.com/rooms/1868513 & 20190714024644 & 2019-07-14 & Lux 1 Bedroom in Post-War Back Bay building w/WiFi & $\\dots$ \\\\\n",
       "\\end{tabular}\n"
      ],
      "text/plain": [
       "5×109 DataFrame. Omitted printing of 106 columns\n",
       "│ Row │ id      │ listing_url                          │ scrape_id      │\n",
       "│     │ \u001b[90mInt64\u001b[39m   │ \u001b[90mString\u001b[39m                               │ \u001b[90mInt64\u001b[39m          │\n",
       "├─────┼─────────┼──────────────────────────────────────┼────────────────┤\n",
       "│ 1   │ 311240  │ https://www.airbnb.com/rooms/311240  │ 20190714024644 │\n",
       "│ 2   │ 1090413 │ https://www.airbnb.com/rooms/1090413 │ 20190714024644 │\n",
       "│ 3   │ 1090545 │ https://www.airbnb.com/rooms/1090545 │ 20190714024644 │\n",
       "│ 4   │ 1868124 │ https://www.airbnb.com/rooms/1868124 │ 20190714024644 │\n",
       "│ 5   │ 1868513 │ https://www.airbnb.com/rooms/1868513 │ 20190714024644 │"
      ]
     },
     "execution_count": 4,
     "metadata": {},
     "output_type": "execute_result"
    }
   ],
   "source": [
    "# now, let's read in the output that we saved from this script \n",
    "listings = CSV.read(\"filtered_listings.csv\")\n",
    "L=size(listings,1)\n",
    "first(listings,5)"
   ]
  },
  {
   "cell_type": "code",
   "execution_count": 5,
   "metadata": {},
   "outputs": [
    {
     "name": "stderr",
     "output_type": "stream",
     "text": [
      "┌ Warning: `getindex(df::DataFrame, col_inds::Union{AbstractVector, Regex, Not})` is deprecated, use `df[:, col_inds]` instead.\n",
      "│   caller = top-level scope at In[5]:4\n",
      "└ @ Core In[5]:4\n"
     ]
    },
    {
     "data": {
      "text/html": [
       "<table class=\"data-frame\"><thead><tr><th></th><th>Kitchen</th></tr><tr><th></th><th>String</th></tr></thead><tbody><p>118 rows × 1 columns</p><tr><th>1</th><td>TRUE</td></tr><tr><th>2</th><td>TRUE</td></tr><tr><th>3</th><td>TRUE</td></tr><tr><th>4</th><td>TRUE</td></tr><tr><th>5</th><td>TRUE</td></tr><tr><th>6</th><td>TRUE</td></tr><tr><th>7</th><td>TRUE</td></tr><tr><th>8</th><td>TRUE</td></tr><tr><th>9</th><td>TRUE</td></tr><tr><th>10</th><td>TRUE</td></tr><tr><th>11</th><td>TRUE</td></tr><tr><th>12</th><td>TRUE</td></tr><tr><th>13</th><td>TRUE</td></tr><tr><th>14</th><td>TRUE</td></tr><tr><th>15</th><td>TRUE</td></tr><tr><th>16</th><td>TRUE</td></tr><tr><th>17</th><td>TRUE</td></tr><tr><th>18</th><td>TRUE</td></tr><tr><th>19</th><td>TRUE</td></tr><tr><th>20</th><td>TRUE</td></tr><tr><th>21</th><td>TRUE</td></tr><tr><th>22</th><td>TRUE</td></tr><tr><th>23</th><td>TRUE</td></tr><tr><th>24</th><td>TRUE</td></tr><tr><th>25</th><td>TRUE</td></tr><tr><th>26</th><td>TRUE</td></tr><tr><th>27</th><td>TRUE</td></tr><tr><th>28</th><td>TRUE</td></tr><tr><th>29</th><td>TRUE</td></tr><tr><th>30</th><td>TRUE</td></tr><tr><th>&vellip;</th><td>&vellip;</td></tr></tbody></table>"
      ],
      "text/latex": [
       "\\begin{tabular}{r|c}\n",
       "\t& Kitchen\\\\\n",
       "\t\\hline\n",
       "\t& String\\\\\n",
       "\t\\hline\n",
       "\t1 & TRUE \\\\\n",
       "\t2 & TRUE \\\\\n",
       "\t3 & TRUE \\\\\n",
       "\t4 & TRUE \\\\\n",
       "\t5 & TRUE \\\\\n",
       "\t6 & TRUE \\\\\n",
       "\t7 & TRUE \\\\\n",
       "\t8 & TRUE \\\\\n",
       "\t9 & TRUE \\\\\n",
       "\t10 & TRUE \\\\\n",
       "\t11 & TRUE \\\\\n",
       "\t12 & TRUE \\\\\n",
       "\t13 & TRUE \\\\\n",
       "\t14 & TRUE \\\\\n",
       "\t15 & TRUE \\\\\n",
       "\t16 & TRUE \\\\\n",
       "\t17 & TRUE \\\\\n",
       "\t18 & TRUE \\\\\n",
       "\t19 & TRUE \\\\\n",
       "\t20 & TRUE \\\\\n",
       "\t21 & TRUE \\\\\n",
       "\t22 & TRUE \\\\\n",
       "\t23 & TRUE \\\\\n",
       "\t24 & TRUE \\\\\n",
       "\t25 & TRUE \\\\\n",
       "\t26 & TRUE \\\\\n",
       "\t27 & TRUE \\\\\n",
       "\t28 & TRUE \\\\\n",
       "\t29 & TRUE \\\\\n",
       "\t30 & TRUE \\\\\n",
       "\t$\\dots$ & $\\dots$ \\\\\n",
       "\\end{tabular}\n"
      ],
      "text/plain": [
       "118×1 DataFrame\n",
       "│ Row │ Kitchen │\n",
       "│     │ \u001b[90mString\u001b[39m  │\n",
       "├─────┼─────────┤\n",
       "│ 1   │ TRUE    │\n",
       "│ 2   │ TRUE    │\n",
       "│ 3   │ TRUE    │\n",
       "│ 4   │ TRUE    │\n",
       "│ 5   │ TRUE    │\n",
       "│ 6   │ TRUE    │\n",
       "│ 7   │ TRUE    │\n",
       "│ 8   │ TRUE    │\n",
       "│ 9   │ TRUE    │\n",
       "│ 10  │ TRUE    │\n",
       "⋮\n",
       "│ 108 │ FALSE   │\n",
       "│ 109 │ FALSE   │\n",
       "│ 110 │ FALSE   │\n",
       "│ 111 │ FALSE   │\n",
       "│ 112 │ TRUE    │\n",
       "│ 113 │ TRUE    │\n",
       "│ 114 │ TRUE    │\n",
       "│ 115 │ FALSE   │\n",
       "│ 116 │ TRUE    │\n",
       "│ 117 │ TRUE    │\n",
       "│ 118 │ TRUE    │"
      ]
     },
     "execution_count": 5,
     "metadata": {},
     "output_type": "execute_result"
    }
   ],
   "source": [
    "# check if this is a logical or string\n",
    "\n",
    "amenities = [:Kitchen]\n",
    "listings[amenities]"
   ]
  },
  {
   "cell_type": "code",
   "execution_count": 6,
   "metadata": {},
   "outputs": [
    {
     "data": {
      "text/html": [
       "<table class=\"data-frame\"><thead><tr><th></th><th>Name</th><th>room_A</th><th>room_F</th><th>room_M</th><th>Kitchen</th><th>Air_conditioning</th></tr><tr><th></th><th>String</th><th>Int64</th><th>Int64</th><th>Int64</th><th>Int64</th><th>Int64</th></tr></thead><tbody><p>5 rows × 6 columns</p><tr><th>1</th><td>name1</td><td>0</td><td>1</td><td>0</td><td>0</td><td>1</td></tr><tr><th>2</th><td>name2</td><td>0</td><td>0</td><td>1</td><td>0</td><td>0</td></tr><tr><th>3</th><td>name3</td><td>1</td><td>0</td><td>1</td><td>0</td><td>0</td></tr><tr><th>4</th><td>name4</td><td>1</td><td>0</td><td>0</td><td>1</td><td>1</td></tr><tr><th>5</th><td>name5</td><td>1</td><td>0</td><td>0</td><td>0</td><td>1</td></tr></tbody></table>"
      ],
      "text/latex": [
       "\\begin{tabular}{r|cccccc}\n",
       "\t& Name & room\\_A & room\\_F & room\\_M & Kitchen & Air\\_conditioning\\\\\n",
       "\t\\hline\n",
       "\t& String & Int64 & Int64 & Int64 & Int64 & Int64\\\\\n",
       "\t\\hline\n",
       "\t1 & name1 & 0 & 1 & 0 & 0 & 1 \\\\\n",
       "\t2 & name2 & 0 & 0 & 1 & 0 & 0 \\\\\n",
       "\t3 & name3 & 1 & 0 & 1 & 0 & 0 \\\\\n",
       "\t4 & name4 & 1 & 0 & 0 & 1 & 1 \\\\\n",
       "\t5 & name5 & 1 & 0 & 0 & 0 & 1 \\\\\n",
       "\\end{tabular}\n"
      ],
      "text/plain": [
       "5×6 DataFrame\n",
       "│ Row │ Name   │ room_A │ room_F │ room_M │ Kitchen │ Air_conditioning │\n",
       "│     │ \u001b[90mString\u001b[39m │ \u001b[90mInt64\u001b[39m  │ \u001b[90mInt64\u001b[39m  │ \u001b[90mInt64\u001b[39m  │ \u001b[90mInt64\u001b[39m   │ \u001b[90mInt64\u001b[39m            │\n",
       "├─────┼────────┼────────┼────────┼────────┼─────────┼──────────────────┤\n",
       "│ 1   │ name1  │ 0      │ 1      │ 0      │ 0       │ 1                │\n",
       "│ 2   │ name2  │ 0      │ 0      │ 1      │ 0       │ 0                │\n",
       "│ 3   │ name3  │ 1      │ 0      │ 1      │ 0       │ 0                │\n",
       "│ 4   │ name4  │ 1      │ 0      │ 0      │ 1       │ 1                │\n",
       "│ 5   │ name5  │ 1      │ 0      │ 0      │ 0       │ 1                │"
      ]
     },
     "execution_count": 6,
     "metadata": {},
     "output_type": "execute_result"
    }
   ],
   "source": [
    "# read the student preferences \n",
    "preferences = CSV.read(\"preferences.csv\")\n",
    "N=size(preferences,1)\n",
    "first(preferences,5)"
   ]
  },
  {
   "cell_type": "code",
   "execution_count": 7,
   "metadata": {},
   "outputs": [
    {
     "name": "stdout",
     "output_type": "stream",
     "text": [
      "The column name is: stay 1\n"
     ]
    },
    {
     "data": {
      "text/plain": [
       "118-element CSV.Column{Int64,Int64}:\n",
       "  555\n",
       "  300\n",
       "  300\n",
       " 1371\n",
       " 1335\n",
       " 1680\n",
       " 1851\n",
       " 1851\n",
       " 1680\n",
       "  840\n",
       " 1335\n",
       "  480\n",
       "  810\n",
       "    ⋮\n",
       "  567\n",
       "  667\n",
       "  667\n",
       " 1197\n",
       "  567\n",
       "  285\n",
       "  612\n",
       "  612\n",
       "  960\n",
       "  663\n",
       "  180\n",
       "  267"
      ]
     },
     "execution_count": 7,
     "metadata": {},
     "output_type": "execute_result"
    }
   ],
   "source": [
    "# now select the column in the listings data that gives the cost on this date\n",
    "# the column name will be total_price_$date\n",
    "column_name = \"stay 1\"\n",
    "println(\"The column name is: \",column_name)\n",
    "\n",
    "# the column_name variable is a string. We need to make it into a symbol to use it in the listings DataFrame\n",
    "cost = listings[!,Symbol(column_name)]"
   ]
  },
  {
   "cell_type": "code",
   "execution_count": 8,
   "metadata": {},
   "outputs": [
    {
     "name": "stdout",
     "output_type": "stream",
     "text": [
      "Bool[true, true, true, true, true, true, true, true, true, true]\n",
      "Number of listings available: 118\n",
      "Number of listings not available: 0\n"
     ]
    }
   ],
   "source": [
    "# look at the cost vector: some of the entries are numbers and others are missing\n",
    "# R uses NA to represent missing data, but Julia uses its own 'missing' type\n",
    "\n",
    "# the missing costs are for loactions that are not available on this date\n",
    "# let's make a new variable to show which listings ARE available\n",
    "available = .!ismissing.(cost)\n",
    "println(available[1:10])\n",
    "println(\"Number of listings available: \",sum(available))\n",
    "println(\"Number of listings not available: \",sum(1 .- available))"
   ]
  },
  {
   "cell_type": "code",
   "execution_count": 9,
   "metadata": {},
   "outputs": [
    {
     "name": "stdout",
     "output_type": "stream",
     "text": [
      "Optimize a model with 14101 rows, 7080 columns and 34928 nonzeros\n",
      "Variable types: 0 continuous, 7080 integer (7080 binary)\n",
      "Coefficient statistics:\n",
      "  Matrix range     [1e+00, 8e+00]\n",
      "  Objective range  [2e+02, 2e+03]\n",
      "  Bounds range     [0e+00, 0e+00]\n",
      "  RHS range        [1e+00, 1e+00]\n",
      "Found heuristic solution: objective 29891\n",
      "Presolve removed 7139 rows and 0 columns\n",
      "Presolve time: 0.13s\n",
      "Presolved: 6962 rows, 7080 columns, 27612 nonzeros\n",
      "Variable types: 0 continuous, 7080 integer (7080 binary)\n",
      "\n",
      "Root relaxation: objective 6.635667e+03, 7939 iterations, 0.23 seconds\n",
      "\n",
      "    Nodes    |    Current Node    |     Objective Bounds      |     Work\n",
      " Expl Unexpl |  Obj  Depth IntInf | Incumbent    BestBd   Gap | It/Node Time\n",
      "\n",
      "     0     0 6635.66667    0   13 29891.0000 6635.66667  77.8%     -    0s\n",
      "H    0     0                    6929.0000000 6635.66667  4.23%     -    0s\n",
      "H    0     0                    6922.0000000 6635.66667  4.14%     -    0s\n",
      "H    0     0                    6706.0000000 6635.66667  1.05%     -    0s\n",
      "*    0     0               0    6646.0000000 6646.00000  0.00%     -    0s\n",
      "\n",
      "Cutting planes:\n",
      "  Gomory: 1\n",
      "\n",
      "Explored 0 nodes (8284 simplex iterations) in 0.58 seconds\n",
      "Thread count was 4 (of 4 available processors)\n",
      "\n",
      "Solution count 5: 6646 6706 6922 ... 29891\n",
      "Pool objective bound 6646\n",
      "\n",
      "Optimal solution found (tolerance 1.00e-04)\n",
      "Best objective 6.646000000000e+03, best bound 6.646000000000e+03, gap 0.0000%\n"
     ]
    }
   ],
   "source": [
    "# Let's try a simple model to select the cheapest listings that are available for this period\n",
    "model1 = Model(with_optimizer(Gurobi.Optimizer,TimeLimit=60))\n",
    "\n",
    "# variables\n",
    "# y[j]=1 listing j is booked, and 0 otherwise\n",
    "@variable(model1, y[1:L], Bin)\n",
    "# x[i,j]=1 if person i stays in listing j, and 0 otherwise\n",
    "@variable(model1, x[1:N,1:L], Bin)\n",
    "\n",
    "# constraints\n",
    "# everyone has to be assigned exactly one listing\n",
    "@constraint(model1,[i=1:N],sum(x[i,:])==1) \n",
    "# we can only put people in a listing if it is booked\n",
    "@constraint(model1,[i=1:N,j=1:L],x[i,j]<=y[j]) \n",
    "# we can only book available listings\n",
    "@constraint(model1,[i=1:N,j=1:L],y[j]<=available[j] ) \n",
    "# maximum occupancy per unit\n",
    "@constraint(model1,[j=1:L],sum(x[:,j])<=listings[j,:accommodates]*y[j]) \n",
    "\n",
    "# objective\n",
    "@objective(model1, Min, sum( y[j]*cost[j] for j=findall(available) ))\n",
    "\n",
    "optimize!(model1)"
   ]
  },
  {
   "cell_type": "code",
   "execution_count": 10,
   "metadata": {},
   "outputs": [
    {
     "name": "stdout",
     "output_type": "stream",
     "text": [
      "Cost per person: 112.64406779661017\n",
      "Number of listings: 11.0\n",
      "Selected listings: [36, 49, 56, 63, 83, 90, 91, 101, 104, 112, 118]\n",
      "Guests per listing: [4, 4, 8, 8, 6, 6, 5, 6, 4, 4, 4]\n",
      "Beds per listing: [2, 2, 4, 4, 2, 3, 3, 2, 2, 2, 1]\n"
     ]
    }
   ],
   "source": [
    "println(\"Cost per person: \",JuMP.objective_value(model1)/N)\n",
    "println(\"Number of listings: \",sum(JuMP.value.(y)))\n",
    "println(\"Selected listings: \",findall(JuMP.value.(y).>0) )\n",
    "println(\"Guests per listing: \",listings[findall(JuMP.value.(y).>0),:accommodates] )\n",
    "println(\"Beds per listing: \",listings[findall(JuMP.value.(y).>0),:beds] )"
   ]
  },
  {
   "cell_type": "code",
   "execution_count": null,
   "metadata": {},
   "outputs": [],
   "source": []
  },
  {
   "cell_type": "code",
   "execution_count": null,
   "metadata": {},
   "outputs": [],
   "source": []
  },
  {
   "cell_type": "code",
   "execution_count": 11,
   "metadata": {},
   "outputs": [],
   "source": [
    "room_gender = [:room_A ,:room_F ,:room_M ]\n",
    "amenities = [:Kitchen,:Air_conditioning]\n",
    "for a in amenities\n",
    "    listings[!,a] = listings[!,a].==\"TRUE\"\n",
    "end"
   ]
  },
  {
   "cell_type": "code",
   "execution_count": 12,
   "metadata": {},
   "outputs": [
    {
     "name": "stdout",
     "output_type": "stream",
     "text": [
      "Optimize a model with 34987 rows, 7434 columns and 66198 nonzeros\n",
      "Variable types: 0 continuous, 7434 integer (7434 binary)\n",
      "Coefficient statistics:\n",
      "  Matrix range     [1e+00, 8e+00]\n",
      "  Objective range  [2e+02, 2e+03]\n",
      "  Bounds range     [0e+00, 0e+00]\n",
      "  RHS range        [1e+00, 1e+00]\n",
      "Found heuristic solution: objective 30245\n",
      "Presolve removed 28314 rows and 686 columns\n",
      "Presolve time: 0.18s\n",
      "Presolved: 6673 rows, 6748 columns, 26370 nonzeros\n",
      "Variable types: 0 continuous, 6748 integer (6748 binary)\n",
      "\n",
      "Root relaxation: objective 6.635667e+03, 7579 iterations, 0.23 seconds\n",
      "\n",
      "    Nodes    |    Current Node    |     Objective Bounds      |     Work\n",
      " Expl Unexpl |  Obj  Depth IntInf | Incumbent    BestBd   Gap | It/Node Time\n",
      "\n",
      "     0     0 6635.66667    0   13 30245.0000 6635.66667  78.1%     -    0s\n",
      "H    0     0                    6929.0000000 6635.66667  4.23%     -    0s\n",
      "H    0     0                    6922.0000000 6635.66667  4.14%     -    0s\n",
      "H    0     0                    6706.0000000 6635.66667  1.05%     -    0s\n",
      "*    0     0               0    6646.0000000 6646.00000  0.00%     -    0s\n",
      "\n",
      "Cutting planes:\n",
      "  Gomory: 1\n",
      "\n",
      "Explored 0 nodes (8003 simplex iterations) in 0.63 seconds\n",
      "Thread count was 4 (of 4 available processors)\n",
      "\n",
      "Solution count 5: 6646 6706 6922 ... 30245\n",
      "Pool objective bound 6646\n",
      "\n",
      "Optimal solution found (tolerance 1.00e-04)\n",
      "Best objective 6.646000000000e+03, best bound 6.646000000000e+03, gap 0.0000%\n"
     ]
    }
   ],
   "source": [
    "model1 = Model(with_optimizer(Gurobi.Optimizer,TimeLimit=60))\n",
    "\n",
    "# variables\n",
    "# y[j]=1 listing j is booked, and 0 otherwise\n",
    "@variable(model1, y[1:L], Bin)\n",
    "# x[i,j]=1 if person i stays in listing j, and 0 otherwise\n",
    "@variable(model1, x[1:N,1:L], Bin)\n",
    "\n",
    "# constraints\n",
    "# everyone has to be assigned exactly one listing\n",
    "@constraint(model1,[i=1:N],sum(x[i,:])==1) \n",
    "# we can only put people in a listing if it is booked\n",
    "@constraint(model1,[i=1:N,j=1:L],x[i,j]<=y[j]) \n",
    "# we can only book available listings\n",
    "@constraint(model1,[i=1:N,j=1:L],y[j]<=available[j] ) \n",
    "# maximum occupancy per unit\n",
    "@constraint(model1,[j=1:L],sum(x[:,j])<=listings[j,:accommodates]*y[j]) \n",
    "\n",
    "# objective\n",
    "@objective(model1, Min, sum( y[j]*cost[j] for j=findall(available) ))# variables\n",
    "# g[i,k] = 1 if listing i is type k\n",
    "@variable(model1, g[1:L,room_gender], Bin)\n",
    "\n",
    "# gender preferences: x[i,j] can only be 1 if g[j,t] matches student i's gender preferences\n",
    "@constraint(model1,[i=1:N,j=1:L],x[i,j]<=sum(preferences[i,t]*g[j,t]  for t in room_gender))\n",
    "\n",
    "# amenity preferences: x[i,j] can only be 1 if listing[j] matches student i's preferences\n",
    "@constraint(model1,[i=1:N,j=1:L,a=amenities],x[i,j]<=(1-preferences[i,a])+listings[j,a]*preferences[i,a] )\n",
    "\n",
    "optimize!(model1)"
   ]
  },
  {
   "cell_type": "code",
   "execution_count": 13,
   "metadata": {},
   "outputs": [
    {
     "name": "stdout",
     "output_type": "stream",
     "text": [
      "Cost per person: 112.64406779661017\n",
      "Number of listings: 11.0\n",
      "Selected listings: [36, 49, 56, 63, 83, 90, 91, 101, 104, 112, 118]\n",
      "Guests per listing: [4, 4, 8, 8, 6, 6, 5, 6, 4, 4, 4]\n",
      "Beds per listing: [2, 2, 4, 4, 2, 3, 3, 2, 2, 2, 1]\n"
     ]
    }
   ],
   "source": [
    "println(\"Cost per person: \",JuMP.objective_value(model1)/N)\n",
    "println(\"Number of listings: \",sum(JuMP.value.(y)))\n",
    "println(\"Selected listings: \",findall(JuMP.value.(y).>0) )\n",
    "println(\"Guests per listing: \",listings[findall(JuMP.value.(y).>0),:accommodates] )\n",
    "println(\"Beds per listing: \",listings[findall(JuMP.value.(y).>0),:beds] )"
   ]
  },
  {
   "cell_type": "code",
   "execution_count": 14,
   "metadata": {},
   "outputs": [
    {
     "name": "stdout",
     "output_type": "stream",
     "text": [
      "Optimize a model with 35105 rows, 7434 columns and 73278 nonzeros\n",
      "Variable types: 0 continuous, 7434 integer (7434 binary)\n",
      "Coefficient statistics:\n",
      "  Matrix range     [1e+00, 8e+00]\n",
      "  Objective range  [2e+02, 2e+03]\n",
      "  Bounds range     [0e+00, 0e+00]\n",
      "  RHS range        [1e+00, 1e+00]\n",
      "Found heuristic solution: objective 36362\n",
      "Presolve removed 31754 rows and 686 columns\n",
      "Presolve time: 0.13s\n",
      "Presolved: 3351 rows, 6748 columns, 19726 nonzeros\n",
      "\n",
      "MIP start did not produce a new incumbent solution\n",
      "MIP start violates constraint R35022 by 2.000000000\n",
      "\n",
      "Variable types: 0 continuous, 6748 integer (6748 binary)\n",
      "\n",
      "Root relaxation: objective 1.544300e+04, 7083 iterations, 0.37 seconds\n",
      "\n",
      "    Nodes    |    Current Node    |     Objective Bounds      |     Work\n",
      " Expl Unexpl |  Obj  Depth IntInf | Incumbent    BestBd   Gap | It/Node Time\n",
      "\n",
      "*    0     0               0    15443.000000 15443.0000  0.00%     -    0s\n",
      "\n",
      "Explored 0 nodes (7083 simplex iterations) in 0.52 seconds\n",
      "Thread count was 4 (of 4 available processors)\n",
      "\n",
      "Solution count 2: 15443 36362 \n",
      "Pool objective bound 15443\n",
      "\n",
      "Optimal solution found (tolerance 1.00e-04)\n",
      "Best objective 1.544300000000e+04, best bound 1.544300000000e+04, gap 0.0000%\n"
     ]
    }
   ],
   "source": [
    "# maximum occupancy per unit\n",
    "@constraint(model1,[j=1:L],sum(x[:,j])<=listings[j,:beds]*y[j]) \n",
    "optimize!(model1)"
   ]
  },
  {
   "cell_type": "code",
   "execution_count": 15,
   "metadata": {},
   "outputs": [
    {
     "name": "stdout",
     "output_type": "stream",
     "text": [
      "Cost per person: 261.7457627118644\n",
      "Number of listings: 26.0\n",
      "Selected listings: [1090413, 1090545, 13686161, 14994014, 15166858, 15630129, 17559756, 17559846, 17573922, 18396209, 19448926, 19469134, 19552273, 21648590, 22897065, 22934377, 23871901, 27584770, 27669626, 29704910, 32330288, 32330728, 32331200, 33136211, 33549296, 33781676]\n",
      "Guests per listing: [1, 1, 3, 4, 3, 4, 5, 3, 3, 8, 6, 5, 8, 6, 6, 5, 4, 4, 6, 4, 4, 4, 3, 4, 1, 4]\n",
      "Beds per listing: [1, 1, 2, 2, 2, 2, 3, 2, 2, 4, 3, 3, 4, 2, 3, 3, 3, 3, 2, 2, 2, 2, 2, 2, 1, 1]\n"
     ]
    }
   ],
   "source": [
    "println(\"Cost per person: \",JuMP.objective_value(model1)/N)\n",
    "println(\"Number of listings: \",sum(JuMP.value.(y)))\n",
    "println(\"Selected listings: \",listings[findall(JuMP.value.(y).>0),:id] )\n",
    "println(\"Guests per listing: \",listings[findall(JuMP.value.(y).>0),:accommodates] )\n",
    "println(\"Beds per listing: \",listings[findall(JuMP.value.(y).>0),:beds] )"
   ]
  },
  {
   "cell_type": "code",
   "execution_count": 19,
   "metadata": {},
   "outputs": [
    {
     "data": {
      "text/plain": [
       "59-element Array{Int64,1}:\n",
       " 19552273\n",
       " 33136211\n",
       " 17559846\n",
       " 17573922\n",
       "  1090413\n",
       " 18396209\n",
       " 21648590\n",
       " 19469134\n",
       " 15630129\n",
       " 32330728\n",
       " 15166858\n",
       " 22934377\n",
       " 32331200\n",
       "        ⋮\n",
       " 19469134\n",
       " 21648590\n",
       " 19448926\n",
       " 15166858\n",
       " 23871901\n",
       " 15630129\n",
       " 17573922\n",
       " 27669626\n",
       " 14994014\n",
       " 22897065\n",
       " 32330288\n",
       " 23871901"
      ]
     },
     "execution_count": 19,
     "metadata": {},
     "output_type": "execute_result"
    }
   ],
   "source": [
    "# find out which listing each person is assigned to\n",
    "X = JuMP.value.(x)\n",
    "assigned_listing = [ listings[findall(X[i,:].>0)[1],:id] for i=1:N]"
   ]
  },
  {
   "cell_type": "code",
   "execution_count": 20,
   "metadata": {},
   "outputs": [
    {
     "data": {
      "text/html": [
       "<table class=\"data-frame\"><thead><tr><th></th><th>Name</th><th>listing</th></tr><tr><th></th><th>String</th><th>Int64</th></tr></thead><tbody><p>5 rows × 2 columns</p><tr><th>1</th><td>name1</td><td>19552273</td></tr><tr><th>2</th><td>name2</td><td>33136211</td></tr><tr><th>3</th><td>name3</td><td>17559846</td></tr><tr><th>4</th><td>name4</td><td>17573922</td></tr><tr><th>5</th><td>name5</td><td>1090413</td></tr></tbody></table>"
      ],
      "text/latex": [
       "\\begin{tabular}{r|cc}\n",
       "\t& Name & listing\\\\\n",
       "\t\\hline\n",
       "\t& String & Int64\\\\\n",
       "\t\\hline\n",
       "\t1 & name1 & 19552273 \\\\\n",
       "\t2 & name2 & 33136211 \\\\\n",
       "\t3 & name3 & 17559846 \\\\\n",
       "\t4 & name4 & 17573922 \\\\\n",
       "\t5 & name5 & 1090413 \\\\\n",
       "\\end{tabular}\n"
      ],
      "text/plain": [
       "5×2 DataFrame\n",
       "│ Row │ Name   │ listing  │\n",
       "│     │ \u001b[90mString\u001b[39m │ \u001b[90mInt64\u001b[39m    │\n",
       "├─────┼────────┼──────────┤\n",
       "│ 1   │ name1  │ 19552273 │\n",
       "│ 2   │ name2  │ 33136211 │\n",
       "│ 3   │ name3  │ 17559846 │\n",
       "│ 4   │ name4  │ 17573922 │\n",
       "│ 5   │ name5  │ 1090413  │"
      ]
     },
     "execution_count": 20,
     "metadata": {},
     "output_type": "execute_result"
    }
   ],
   "source": [
    "# make a new data frame with each individual's assignment\n",
    "assignments = DataFrame()\n",
    "assignments[!,:Name] = preferences[!,:Name]\n",
    "assignments[!,:listing] = assigned_listing\n",
    "first(assignments,5)"
   ]
  },
  {
   "cell_type": "code",
   "execution_count": 21,
   "metadata": {},
   "outputs": [
    {
     "data": {
      "text/plain": [
       "\"airbnb_solution.csv\""
      ]
     },
     "execution_count": 21,
     "metadata": {},
     "output_type": "execute_result"
    }
   ],
   "source": [
    "# choose a name for the output file\n",
    "\n",
    "filename = \"airbnb_solution\"\n",
    "\n",
    "CSV.write(\"$filename.csv\",assignments)"
   ]
  },
  {
   "cell_type": "code",
   "execution_count": null,
   "metadata": {},
   "outputs": [],
   "source": []
  },
  {
   "cell_type": "code",
   "execution_count": null,
   "metadata": {},
   "outputs": [],
   "source": []
  }
 ],
 "metadata": {
  "kernelspec": {
   "display_name": "Julia 1.1.1",
   "language": "julia",
   "name": "julia-1.1"
  },
  "language_info": {
   "file_extension": ".jl",
   "mimetype": "application/julia",
   "name": "julia",
   "version": "1.1.1"
  }
 },
 "nbformat": 4,
 "nbformat_minor": 2
}
