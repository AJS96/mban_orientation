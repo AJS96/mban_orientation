{
 "cells": [
  {
   "cell_type": "markdown",
   "metadata": {},
   "source": [
    "# Transportation Problem\n",
    "\n",
    "_Adapted from [material](https://twiki.esc.auckland.ac.nz/bin/view/OpsRes/TransportationProblem) by Dept. of Engineering Science, University of Auckland_\n",
    "\n",
    "Our problem involves transporting supply from suppliers to consumers, for example shipping products from factories to retail locations. Let there be $m$ suppliers and $n$ consumer. Each supplier $i = 1, \\ldots, m$ has a supply of $s_i$ units, and each consumer $j = 1, \\ldots, n$ has demand $d_j$. The cost of transporting one unit of supply from supplier $i$ to consumer $j$ is given by $c_{ij}$.\n",
    "\n",
    "Our goal is to transport the goods from the suppliers to the consumers at minimum cost.\n",
    "\n",
    "We will focus on a specific instance of this problem: shipping crates of beer from breweries to various demand nodes:\n",
    "\n",
    "<img style=\"max-width:100%; width:500px; height:auto\" src=\"https://i.imgur.com/1aCelJL.jpg\">\n",
    "\n",
    "Here we have two breweries with a total possible supply of 5,000 crates of beer, and five demand locations (e.g. bars) with total demand for 4,100 crates of beer. Our transportation costs are as follows (in $/crate sent):\n",
    "\n",
    "| | Brewery A | Brewery B |\n",
    "|-|-----------|-----------|\n",
    "|Bar 1|2|3|\n",
    "|Bar 2|4|1|\n",
    "|Bar 3|5|3|\n",
    "|Bar 4|2|2|\n",
    "|Bar 5|1|3|\n",
    "\n",
    "## Formulating the problem\n",
    "\n",
    "### Decision variables\n",
    "\n",
    "x[i,j] = amount transfered from supply node i to demand node j\n",
    "\n",
    "### Constraints\n",
    "\n",
    "sum x[i,j] over j <= s[i]\n",
    "\n",
    "x[i,j] >= 0\n",
    "\n",
    "sum x[i,j] over i == d[j]\n",
    "\n",
    "### Objective\n",
    "\n",
    "min sum c[i,j] * x[i,j] over i and j\n",
    "\n",
    "## Solving the problem in JuMP\n",
    "\n",
    "Now let's load in our real data and solve the problem:"
   ]
  },
  {
   "cell_type": "code",
   "execution_count": 1,
   "metadata": {
    "scrolled": false
   },
   "outputs": [
    {
     "data": {
      "text/plain": [
       "2×5 Array{Int64,2}:\n",
       " 2  4  5  2  1\n",
       " 3  1  3  2  3"
      ]
     },
     "execution_count": 1,
     "metadata": {},
     "output_type": "execute_result"
    }
   ],
   "source": [
    "m = 2  # Number of breweries\n",
    "n = 5  # Number of bars\n",
    "# Supplies\n",
    "b = [1000, 4000]\n",
    "# Demands\n",
    "d = [500, 900, 1800, 200, 700]\n",
    "# Costs\n",
    "c = [2 4 5 2 1;\n",
    "     3 1 3 2 3]"
   ]
  },
  {
   "cell_type": "markdown",
   "metadata": {},
   "source": [
    "Let's make a model in JuMP!"
   ]
  },
  {
   "cell_type": "code",
   "execution_count": 2,
   "metadata": {},
   "outputs": [
    {
     "data": {
      "text/plain": [
       ":Optimal"
      ]
     },
     "execution_count": 2,
     "metadata": {},
     "output_type": "execute_result"
    },
    {
     "name": "stdout",
     "output_type": "stream",
     "text": [
      "Academic license - for non-commercial use only\n",
      "Optimize a model with 7 rows, 10 columns and 20 nonzeros\n",
      "Coefficient statistics:\n",
      "  Matrix range     [1e+00, 1e+00]\n",
      "  Objective range  [1e+00, 5e+00]\n",
      "  Bounds range     [0e+00, 0e+00]\n",
      "  RHS range        [2e+02, 4e+03]\n",
      "Presolve removed 6 rows and 6 columns\n",
      "Presolve time: 0.00s\n",
      "Presolved: 1 rows, 5 columns, 5 nonzeros\n",
      "\n",
      "Iteration    Objective       Primal Inf.    Dual Inf.      Time\n",
      "       0    8.4000000e+03   2.500000e+01   0.000000e+00      0s\n",
      "       1    8.6000000e+03   0.000000e+00   0.000000e+00      0s\n",
      "\n",
      "Solved in 1 iterations and 0.00 seconds\n",
      "Optimal objective  8.600000000e+03\n"
     ]
    }
   ],
   "source": [
    "# Model formulation\n",
    "using JuMP,Gurobi\n",
    "model = Model(solver=GurobiSolver())\n",
    "@variable(model, x[1:m,1:n] >= 0)\n",
    "\n",
    "for i = 1:m\n",
    "    @constraint(model, sum(x[i,:]) <= b[i])\n",
    "end\n",
    "\n",
    "@constraint(model, demand_constraint[j=1:n], sum(x[i,j] for i = 1:m) == d[j])\n",
    "\n",
    "@objective(model, Min, sum(x .* c))\n",
    "solve(model)"
   ]
  },
  {
   "cell_type": "code",
   "execution_count": null,
   "metadata": {},
   "outputs": [],
   "source": [
    "# Solve the model\n"
   ]
  },
  {
   "cell_type": "code",
   "execution_count": 3,
   "metadata": {},
   "outputs": [
    {
     "data": {
      "text/plain": [
       "2×5 Array{Float64,2}:\n",
       " 300.0    0.0     0.0    0.0  700.0\n",
       " 200.0  900.0  1800.0  200.0    0.0"
      ]
     },
     "execution_count": 3,
     "metadata": {},
     "output_type": "execute_result"
    }
   ],
   "source": [
    "# Check the optimal variable values\n",
    "getvalue(x)"
   ]
  },
  {
   "cell_type": "code",
   "execution_count": null,
   "metadata": {},
   "outputs": [],
   "source": [
    "# Check the optimal objective value\n"
   ]
  },
  {
   "cell_type": "markdown",
   "metadata": {},
   "source": [
    "# Exercise: Visualizing the solution\n",
    "\n",
    "Now we have an optimal plan for transporting the beer crates, but it would also be nice to visualize this plan to better understand it.\n",
    "\n",
    "Think about and/or discuss with others about how we could present this solution in a way that's easy to follow. See what you can come up with (even better if you can code it up!)"
   ]
  },
  {
   "cell_type": "code",
   "execution_count": null,
   "metadata": {
    "collapsed": true
   },
   "outputs": [],
   "source": []
  }
 ],
 "metadata": {
  "kernelspec": {
   "display_name": "Julia 0.6.4",
   "language": "julia",
   "name": "julia-0.6"
  },
  "language_info": {
   "file_extension": ".jl",
   "mimetype": "application/julia",
   "name": "julia",
   "version": "0.6.4"
  }
 },
 "nbformat": 4,
 "nbformat_minor": 1
}
