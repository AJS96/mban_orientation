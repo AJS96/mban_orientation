{
 "cells": [
  {
   "cell_type": "markdown",
   "metadata": {},
   "source": [
    "# Intro to Data Manipulation and Visualization in Julia\n",
    "In this section, we will learn and practice how to read in data, conduct data manipulation and visualization in Julia. This is an important step in solving a real-world optimization problem, as you typically need to:\n",
    "* Read in data,\n",
    "* Visualize and detect pattern and outliers in data, and\n",
    "* Change data into a form ready for the optimization program\n",
    "\n",
    "\n",
    "before running optimization.\n",
    "\n",
    "## DataFrames\n",
    "Like data frames in `R`, `Julia` also has a similar structure for datasets. You will need to load the package `DataFrames` first:"
   ]
  },
  {
   "cell_type": "code",
   "execution_count": null,
   "metadata": {
    "collapsed": true
   },
   "outputs": [],
   "source": [
    "using DataFrames"
   ]
  },
  {
   "cell_type": "markdown",
   "metadata": {},
   "source": [
    "Now let's read in a csv file for the dataset _iris_ using the `readtable` function. The csv file should sit in the same directory as the your script. Otherwise, you will need to change the path to the file for the first argument to the `readtable` function."
   ]
  },
  {
   "cell_type": "code",
   "execution_count": null,
   "metadata": {
    "collapsed": true
   },
   "outputs": [],
   "source": [
    "iris = readtable(\"iris.csv\");"
   ]
  },
  {
   "cell_type": "code",
   "execution_count": null,
   "metadata": {
    "collapsed": true
   },
   "outputs": [],
   "source": [
    "### If you are unable to read the data, you can uncomment the following codes and run it:\n",
    "# using RDatasets\n",
    "# iris = dataset(\"datasets\", \"iris\")"
   ]
  },
  {
   "cell_type": "markdown",
   "metadata": {},
   "source": [
    "To view the first few rows of the data, you can use `head()`, or index the dataframe similar to what you did you in `R`:\n",
    "\n",
    "To subset rows, pass in the indices in the first dimension. If you are not subsetting to particular columns, just pass in ``:`` in the second dimension (as opposed to leaving it blank in `R`)."
   ]
  },
  {
   "cell_type": "code",
   "execution_count": null,
   "metadata": {
    "collapsed": false,
    "scrolled": true
   },
   "outputs": [],
   "source": [
    "iris[1:5,:]"
   ]
  },
  {
   "cell_type": "markdown",
   "metadata": {},
   "source": [
    "To index a column using column name, simply put a `:` in front of the name. You do not need the `:` and the `,` when you are indexing an entire column."
   ]
  },
  {
   "cell_type": "code",
   "execution_count": null,
   "metadata": {
    "collapsed": false,
    "scrolled": true
   },
   "outputs": [],
   "source": [
    "iris[:SepalLength]"
   ]
  },
  {
   "cell_type": "markdown",
   "metadata": {},
   "source": [
    "We often times need to join/merge datasets. Let's look at an example first: suppose we have a dataframe that gives the species and the respective price at a flower shop:"
   ]
  },
  {
   "cell_type": "code",
   "execution_count": null,
   "metadata": {
    "collapsed": true
   },
   "outputs": [],
   "source": [
    "species_price = DataFrame(Species = [\"setosa\", \"versicolor\", \"virginica\"],\n",
    "                        Price = [2.5, 3.1, 3.2])"
   ]
  },
  {
   "cell_type": "markdown",
   "metadata": {},
   "source": [
    " To join, simply pass in:\n",
    " * the two data frames,\n",
    " * the shared variable name, and\n",
    " * the option for the kind of join you wanted: \n",
    " \n",
    " `:left`, `:right`, `:inner`, `:outer`, etc."
   ]
  },
  {
   "cell_type": "code",
   "execution_count": null,
   "metadata": {
    "collapsed": true,
    "scrolled": true
   },
   "outputs": [],
   "source": [
    "join(iris, species_price, on = :Species, kind = :left)"
   ]
  },
  {
   "cell_type": "markdown",
   "metadata": {},
   "source": [
    "## Data Manipulation with DataFramesMeta\n",
    "\n",
    "When you need to subset the data based on some column, generate new variables, select columns, group and summarize, etc. ``DataFramesMeta`` is a powerful package that helps you do that with easy syntax. In ``R`` we learned the ``dplyr`` package; this is very similar in spirit. Here is a mapping between the names:\n",
    "\n",
    "```\n",
    "DataFramesMeta     dplyr\n",
    "---------------------------------\n",
    "@where            filter\n",
    "@transform        mutate\n",
    "@by\n",
    "@groupby          group_by\n",
    "@based_on         summarise/do\n",
    "@orderby          arrange\n",
    "@select           select\n",
    "```\n",
    "\n",
    "Let's load the package first."
   ]
  },
  {
   "cell_type": "code",
   "execution_count": null,
   "metadata": {
    "collapsed": true
   },
   "outputs": [],
   "source": [
    "using DataFramesMeta"
   ]
  },
  {
   "cell_type": "markdown",
   "metadata": {},
   "source": [
    "* To subset the data based on some criterion on a column, we can use the `@where` macro (similar to `filter`). Let's try to subset the data to only observations where `SepalLength` is greater than 5. Recall that `.>` is used for elementwise operation:"
   ]
  },
  {
   "cell_type": "code",
   "execution_count": null,
   "metadata": {
    "collapsed": true
   },
   "outputs": [],
   "source": [
    "iris_sub = @where(iris, :SepalLength .> 5)\n",
    "head(iris_sub)"
   ]
  },
  {
   "cell_type": "markdown",
   "metadata": {},
   "source": [
    "* To select columns, use the `@select` macro and pass as many columns as you want. Here we are keeping the `SepalLength`, `SepalWidth`, and `Species` from the iris data."
   ]
  },
  {
   "cell_type": "code",
   "execution_count": null,
   "metadata": {
    "collapsed": true
   },
   "outputs": [],
   "source": [
    "iris_select = @select(iris, :SepalLength, :SepalWidth, :Species)\n",
    "head(iris_select)"
   ]
  },
  {
   "cell_type": "markdown",
   "metadata": {},
   "source": [
    "* Similar to `mutate` in `R`, `@transform` creates new variables based on some operations on  existing variables. Let's create the logarithm transformation of the variable `SepalLength` and name it `logSepalLength`:"
   ]
  },
  {
   "cell_type": "code",
   "execution_count": null,
   "metadata": {
    "collapsed": true
   },
   "outputs": [],
   "source": [
    "iris_trans1 = @transform(iris, logSepalLength = log(:SepalLength))\n",
    "head(iris_trans1)"
   ]
  },
  {
   "cell_type": "markdown",
   "metadata": {},
   "source": [
    "* You can do more complicated operations to customize the variable transform. For example, `map` lets you run a function on an array:"
   ]
  },
  {
   "cell_type": "code",
   "execution_count": null,
   "metadata": {
    "collapsed": true
   },
   "outputs": [],
   "source": [
    "function sqrt_minus_1(x)\n",
    "  sqrt(x)-1\n",
    "end\n",
    "\n",
    "map(sqrt_minus_1, [1, 2, 3])"
   ]
  },
  {
   "cell_type": "markdown",
   "metadata": {},
   "source": [
    "* Since each column of the data frame is some type of array (DataArray to be precise), now you can use this `map` on a function to transform a variable based on a row-wise operation. In this example, we generate new variable `SepalLGroup` that is `large` when `SepalLength` is at least 5, and `small` otherwise."
   ]
  },
  {
   "cell_type": "code",
   "execution_count": null,
   "metadata": {
    "collapsed": true
   },
   "outputs": [],
   "source": [
    "iris_trans2 = @transform(iris, SepalLGroup = map(x -> x >= 5? \"large\":\"small\", :SepalLength))\n",
    "head(iris_trans2)"
   ]
  },
  {
   "cell_type": "markdown",
   "metadata": {},
   "source": [
    "Finally, you can chain operations together, just like the `%>%` you did in `dplyr` for `R`. The syntax starts with the macro `@linq`, and chains using the symbol `|>`. You will not need the `@` for each of the operations.\n",
    "In this example, we do the following:\n",
    "* create the log transformations for SepalLength and SepalWdith;\n",
    "* subset to only observations where the logSL is at least 1;\n",
    "* group by the species and summarize the mean logSL and mean logSW;\n",
    "* sort by the mean logSL in ascending order;\n",
    "* select only species (also rename it to var) and mean logSL."
   ]
  },
  {
   "cell_type": "code",
   "execution_count": null,
   "metadata": {
    "collapsed": true
   },
   "outputs": [],
   "source": [
    "iris_summary = @linq iris |>\n",
    "    transform(logSL = log(:SepalLength), logSW=log(:SepalWidth))|>\n",
    "    where(:logSL .>= 1)|>\n",
    "    by(:Species, meanLogSL = mean(:logSL), meanLogSW = mean(:logSW))|>\n",
    "    orderby(:meanLogSL)|>\n",
    "    select(var = :Species, :meanLogSL)"
   ]
  },
  {
   "cell_type": "markdown",
   "metadata": {},
   "source": [
    "## Exercise 1: Manipulate Icecream data"
   ]
  },
  {
   "cell_type": "markdown",
   "metadata": {},
   "source": [
    "### Task 1: Read in the Icecream Data\n",
    "\n",
    "This time, we are going to read in a dataset directly from the package `RDatasets`. Use the following syntax \n",
    "```dataset(\"Ecdat\", \"Icecream\")```\n",
    "\n",
    "and save it as a dataframe called `icecream`. \n",
    "\n",
    "The dataset is on the ice cream consumption. The columns are:\n",
    "* `Cons`: consumption level of ice cream\n",
    "* `Income`: income level\n",
    "* `Price`: price of ice cream\n",
    "* `Temperature`: outside temperature at time of measurement\n",
    "\n",
    "Inspect the first few rows of the data."
   ]
  },
  {
   "cell_type": "code",
   "execution_count": null,
   "metadata": {
    "collapsed": true
   },
   "outputs": [],
   "source": []
  },
  {
   "cell_type": "markdown",
   "metadata": {},
   "source": [
    "### Task 2: Summarize by Temperature\n",
    "\n",
    "We are interested to know if higher temperature is associated with higher consumption. Let's do the following:\n",
    "* Create a variable called `TempGroup` that maps the Temp to `low` if less than 50, and `high` otherwise.\n",
    "* Group by this new variable `TempGroup` and calculate the mean consumption, name it `meanCons`.\n",
    "* Sort the new variable `meanCons` in ascending order.\n",
    "\n",
    "You can do it in the chained syntax with `@linq` and `|>`, or creating intermediate datasets along the way.\n",
    "\n",
    "What are your findings?"
   ]
  },
  {
   "cell_type": "code",
   "execution_count": null,
   "metadata": {
    "collapsed": true,
    "scrolled": false
   },
   "outputs": [],
   "source": []
  },
  {
   "cell_type": "markdown",
   "metadata": {},
   "source": [
    "### Task 3: Prepare for Optimization\n",
    "\n",
    "We would like to have the dataset ready for optimization later. It needs the following:\n",
    "* A column called `Revenue` calculated as the product of `Cons` and `Price`,\n",
    "* Only subset to the observations where `Temp` is at least `45`,\n",
    "* The final data should only have columns `Revenue` and `Income`.\n",
    "* Write the data to a csv file named `icecream_prepared.csv` in the same directory.\n",
    "\n",
    "How many observation do you have in your final data?"
   ]
  },
  {
   "cell_type": "code",
   "execution_count": null,
   "metadata": {
    "collapsed": true,
    "scrolled": false
   },
   "outputs": [],
   "source": []
  },
  {
   "cell_type": "markdown",
   "metadata": {},
   "source": [
    "\n",
    "## Plotting in Julia\n",
    "\n",
    "Julia also has extensive support for plotting. \n",
    "\n",
    "* `Plots.jl` is a powerful and concise tool for plotting. It provides the interface to many other plotting packages with simple and consistent syntax.\n",
    "* `StatPlots.jl` offers the DataFrames integration for `Plots`. You can pass in a data frame, and map aesthetics to the column names directly. \n",
    "\n",
    "Using these would be somewhat similar to working with `ggplot2` in `R`. \n",
    "\n",
    "Here is an example of a scatter plot based on the `iris` data, where the x axis is the `SepalLength`, y axis is `SepalWidth`, and the grouping (therefore the colors) are based on the `Species`."
   ]
  },
  {
   "cell_type": "code",
   "execution_count": null,
   "metadata": {
    "collapsed": true
   },
   "outputs": [],
   "source": [
    "using Plots\n",
    "using StatPlots\n",
    "pyplot()\n",
    "scatter(iris, :SepalLength, :SepalWidth, group=:Species)"
   ]
  },
  {
   "cell_type": "markdown",
   "metadata": {},
   "source": [
    "We can make the plot more beautiful by adding a few custom settings. For example:\n",
    "* Give it a title\n",
    "* Provide xlabel and ylabel\n",
    "* Change the transparency, shape, and size of the dots\n",
    "* change background color to dark grey"
   ]
  },
  {
   "cell_type": "code",
   "execution_count": null,
   "metadata": {
    "collapsed": true
   },
   "outputs": [],
   "source": [
    "scatter(iris, :SepalLength, :SepalWidth, group=:Species,\n",
    "        title = \"A more beautiful plot\",\n",
    "        xlabel = \"Length\", ylabel = \"Width\",\n",
    "        m=(0.5, [:cross :hex :star7], 12),\n",
    "        bg=RGB(.2,.2,.2))"
   ]
  },
  {
   "cell_type": "markdown",
   "metadata": {},
   "source": [
    "You can also do a box plot (with the cool violin plot in the back) grouped by the species. Note the `!` in `boxplot!` adds the current plot to the existing one. "
   ]
  },
  {
   "cell_type": "code",
   "execution_count": null,
   "metadata": {
    "collapsed": true
   },
   "outputs": [],
   "source": [
    "violin(iris,:Species,:SepalLength)\n",
    "boxplot!(iris, :Species,:SepalLength, leg=false)"
   ]
  },
  {
   "cell_type": "markdown",
   "metadata": {},
   "source": [
    "There are many other types of plots and custom options. You can explore more from [the tutorial](https://juliaplots.github.io/tutorial/)."
   ]
  },
  {
   "cell_type": "markdown",
   "metadata": {},
   "source": [
    "## Exercise 2: Plotting Icecream data"
   ]
  },
  {
   "cell_type": "markdown",
   "metadata": {},
   "source": [
    "With the same `icecream` data, explore the following questions using visualization:"
   ]
  },
  {
   "cell_type": "markdown",
   "metadata": {},
   "source": [
    "### Task 1:\n",
    "How is income related to Consumption?"
   ]
  },
  {
   "cell_type": "code",
   "execution_count": null,
   "metadata": {
    "collapsed": true
   },
   "outputs": [],
   "source": []
  },
  {
   "cell_type": "markdown",
   "metadata": {},
   "source": [
    "### Task 2:\n",
    "Create the `Revenue` variable as the product between `Price` and `Cons`. \n",
    "\n",
    "Do you see a positive relationship between the temperature and revenue?"
   ]
  },
  {
   "cell_type": "code",
   "execution_count": null,
   "metadata": {
    "collapsed": true
   },
   "outputs": [],
   "source": []
  },
  {
   "cell_type": "markdown",
   "metadata": {},
   "source": [
    "### Task 3:\n",
    "Create a new variable `IncomeGroup` that groups income based on a few buckets (your choice).\n",
    "\n",
    "Plot the distribution of the consumption over the different groups. What do you find?"
   ]
  },
  {
   "cell_type": "code",
   "execution_count": null,
   "metadata": {
    "collapsed": true
   },
   "outputs": [],
   "source": []
  }
 ],
 "metadata": {
  "kernelspec": {
   "display_name": "Julia 0.6.4",
   "language": "julia",
   "name": "julia-0.6"
  },
  "language_info": {
   "file_extension": ".jl",
   "mimetype": "application/julia",
   "name": "julia",
   "version": "0.6.4"
  }
 },
 "nbformat": 4,
 "nbformat_minor": 2
}
