{
 "cells": [
  {
   "cell_type": "markdown",
   "metadata": {
    "deletable": true,
    "editable": true
   },
   "source": [
    "# Transportation Problem\n",
    "\n",
    "_Adapted from [material](https://twiki.esc.auckland.ac.nz/bin/view/OpsRes/TransportationProblem) by Dept. of Engineering Science, University of Auckland_\n",
    "\n",
    "Our problem involves transporting supply from suppliers to consumers, for example shipping products from factories to retail locations. Let there be $m$ suppliers and $n$ consumer. Each supplier $i = 1, \\ldots, m$ has a supply of $s_i$ units, and each consumer $j = 1, \\ldots, n$ has demand $d_j$. The cost of transporting one unit of supply from supplier $i$ to consumer $j$ is given by $c_{ij}$.\n",
    "\n",
    "Our goal is to transport the goods from the suppliers to the consumers at minimum cost.\n",
    "\n",
    "We will focus on a specific instance of this problem: shipping crates of beer from breweries to various demand nodes:\n",
    "\n",
    "<img style=\"max-width:100%; width:500px; height:auto\" src=\"https://i.imgur.com/1aCelJL.jpg\">\n",
    "\n",
    "Here we have two breweries with a total possible supply of 5,000 crates of beer, and five demand locations (e.g. bars) with total demand for 4,100 crates of beer. Our transportation costs are as follows (in $/crate sent):\n",
    "\n",
    "| | Brewery A | Brewery B |\n",
    "|-|-----------|-----------|\n",
    "|Bar 1|2|3|\n",
    "|Bar 2|4|1|\n",
    "|Bar 3|5|3|\n",
    "|Bar 4|2|2|\n",
    "|Bar 5|1|3|\n",
    "\n",
    "## Formulating the problem\n",
    "\n",
    "### Decision variables\n",
    "\n",
    "...\n",
    "\n",
    "### Constraints\n",
    "\n",
    "...\n",
    "\n",
    "### Objective\n",
    "\n",
    "...\n",
    "\n",
    "## Solving the problem in JuMP\n",
    "\n",
    "Now let's load in our real data and solve the problem:"
   ]
  },
  {
   "cell_type": "code",
   "execution_count": null,
   "metadata": {
    "collapsed": false,
    "deletable": true,
    "editable": true,
    "scrolled": false
   },
   "outputs": [],
   "source": [
    "m = 2  # Number of breweries\n",
    "n = 5  # Number of bars\n",
    "# Supplies\n",
    "b = [1000, 4000]\n",
    "# Demands\n",
    "d = [500, 900, 1800, 200, 700]\n",
    "# Costs\n",
    "c = [2 4 5 2 1;\n",
    "     3 1 3 2 3]"
   ]
  },
  {
   "cell_type": "markdown",
   "metadata": {
    "deletable": true,
    "editable": true
   },
   "source": [
    "Let's make a model in JuMP!"
   ]
  },
  {
   "cell_type": "code",
   "execution_count": 40,
   "metadata": {
    "collapsed": false,
    "deletable": true,
    "editable": true
   },
   "outputs": [],
   "source": [
    "# Model formulation\n"
   ]
  },
  {
   "cell_type": "code",
   "execution_count": null,
   "metadata": {
    "collapsed": false,
    "deletable": true,
    "editable": true
   },
   "outputs": [],
   "source": [
    "# Solve the model\n"
   ]
  },
  {
   "cell_type": "code",
   "execution_count": null,
   "metadata": {
    "collapsed": false,
    "deletable": true,
    "editable": true
   },
   "outputs": [],
   "source": [
    "# Check the optimal variable values\n"
   ]
  },
  {
   "cell_type": "code",
   "execution_count": null,
   "metadata": {
    "collapsed": false,
    "deletable": true,
    "editable": true
   },
   "outputs": [],
   "source": [
    "# Check the optimal objective value\n"
   ]
  },
  {
   "cell_type": "markdown",
   "metadata": {
    "deletable": true,
    "editable": true
   },
   "source": [
    "# Exercise: Visualizing the solution\n",
    "\n",
    "Now we have an optimal plan for transporting the beer crates, but it would also be nice to visualize this plan to better understand it.\n",
    "\n",
    "Think about and/or discuss with others about how we could present this solution in a way that's easy to follow. See what you can come up with (even better if you can code it up!)"
   ]
  },
  {
   "cell_type": "code",
   "execution_count": null,
   "metadata": {
    "collapsed": true,
    "deletable": true,
    "editable": true
   },
   "outputs": [],
   "source": []
  }
 ],
 "metadata": {
  "kernelspec": {
   "display_name": "Julia 0.6.4",
   "language": "julia",
   "name": "julia-0.6"
  },
  "language_info": {
   "file_extension": ".jl",
   "mimetype": "application/julia",
   "name": "julia",
   "version": "0.6.4"
  }
 },
 "nbformat": 4,
 "nbformat_minor": 0
}
