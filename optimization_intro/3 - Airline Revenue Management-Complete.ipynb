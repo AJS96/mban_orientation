{
 "cells": [
  {
   "cell_type": "markdown",
   "metadata": {
    "collapsed": true,
    "deletable": true,
    "editable": true
   },
   "source": [
    "# Airline Network Revenue Management\n",
    "\n",
    "<img style=\"max-width:100%; width:500px; height:auto\" src=\"http://i.imgur.com/jeGwWET.png\">\n",
    "\n",
    "In the airline network revenue management problem we are trying to decide how many tickets for each origin-destination (O-D) pair to sell at each price level. The goal is to maximize revenue, and we cannot sell more tickets than there is demand for, or space on the planes for.\n",
    "\n",
    "## Three Flight Problem\n",
    "\n",
    "We'll start with a toy problem that has three origin-destination pairs, with two price classes for each pair. The three origin-destination pairs are BOS-MDW, MDW-SFO, or BOS-SFO via MDW. BOS stands for Boston, MDW is Chicago-Midway, and SFO is San Francisco. Each O-D pair has a \"regular\" and \"discount\" fare class. The data we will use is summarized as follows:\n",
    "\n",
    "```\n",
    "PLANE CAPACITY: 166\n",
    "\n",
    "BOS-MDW\n",
    "        Regular  Discount\n",
    "Price:  428      190\n",
    "Demand: 80       120\n",
    "\n",
    "BOS-SFO\n",
    "        Regular  Discount\n",
    "Price:  642      224\n",
    "Demand: 75       100\n",
    "\n",
    "MDW-SFO\n",
    "        Regular  Discount\n",
    "Price:  512      190\n",
    "Demand: 60       110\n",
    "```\n",
    "\n",
    "What does our formulation look like?\n",
    "\n",
    "## Variables\n",
    "\n",
    "Let $0 \\le x_{odc} \\le b_{odc}$ be the number of passengers flying from origin $o$ to destination $d$ in fare class $c$, where $b_{odc}$ is the demand for $o$ to $d$ in class $c$. \n",
    "\n",
    "## Objective\n",
    "\n",
    "We want to maximize the revenue from the tickets we sell. Assume $p_{odc}$ denotes the price of the ticket from origin $o$ to destination $d$ in fare class $c$, then the objective is\n",
    "\n",
    "$$\\max \\sum_{o} \\sum_{d \\ne o} \\sum_c p_{odc} x_{odc}$$\n",
    "\n",
    "## Constraints\n",
    "\n",
    "Our only constraint is that the place capacity $C$ cannot be exceeded at any time. This means that the number of tickets sold on flights both *to* and *from* the hub must respect the plane capacity:\n",
    "\n",
    "$$\n",
    "\\begin{align}\n",
    "    & \\sum_{d \\ne o} \\sum_c x_{odc} \\le C && o \\ne \\texttt{MDW} && \\text{(flights to the hub)}\\\\\n",
    "    & \\sum_{o \\ne d} \\sum_c x_{odc} \\le C && d \\ne \\texttt{MDW} && \\text{(flights from the hub)}\n",
    "\\end{align}\n",
    "$$\n",
    "\n",
    "# JuMP Formulation"
   ]
  },
  {
   "cell_type": "code",
   "execution_count": 1,
   "metadata": {
    "collapsed": false
   },
   "outputs": [
    {
     "name": "stdout",
     "output_type": "stream",
     "text": [
      "Optimize a model with 2 rows, 6 columns and 8 nonzeros\n",
      "Coefficient statistics:\n",
      "  Matrix range     [1e+00, 1e+00]\n",
      "  Objective range  [2e+02, 6e+02]\n",
      "  Bounds range     [6e+01, 1e+02]\n",
      "  RHS range        [2e+02, 2e+02]\n",
      "Presolve time: 0.00s\n",
      "Presolved: 2 rows, 6 columns, 8 nonzeros\n",
      "\n",
      "Iteration    Objective       Primal Inf.    Dual Inf.      Time\n",
      "       0    1.7921000e+05   3.880000e+02   0.000000e+00      0s\n",
      "       3    1.2109000e+05   0.000000e+00   0.000000e+00      0s\n",
      "\n",
      "Solved in 3 iterations and 0.00 seconds\n",
      "Optimal objective  1.210900000e+05\n",
      "getvalue(BOStoMDW_R) = 80.0\n",
      "getvalue(BOStoMDW_D) = 11.0\n",
      "getobjectivevalue(nrm) = 121090.0\n"
     ]
    },
    {
     "data": {
      "text/plain": [
       "121090.0"
      ]
     },
     "execution_count": 1,
     "metadata": {},
     "output_type": "execute_result"
    }
   ],
   "source": [
    "using JuMP, Gurobi\n",
    "nrm = Model(solver=GurobiSolver())\n",
    "@variables nrm begin \n",
    "    0 <= BOStoMDW_R <= 80\n",
    "    0 <= BOStoMDW_D <= 120\n",
    "    0 <= BOStoSFO_R <= 75\n",
    "    0 <= BOStoSFO_D <= 100\n",
    "    0 <= MDWtoSFO_R <= 60\n",
    "    0 <= MDWtoSFO_D <= 110\n",
    "end\n",
    "@objective(nrm, Max, 428BOStoMDW_R + 190BOStoMDW_D +\n",
    "                     642BOStoSFO_R + 224BOStoSFO_D +\n",
    "                     512MDWtoSFO_R + 190MDWtoSFO_D)\n",
    "@constraint(nrm, BOStoMDW_R + BOStoMDW_D + \n",
    "                 BOStoSFO_R + BOStoSFO_D <= 166)\n",
    "@constraint(nrm, MDWtoSFO_R + MDWtoSFO_D + \n",
    "                 BOStoSFO_R + BOStoSFO_D <= 166)\n",
    "solve(nrm)\n",
    "\n",
    "@show getvalue(BOStoMDW_R)\n",
    "@show getvalue(BOStoMDW_D)\n",
    "@show getobjectivevalue(nrm)"
   ]
  },
  {
   "cell_type": "markdown",
   "metadata": {
    "deletable": true,
    "editable": true
   },
   "source": [
    "What's wrong with this model?\n",
    "\n",
    "- extending the model is tedious, e.g. adding another airport\n",
    "- hardcoded constants everywhere\n",
    "- constraints are all defined manually\n",
    "- hard to extract all solution information\n",
    "\n",
    "Let's try to make it more scalable!\n",
    "\n",
    "## Building an extensible model\n",
    "\n",
    "First, we would like to construct a _collection of variables_ all at once.  This is a very common idiom; for example, you might have a variable named ``x`` that is indexed from 1 to 10:"
   ]
  },
  {
   "cell_type": "code",
   "execution_count": 2,
   "metadata": {
    "collapsed": false,
    "deletable": true,
    "editable": true
   },
   "outputs": [
    {
     "data": {
      "text/latex": [
       "$$ x_{i} \\geq 0 \\quad\\forall i \\in \\{1,2,\\dots,9,10\\} $$"
      ],
      "text/plain": [
       "10-element Array{JuMP.Variable,1}:\n",
       " x[1] \n",
       " x[2] \n",
       " x[3] \n",
       " x[4] \n",
       " x[5] \n",
       " x[6] \n",
       " x[7] \n",
       " x[8] \n",
       " x[9] \n",
       " x[10]"
      ]
     },
     "execution_count": 2,
     "metadata": {},
     "output_type": "execute_result"
    }
   ],
   "source": [
    "m = Model()\n",
    "@variable(m, x[1:10] >= 0)"
   ]
  },
  {
   "cell_type": "markdown",
   "metadata": {
    "deletable": true,
    "editable": true
   },
   "source": [
    "The index sets are specified inside the ``[...]`` block. You can create multidimensional containers by specifying multiple index sets, separated by commas:"
   ]
  },
  {
   "cell_type": "code",
   "execution_count": 3,
   "metadata": {
    "collapsed": false,
    "deletable": true,
    "editable": true
   },
   "outputs": [
    {
     "data": {
      "text/latex": [
       "$$ y_{i,j} \\leq 1 \\quad\\forall i \\in \\{1,2,\\dots,9,10\\}, j \\in \\{red,blue\\} $$"
      ],
      "text/plain": [
       "y[i,j] ≤ 1 ∀ i ∈ {1,2,…,9,10}, j ∈ {red,blue}"
      ]
     },
     "execution_count": 3,
     "metadata": {},
     "output_type": "execute_result"
    }
   ],
   "source": [
    "@variable(m, y[1:10,[\"red\",\"blue\"]] <= 1)"
   ]
  },
  {
   "cell_type": "markdown",
   "metadata": {
    "deletable": true,
    "editable": true
   },
   "source": [
    "For more complicated expressions, you can name the indices for the index sets and use them in the rest of the variable definition:"
   ]
  },
  {
   "cell_type": "code",
   "execution_count": 4,
   "metadata": {
    "collapsed": false,
    "deletable": true,
    "editable": true
   },
   "outputs": [
    {
     "data": {
      "text/latex": [
       "$$ \\dots \\leq z_{i,j} \\leq \\dots \\quad\\forall i \\in \\{1,2,\\dots,9,10\\}, j \\in \\{\\dots\\} $$"
      ],
      "text/plain": [
       "… ≤ z[i,j] ≤ … ∀ i ∈ {1,2,…,9,10}, j ∈ {…}"
      ]
     },
     "execution_count": 4,
     "metadata": {},
     "output_type": "execute_result"
    }
   ],
   "source": [
    "ub = rand(10)\n",
    "@variable(m, i <= z[i=1:10,j=(i+1):10] <= ub[j])"
   ]
  },
  {
   "cell_type": "markdown",
   "metadata": {
    "deletable": true,
    "editable": true
   },
   "source": [
    "To specify conditions on the indexing, you can add conditionals inside the ``[...]`` block, separated by a semicolon:"
   ]
  },
  {
   "cell_type": "code",
   "execution_count": 5,
   "metadata": {
    "collapsed": false,
    "deletable": true,
    "editable": true
   },
   "outputs": [
    {
     "data": {
      "text/latex": [
       "$$ w_{i,c} \\geq 0 \\quad\\forall i \\in \\{1,2,\\dots,9,10\\}, c \\in \\{red,blue\\} s.t. iseven(i) || c == \"red\" $$"
      ],
      "text/plain": [
       "w[i,c] ≥ 0 ∀ i ∈ {1,2,…,9,10}, c ∈ {red,blue} s.t. iseven(i) || c == \"red\""
      ]
     },
     "execution_count": 5,
     "metadata": {},
     "output_type": "execute_result"
    }
   ],
   "source": [
    "@variable(m, w[i=1:10, c=[\"red\",\"blue\"]; iseven(i) || c == \"red\"] >= 0)"
   ]
  },
  {
   "cell_type": "markdown",
   "metadata": {
    "deletable": true,
    "editable": true
   },
   "source": [
    "Now that we can programatically create arrays of variables, we would like to be able to use them to full-effect in the constraints of our problem. That is, we want a way to express multi-dimensional summations, with conditionals. To do this, we use the ``sum(...)`` construction. The first argument is the ''inner loop'' of the summation, the index sets are specified after a ``for``, and any conditionals are stated following an ``if`` (similar to variable definition, but with a slightly different syntax)."
   ]
  },
  {
   "cell_type": "code",
   "execution_count": 6,
   "metadata": {
    "collapsed": false,
    "deletable": true,
    "editable": true
   },
   "outputs": [
    {
     "data": {
      "text/latex": [
       "$$ x_{1} + x_{2} + x_{3} + x_{4} + x_{5} + x_{6} + x_{7} + x_{8} + x_{9} + x_{10} \\leq 1 $$"
      ],
      "text/plain": [
       "x[1] + x[2] + x[3] + x[4] + x[5] + x[6] + x[7] + x[8] + x[9] + x[10] ≤ 1"
      ]
     },
     "execution_count": 6,
     "metadata": {},
     "output_type": "execute_result"
    }
   ],
   "source": [
    "@constraint(m, sum(x[i] for i in 1:10) <= 1)"
   ]
  },
  {
   "cell_type": "code",
   "execution_count": 7,
   "metadata": {
    "collapsed": false,
    "deletable": true,
    "editable": true
   },
   "outputs": [
    {
     "data": {
      "text/latex": [
       "$$ 2 y_{1,red} + 3 y_{1,blue} + 2 y_{2,red} + 3 y_{2,blue} + 2 y_{3,red} + 3 y_{3,blue} + 2 y_{4,red} + 3 y_{4,blue} + 2 y_{5,red} + 3 y_{5,blue} + 2 y_{6,red} + 3 y_{6,blue} + 2 y_{7,red} + 3 y_{7,blue} + 2 y_{8,red} + 3 y_{8,blue} + 2 y_{9,red} + 3 y_{9,blue} + 2 y_{10,red} + 3 y_{10,blue} = 1 $$"
      ],
      "text/plain": [
       "2 y[1,red] + 3 y[1,blue] + 2 y[2,red] + 3 y[2,blue] + 2 y[3,red] + 3 y[3,blue] + 2 y[4,red] + 3 y[4,blue] + 2 y[5,red] + 3 y[5,blue] + 2 y[6,red] + 3 y[6,blue] + 2 y[7,red] + 3 y[7,blue] + 2 y[8,red] + 3 y[8,blue] + 2 y[9,red] + 3 y[9,blue] + 2 y[10,red] + 3 y[10,blue] = 1"
      ]
     },
     "execution_count": 7,
     "metadata": {},
     "output_type": "execute_result"
    }
   ],
   "source": [
    "coef = Dict(\"red\" => 2, \"blue\" => 3)\n",
    "@constraint(m, sum(coef[c]*y[i,c] for i in 1:10, c in [\"red\",\"blue\"]) == 1)"
   ]
  },
  {
   "cell_type": "code",
   "execution_count": 8,
   "metadata": {
    "collapsed": false,
    "deletable": true,
    "editable": true
   },
   "outputs": [
    {
     "data": {
      "text/latex": [
       "$$ 2 z_{1,2} + 3 z_{1,3} + 4 z_{1,4} + 5 z_{1,5} + 6 z_{1,6} + 7 z_{1,7} + 8 z_{1,8} + 9 z_{1,9} + 10 z_{1,10} + 6 z_{2,3} + 8 z_{2,4} + 10 z_{2,5} + 12 z_{2,6} + 14 z_{2,7} + 16 z_{2,8} + 18 z_{2,9} + 20 z_{2,10} + 12 z_{3,4} + 15 z_{3,5} + 18 z_{3,6} + 21 z_{3,7} + 24 z_{3,8} + 27 z_{3,9} + 30 z_{3,10} + 20 z_{4,5} + 24 z_{4,6} + 28 z_{4,7} + 32 z_{4,8} + 36 z_{4,9} + 40 z_{4,10} + 30 z_{5,6} + 35 z_{5,7} + 40 z_{5,8} + 45 z_{5,9} + 50 z_{5,10} + 42 z_{6,7} + 48 z_{6,8} + 54 z_{6,9} + 60 z_{6,10} + 56 z_{7,8} + 63 z_{7,9} + 70 z_{7,10} + 72 z_{8,9} + 80 z_{8,10} + 90 z_{9,10} - w_{1,red} - 4 w_{2,red} - 4 w_{2,blue} - 9 w_{3,red} - 16 w_{4,red} - 16 w_{4,blue} - 25 w_{5,red} - 36 w_{6,red} - 36 w_{6,blue} - 49 w_{7,red} - 64 w_{8,red} - 64 w_{8,blue} - 81 w_{9,red} - 100 w_{10,red} - 100 w_{10,blue} \\leq 0 $$"
      ],
      "text/plain": [
       "2 z[1,2] + 3 z[1,3] + 4 z[1,4] + 5 z[1,5] + 6 z[1,6] + 7 z[1,7] + 8 z[1,8] + 9 z[1,9] + 10 z[1,10] + 6 z[2,3] + 8 z[2,4] + 10 z[2,5] + 12 z[2,6] + 14 z[2,7] + 16 z[2,8] + 18 z[2,9] + 20 z[2,10] + 12 z[3,4] + 15 z[3,5] + 18 z[3,6] + 21 z[3,7] + 24 z[3,8] + 27 z[3,9] + 30 z[3,10] + 20 z[4,5] + 24 z[4,6] + 28 z[4,7] + 32 z[4,8] + 36 z[4,9] + 40 z[4,10] + 30 z[5,6] + 35 z[5,7] + 40 z[5,8] + 45 z[5,9] + 50 z[5,10] + 42 z[6,7] + 48 z[6,8] + 54 z[6,9] + 60 z[6,10] + 56 z[7,8] + 63 z[7,9] + 70 z[7,10] + 72 z[8,9] + 80 z[8,10] + 90 z[9,10] - w[1,red] - 4 w[2,red] - 4 w[2,blue] - 9 w[3,red] - 16 w[4,red] - 16 w[4,blue] - 25 w[5,red] - 36 w[6,red] - 36 w[6,blue] - 49 w[7,red] - 64 w[8,red] - 64 w[8,blue] - 81 w[9,red] - 100 w[10,red] - 100 w[10,blue] ≤ 0"
      ]
     },
     "execution_count": 8,
     "metadata": {},
     "output_type": "execute_result"
    }
   ],
   "source": [
    "@constraint(m, sum(i*j*z[i,j] for i in 1:10, j in (i+1):10) <=\n",
    "               sum(i^2*w[i,c] for i in 1:10, c in [\"red\",\"blue\"] if iseven(i) || c == \"red\"))"
   ]
  },
  {
   "cell_type": "markdown",
   "metadata": {
    "deletable": true,
    "editable": true
   },
   "source": [
    "## Revisiting the network revenue management problem\n",
    "\n",
    "Now let's return to the network revenue management example and attempt to rewrite it in a generic way that scales to any number of airports. \n",
    "\n",
    "First, let's create some random data for our problem."
   ]
  },
  {
   "cell_type": "code",
   "execution_count": 9,
   "metadata": {
    "collapsed": false,
    "deletable": true,
    "editable": true
   },
   "outputs": [
    {
     "name": "stdout",
     "output_type": "stream",
     "text": [
      "demand[(:BOS, :YYZ, :REG)] = 90\n"
     ]
    },
    {
     "data": {
      "text/plain": [
       "90"
      ]
     },
     "execution_count": 9,
     "metadata": {},
     "output_type": "execute_result"
    }
   ],
   "source": [
    "# Set the random seed to ensure we always\n",
    "# get the same stream of 'random' numbers\n",
    "srand(1988)  \n",
    "\n",
    "# Lets create a vector of symbols, one for each airport\n",
    "airports = [:BOS, :MDW, :SFO, :YYZ]\n",
    "num_airport = length(airports)\n",
    "\n",
    "# We'll also create a vector of fare classes\n",
    "classes = [:REG, :DIS]\n",
    "\n",
    "# All the demand and price data for each triple of\n",
    "# (origin, destination, class) will be stored in\n",
    "# 'dictionaries', also known as 'maps'.\n",
    "demand = Dict()\n",
    "prices = Dict()\n",
    "\n",
    "# Generate a demand and price for each pair of airports\n",
    "# To keep the code simple we will generate info for\n",
    "# nonsense flights like BOS-BOS and SFO-SFO, but they\n",
    "# won't appear in our final model.\n",
    "for origin in airports, dest in airports\n",
    "    # Generate demand:\n",
    "    #  - Regular demand is Uniform(50,90)\n",
    "    #  - Discount demand is Uniform(100,130)\n",
    "    demand[(origin,dest,:REG)] = rand(50:90)    \n",
    "    demand[(origin,dest,:DIS)] = rand(100:130)\n",
    "    # Generate prices:\n",
    "    #  - Regular price is Uniform(400,700)\n",
    "    #  - Discount price is Uniform(150,300)\n",
    "    prices[(origin,dest,:REG)] = rand(400:700)\n",
    "    prices[(origin,dest,:DIS)] = rand(150:300)\n",
    "end\n",
    "\n",
    "# Finally set all places to have the same capacity\n",
    "plane_cap = rand(150:200)\n",
    "\n",
    "# Lets look at a sample demand at random\n",
    "@show demand[(:BOS,:YYZ,:REG)]"
   ]
  },
  {
   "cell_type": "markdown",
   "metadata": {
    "deletable": true,
    "editable": true
   },
   "source": [
    "Now let's build the model. We will have our decision variable ``x`` indexed by three things:\n",
    "\n",
    "1. Origin\n",
    "2. Destination\n",
    "3. Class\n",
    "\n",
    "The upper bound (the demand for each) will vary accordingly."
   ]
  },
  {
   "cell_type": "code",
   "execution_count": 10,
   "metadata": {
    "collapsed": false,
    "deletable": true,
    "editable": true
   },
   "outputs": [
    {
     "data": {
      "text/latex": [
       "$$ \\begin{alignat*}{1}\\min\\quad & 0\\\\\n",
       "\\text{Subject to} \\quad & 0 \\leq x_{BOS,MDW,REG} \\leq 55\\\\\n",
       " & 0 \\leq x_{BOS,MDW,DIS} \\leq 124\\\\\n",
       " & 0 \\leq x_{BOS,SFO,REG} \\leq 68\\\\\n",
       " & 0 \\leq x_{BOS,SFO,DIS} \\leq 126\\\\\n",
       " & 0 \\leq x_{BOS,YYZ,REG} \\leq 90\\\\\n",
       " & 0 \\leq x_{BOS,YYZ,DIS} \\leq 120\\\\\n",
       " & 0 \\leq x_{MDW,BOS,REG} \\leq 86\\\\\n",
       " & 0 \\leq x_{MDW,BOS,DIS} \\leq 117\\\\\n",
       " & 0 \\leq x_{MDW,SFO,REG} \\leq 75\\\\\n",
       " & 0 \\leq x_{MDW,SFO,DIS} \\leq 115\\\\\n",
       " & 0 \\leq x_{MDW,YYZ,REG} \\leq 63\\\\\n",
       " & 0 \\leq x_{MDW,YYZ,DIS} \\leq 100\\\\\n",
       " & 0 \\leq x_{SFO,BOS,REG} \\leq 67\\\\\n",
       " & 0 \\leq x_{SFO,BOS,DIS} \\leq 112\\\\\n",
       " & 0 \\leq x_{SFO,MDW,REG} \\leq 90\\\\\n",
       " & 0 \\leq x_{SFO,MDW,DIS} \\leq 120\\\\\n",
       " & 0 \\leq x_{SFO,YYZ,REG} \\leq 55\\\\\n",
       " & 0 \\leq x_{SFO,YYZ,DIS} \\leq 123\\\\\n",
       " & 0 \\leq x_{YYZ,BOS,REG} \\leq 53\\\\\n",
       " & 0 \\leq x_{YYZ,BOS,DIS} \\leq 115\\\\\n",
       " & 0 \\leq x_{YYZ,MDW,REG} \\leq 62\\\\\n",
       " & 0 \\leq x_{YYZ,MDW,DIS} \\leq 123\\\\\n",
       " & 0 \\leq x_{YYZ,SFO,REG} \\leq 61\\\\\n",
       " & 0 \\leq x_{YYZ,SFO,DIS} \\leq 118\\\\\n",
       "\\end{alignat*}\n",
       " $$"
      ],
      "text/plain": [
       "Feasibility problem with:\n",
       " * 0 linear constraints\n",
       " * 24 variables\n",
       "Solver is Gurobi"
      ]
     },
     "execution_count": 10,
     "metadata": {},
     "output_type": "execute_result"
    }
   ],
   "source": [
    "nrm2 = Model(solver=GurobiSolver())\n",
    "\n",
    "@variable(nrm2, 0 <= x[o=airports,\n",
    "                       d=airports,\n",
    "                       c=classes; o!=d] <= demand[(o,d,c)])\n",
    "nrm2"
   ]
  },
  {
   "cell_type": "markdown",
   "metadata": {
    "deletable": true,
    "editable": true
   },
   "source": [
    "The objective is to maximize the profit we make, summing over each ticket set:"
   ]
  },
  {
   "cell_type": "code",
   "execution_count": 11,
   "metadata": {
    "collapsed": false,
    "deletable": true,
    "editable": true
   },
   "outputs": [
    {
     "data": {
      "text/latex": [
       "$$ \\begin{alignat*}{1}\\max\\quad & 551 x_{BOS,MDW,REG} + 243 x_{BOS,MDW,DIS} + 677 x_{BOS,SFO,REG} + 198 x_{BOS,SFO,DIS} + 697 x_{BOS,YYZ,REG} + 163 x_{BOS,YYZ,DIS} + 450 x_{MDW,BOS,REG} + 254 x_{MDW,BOS,DIS} + 534 x_{MDW,SFO,REG} + 237 x_{MDW,SFO,DIS} + 556 x_{MDW,YYZ,REG} + 158 x_{MDW,YYZ,DIS} + 587 x_{SFO,BOS,REG} + 256 x_{SFO,BOS,DIS} + 593 x_{SFO,MDW,REG} + 249 x_{SFO,MDW,DIS} + 674 x_{SFO,YYZ,REG} + 236 x_{SFO,YYZ,DIS} + 407 x_{YYZ,BOS,REG} + 157 x_{YYZ,BOS,DIS} + 647 x_{YYZ,MDW,REG} + 247 x_{YYZ,MDW,DIS} + 658 x_{YYZ,SFO,REG} + 285 x_{YYZ,SFO,DIS}\\\\\n",
       "\\text{Subject to} \\quad & 0 \\leq x_{BOS,MDW,REG} \\leq 55\\\\\n",
       " & 0 \\leq x_{BOS,MDW,DIS} \\leq 124\\\\\n",
       " & 0 \\leq x_{BOS,SFO,REG} \\leq 68\\\\\n",
       " & 0 \\leq x_{BOS,SFO,DIS} \\leq 126\\\\\n",
       " & 0 \\leq x_{BOS,YYZ,REG} \\leq 90\\\\\n",
       " & 0 \\leq x_{BOS,YYZ,DIS} \\leq 120\\\\\n",
       " & 0 \\leq x_{MDW,BOS,REG} \\leq 86\\\\\n",
       " & 0 \\leq x_{MDW,BOS,DIS} \\leq 117\\\\\n",
       " & 0 \\leq x_{MDW,SFO,REG} \\leq 75\\\\\n",
       " & 0 \\leq x_{MDW,SFO,DIS} \\leq 115\\\\\n",
       " & 0 \\leq x_{MDW,YYZ,REG} \\leq 63\\\\\n",
       " & 0 \\leq x_{MDW,YYZ,DIS} \\leq 100\\\\\n",
       " & 0 \\leq x_{SFO,BOS,REG} \\leq 67\\\\\n",
       " & 0 \\leq x_{SFO,BOS,DIS} \\leq 112\\\\\n",
       " & 0 \\leq x_{SFO,MDW,REG} \\leq 90\\\\\n",
       " & 0 \\leq x_{SFO,MDW,DIS} \\leq 120\\\\\n",
       " & 0 \\leq x_{SFO,YYZ,REG} \\leq 55\\\\\n",
       " & 0 \\leq x_{SFO,YYZ,DIS} \\leq 123\\\\\n",
       " & 0 \\leq x_{YYZ,BOS,REG} \\leq 53\\\\\n",
       " & 0 \\leq x_{YYZ,BOS,DIS} \\leq 115\\\\\n",
       " & 0 \\leq x_{YYZ,MDW,REG} \\leq 62\\\\\n",
       " & 0 \\leq x_{YYZ,MDW,DIS} \\leq 123\\\\\n",
       " & 0 \\leq x_{YYZ,SFO,REG} \\leq 61\\\\\n",
       " & 0 \\leq x_{YYZ,SFO,DIS} \\leq 118\\\\\n",
       "\\end{alignat*}\n",
       " $$"
      ],
      "text/plain": [
       "Maximization problem with:\n",
       " * 0 linear constraints\n",
       " * 24 variables\n",
       "Solver is Gurobi"
      ]
     },
     "execution_count": 11,
     "metadata": {},
     "output_type": "execute_result"
    }
   ],
   "source": [
    "@objective(nrm2, Max, sum(prices[(o,d,c)]*x[o,d,c] for \n",
    "    o in airports, d in airports, c in classes if o != d))\n",
    "nrm2"
   ]
  },
  {
   "cell_type": "markdown",
   "metadata": {
    "deletable": true,
    "editable": true
   },
   "source": [
    "Our first set of constraints enforces that all the legs leaving the hub airport must not oversell the plane capacity:"
   ]
  },
  {
   "cell_type": "code",
   "execution_count": 12,
   "metadata": {
    "collapsed": false,
    "deletable": true,
    "editable": true
   },
   "outputs": [
    {
     "name": "stdout",
     "output_type": "stream",
     "text": [
      "Adding constraint for hub (MDW) to BOS\n",
      "Adding constraint for hub (MDW) to SFO\n",
      "Adding constraint for hub (MDW) to YYZ\n"
     ]
    },
    {
     "data": {
      "text/latex": [
       "$$ \\begin{alignat*}{1}\\max\\quad & 551 x_{BOS,MDW,REG} + 243 x_{BOS,MDW,DIS} + 677 x_{BOS,SFO,REG} + 198 x_{BOS,SFO,DIS} + 697 x_{BOS,YYZ,REG} + 163 x_{BOS,YYZ,DIS} + 450 x_{MDW,BOS,REG} + 254 x_{MDW,BOS,DIS} + 534 x_{MDW,SFO,REG} + 237 x_{MDW,SFO,DIS} + 556 x_{MDW,YYZ,REG} + 158 x_{MDW,YYZ,DIS} + 587 x_{SFO,BOS,REG} + 256 x_{SFO,BOS,DIS} + 593 x_{SFO,MDW,REG} + 249 x_{SFO,MDW,DIS} + 674 x_{SFO,YYZ,REG} + 236 x_{SFO,YYZ,DIS} + 407 x_{YYZ,BOS,REG} + 157 x_{YYZ,BOS,DIS} + 647 x_{YYZ,MDW,REG} + 247 x_{YYZ,MDW,DIS} + 658 x_{YYZ,SFO,REG} + 285 x_{YYZ,SFO,DIS}\\\\\n",
       "\\text{Subject to} \\quad & x_{MDW,BOS,REG} + x_{MDW,BOS,DIS} + x_{SFO,BOS,REG} + x_{SFO,BOS,DIS} + x_{YYZ,BOS,REG} + x_{YYZ,BOS,DIS} \\leq 182\\\\\n",
       " & x_{BOS,SFO,REG} + x_{BOS,SFO,DIS} + x_{MDW,SFO,REG} + x_{MDW,SFO,DIS} + x_{YYZ,SFO,REG} + x_{YYZ,SFO,DIS} \\leq 182\\\\\n",
       " & x_{BOS,YYZ,REG} + x_{BOS,YYZ,DIS} + x_{MDW,YYZ,REG} + x_{MDW,YYZ,DIS} + x_{SFO,YYZ,REG} + x_{SFO,YYZ,DIS} \\leq 182\\\\\n",
       " & 0 \\leq x_{BOS,MDW,REG} \\leq 55\\\\\n",
       " & 0 \\leq x_{BOS,MDW,DIS} \\leq 124\\\\\n",
       " & 0 \\leq x_{BOS,SFO,REG} \\leq 68\\\\\n",
       " & 0 \\leq x_{BOS,SFO,DIS} \\leq 126\\\\\n",
       " & 0 \\leq x_{BOS,YYZ,REG} \\leq 90\\\\\n",
       " & 0 \\leq x_{BOS,YYZ,DIS} \\leq 120\\\\\n",
       " & 0 \\leq x_{MDW,BOS,REG} \\leq 86\\\\\n",
       " & 0 \\leq x_{MDW,BOS,DIS} \\leq 117\\\\\n",
       " & 0 \\leq x_{MDW,SFO,REG} \\leq 75\\\\\n",
       " & 0 \\leq x_{MDW,SFO,DIS} \\leq 115\\\\\n",
       " & 0 \\leq x_{MDW,YYZ,REG} \\leq 63\\\\\n",
       " & 0 \\leq x_{MDW,YYZ,DIS} \\leq 100\\\\\n",
       " & 0 \\leq x_{SFO,BOS,REG} \\leq 67\\\\\n",
       " & 0 \\leq x_{SFO,BOS,DIS} \\leq 112\\\\\n",
       " & 0 \\leq x_{SFO,MDW,REG} \\leq 90\\\\\n",
       " & 0 \\leq x_{SFO,MDW,DIS} \\leq 120\\\\\n",
       " & 0 \\leq x_{SFO,YYZ,REG} \\leq 55\\\\\n",
       " & 0 \\leq x_{SFO,YYZ,DIS} \\leq 123\\\\\n",
       " & 0 \\leq x_{YYZ,BOS,REG} \\leq 53\\\\\n",
       " & 0 \\leq x_{YYZ,BOS,DIS} \\leq 115\\\\\n",
       " & 0 \\leq x_{YYZ,MDW,REG} \\leq 62\\\\\n",
       " & 0 \\leq x_{YYZ,MDW,DIS} \\leq 123\\\\\n",
       " & 0 \\leq x_{YYZ,SFO,REG} \\leq 61\\\\\n",
       " & 0 \\leq x_{YYZ,SFO,DIS} \\leq 118\\\\\n",
       "\\end{alignat*}\n",
       " $$"
      ],
      "text/plain": [
       "Maximization problem with:\n",
       " * 3 linear constraints\n",
       " * 24 variables\n",
       "Solver is Gurobi"
      ]
     },
     "execution_count": 12,
     "metadata": {},
     "output_type": "execute_result"
    }
   ],
   "source": [
    "for d in airports\n",
    "    if d != :MDW\n",
    "        println(\"Adding constraint for hub (MDW) to $d\")\n",
    "        @constraint(nrm2, \n",
    "            sum(x[o,d,c] for o in airports, c in classes if o!=d) <= plane_cap)\n",
    "    end\n",
    "end\n",
    "nrm2"
   ]
  },
  {
   "cell_type": "markdown",
   "metadata": {
    "deletable": true,
    "editable": true
   },
   "source": [
    "Finally, add constraints that each flight _to_ the hub is not oversold, and then solve the model."
   ]
  },
  {
   "cell_type": "code",
   "execution_count": 13,
   "metadata": {
    "collapsed": false,
    "deletable": true,
    "editable": true
   },
   "outputs": [
    {
     "name": "stdout",
     "output_type": "stream",
     "text": [
      "Adding constraint for BOS to hub (MDW)\n",
      "Adding constraint for SFO to hub (MDW)\n",
      "Adding constraint for YYZ to hub (MDW)\n",
      "Optimize a model with 6 rows, 24 columns and 36 nonzeros\n",
      "Coefficient statistics:\n",
      "  Matrix range     [1e+00, 1e+00]\n",
      "  Objective range  [2e+02, 7e+02]\n",
      "  Bounds range     [5e+01, 1e+02]\n",
      "  RHS range        [2e+02, 2e+02]\n",
      "Presolve time: 0.00s\n",
      "Presolved: 6 rows, 24 columns, 36 nonzeros\n",
      "\n",
      "Iteration    Objective       Primal Inf.    Dual Inf.      Time\n",
      "       0    8.0150000e+05   2.254000e+03   0.000000e+00      0s\n",
      "      11    4.4785500e+05   0.000000e+00   0.000000e+00      0s\n",
      "\n",
      "Solved in 11 iterations and 0.00 seconds\n",
      "Optimal objective  4.478550000e+05\n",
      "getvalue(x) = x: 3 dimensions, 24 entries:\n",
      " [BOS,MDW,DIS] = 0.0\n",
      " [BOS,MDW,REG] = 55.0\n",
      " [BOS,SFO,DIS] = 0.0\n",
      " [BOS,SFO,REG] = 46.0\n",
      " [BOS,YYZ,DIS] = 0.0\n",
      " [BOS,YYZ,REG] = 81.0\n",
      " [MDW,BOS,DIS] = 42.0\n",
      " [MDW,BOS,REG] = 86.0\n",
      " [MDW,SFO,DIS] = 0.0\n",
      " [MDW,SFO,REG] = 75.0\n",
      " [MDW,YYZ,DIS] = 0.0\n",
      " [MDW,YYZ,REG] = 63.0\n",
      " [SFO,BOS,DIS] = 0.0\n",
      " [SFO,BOS,REG] = 54.0\n",
      " [SFO,MDW,DIS] = 0.0\n",
      " [SFO,MDW,REG] = 90.0\n",
      " [SFO,YYZ,DIS] = 0.0\n",
      " [SFO,YYZ,REG] = 38.0\n",
      " [YYZ,BOS,DIS] = 0.0\n",
      " [YYZ,BOS,REG] = 0.0\n",
      " [YYZ,MDW,DIS] = 59.0\n",
      " [YYZ,MDW,REG] = 62.0\n",
      " [YYZ,SFO,DIS] = 0.0\n",
      " [YYZ,SFO,REG] = 61.0\n",
      "getobjectivevalue(nrm2) = 447855.0\n"
     ]
    },
    {
     "data": {
      "text/plain": [
       "447855.0"
      ]
     },
     "execution_count": 13,
     "metadata": {},
     "output_type": "execute_result"
    }
   ],
   "source": [
    "# Constraints here!\n",
    "\n",
    "for o in airports\n",
    "    if o != :MDW\n",
    "        println(\"Adding constraint for $o to hub (MDW)\")\n",
    "        @constraint(nrm2, \n",
    "            sum(x[o,d,c] for d in airports, c in classes if o!=d) <= plane_cap)\n",
    "    end\n",
    "end\n",
    "                \n",
    "# @constraint(nrm2, constr[o=airports;o!=:MDW], \n",
    "#             sum(x[o,d,c] for d in airports, c in classes if o!=d) <= plane_cap)\n",
    "nrm2\n",
    "             \n",
    "# Now solve the model\n",
    "solve(nrm2)\n",
    "@show getvalue(x)\n",
    "@show getobjectivevalue(nrm2)"
   ]
  },
  {
   "cell_type": "code",
   "execution_count": null,
   "metadata": {
    "collapsed": true,
    "deletable": true,
    "editable": true
   },
   "outputs": [],
   "source": []
  }
 ],
 "metadata": {
  "kernelspec": {
   "display_name": "Julia 0.6.0",
   "language": "julia",
   "name": "julia-0.6"
  },
  "language_info": {
   "file_extension": ".jl",
   "mimetype": "application/julia",
   "name": "julia",
   "version": "0.6.0"
  }
 },
 "nbformat": 4,
 "nbformat_minor": 2
}
