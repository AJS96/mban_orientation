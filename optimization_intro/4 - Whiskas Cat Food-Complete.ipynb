{
 "cells": [
  {
   "cell_type": "markdown",
   "metadata": {
    "collapsed": true,
    "deletable": true,
    "editable": true
   },
   "source": [
    "# Whiskas Cat Food\n",
    "\n",
    "_Adapted from [material](https://twiki.esc.auckland.ac.nz/bin/view/OpsRes/WhiskasCatFoodProblem) by Dept. of Engineering Science, University of Auckland_\n",
    "\n",
    "![](https://i.imgur.com/MlQqMz2.png)\n",
    "\n",
    "Whiskas cat food is manufactured by Uncle Ben's. Uncle Ben's want to produce their cat food products as cheaply as possible while ensuring they meet the stated nutritional analysis requirements shown on the cans: \n",
    "\n",
    "![](https://i.imgur.com/dC2JgQV.jpg)\n",
    "\n",
    "![](https://i.imgur.com/c3Xm7oI.jpg)\n",
    "\n",
    "Thus they want to vary the quantities of each ingredient used (the main ingredients being chicken, beef, mutton, rice, wheat and gel) while still meeting their nutritional standards:\n",
    "\n",
    "![](https://i.imgur.com/ox0gqH2.jpg)\n",
    "\n",
    "The costs of the chicken, beef, and mutton are provided in the file `cost.csv`. (All costs are per 100g.) In this case study, we will ignore the vitamin and mineral ingredients. (Any costs for these are likely to be very small anyway.)\n",
    "\n",
    "Each ingredient contributes to the total weight of protein, fat, fibre and salt in the final product. The contributions (in grams) per 100g of ingredient are given in the file `nutrition.csv`.\n",
    "\n",
    "Our goal is to determine the optimal mix of ingredients to satisfy the nutritional standards at minimal cost.\n",
    "\n",
    "## Problem formulation\n",
    "\n",
    "### Variables\n",
    "\n",
    "Let $0 \\le x_i \\le 1$ be the proportion of the 100g tin that we fill with ingredient $i$.\n",
    "\n",
    "\n",
    "### Constraints\n",
    "\n",
    "We must fill the can:\n",
    "\n",
    "$$ \\sum_i x_i = 1$$\n",
    "\n",
    "We must satisfy the lower and upper bounds, $L_r$ and $U_r$ respectively, of the nutritional requirement $r$ (where $d_{ir}$ is the contribution of ingredient $i$ to requirement $r$)\n",
    "\n",
    "$$ L_r \\le \\sum_i d_{ir} x_i \\le G_r $$ \n",
    "\n",
    "### Objective\n",
    "\n",
    "We want to minimize total cost:\n",
    "\n",
    "$$ \\min \\sum_{i} c_i x_i $$"
   ]
  },
  {
   "cell_type": "markdown",
   "metadata": {
    "deletable": true,
    "editable": true
   },
   "source": [
    "\n",
    "## Reading in the data\n",
    "\n",
    "The data for the problem has been given to us as two separate files, we'll need to read in and merge the data before we go further"
   ]
  },
  {
   "cell_type": "code",
   "execution_count": 1,
   "metadata": {
    "collapsed": false,
    "deletable": true,
    "editable": true
   },
   "outputs": [],
   "source": [
    "using DataFrames\n",
    "using DataFramesMeta"
   ]
  },
  {
   "cell_type": "code",
   "execution_count": 2,
   "metadata": {
    "collapsed": false,
    "deletable": true,
    "editable": true
   },
   "outputs": [
    {
     "data": {
      "text/html": [
       "<table class=\"data-frame\"><thead><tr><th></th><th>x1</th><th>x2</th></tr></thead><tbody><tr><th>1</th><td>Chicken</td><td>0.13</td></tr><tr><th>2</th><td>Beef</td><td>0.1</td></tr><tr><th>3</th><td>Mutton</td><td>0.1</td></tr><tr><th>4</th><td>Wheat</td><td>0.05</td></tr><tr><th>5</th><td>Rice</td><td>0.02</td></tr><tr><th>6</th><td>Gel</td><td>0.01</td></tr></tbody></table>"
      ],
      "text/plain": [
       "6×2 DataFrames.DataFrame\n",
       "│ Row │ x1        │ x2   │\n",
       "├─────┼───────────┼──────┤\n",
       "│ 1   │ \"Chicken\" │ 0.13 │\n",
       "│ 2   │ \"Beef\"    │ 0.1  │\n",
       "│ 3   │ \"Mutton\"  │ 0.1  │\n",
       "│ 4   │ \"Wheat\"   │ 0.05 │\n",
       "│ 5   │ \"Rice\"    │ 0.02 │\n",
       "│ 6   │ \"Gel\"     │ 0.01 │"
      ]
     },
     "execution_count": 2,
     "metadata": {},
     "output_type": "execute_result"
    }
   ],
   "source": [
    "cost = readtable(\"cost.csv\", header=false)"
   ]
  },
  {
   "cell_type": "code",
   "execution_count": 3,
   "metadata": {
    "collapsed": false,
    "deletable": true,
    "editable": true
   },
   "outputs": [
    {
     "data": {
      "text/html": [
       "<table class=\"data-frame\"><thead><tr><th></th><th>x1</th><th>x2</th><th>x3</th><th>x4</th><th>x5</th></tr></thead><tbody><tr><th>1</th><td>Chicken</td><td>10.0</td><td>6.0</td><td>0.1</td><td>0.2</td></tr><tr><th>2</th><td>Beef</td><td>20.0</td><td>12.0</td><td>0.4</td><td>0.5</td></tr><tr><th>3</th><td>Mutton</td><td>15.0</td><td>11.0</td><td>0.3</td><td>0.7</td></tr><tr><th>4</th><td>Rice</td><td>0.0</td><td>1.0</td><td>10.0</td><td>0.2</td></tr><tr><th>5</th><td>Wheat</td><td>4.0</td><td>1.0</td><td>15.0</td><td>0.8</td></tr><tr><th>6</th><td>Gel</td><td>0.0</td><td>0.0</td><td>0.0</td><td>0.0</td></tr></tbody></table>"
      ],
      "text/plain": [
       "6×5 DataFrames.DataFrame\n",
       "│ Row │ x1        │ x2   │ x3   │ x4   │ x5  │\n",
       "├─────┼───────────┼──────┼──────┼──────┼─────┤\n",
       "│ 1   │ \"Chicken\" │ 10.0 │ 6.0  │ 0.1  │ 0.2 │\n",
       "│ 2   │ \"Beef\"    │ 20.0 │ 12.0 │ 0.4  │ 0.5 │\n",
       "│ 3   │ \"Mutton\"  │ 15.0 │ 11.0 │ 0.3  │ 0.7 │\n",
       "│ 4   │ \"Rice\"    │ 0.0  │ 1.0  │ 10.0 │ 0.2 │\n",
       "│ 5   │ \"Wheat\"   │ 4.0  │ 1.0  │ 15.0 │ 0.8 │\n",
       "│ 6   │ \"Gel\"     │ 0.0  │ 0.0  │ 0.0  │ 0.0 │"
      ]
     },
     "execution_count": 3,
     "metadata": {},
     "output_type": "execute_result"
    }
   ],
   "source": [
    "nutrition = readtable(\"nutrition.csv\", header=false)"
   ]
  },
  {
   "cell_type": "markdown",
   "metadata": {
    "deletable": true,
    "editable": true
   },
   "source": [
    "Let's rename the columns to make it easier to work with"
   ]
  },
  {
   "cell_type": "code",
   "execution_count": 4,
   "metadata": {
    "collapsed": false,
    "deletable": true,
    "editable": true
   },
   "outputs": [
    {
     "data": {
      "text/html": [
       "<table class=\"data-frame\"><thead><tr><th></th><th>ingredient</th><th>protein</th><th>fat</th><th>fibre</th><th>salt</th></tr></thead><tbody><tr><th>1</th><td>Chicken</td><td>10.0</td><td>6.0</td><td>0.1</td><td>0.2</td></tr><tr><th>2</th><td>Beef</td><td>20.0</td><td>12.0</td><td>0.4</td><td>0.5</td></tr><tr><th>3</th><td>Mutton</td><td>15.0</td><td>11.0</td><td>0.3</td><td>0.7</td></tr><tr><th>4</th><td>Rice</td><td>0.0</td><td>1.0</td><td>10.0</td><td>0.2</td></tr><tr><th>5</th><td>Wheat</td><td>4.0</td><td>1.0</td><td>15.0</td><td>0.8</td></tr><tr><th>6</th><td>Gel</td><td>0.0</td><td>0.0</td><td>0.0</td><td>0.0</td></tr></tbody></table>"
      ],
      "text/plain": [
       "6×5 DataFrames.DataFrame\n",
       "│ Row │ ingredient │ protein │ fat  │ fibre │ salt │\n",
       "├─────┼────────────┼─────────┼──────┼───────┼──────┤\n",
       "│ 1   │ \"Chicken\"  │ 10.0    │ 6.0  │ 0.1   │ 0.2  │\n",
       "│ 2   │ \"Beef\"     │ 20.0    │ 12.0 │ 0.4   │ 0.5  │\n",
       "│ 3   │ \"Mutton\"   │ 15.0    │ 11.0 │ 0.3   │ 0.7  │\n",
       "│ 4   │ \"Rice\"     │ 0.0     │ 1.0  │ 10.0  │ 0.2  │\n",
       "│ 5   │ \"Wheat\"    │ 4.0     │ 1.0  │ 15.0  │ 0.8  │\n",
       "│ 6   │ \"Gel\"      │ 0.0     │ 0.0  │ 0.0   │ 0.0  │"
      ]
     },
     "execution_count": 4,
     "metadata": {},
     "output_type": "execute_result"
    }
   ],
   "source": [
    "names!(cost, [:ingredient, :cost])\n",
    "names!(nutrition, [:ingredient, :protein, :fat, :fibre, :salt])"
   ]
  },
  {
   "cell_type": "markdown",
   "metadata": {
    "deletable": true,
    "editable": true
   },
   "source": [
    "Now we need to combine the tables into a single DataFrame. If the rows were in the same order, we could just merge the tables directly:"
   ]
  },
  {
   "cell_type": "code",
   "execution_count": 5,
   "metadata": {
    "collapsed": false,
    "deletable": true,
    "editable": true
   },
   "outputs": [
    {
     "data": {
      "text/html": [
       "<table class=\"data-frame\"><thead><tr><th></th><th>ingredient</th><th>cost</th><th>protein</th><th>fat</th><th>fibre</th><th>salt</th></tr></thead><tbody><tr><th>1</th><td>Chicken</td><td>0.13</td><td>10.0</td><td>6.0</td><td>0.1</td><td>0.2</td></tr><tr><th>2</th><td>Beef</td><td>0.1</td><td>20.0</td><td>12.0</td><td>0.4</td><td>0.5</td></tr><tr><th>3</th><td>Mutton</td><td>0.1</td><td>15.0</td><td>11.0</td><td>0.3</td><td>0.7</td></tr><tr><th>4</th><td>Wheat</td><td>0.05</td><td>0.0</td><td>1.0</td><td>10.0</td><td>0.2</td></tr><tr><th>5</th><td>Rice</td><td>0.02</td><td>4.0</td><td>1.0</td><td>15.0</td><td>0.8</td></tr><tr><th>6</th><td>Gel</td><td>0.01</td><td>0.0</td><td>0.0</td><td>0.0</td><td>0.0</td></tr></tbody></table>"
      ],
      "text/plain": [
       "6×6 DataFrames.DataFrame\n",
       "│ Row │ ingredient │ cost │ protein │ fat  │ fibre │ salt │\n",
       "├─────┼────────────┼──────┼─────────┼──────┼───────┼──────┤\n",
       "│ 1   │ \"Chicken\"  │ 0.13 │ 10.0    │ 6.0  │ 0.1   │ 0.2  │\n",
       "│ 2   │ \"Beef\"     │ 0.1  │ 20.0    │ 12.0 │ 0.4   │ 0.5  │\n",
       "│ 3   │ \"Mutton\"   │ 0.1  │ 15.0    │ 11.0 │ 0.3   │ 0.7  │\n",
       "│ 4   │ \"Wheat\"    │ 0.05 │ 0.0     │ 1.0  │ 10.0  │ 0.2  │\n",
       "│ 5   │ \"Rice\"     │ 0.02 │ 4.0     │ 1.0  │ 15.0  │ 0.8  │\n",
       "│ 6   │ \"Gel\"      │ 0.01 │ 0.0     │ 0.0  │ 0.0   │ 0.0  │"
      ]
     },
     "execution_count": 5,
     "metadata": {},
     "output_type": "execute_result"
    }
   ],
   "source": [
    "data = [cost nutrition[2:end]]"
   ]
  },
  {
   "cell_type": "markdown",
   "metadata": {
    "deletable": true,
    "editable": true
   },
   "source": [
    "But in our case, the rows are in different orders in each table. We should  combine the tables by _joining_ them with the ingredient as the ID."
   ]
  },
  {
   "cell_type": "code",
   "execution_count": 6,
   "metadata": {
    "collapsed": false,
    "deletable": true,
    "editable": true
   },
   "outputs": [
    {
     "data": {
      "text/html": [
       "<table class=\"data-frame\"><thead><tr><th></th><th>ingredient</th><th>cost</th><th>protein</th><th>fat</th><th>fibre</th><th>salt</th></tr></thead><tbody><tr><th>1</th><td>Beef</td><td>0.1</td><td>20.0</td><td>12.0</td><td>0.4</td><td>0.5</td></tr><tr><th>2</th><td>Chicken</td><td>0.13</td><td>10.0</td><td>6.0</td><td>0.1</td><td>0.2</td></tr><tr><th>3</th><td>Gel</td><td>0.01</td><td>0.0</td><td>0.0</td><td>0.0</td><td>0.0</td></tr><tr><th>4</th><td>Mutton</td><td>0.1</td><td>15.0</td><td>11.0</td><td>0.3</td><td>0.7</td></tr><tr><th>5</th><td>Rice</td><td>0.02</td><td>0.0</td><td>1.0</td><td>10.0</td><td>0.2</td></tr><tr><th>6</th><td>Wheat</td><td>0.05</td><td>4.0</td><td>1.0</td><td>15.0</td><td>0.8</td></tr></tbody></table>"
      ],
      "text/plain": [
       "6×6 DataFrames.DataFrame\n",
       "│ Row │ ingredient │ cost │ protein │ fat  │ fibre │ salt │\n",
       "├─────┼────────────┼──────┼─────────┼──────┼───────┼──────┤\n",
       "│ 1   │ \"Beef\"     │ 0.1  │ 20.0    │ 12.0 │ 0.4   │ 0.5  │\n",
       "│ 2   │ \"Chicken\"  │ 0.13 │ 10.0    │ 6.0  │ 0.1   │ 0.2  │\n",
       "│ 3   │ \"Gel\"      │ 0.01 │ 0.0     │ 0.0  │ 0.0   │ 0.0  │\n",
       "│ 4   │ \"Mutton\"   │ 0.1  │ 15.0    │ 11.0 │ 0.3   │ 0.7  │\n",
       "│ 5   │ \"Rice\"     │ 0.02 │ 0.0     │ 1.0  │ 10.0  │ 0.2  │\n",
       "│ 6   │ \"Wheat\"    │ 0.05 │ 4.0     │ 1.0  │ 15.0  │ 0.8  │"
      ]
     },
     "execution_count": 6,
     "metadata": {},
     "output_type": "execute_result"
    }
   ],
   "source": [
    "data = join(cost, nutrition; on=:ingredient)"
   ]
  },
  {
   "cell_type": "markdown",
   "metadata": {
    "deletable": true,
    "editable": true
   },
   "source": [
    "We also need to encode the requirements"
   ]
  },
  {
   "cell_type": "code",
   "execution_count": 7,
   "metadata": {
    "collapsed": false,
    "deletable": true,
    "editable": true
   },
   "outputs": [
    {
     "name": "stdout",
     "output_type": "stream",
     "text": [
      "(requirements[:fat])[1] = 6\n",
      "(requirements[:salt])[2] = 0.4\n",
      "r = :fibre"
     ]
    }
   ],
   "source": [
    "requirements = Dict(\n",
    "    :protein => (8, Inf), \n",
    "    :fat     => (6, Inf),\n",
    "    :fibre   => (0, 2),\n",
    "    :salt    => (0, 0.4),\n",
    ")\n",
    "\n",
    "@show requirements[:fat][1]   # Lower limit on fat\n",
    "@show requirements[:salt][2]  # Upper limit on salt\n",
    "\n",
    "# Iterating over requirements\n",
    "for (r, bounds) in requirements\n",
    "    @show r\n",
    "    @show bounds\n",
    "end"
   ]
  },
  {
   "cell_type": "markdown",
   "metadata": {
    "deletable": true,
    "editable": true
   },
   "source": [
    "Great, now the data is together and correct!\n",
    "\n",
    "We can now code up our optimization model:"
   ]
  },
  {
   "cell_type": "code",
   "execution_count": 8,
   "metadata": {
    "collapsed": false,
    "deletable": true,
    "editable": true
   },
   "outputs": [
    {
     "data": {
      "text/plain": [
       "find_optimal_mix (generic function with 1 method)"
      ]
     },
     "execution_count": 8,
     "metadata": {},
     "output_type": "execute_result"
    }
   ],
   "source": [
    "using JuMP, Cbc\n",
    "function find_optimal_mix(data, requirements)\n",
    "    n = nrow(data)\n",
    "    \n",
    "    m = Model(solver=CbcSolver())\n",
    "    \n",
    "    @variable(m, x[1:n] >= 0)\n",
    "    \n",
    "    @objective(m, Min, sum(data[i, :cost] * x[i] for i = 1:n))\n",
    "    \n",
    "    for (r, bounds) in requirements\n",
    "         @constraint(m, bounds[1] <= sum(data[i, r] * x[i] for i = 1:n) <= bounds[2])\n",
    "    end\n",
    "\n",
    "    @constraint(m, sum(x) == 1)\n",
    "    \n",
    "    solve(m)\n",
    "    \n",
    "    getvalue(x)\n",
    "end"
   ]
  },
  {
   "cell_type": "markdown",
   "metadata": {
    "deletable": true,
    "editable": true
   },
   "source": [
    "Now we can solve it!"
   ]
  },
  {
   "cell_type": "code",
   "execution_count": 9,
   "metadata": {
    "collapsed": false,
    "deletable": true,
    "editable": true
   },
   "outputs": [
    {
     "data": {
      "text/html": [
       "<table class=\"data-frame\"><thead><tr><th></th><th>ingredient</th><th>mix</th></tr></thead><tbody><tr><th>1</th><td>Beef</td><td>0.49999999999999994</td></tr><tr><th>2</th><td>Chicken</td><td>0.0</td></tr><tr><th>3</th><td>Gel</td><td>0.5</td></tr><tr><th>4</th><td>Mutton</td><td>0.0</td></tr><tr><th>5</th><td>Rice</td><td>0.0</td></tr><tr><th>6</th><td>Wheat</td><td>0.0</td></tr></tbody></table>"
      ],
      "text/plain": [
       "6×2 DataFrames.DataFrame\n",
       "│ Row │ ingredient │ mix │\n",
       "├─────┼────────────┼─────┤\n",
       "│ 1   │ \"Beef\"     │ 0.5 │\n",
       "│ 2   │ \"Chicken\"  │ 0.0 │\n",
       "│ 3   │ \"Gel\"      │ 0.5 │\n",
       "│ 4   │ \"Mutton\"   │ 0.0 │\n",
       "│ 5   │ \"Rice\"     │ 0.0 │\n",
       "│ 6   │ \"Wheat\"    │ 0.0 │"
      ]
     },
     "execution_count": 9,
     "metadata": {},
     "output_type": "execute_result"
    }
   ],
   "source": [
    "mix = find_optimal_mix(data, requirements)\n",
    "\n",
    "optimal_mix = DataFrame(ingredient=data[:ingredient], mix=mix)"
   ]
  },
  {
   "cell_type": "markdown",
   "metadata": {
    "deletable": true,
    "editable": true
   },
   "source": [
    "## Exercise\n",
    "\n",
    "What's the cost of this mix?"
   ]
  },
  {
   "cell_type": "code",
   "execution_count": 10,
   "metadata": {
    "collapsed": false,
    "deletable": true,
    "editable": true
   },
   "outputs": [
    {
     "data": {
      "text/plain": [
       "0.05499999999999999"
      ]
     },
     "execution_count": 10,
     "metadata": {},
     "output_type": "execute_result"
    }
   ],
   "source": [
    "cost_data = join(data, optimal_mix; on=:ingredient)\n",
    "dot(cost_data[:cost], cost_data[:mix])"
   ]
  },
  {
   "cell_type": "markdown",
   "metadata": {
    "deletable": true,
    "editable": true
   },
   "source": [
    "How can we present the results?"
   ]
  },
  {
   "cell_type": "code",
   "execution_count": 11,
   "metadata": {
    "collapsed": false,
    "deletable": true,
    "editable": true
   },
   "outputs": [
    {
     "data": {
      "text/html": [
       "<img src=\"data:image/png;base64,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\" />"
      ]
     },
     "execution_count": 11,
     "metadata": {},
     "output_type": "execute_result"
    }
   ],
   "source": [
    "using StatPlots\n",
    "pyplot()\n",
    "bar(optimal_mix, :ingredient, :mix)"
   ]
  },
  {
   "cell_type": "markdown",
   "metadata": {
    "deletable": true,
    "editable": true
   },
   "source": [
    "It's probably not reasonable that half of the food is just filler! Now let's suppose that Whiskas has a rule that only 30% of the contents can be gel. Modify the model and get the new optimal mix. How does it compare to the original solution?"
   ]
  },
  {
   "cell_type": "code",
   "execution_count": 12,
   "metadata": {
    "collapsed": false,
    "deletable": true,
    "editable": true
   },
   "outputs": [
    {
     "data": {
      "text/html": [
       "<table class=\"data-frame\"><thead><tr><th></th><th>ingredient</th><th>mix</th></tr></thead><tbody><tr><th>1</th><td>Beef</td><td>0.13177570093457772</td></tr><tr><th>2</th><td>Chicken</td><td>0.0</td></tr><tr><th>3</th><td>Gel</td><td>0.3</td></tr><tr><th>4</th><td>Mutton</td><td>0.38504672897196446</td></tr><tr><th>5</th><td>Rice</td><td>0.18317757009345795</td></tr><tr><th>6</th><td>Wheat</td><td>0.0</td></tr></tbody></table>"
      ],
      "text/plain": [
       "6×2 DataFrames.DataFrame\n",
       "│ Row │ ingredient │ mix      │\n",
       "├─────┼────────────┼──────────┤\n",
       "│ 1   │ \"Beef\"     │ 0.131776 │\n",
       "│ 2   │ \"Chicken\"  │ 0.0      │\n",
       "│ 3   │ \"Gel\"      │ 0.3      │\n",
       "│ 4   │ \"Mutton\"   │ 0.385047 │\n",
       "│ 5   │ \"Rice\"     │ 0.183178 │\n",
       "│ 6   │ \"Wheat\"    │ 0.0      │"
      ]
     },
     "execution_count": 12,
     "metadata": {},
     "output_type": "execute_result"
    }
   ],
   "source": [
    "function find_optimal_mix2(data, requirements)\n",
    "    n = nrow(data)\n",
    "    \n",
    "    m = Model(solver=CbcSolver())\n",
    "    \n",
    "    @variable(m, x[1:n] >= 0)\n",
    "    \n",
    "    @objective(m, Min, sum(data[i, :cost] * x[i] for i = 1:n))\n",
    "    \n",
    "    for (r, bounds) in requirements\n",
    "         @constraint(m, bounds[1] <= sum(data[i, r] * x[i] for i = 1:n) <= bounds[2])\n",
    "    end\n",
    "\n",
    "    @constraint(m, sum(x) == 1)\n",
    "    \n",
    "    @constraint(m, x[data[:ingredient] .== \"Gel\"] .<= 0.3)\n",
    "    \n",
    "    solve(m)\n",
    "    \n",
    "    getvalue(x)\n",
    "end\n",
    "mix2 = find_optimal_mix2(data, requirements)\n",
    "\n",
    "optimal_mix2 = DataFrame(ingredient=data[:ingredient], mix=mix2)\n",
    "\n"
   ]
  },
  {
   "cell_type": "code",
   "execution_count": 13,
   "metadata": {
    "collapsed": false
   },
   "outputs": [
    {
     "data": {
      "text/plain": [
       "0.058345794392523374"
      ]
     },
     "execution_count": 13,
     "metadata": {},
     "output_type": "execute_result"
    }
   ],
   "source": [
    "cost_data2 = join(data, optimal_mix2; on=:ingredient)\n",
    "dot(cost_data2[:cost], cost_data2[:mix])"
   ]
  },
  {
   "cell_type": "code",
   "execution_count": 14,
   "metadata": {
    "collapsed": false
   },
   "outputs": [
    {
     "data": {
      "text/html": [
       "<img src=\"data:image/png;base64,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\" />"
      ]
     },
     "execution_count": 14,
     "metadata": {},
     "output_type": "execute_result"
    }
   ],
   "source": [
    "bar(optimal_mix2[:ingredient], optimal_mix2[:mix])"
   ]
  },
  {
   "cell_type": "code",
   "execution_count": null,
   "metadata": {
    "collapsed": true
   },
   "outputs": [],
   "source": []
  }
 ],
 "metadata": {
  "kernelspec": {
   "display_name": "Julia 0.6.0",
   "language": "julia",
   "name": "julia-0.6"
  },
  "language_info": {
   "file_extension": ".jl",
   "mimetype": "application/julia",
   "name": "julia",
   "version": "0.6.0"
  }
 },
 "nbformat": 4,
 "nbformat_minor": 2
}
