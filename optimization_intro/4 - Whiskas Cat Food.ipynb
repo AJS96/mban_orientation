{
 "cells": [
  {
   "cell_type": "markdown",
   "metadata": {
    "collapsed": true,
    "deletable": true,
    "editable": true
   },
   "source": [
    "# Whiskas Cat Food\n",
    "\n",
    "_Adapted from [material](https://twiki.esc.auckland.ac.nz/bin/view/OpsRes/WhiskasCatFoodProblem) by Dept. of Engineering Science, University of Auckland_\n",
    "\n",
    "![](https://i.imgur.com/MlQqMz2.png)\n",
    "\n",
    "Whiskas cat food is manufactured by Uncle Ben's. Uncle Ben's want to produce their cat food products as cheaply as possible while ensuring they meet the stated nutritional analysis requirements shown on the cans: \n",
    "\n",
    "![](https://i.imgur.com/dC2JgQV.jpg)\n",
    "\n",
    "![](https://i.imgur.com/c3Xm7oI.jpg)\n",
    "\n",
    "Thus they want to vary the quantities of each ingredient used (the main ingredients being chicken, beef, mutton, rice, wheat and gel) while still meeting their nutritional standards:\n",
    "\n",
    "![](https://i.imgur.com/ox0gqH2.jpg)\n",
    "\n",
    "The costs of the chicken, beef, and mutton are provided in the file `cost.csv`. (All costs are per 100g.) In this case study, we will ignore the vitamin and mineral ingredients. (Any costs for these are likely to be very small anyway.)\n",
    "\n",
    "Each ingredient contributes to the total weight of protein, fat, fibre and salt in the final product. The contributions (in grams) per 100g of ingredient are given in the file `nutrition.csv`.\n",
    "\n",
    "Our goal is to determine the optimal mix of ingredients to satisfy the nutritional standards at minimal cost.\n",
    "\n",
    "## Problem formulation\n",
    "\n",
    "### Variables\n",
    "\n",
    "...\n",
    "\n",
    "\n",
    "### Constraints\n",
    "\n",
    "...\n",
    "\n",
    "### Objective\n",
    "\n",
    "...\n"
   ]
  },
  {
   "cell_type": "markdown",
   "metadata": {
    "deletable": true,
    "editable": true
   },
   "source": [
    "\n",
    "## Reading in the data\n",
    "\n",
    "The data for the problem has been given to us as two separate files, we'll need to read in and merge the data before we go further"
   ]
  },
  {
   "cell_type": "code",
   "execution_count": 23,
   "metadata": {
    "collapsed": false,
    "deletable": true,
    "editable": true
   },
   "outputs": [],
   "source": [
    "using DataFrames\n",
    "using DataFramesMeta"
   ]
  },
  {
   "cell_type": "code",
   "execution_count": 25,
   "metadata": {
    "collapsed": false,
    "deletable": true,
    "editable": true
   },
   "outputs": [
    {
     "data": {
      "text/html": [
       "<table class=\"data-frame\"><thead><tr><th></th><th>x1</th><th>x2</th></tr></thead><tbody><tr><th>1</th><td>Chicken</td><td>0.13</td></tr><tr><th>2</th><td>Beef</td><td>0.1</td></tr><tr><th>3</th><td>Mutton</td><td>0.1</td></tr><tr><th>4</th><td>Wheat</td><td>0.05</td></tr><tr><th>5</th><td>Rice</td><td>0.02</td></tr><tr><th>6</th><td>Gel</td><td>0.01</td></tr></tbody></table>"
      ],
      "text/plain": [
       "6×2 DataFrames.DataFrame\n",
       "│ Row │ x1        │ x2   │\n",
       "├─────┼───────────┼──────┤\n",
       "│ 1   │ \"Chicken\" │ 0.13 │\n",
       "│ 2   │ \"Beef\"    │ 0.1  │\n",
       "│ 3   │ \"Mutton\"  │ 0.1  │\n",
       "│ 4   │ \"Wheat\"   │ 0.05 │\n",
       "│ 5   │ \"Rice\"    │ 0.02 │\n",
       "│ 6   │ \"Gel\"     │ 0.01 │"
      ]
     },
     "execution_count": 25,
     "metadata": {},
     "output_type": "execute_result"
    }
   ],
   "source": [
    "cost = readtable(\"cost.csv\", header=false)"
   ]
  },
  {
   "cell_type": "code",
   "execution_count": 26,
   "metadata": {
    "collapsed": false,
    "deletable": true,
    "editable": true
   },
   "outputs": [
    {
     "data": {
      "text/html": [
       "<table class=\"data-frame\"><thead><tr><th></th><th>x1</th><th>x2</th><th>x3</th><th>x4</th><th>x5</th></tr></thead><tbody><tr><th>1</th><td>Chicken</td><td>10.0</td><td>6.0</td><td>0.1</td><td>0.2</td></tr><tr><th>2</th><td>Beef</td><td>20.0</td><td>12.0</td><td>0.4</td><td>0.5</td></tr><tr><th>3</th><td>Mutton</td><td>15.0</td><td>11.0</td><td>0.3</td><td>0.7</td></tr><tr><th>4</th><td>Rice</td><td>0.0</td><td>1.0</td><td>10.0</td><td>0.2</td></tr><tr><th>5</th><td>Wheat</td><td>4.0</td><td>1.0</td><td>15.0</td><td>0.8</td></tr><tr><th>6</th><td>Gel</td><td>0.0</td><td>0.0</td><td>0.0</td><td>0.0</td></tr></tbody></table>"
      ],
      "text/plain": [
       "6×5 DataFrames.DataFrame\n",
       "│ Row │ x1        │ x2   │ x3   │ x4   │ x5  │\n",
       "├─────┼───────────┼──────┼──────┼──────┼─────┤\n",
       "│ 1   │ \"Chicken\" │ 10.0 │ 6.0  │ 0.1  │ 0.2 │\n",
       "│ 2   │ \"Beef\"    │ 20.0 │ 12.0 │ 0.4  │ 0.5 │\n",
       "│ 3   │ \"Mutton\"  │ 15.0 │ 11.0 │ 0.3  │ 0.7 │\n",
       "│ 4   │ \"Rice\"    │ 0.0  │ 1.0  │ 10.0 │ 0.2 │\n",
       "│ 5   │ \"Wheat\"   │ 4.0  │ 1.0  │ 15.0 │ 0.8 │\n",
       "│ 6   │ \"Gel\"     │ 0.0  │ 0.0  │ 0.0  │ 0.0 │"
      ]
     },
     "execution_count": 26,
     "metadata": {},
     "output_type": "execute_result"
    }
   ],
   "source": [
    "nutrition = readtable(\"nutrition.csv\", header=false)"
   ]
  },
  {
   "cell_type": "markdown",
   "metadata": {
    "deletable": true,
    "editable": true
   },
   "source": [
    "Let's rename the columns to make it easier to work with"
   ]
  },
  {
   "cell_type": "code",
   "execution_count": 27,
   "metadata": {
    "collapsed": false,
    "deletable": true,
    "editable": true
   },
   "outputs": [
    {
     "data": {
      "text/html": [
       "<table class=\"data-frame\"><thead><tr><th></th><th>ingredient</th><th>protein</th><th>fat</th><th>fibre</th><th>salt</th></tr></thead><tbody><tr><th>1</th><td>Chicken</td><td>10.0</td><td>6.0</td><td>0.1</td><td>0.2</td></tr><tr><th>2</th><td>Beef</td><td>20.0</td><td>12.0</td><td>0.4</td><td>0.5</td></tr><tr><th>3</th><td>Mutton</td><td>15.0</td><td>11.0</td><td>0.3</td><td>0.7</td></tr><tr><th>4</th><td>Rice</td><td>0.0</td><td>1.0</td><td>10.0</td><td>0.2</td></tr><tr><th>5</th><td>Wheat</td><td>4.0</td><td>1.0</td><td>15.0</td><td>0.8</td></tr><tr><th>6</th><td>Gel</td><td>0.0</td><td>0.0</td><td>0.0</td><td>0.0</td></tr></tbody></table>"
      ],
      "text/plain": [
       "6×5 DataFrames.DataFrame\n",
       "│ Row │ ingredient │ protein │ fat  │ fibre │ salt │\n",
       "├─────┼────────────┼─────────┼──────┼───────┼──────┤\n",
       "│ 1   │ \"Chicken\"  │ 10.0    │ 6.0  │ 0.1   │ 0.2  │\n",
       "│ 2   │ \"Beef\"     │ 20.0    │ 12.0 │ 0.4   │ 0.5  │\n",
       "│ 3   │ \"Mutton\"   │ 15.0    │ 11.0 │ 0.3   │ 0.7  │\n",
       "│ 4   │ \"Rice\"     │ 0.0     │ 1.0  │ 10.0  │ 0.2  │\n",
       "│ 5   │ \"Wheat\"    │ 4.0     │ 1.0  │ 15.0  │ 0.8  │\n",
       "│ 6   │ \"Gel\"      │ 0.0     │ 0.0  │ 0.0   │ 0.0  │"
      ]
     },
     "execution_count": 27,
     "metadata": {},
     "output_type": "execute_result"
    }
   ],
   "source": [
    "names!(cost, [:ingredient, :cost])\n",
    "names!(nutrition, [:ingredient, :protein, :fat, :fibre, :salt])"
   ]
  },
  {
   "cell_type": "markdown",
   "metadata": {
    "deletable": true,
    "editable": true
   },
   "source": [
    "Now we need to combine the tables into a single DataFrame. If the rows were in the same order, we could just merge the tables directly:"
   ]
  },
  {
   "cell_type": "code",
   "execution_count": 28,
   "metadata": {
    "collapsed": false,
    "deletable": true,
    "editable": true
   },
   "outputs": [
    {
     "data": {
      "text/html": [
       "<table class=\"data-frame\"><thead><tr><th></th><th>ingredient</th><th>cost</th><th>protein</th><th>fat</th><th>fibre</th><th>salt</th></tr></thead><tbody><tr><th>1</th><td>Chicken</td><td>0.13</td><td>10.0</td><td>6.0</td><td>0.1</td><td>0.2</td></tr><tr><th>2</th><td>Beef</td><td>0.1</td><td>20.0</td><td>12.0</td><td>0.4</td><td>0.5</td></tr><tr><th>3</th><td>Mutton</td><td>0.1</td><td>15.0</td><td>11.0</td><td>0.3</td><td>0.7</td></tr><tr><th>4</th><td>Wheat</td><td>0.05</td><td>0.0</td><td>1.0</td><td>10.0</td><td>0.2</td></tr><tr><th>5</th><td>Rice</td><td>0.02</td><td>4.0</td><td>1.0</td><td>15.0</td><td>0.8</td></tr><tr><th>6</th><td>Gel</td><td>0.01</td><td>0.0</td><td>0.0</td><td>0.0</td><td>0.0</td></tr></tbody></table>"
      ],
      "text/plain": [
       "6×6 DataFrames.DataFrame\n",
       "│ Row │ ingredient │ cost │ protein │ fat  │ fibre │ salt │\n",
       "├─────┼────────────┼──────┼─────────┼──────┼───────┼──────┤\n",
       "│ 1   │ \"Chicken\"  │ 0.13 │ 10.0    │ 6.0  │ 0.1   │ 0.2  │\n",
       "│ 2   │ \"Beef\"     │ 0.1  │ 20.0    │ 12.0 │ 0.4   │ 0.5  │\n",
       "│ 3   │ \"Mutton\"   │ 0.1  │ 15.0    │ 11.0 │ 0.3   │ 0.7  │\n",
       "│ 4   │ \"Wheat\"    │ 0.05 │ 0.0     │ 1.0  │ 10.0  │ 0.2  │\n",
       "│ 5   │ \"Rice\"     │ 0.02 │ 4.0     │ 1.0  │ 15.0  │ 0.8  │\n",
       "│ 6   │ \"Gel\"      │ 0.01 │ 0.0     │ 0.0  │ 0.0   │ 0.0  │"
      ]
     },
     "execution_count": 28,
     "metadata": {},
     "output_type": "execute_result"
    }
   ],
   "source": [
    "data = [cost nutrition[2:end]]"
   ]
  },
  {
   "cell_type": "markdown",
   "metadata": {
    "deletable": true,
    "editable": true
   },
   "source": [
    "But in our case, the rows are in different orders in each table. We should  combine the tables by _joining_ them with the ingredient as the ID."
   ]
  },
  {
   "cell_type": "code",
   "execution_count": 29,
   "metadata": {
    "collapsed": false,
    "deletable": true,
    "editable": true
   },
   "outputs": [
    {
     "data": {
      "text/html": [
       "<table class=\"data-frame\"><thead><tr><th></th><th>ingredient</th><th>cost</th><th>protein</th><th>fat</th><th>fibre</th><th>salt</th></tr></thead><tbody><tr><th>1</th><td>Beef</td><td>0.1</td><td>20.0</td><td>12.0</td><td>0.4</td><td>0.5</td></tr><tr><th>2</th><td>Chicken</td><td>0.13</td><td>10.0</td><td>6.0</td><td>0.1</td><td>0.2</td></tr><tr><th>3</th><td>Gel</td><td>0.01</td><td>0.0</td><td>0.0</td><td>0.0</td><td>0.0</td></tr><tr><th>4</th><td>Mutton</td><td>0.1</td><td>15.0</td><td>11.0</td><td>0.3</td><td>0.7</td></tr><tr><th>5</th><td>Rice</td><td>0.02</td><td>0.0</td><td>1.0</td><td>10.0</td><td>0.2</td></tr><tr><th>6</th><td>Wheat</td><td>0.05</td><td>4.0</td><td>1.0</td><td>15.0</td><td>0.8</td></tr></tbody></table>"
      ],
      "text/plain": [
       "6×6 DataFrames.DataFrame\n",
       "│ Row │ ingredient │ cost │ protein │ fat  │ fibre │ salt │\n",
       "├─────┼────────────┼──────┼─────────┼──────┼───────┼──────┤\n",
       "│ 1   │ \"Beef\"     │ 0.1  │ 20.0    │ 12.0 │ 0.4   │ 0.5  │\n",
       "│ 2   │ \"Chicken\"  │ 0.13 │ 10.0    │ 6.0  │ 0.1   │ 0.2  │\n",
       "│ 3   │ \"Gel\"      │ 0.01 │ 0.0     │ 0.0  │ 0.0   │ 0.0  │\n",
       "│ 4   │ \"Mutton\"   │ 0.1  │ 15.0    │ 11.0 │ 0.3   │ 0.7  │\n",
       "│ 5   │ \"Rice\"     │ 0.02 │ 0.0     │ 1.0  │ 10.0  │ 0.2  │\n",
       "│ 6   │ \"Wheat\"    │ 0.05 │ 4.0     │ 1.0  │ 15.0  │ 0.8  │"
      ]
     },
     "execution_count": 29,
     "metadata": {},
     "output_type": "execute_result"
    }
   ],
   "source": [
    "data = join(cost, nutrition; on=:ingredient)"
   ]
  },
  {
   "cell_type": "markdown",
   "metadata": {},
   "source": [
    "We also need to encode the requirements"
   ]
  },
  {
   "cell_type": "code",
   "execution_count": 50,
   "metadata": {
    "collapsed": false
   },
   "outputs": [
    {
     "name": "stdout",
     "output_type": "stream",
     "text": [
      "(requirements[:fat])[1] = 6\n",
      "(requirements[:salt])[2] = 0.4\n",
      "r = :fibre\n",
      "bounds = (0, 2)\n",
      "r = :fat\n",
      "bounds = (6, Inf)\n",
      "r = :protein\n",
      "bounds = (8, Inf)\n",
      "r = :salt\n",
      "bounds = (0, 0.4)\n"
     ]
    }
   ],
   "source": [
    "requirements = Dict(\n",
    "    :protein => (8, Inf), \n",
    "    :fat     => (6, Inf),\n",
    "    :fibre   => (0, 2),\n",
    "    :salt    => (0, 0.4),\n",
    ")\n",
    "\n",
    "@show requirements[:fat][1]   # Lower limit on fat\n",
    "@show requirements[:salt][2]  # Upper limit on salt\n",
    "\n",
    "# Iterating over requirements\n",
    "for (r, bounds) in requirements\n",
    "    @show r\n",
    "    @show bounds\n",
    "end"
   ]
  },
  {
   "cell_type": "markdown",
   "metadata": {
    "deletable": true,
    "editable": true
   },
   "source": [
    "Great, now the data is together and correct!\n",
    "\n",
    "We can now code up our optimization model:"
   ]
  },
  {
   "cell_type": "code",
   "execution_count": 48,
   "metadata": {
    "collapsed": false
   },
   "outputs": [
    {
     "data": {
      "text/plain": [
       "find_optimal_mix (generic function with 2 methods)"
      ]
     },
     "execution_count": 48,
     "metadata": {},
     "output_type": "execute_result"
    }
   ],
   "source": [
    "using JuMP, Cbc\n",
    "function find_optimal_mix(data, requirements)\n",
    "    n = nrow(data)\n",
    "    \n",
    "    m = Model(solver=CbcSolver())\n",
    "    \n",
    "    @variable(m, x[1:n] >= 0)\n",
    "    \n",
    "    @objective(m, Min, sum(data[i, :cost] * x[i] for i = 1:n))\n",
    "    \n",
    "    for (r, bounds) in requirements\n",
    "         @constraint(m, bounds[1] <= sum(data[i, r] * x[i] for i = 1:n) <= bounds[2])\n",
    "    end\n",
    "\n",
    "    @constraint(m, sum(x) == 1)\n",
    "    \n",
    "    solve(m)\n",
    "    \n",
    "    getvalue(x)\n",
    "end"
   ]
  },
  {
   "cell_type": "markdown",
   "metadata": {},
   "source": [
    "Now we can solve it!"
   ]
  },
  {
   "cell_type": "code",
   "execution_count": 47,
   "metadata": {
    "collapsed": false,
    "deletable": true,
    "editable": true
   },
   "outputs": [
    {
     "name": "stdout",
     "output_type": "stream",
     "text": [
      "requirements = Dict{Symbol,Any}(Pair{Symbol,Any}(:fibre, (0, 2)),Pair{Symbol,Any}(:fat, (6, Inf)),Pair{Symbol,Any}(:protein, (8, Inf)),Pair{Symbol,Any}(:salt, (0, 0.4)))\n"
     ]
    },
    {
     "data": {
      "text/html": [
       "<table class=\"data-frame\"><thead><tr><th></th><th>ingredient</th><th>mix</th></tr></thead><tbody><tr><th>1</th><td>Beef</td><td>0.49999999999999994</td></tr><tr><th>2</th><td>Chicken</td><td>0.0</td></tr><tr><th>3</th><td>Gel</td><td>0.5</td></tr><tr><th>4</th><td>Mutton</td><td>0.0</td></tr><tr><th>5</th><td>Rice</td><td>0.0</td></tr><tr><th>6</th><td>Wheat</td><td>0.0</td></tr></tbody></table>"
      ],
      "text/plain": [
       "6×2 DataFrames.DataFrame\n",
       "│ Row │ ingredient │ mix │\n",
       "├─────┼────────────┼─────┤\n",
       "│ 1   │ \"Beef\"     │ 0.5 │\n",
       "│ 2   │ \"Chicken\"  │ 0.0 │\n",
       "│ 3   │ \"Gel\"      │ 0.5 │\n",
       "│ 4   │ \"Mutton\"   │ 0.0 │\n",
       "│ 5   │ \"Rice\"     │ 0.0 │\n",
       "│ 6   │ \"Wheat\"    │ 0.0 │"
      ]
     },
     "execution_count": 47,
     "metadata": {},
     "output_type": "execute_result"
    }
   ],
   "source": [
    "mix = find_optimal_mix(data, requirements)\n",
    "\n",
    "optimal_mix = DataFrame(ingredient=data[:ingredient], mix=mix)"
   ]
  },
  {
   "cell_type": "markdown",
   "metadata": {
    "deletable": true,
    "editable": true
   },
   "source": [
    "## Exercise\n",
    "\n",
    "What's the cost of this mix?"
   ]
  },
  {
   "cell_type": "code",
   "execution_count": null,
   "metadata": {
    "collapsed": false,
    "deletable": true,
    "editable": true
   },
   "outputs": [],
   "source": []
  },
  {
   "cell_type": "markdown",
   "metadata": {},
   "source": [
    "How can we present the results?"
   ]
  },
  {
   "cell_type": "code",
   "execution_count": null,
   "metadata": {
    "collapsed": false,
    "deletable": true,
    "editable": true
   },
   "outputs": [],
   "source": []
  },
  {
   "cell_type": "markdown",
   "metadata": {
    "deletable": true,
    "editable": true
   },
   "source": [
    "It's probably not reasonable that half of the food is just filler! Now let's suppose that Whiskas has a rule that only 30% of the contents can be gel. Modify the model and get the new optimal mix. How does it compare to the original solution?"
   ]
  },
  {
   "cell_type": "code",
   "execution_count": null,
   "metadata": {
    "collapsed": true,
    "deletable": true,
    "editable": true
   },
   "outputs": [],
   "source": []
  }
 ],
 "metadata": {
  "kernelspec": {
   "display_name": "Julia 0.6.0",
   "language": "julia",
   "name": "julia-0.6"
  },
  "language_info": {
   "file_extension": ".jl",
   "mimetype": "application/julia",
   "name": "julia",
   "version": "0.6.0"
  }
 },
 "nbformat": 4,
 "nbformat_minor": 2
}
