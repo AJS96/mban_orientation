{
 "cells": [
  {
   "cell_type": "markdown",
   "metadata": {
    "deletable": true,
    "editable": true
   },
   "source": [
    "## Sudoku\n",
    "\n",
    "![Sudoku](http://upload.wikimedia.org/wikipedia/commons/f/ff/Sudoku-by-L2G-20050714.svg)\n",
    "\n",
    "**Sudoku** is a number puzzle played on a 9x9 grid. The challenge is to place a digit between 1 and 9 inclusive in each empty cell, such that the completed grid obeys the following rules:\n",
    "\n",
    "* Each row contains the numbers 1 to 9 once and only once.\n",
    "* Each column contains the numbers 1 to 9 once and only once.\n",
    "* Each 3x3 subgrid contains the numbers 1 to 9 once and only once.\n",
    "\n",
    "The most natural formulation of this problem would probably be something like\n",
    "\n",
    "$$x_{i,j} \\in \\{1, 2, \\dots, 9\\}$$\n",
    "\n",
    "which is of course something we can do with integer programming:\n",
    "\n",
    "$$1 \\leq x_{i,j} \\leq 9, ~ integer$$\n",
    "\n",
    "The challenge now is the constraints. One observation is that the numbers 1 to 9 add up to 45, so we could try something like:\n",
    "\n",
    "$$ \\sum_{j=1}^9 x_{i,j} = 45 $$\n",
    "\n",
    "And something similar for the columns and squares."
   ]
  },
  {
   "cell_type": "code",
   "execution_count": null,
   "metadata": {
    "collapsed": false,
    "deletable": true,
    "editable": true
   },
   "outputs": [],
   "source": [
    "init_vals = [\n",
    "5 3 0 0 7 0 0 0 0\n",
    "6 0 0 1 9 5 0 0 0\n",
    "0 9 8 0 0 0 0 6 0\n",
    "8 0 0 0 6 0 0 0 3\n",
    "4 0 0 8 0 3 0 0 1\n",
    "7 0 0 0 2 0 0 0 6\n",
    "0 6 0 0 0 0 2 8 0\n",
    "0 0 0 4 1 9 0 0 5\n",
    "0 0 0 0 8 0 0 7 9\n",
    "]\n",
    "\n",
    "using JuMP, Gurobi\n",
    "function sudoku1()\n",
    "    sudoku = Model(solver=GurobiSolver(OutputFlag=0))\n",
    "    @variable(sudoku, 1 <= x[1:9,1:9] <= 9, Int)\n",
    "    @constraint(sudoku, rows[i=1:9], sum(x[i,:]) == 45)\n",
    "    @constraint(sudoku, cols[j=1:9], sum(x[:,j]) == 45)\n",
    "    @constraint(sudoku,subgrid[i=1:3:7,j=1:3:7], sum(x[i:i+2,j:j+2]) == 45)\n",
    "    for i in 1:9, j in 1:9\n",
    "        if init_vals[i,j] != 0\n",
    "            @constraint(sudoku, x[i,j] == init_vals[i,j])\n",
    "        end\n",
    "    end\n",
    "    \n",
    "    solve(sudoku)\n",
    "    \n",
    "    Int.(getvalue(x))\n",
    "end\n",
    "grid1 = sudoku1()"
   ]
  },
  {
   "cell_type": "markdown",
   "metadata": {
    "deletable": true,
    "editable": true
   },
   "source": [
    "Well that didn't work. Our model can't have been correct. This shows the importance of validating the output from an optimization model to make sure it makes sense and actually reflects the problem you are trying to solve.\n",
    "\n",
    "## Exercise\n",
    "\n",
    "Let's write a function to validate any sudoku solution and check if it is valid:"
   ]
  },
  {
   "cell_type": "code",
   "execution_count": null,
   "metadata": {
    "collapsed": false,
    "deletable": true,
    "editable": true
   },
   "outputs": [],
   "source": [
    "function check_sudoku(grid)\n",
    "    # TODO: Your code here\n",
    "end    "
   ]
  },
  {
   "cell_type": "markdown",
   "metadata": {
    "deletable": true,
    "editable": true
   },
   "source": [
    "Let's try it out:"
   ]
  },
  {
   "cell_type": "code",
   "execution_count": null,
   "metadata": {
    "collapsed": false,
    "deletable": true,
    "editable": true
   },
   "outputs": [],
   "source": [
    "check_sudoku(grid1)"
   ]
  },
  {
   "cell_type": "markdown",
   "metadata": {
    "deletable": true,
    "editable": true
   },
   "source": [
    "## New formulation\n",
    "\n",
    "Let's fix our formulation so it is correct. We can change our **variables**: $x_{i,j,k} = 1$ iff the number $k$ will appear in cell $(i,j)$. We can now use our 0-1 integer programming knowledge to model the problem. Consider the \"row\" constraints: we want each number to appear once and only once. This is equivalent to saying that\n",
    "\n",
    "$$\\sum_{j=1}^9 x_{i,j,k} = 1 \\quad \\forall i, k$$\n",
    "\n",
    "We can now model this as a $9\\times 9\\times 9$ dimensional problem - thats a lot of binary variables, surely Gurobi won't like that!"
   ]
  },
  {
   "cell_type": "code",
   "execution_count": null,
   "metadata": {
    "collapsed": false,
    "deletable": true,
    "editable": true
   },
   "outputs": [],
   "source": [
    "function sudoku2()\n",
    "    sudoku = Model(solver=GurobiSolver())\n",
    "\n",
    "    @variable(sudoku, x[i=1:9, j=1:9, k=1:9], Bin)\n",
    "\n",
    "    @constraints(sudoku, begin\n",
    "        # TODO: Add constraints here...\n",
    "    end)\n",
    "\n",
    "    # TODO: Set initial solution here...\n",
    "    \n",
    "    solve(sudoku)\n",
    "    \n",
    "    getvalue(x)\n",
    "end\n",
    "grid2 = sudoku2()"
   ]
  },
  {
   "cell_type": "markdown",
   "metadata": {
    "collapsed": true,
    "deletable": true,
    "editable": true
   },
   "source": [
    "We can check if this is a valid solution, but we have to change it into the grid format first!"
   ]
  },
  {
   "cell_type": "code",
   "execution_count": null,
   "metadata": {
    "collapsed": false,
    "deletable": true,
    "editable": true
   },
   "outputs": [],
   "source": [
    "grid2a = zeros(Int, 9, 9)\n",
    "for i = 1:9\n",
    "    for j = 1:9\n",
    "        grid2a[i, j] = findfirst(grid2[i, j, :])\n",
    "    end\n",
    "end\n",
    "grid2a"
   ]
  },
  {
   "cell_type": "code",
   "execution_count": null,
   "metadata": {
    "collapsed": false,
    "deletable": true,
    "editable": true
   },
   "outputs": [],
   "source": [
    "check_sudoku(grid2a)"
   ]
  },
  {
   "cell_type": "markdown",
   "metadata": {
    "deletable": true,
    "editable": true
   },
   "source": [
    "It works!"
   ]
  }
 ],
 "metadata": {
  "kernelspec": {
   "display_name": "Julia 0.6.4",
   "language": "julia",
   "name": "julia-0.6"
  },
  "language_info": {
   "file_extension": ".jl",
   "mimetype": "application/julia",
   "name": "julia",
   "version": "0.6.4"
  }
 },
 "nbformat": 4,
 "nbformat_minor": 0
}
