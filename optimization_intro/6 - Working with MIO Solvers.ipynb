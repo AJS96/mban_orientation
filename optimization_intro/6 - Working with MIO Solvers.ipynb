{
 "cells": [
  {
   "cell_type": "markdown",
   "metadata": {
    "deletable": true,
    "editable": true
   },
   "source": [
    "# Working with MIO Solvers\n",
    "\n",
    "Consider the simple knapsack problem. Iain wants to carry items to the pawn shop to get some extra cash. He has $N$ items, each with a weight $w_i$ and a price $p_i$. Iain hasn't been to the gym lately, so he can only carry $C$ kilos. How does he choose what to bring with him?\n",
    "\n",
    "We can model this as an integer optimization problem:\n",
    "\n",
    "\\begin{align*}\n",
    "\\max& \\sum_{i=1}^N p_i x_i \\\\\n",
    "\\text{s.t.}& \\sum_{i=1}^N w_i x_i \\leq C \\\\\n",
    "& x_i \\in \\{0,1\\} \\quad \\forall i = 1,\\ldots,N\n",
    "\\end{align*}\n",
    "\n",
    "How would you solve this? The simple way is just to consider each possible value for $x$ and compare the cost. After Iain has weighed all $2^N$ possible collections of items (and verified that he can lift them at once), he just chooses the best set. If $N$ is large though, this could take a while (or even forever!)\n",
    "\n",
    "A mixed-integer solver is able to solve this problem to provable optimality very fast (much faster than forever) without having to check all possible solutions. How? It explores possible solutions and keeps track of two things:\n",
    "\n",
    "- The best solution found so far\n",
    "- A bound on the best possible solution value\n",
    "\n",
    "Using these two pieces of information, the solver can avoid checking certain solutions if it knows they won't help.\n",
    "\n",
    "For example, suppose we have found a knapsack solution with value \\$10. We now know that we can ignore any solution if it can't go higher than \\$10. If the total value of all items is \\$20 and we have excluded more than \\$10 of value from the solution, we don't need to enumerate this line of solutions any further.\n",
    "\n",
    "You can use MIP solvers without knowing how they work, but having some sense of what's going on inside the solver helps to understand your problem better, and especially figure out how \"difficult\" it is.\n",
    "\n",
    "Let's solve our simple knapsack problem for Iain and see what the solver spits out."
   ]
  },
  {
   "cell_type": "code",
   "execution_count": null,
   "metadata": {
    "collapsed": false,
    "deletable": true,
    "editable": true
   },
   "outputs": [],
   "source": [
    "using JuMP, Gurobi\n",
    "m = Model(solver=GurobiSolver())\n",
    "\n",
    "@variable(m, x, Bin)\n",
    "@variable(m, y, Bin)\n",
    "\n",
    "@constraint(m, x + 2y ≤ 1.5)\n",
    "@objective(m, Max, x + y)\n",
    "\n",
    "solve(m)"
   ]
  },
  {
   "cell_type": "markdown",
   "metadata": {
    "deletable": true,
    "editable": true
   },
   "source": [
    "What's going on here? First, Gurobi is telling us some summary statistics about our problem:\n",
    "```\n",
    "Optimize a model with 1 rows, 2 columns and 2 nonzeros\n",
    "Variable types: 0 continuous, 2 integer (2 binary)\n",
    "Coefficient statistics:\n",
    "  Matrix range    [1e+00, 2e+00]\n",
    "  Objective range [1e+00, 1e+00]\n",
    "  Bounds range    [1e+00, 1e+00]\n",
    "  RHS range       [2e+00, 2e+00]\n",
    "```\n",
    "Next, we see that Gurobi ran some heuristic procedure _before_ it began solving, and produced a feasible solution with value 1:\n",
    "```\n",
    "Found heuristic solution: objective 1\n",
    "```\n",
    "Next, Gurobi runs presolve and removes 1 row and 2 columns: in other words, it removes everything! (It also does this really quickly).\n",
    "```\n",
    "Presolve removed 1 rows and 2 columns\n",
    "Presolve time: 0.00s\n",
    "Presolve: All rows and columns removed\n",
    "```\n",
    "Since there isn't anything left to the problem, it doesn't have to do any work to solve the problem, and it does this about as fast as you would expect:\n",
    "```\n",
    "Explored 0 nodes (0 simplex iterations) in 0.00 seconds\n",
    "Thread count was 1 (of 8 available processors)\n",
    "```\n",
    "Gurobi is done solving the problem, so now it tells us some summary statistics: the number of solutions, the objective value of the best feasible solution, the best upper bound, and the percent gap between the two:\n",
    "```\n",
    "Solution count 1: 1 \n",
    "Pool objective bound 1\n",
    "\n",
    "Optimal solution found (tolerance 1.00e-04)\n",
    "Best objective 1.000000000000e+00, best bound 1.000000000000e+00, gap 0.0%\n",
    "```"
   ]
  },
  {
   "cell_type": "markdown",
   "metadata": {
    "deletable": true,
    "editable": true
   },
   "source": [
    "This is kind of dull since Gurobi solves this with a simple heuristic! Let's cook up a problem that's a little more interesting. What about more items, and more knapsacks! If $N=350$, naive enumeration would create $2^{350}\\sim 10^{105}$ nodes, which would take quite some time (there are about $10^{80}$ atoms in the universe!). How does the solver actually tackle it?"
   ]
  },
  {
   "cell_type": "code",
   "execution_count": null,
   "metadata": {
    "collapsed": false,
    "deletable": true,
    "editable": true
   },
   "outputs": [],
   "source": [
    "srand(100)\n",
    "N = 350\n",
    "\n",
    "m = Model(solver=GurobiSolver())\n",
    "@variable(m, x[1:N], Bin)\n",
    "for _ in 1:10\n",
    "    @constraint(m, dot(rand(N), x) ≤ N / 50)\n",
    "end\n",
    "\n",
    "@objective(m, Max, dot(rand(N), x))\n",
    "\n",
    "solve(m)"
   ]
  },
  {
   "cell_type": "markdown",
   "metadata": {
    "deletable": true,
    "editable": true
   },
   "source": [
    "The stuff at the top is mostly the same, but now we force the solver to actually do some work. First, it finds an alright heuristic solution:\n",
    "```\n",
    "Found heuristic solution: objective 6.86518\n",
    "```\n",
    "Presolve isn't able to do much of anything (probably because the problem is dense):\n",
    "```\n",
    "Presolve time: 0.00s\n",
    "Presolved: 10 rows, 350 columns, 3500 nonzeros\n",
    "Variable types: 0 continuous, 350 integer (350 binary)\n",
    "```\n",
    "Then it solves the relaxation and reports back:\n",
    "```\n",
    "Root relaxation: objective 1.599653e+01, 33 iterations, 0.00 seconds\n",
    "```\n",
    "Now it explores the branch-and-bound tree, and updates us as it goes along:\n",
    "```\n",
    "    Nodes    |    Current Node    |     Objective Bounds      |     Work\n",
    " Expl Unexpl |  Obj  Depth IntInf | Incumbent    BestBd   Gap | It/Node Time\n",
    "\n",
    "     0     0   15.99653    0   10    6.86518   15.99653   133%     -    0s\n",
    "H    0     0                      15.0893488   15.99653  6.01%     -    0s\n",
    "H    0     0                      15.4881914   15.99653  3.28%     -    0s\n",
    "     0     0   15.99041    0   13   15.48819   15.99041  3.24%     -    0s\n",
    "     0     0   15.99041    0   10   15.48819   15.99041  3.24%     -    0s\n",
    "     0     0   15.97624    0   13   15.48819   15.97624  3.15%     -    0s\n",
    "     0     0   15.97624    0   14   15.48819   15.97624  3.15%     -    0s\n",
    "     0     0   15.97624    0   14   15.48819   15.97624  3.15%     -    0s\n",
    "     0     2   15.97624    0   14   15.48819   15.97624  3.15%     -    0s\n",
    "H55075 18672                      15.4995833   15.76729  1.73%   3.9    2s\n",
    "H105392 25979                      15.5156084   15.70839  1.24%   4.0    4s\n",
    " 152394 29371   15.62812   38   10   15.51561   15.66818  0.98%   4.0    5s\n",
    "```\n",
    "What does this all mean? Let's look at just the first line:\n",
    "```\n",
    "    Nodes    |    Current Node    |     Objective Bounds      |     Work\n",
    " Expl Unexpl |  Obj  Depth IntInf | Incumbent    BestBd   Gap | It/Node Time\n",
    "\n",
    "     0     0   15.99653    0   10    6.86518   15.99653   133%     -    0s\n",
    "```\n",
    "We see that the information is broken down into four main columns:\n",
    "\n",
    "1. ``Nodes``: Global node information\n",
    "    * how many nodes have we looked at\n",
    "    * how many do we have in our queue\n",
    "2. ``Current Node``\n",
    "    * objective\n",
    "    * depth in the tree\n",
    "    * number of noninteger variables in the solution\n",
    "3. ``Objective Bounds``\n",
    "    * Best incumbent (lower bound)\n",
    "    * node upper bound\n",
    "    * the gap between the two\n",
    "4. ``Work``\n",
    "    * average simplex iterations per node\n",
    "    * total elapsed time\n",
    "    \n",
    "Most of the time, we are interested in how the `Incumbent` and `BestBd` columns are changing. The `Gap` column gives the percentage difference between these values, and we will be finished solving when the gap reaches zero.\n",
    "\n",
    "Finally, we get a neat summary of the cutting planes Gurobi found useful:\n",
    "```\n",
    "Cutting planes:\n",
    "  Gomory: 12\n",
    "```\n",
    "This cutting plane information isn't really useful unless you have a very strong understanding of how the MIP solver works.\n",
    "\n",
    "```\n",
    "Explored 263070 nodes (1032545 simplex iterations) in 7.44 seconds\n",
    "Thread count was 8 (of 8 available processors)\n",
    "```\n",
    "All told, we explored 263,070  nodes, much less than the $2^{350}$ we were worried about. All this only took 103,2545 simplex iterations and 7.44 seconds, which shows the power of the solver.\n",
    "\n",
    "```\n",
    "Solution count 5: 15.5156 15.4996 15.4882 ... 6.86518\n",
    "Pool objective bound 15.5156\n",
    "```\n",
    "Gurobi found five feasible solutions while it was exploring. Note that these are **not** the five best solutions to the problem. We don't explore most of the possible solutions, so we won't neccessarily run into the second or third best solutions on our way to the optimal solution. There is a feature in Gurobi to generate the $k$ best solutions to a problem, but this is an advanced feature we might cover in the future.\n",
    "\n",
    "Now what about those ``H``s that appear? That tells us that Gurobi ran a heuristic and found a new best solution. You can see for yourself, as the incumbent value increases while the bound remains the same; we also don't get any ``Current Node`` information:\n",
    "```\n",
    "    Nodes    |    Current Node    |     Objective Bounds      |     Work\n",
    " Expl Unexpl |  Obj  Depth IntInf | Incumbent    BestBd   Gap | It/Node Time\n",
    "\n",
    "     0     0   15.99653    0   10    6.86518   15.99653   133%     -    0s\n",
    "H    0     0                      15.0893488   15.99653  6.01%     -    0s\n",
    "```\n",
    "You'll also sometimes see a ``*`` instead of the ``H``, which says that the feasible solution came from branching instead of heuristics.\n",
    "\n",
    "Gurobi likes to spare your screen, so it doesn't dump information about every node, but will update you periodically as it works through the tree."
   ]
  },
  {
   "cell_type": "markdown",
   "metadata": {
    "deletable": true,
    "editable": true
   },
   "source": [
    "# Solver parameters: Should you bother?\n",
    "\n",
    "Gurobi (and other high-quality solvers) allow you to tweak a wide range of different parameters; _sometimes_ tuning these can drastically improve performance. It can be kind of intimidating, though: Gurobi has over 100 parameters, so which are the important ones?\n",
    "\n",
    "Some useful ones:\n",
    "\n",
    "* ``OutputFlag``: set to `1` to hide all solver output\n",
    "* ``TimeLimit``: how long the solver will run before giving up\n",
    "* ``MIPGap``: stop solving when the objective is within this fraction of optimality (e.g. 0.05 means stop when within 5% of the optimal solution, the default is 0.0001 so it stops when within 0.01% of optimality)\n",
    "* ``MIPFocus``: High-level controls on solver priority (proving optimality or increasing bound or finding optimal solution)\n",
    "\n",
    "Is that it? Well, no, but you probably need domain knowledge about your problem to go much further. There's an alternative: Gurobi has a parameter tuning feature you can try to \"learn\" good parameter settings for a particular model. Try it out if you aren't quite happy with your performance.\n",
    "\n",
    "How do you set parameters?"
   ]
  },
  {
   "cell_type": "code",
   "execution_count": null,
   "metadata": {
    "collapsed": false,
    "deletable": true,
    "editable": true
   },
   "outputs": [],
   "source": [
    "srand(100)\n",
    "N = 350\n",
    "\n",
    "m = Model(solver=GurobiSolver(TimeLimit=1))\n",
    "@variable(m, x[1:N], Bin)\n",
    "for _ in 1:10\n",
    "    @constraint(m, dot(rand(N), x) ≤ N / 50)\n",
    "end\n",
    "\n",
    "@objective(m, Max, dot(rand(N), x))\n",
    "\n",
    "solve(m)"
   ]
  },
  {
   "cell_type": "code",
   "execution_count": null,
   "metadata": {
    "collapsed": true,
    "deletable": true,
    "editable": true
   },
   "outputs": [],
   "source": []
  }
 ],
 "metadata": {
  "kernelspec": {
   "display_name": "Julia 0.6.0",
   "language": "julia",
   "name": "julia-0.6"
  },
  "language_info": {
   "file_extension": ".jl",
   "mimetype": "application/julia",
   "name": "julia",
   "version": "0.6.0"
  }
 },
 "nbformat": 4,
 "nbformat_minor": 0
}
