{
 "cells": [
  {
   "cell_type": "markdown",
   "metadata": {
    "deletable": true,
    "editable": true
   },
   "source": [
    "# Facility Location Problem\n",
    "\n",
    "Our problem involves transporting supply from facilities to consumers, for example shipping products from factories to retail locations. Let there be $M$ customers and $N$ facilities. Each customer $i = 1, \\ldots, M$ needs to be shipped $f_i$ units, and each facility $j$ has the capacity to produce $b_j$ units. The cost of transporting one unit of supply from facility $j$ to customer $i$ is given by $d_{ij}$, the distance between them. Our goal is to transport the goods from the facilities to the customers at minimum cost.\n",
    "\n",
    "The twist is that none of these facilities have been built yet, and we can only build $K$ facilities in total. Goods cannot be shipped from a facility that is not build. This means we also need to decide which facilities to build in order to deliver the goods at minimal cost.\n",
    "\n",
    "## Problem Formulation\n",
    "\n",
    "\\begin{align*}\n",
    "\\min~~ & \\sum_{i=1}^M \\sum_{j=1}^N d_{ij} x_{ij} \\\\\n",
    "\\text{s.t.} ~~ & x_{ij} \\leq b_j y_j, && \\forall \\, i =1,\\dots, M, \\ j =1,\\dots, N, \\\\\n",
    "& \\sum_{j=1}^N x_{ij} = f_i, && \\forall \\, i =1,\\dots,M,\\\\\n",
    "& \\sum_{i=1}^M x_{ij} \\leq b_j, && \\forall \\, j =1,\\dots,N,\\\\\n",
    "& \\sum_{j=1}^N y_j \\leq K, \\\\\n",
    "& x_{ij} \\geq 0, && \\forall \\, i =1,\\dots, M, \\ j = 1,\\dots, N, \\\\\n",
    "& y_j \\in \\{ 0, 1\\}, && \\forall \\, j =1,\\dots, N.\n",
    "\\end{align*}\n",
    "\n",
    "### Decision variables\n",
    "\n",
    "Let $x_{ij}$ be the supply from facility $j$ to customer $i$ (we have $x_{ij} \\ge 0$).\n",
    "\n",
    "Let $y_j$ be a binary variable indicating if facility $j$ is built.\n",
    "\n",
    "### Constraints\n",
    "\n",
    "We need each customer $i$ to receive $f_i$ units of supply:\n",
    "\n",
    "$\\sum_{j=1}^N x_{ij} = f_i, ~~~\\forall \\, i =1,\\dots,M$\n",
    "\n",
    "We need each facility $j$ to produce at most $b_j$ units of supply:\n",
    "\n",
    "$\\sum_{i=1}^M x_{ij} \\leq b_j, ~~~\\forall \\, i =1,\\dots,M$\n",
    "\n",
    "We restrict ourselves to $K$ facilities being built:\n",
    "\n",
    "$\\sum_{j=1}^N y_j \\leq K$\n",
    "\n",
    "We cannot send supply from facility $j$ unless it is built:\n",
    "\n",
    "$ x_{ij} \\leq b_j y_j,~~~ \\forall \\, i =1,\\dots, M, \\ j =1,\\dots, N$\n",
    "\n",
    "This is an example of a big-M constraint: if $y_j = 1$, $x_{ij}$ can be as large as it wants (there is no way it can be higher than $b_j$ though due to the supply constraint above), and if $y_j = 0$, then $x_{ij}$ is forced to be zero.\n",
    "\n",
    "### Objective\n",
    "\n",
    "We want to minimize the total cost:\n",
    "\n",
    "$\\min \\sum_{i=1}^M \\sum_{j=1}^N d_{ij} x_{ij}$\n",
    "\n",
    "\n",
    "## Part I: Solving the problem in JuMP\n",
    "\n",
    "Suppose we live in a 1D world, where customers and facilities are located on a line, and $d_{ij}$ is just the distance between customer $i$ and facility $j$ on the line. Let's solve the problem for the following data:"
   ]
  },
  {
   "cell_type": "code",
   "execution_count": 33,
   "metadata": {
    "collapsed": false,
    "deletable": true,
    "editable": true,
    "scrolled": false
   },
   "outputs": [
    {
     "data": {
      "text/plain": [
       "5"
      ]
     },
     "execution_count": 33,
     "metadata": {},
     "output_type": "execute_result"
    }
   ],
   "source": [
    "customer_locs = [3; 7; 9; 10; 12; 15; 18; 20]\n",
    "facility_locs = [1; 5; 10; 12; 24]\n",
    "f = [1; 1; 6; 8; 6; 10; 6; 10]\n",
    "b = [22; 18; 15; 21; 23]\n",
    "K = 3\n",
    "M = length(customer_locs)\n",
    "N = length(facility_locs)"
   ]
  },
  {
   "cell_type": "code",
   "execution_count": 34,
   "metadata": {
    "collapsed": false,
    "deletable": true,
    "editable": true
   },
   "outputs": [
    {
     "data": {
      "text/plain": [
       "5-element Array{Int64,1}:\n",
       " 25\n",
       " 19\n",
       " 17\n",
       " 21\n",
       " 23"
      ]
     },
     "execution_count": 34,
     "metadata": {},
     "output_type": "execute_result"
    }
   ],
   "source": [
    "rand(15:25, 5)"
   ]
  },
  {
   "cell_type": "markdown",
   "metadata": {
    "deletable": true,
    "editable": true
   },
   "source": [
    "Calculate distances:"
   ]
  },
  {
   "cell_type": "code",
   "execution_count": 35,
   "metadata": {
    "collapsed": false,
    "deletable": true,
    "editable": true
   },
   "outputs": [
    {
     "data": {
      "text/plain": [
       "8×5 Array{Int64,2}:\n",
       "  2   2   7  9  21\n",
       "  6   2   3  5  17\n",
       "  8   4   1  3  15\n",
       "  9   5   0  2  14\n",
       " 11   7   2  0  12\n",
       " 14  10   5  3   9\n",
       " 17  13   8  6   6\n",
       " 19  15  10  8   4"
      ]
     },
     "execution_count": 35,
     "metadata": {},
     "output_type": "execute_result"
    }
   ],
   "source": [
    "d = [abs(customer_locs[i] - facility_locs[j]) for i = 1:M, j = 1:N]"
   ]
  },
  {
   "cell_type": "markdown",
   "metadata": {
    "deletable": true,
    "editable": true
   },
   "source": [
    "Let's make a model in JuMP!"
   ]
  },
  {
   "cell_type": "code",
   "execution_count": 36,
   "metadata": {
    "collapsed": false,
    "deletable": true,
    "editable": true
   },
   "outputs": [
    {
     "data": {
      "text/latex": [
       "$$ 2 x_{1,1} + 2 x_{1,2} + 7 x_{1,3} + 9 x_{1,4} + 21 x_{1,5} + 6 x_{2,1} + 2 x_{2,2} + 3 x_{2,3} + 5 x_{2,4} + 17 x_{2,5} + 8 x_{3,1} + 4 x_{3,2} + x_{3,3} + 3 x_{3,4} + 15 x_{3,5} + 9 x_{4,1} + 5 x_{4,2} + 2 x_{4,4} + 14 x_{4,5} + 11 x_{5,1} + 7 x_{5,2} + 2 x_{5,3} + 12 x_{5,5} + 14 x_{6,1} + 10 x_{6,2} + 5 x_{6,3} + 3 x_{6,4} + 9 x_{6,5} + 17 x_{7,1} + 13 x_{7,2} + 8 x_{7,3} + 6 x_{7,4} + 6 x_{7,5} + 19 x_{8,1} + 15 x_{8,2} + 10 x_{8,3} + 8 x_{8,4} + 4 x_{8,5} $$"
      ],
      "text/plain": [
       "2 x[1,1] + 2 x[1,2] + 7 x[1,3] + 9 x[1,4] + 21 x[1,5] + 6 x[2,1] + 2 x[2,2] + 3 x[2,3] + 5 x[2,4] + 17 x[2,5] + 8 x[3,1] + 4 x[3,2] + x[3,3] + 3 x[3,4] + 15 x[3,5] + 9 x[4,1] + 5 x[4,2] + 2 x[4,4] + 14 x[4,5] + 11 x[5,1] + 7 x[5,2] + 2 x[5,3] + 12 x[5,5] + 14 x[6,1] + 10 x[6,2] + 5 x[6,3] + 3 x[6,4] + 9 x[6,5] + 17 x[7,1] + 13 x[7,2] + 8 x[7,3] + 6 x[7,4] + 6 x[7,5] + 19 x[8,1] + 15 x[8,2] + 10 x[8,3] + 8 x[8,4] + 4 x[8,5]"
      ]
     },
     "execution_count": 36,
     "metadata": {},
     "output_type": "execute_result"
    }
   ],
   "source": [
    "using JuMP, Gurobi\n",
    "model = Model(solver=GurobiSolver(OutputFlag=0))\n",
    "\n",
    "# Add variables\n",
    "@variable(model, x[i = 1:M, j = 1:N] >= 0)\n",
    "@variable(model, y[j = 1:N], Bin)\n",
    "\n",
    "# Add constraints\n",
    "@constraint(model, mustbuild[i = 1:M, j = 1:N], x[i, j] <= b[j] * y[j])\n",
    "@constraint(model, demand[i = 1:M], sum(x[i, j] for j = 1:N) == f[i])\n",
    "@constraint(model, sum(y[j] for j = 1:N) <= K)\n",
    "\n",
    "# Add objective\n",
    "@objective(model, Min, sum(x[i, j] * d[i, j] for i = 1:M, j = 1:N))"
   ]
  },
  {
   "cell_type": "code",
   "execution_count": 37,
   "metadata": {
    "collapsed": false,
    "deletable": true,
    "editable": true
   },
   "outputs": [
    {
     "data": {
      "text/plain": [
       ":Optimal"
      ]
     },
     "execution_count": 37,
     "metadata": {},
     "output_type": "execute_result"
    }
   ],
   "source": [
    "# Solve the model\n",
    "status = solve(model)\n",
    "status"
   ]
  },
  {
   "cell_type": "code",
   "execution_count": 38,
   "metadata": {
    "collapsed": false,
    "deletable": true,
    "editable": true
   },
   "outputs": [
    {
     "data": {
      "text/plain": [
       "8×5 Array{Float64,2}:\n",
       " 0.0  0.0  1.0   0.0   0.0\n",
       " 0.0  0.0  1.0   0.0   0.0\n",
       " 0.0  0.0  6.0   0.0   0.0\n",
       " 0.0  0.0  8.0   0.0   0.0\n",
       " 0.0  0.0  0.0   6.0   0.0\n",
       " 0.0  0.0  0.0  10.0   0.0\n",
       " 0.0  0.0  0.0   6.0   0.0\n",
       " 0.0  0.0  0.0   0.0  10.0"
      ]
     },
     "execution_count": 38,
     "metadata": {},
     "output_type": "execute_result"
    }
   ],
   "source": [
    "# Check the optimal variable values\n",
    "getvalue(x)"
   ]
  },
  {
   "cell_type": "code",
   "execution_count": 39,
   "metadata": {
    "collapsed": false,
    "deletable": true,
    "editable": true
   },
   "outputs": [
    {
     "data": {
      "text/plain": [
       "5-element Array{Float64,1}:\n",
       " -0.0\n",
       "  0.0\n",
       "  1.0\n",
       "  1.0\n",
       "  1.0"
      ]
     },
     "execution_count": 39,
     "metadata": {},
     "output_type": "execute_result"
    }
   ],
   "source": [
    "getvalue(y)"
   ]
  },
  {
   "cell_type": "code",
   "execution_count": 40,
   "metadata": {
    "collapsed": false,
    "deletable": true,
    "editable": true
   },
   "outputs": [
    {
     "data": {
      "text/plain": [
       "122.0"
      ]
     },
     "execution_count": 40,
     "metadata": {},
     "output_type": "execute_result"
    }
   ],
   "source": [
    "# Check the optimal objective value\n",
    "getobjectivevalue(model)"
   ]
  },
  {
   "cell_type": "markdown",
   "metadata": {
    "collapsed": true,
    "deletable": true,
    "editable": true
   },
   "source": [
    "## Part II - Finding next best solutions\n",
    "\n",
    "In MIPs, it is sometimes useful to know not only the best solution, but also the second best, third best and so on.\n",
    "\n",
    "Now add code to solve the model three more times. Each time, add a constraint that cuts off the current facility decision, re-solve the model and output the objective value.\n",
    "\n",
    "**Hint 1**: Think about how you might add a constraint to exclude a single solution?\n",
    "\n",
    "**Hint 2**: Suppose our current solution is $\\bar y$ with\n",
    "$$\n",
    "  J_1 = \\{ j ~|~ \\bar y_j = 1 \\} ~~~ J_2 = \\{ j ~|~ \\bar y_j = 0 \\}\n",
    "$$\n",
    "\n",
    "The following constraint will cut off the current solution:\n",
    "$$\n",
    "  \\sum_{j \\in J_1} y_j + \\sum_{j \\in J_0} (1 - y_j) \\le N - 1\n",
    "$$"
   ]
  },
  {
   "cell_type": "code",
   "execution_count": 41,
   "metadata": {
    "collapsed": false,
    "deletable": true,
    "editable": true
   },
   "outputs": [
    {
     "name": "stdout",
     "output_type": "stream",
     "text": [
      "144.0 [-0.0, 1.0, 0.0, 1.0, 1.0]\n",
      "147.0 [1.0, -0.0, 0.0, 1.0, 1.0]\n",
      "148.00000000000003 [-0.0, 1.0, 1.0, 0.0, 1.0]\n"
     ]
    }
   ],
   "source": [
    "for rep = 1:3\n",
    "    y_bar = getvalue(y)\n",
    "    J_1 = find(y_bar .== 1)\n",
    "    J_0 = find(y_bar .== 0)\n",
    "    \n",
    "    @constraint(model, sum(y[j] for j in J_1) + sum(1 - y[j] for j in J_0) <= N - 1)\n",
    "    \n",
    "    solve(model)\n",
    "    println(getobjectivevalue(model), \" \", getvalue(y))\n",
    "end"
   ]
  },
  {
   "cell_type": "code",
   "execution_count": null,
   "metadata": {
    "collapsed": true,
    "deletable": true,
    "editable": true
   },
   "outputs": [],
   "source": []
  }
 ],
 "metadata": {
  "kernelspec": {
   "display_name": "Julia 0.6.0",
   "language": "julia",
   "name": "julia-0.6"
  },
  "language_info": {
   "file_extension": ".jl",
   "mimetype": "application/julia",
   "name": "julia",
   "version": "0.6.0"
  }
 },
 "nbformat": 4,
 "nbformat_minor": 0
}
