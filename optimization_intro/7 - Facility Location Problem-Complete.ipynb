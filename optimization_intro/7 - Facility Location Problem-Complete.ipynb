{
 "cells": [
  {
   "cell_type": "markdown",
   "metadata": {
    "deletable": true,
    "editable": true
   },
   "source": [
    "# Facility Location Problem\n",
    "\n",
    "Our problem involves transporting supply from facilities to consumers, for example shipping products from factories to retail locations. Let there be $M$ customers and $N$ facilities. Each customer $i = 1, \\ldots, M$ needs to be shipped $f_i$ units, and each facility $j$ has the capacity to produce $b_j$ units. The cost of transporting one unit of supply from facility $j$ to customer $i$ is given by $d_{ij}$, the distance between them. Our goal is to transport the goods from the facilities to the customers at minimum cost.\n",
    "\n",
    "The twist is that none of these facilities have been built yet, and we can only build $K$ facilities in total. Goods cannot be shipped from a facility that is not build. This means we also need to decide which facilities to build in order to deliver the goods at minimal cost.\n",
    "\n",
    "## Problem Formulation\n",
    "\n",
    "\\begin{align*}\n",
    "\\min~~ & \\sum_{i=1}^M \\sum_{j=1}^N d_{ij} x_{ij} \\\\\n",
    "\\text{s.t.} ~~ & x_{ij} \\leq b_j y_j, && \\forall \\, i =1,\\dots, M, \\ j =1,\\dots, N, \\\\\n",
    "& \\sum_{j=1}^N x_{ij} = f_i, && \\forall \\, i =1,\\dots,M,\\\\\n",
    "& \\sum_{i=1}^M x_{ij} \\leq b_j, && \\forall \\, j =1,\\dots,N,\\\\\n",
    "& \\sum_{j=1}^N y_j \\leq K, \\\\\n",
    "& x_{ij} \\geq 0, && \\forall \\, i =1,\\dots, M, \\ j = 1,\\dots, N, \\\\\n",
    "& y_j \\in \\{ 0, 1\\}, && \\forall \\, j =1,\\dots, N.\n",
    "\\end{align*}\n",
    "\n",
    "### Decision variables\n",
    "\n",
    "Let $x_{ij}$ be the supply from facility $j$ to customer $i$ (we have $x_{ij} \\ge 0$).\n",
    "\n",
    "Let $y_j$ be a binary variable indicating if facility $j$ is built.\n",
    "\n",
    "### Constraints\n",
    "\n",
    "We need each customer $i$ to receive $f_i$ units of supply:\n",
    "\n",
    "$\\sum_{j=1}^N x_{ij} = f_i, ~~~\\forall \\, i =1,\\dots,M$\n",
    "\n",
    "We need each facility $j$ to produce at most $b_j$ units of supply:\n",
    "\n",
    "$\\sum_{i=1}^M x_{ij} \\leq b_j, ~~~\\forall \\, i =1,\\dots,M$\n",
    "\n",
    "We restrict ourselves to $K$ facilities being built:\n",
    "\n",
    "$\\sum_{j=1}^N y_j \\leq K$\n",
    "\n",
    "We cannot send supply from facility $j$ unless it is built:\n",
    "\n",
    "$ x_{ij} \\leq b_j y_j,~~~ \\forall \\, i =1,\\dots, M, \\ j =1,\\dots, N$\n",
    "\n",
    "This is an example of a big-M constraint: if $y_j = 1$, $x_{ij}$ can be as large as it wants (there is no way it can be higher than $b_j$ though due to the supply constraint above), and if $y_j = 0$, then $x_{ij}$ is forced to be zero.\n",
    "\n",
    "### Objective\n",
    "\n",
    "We want to minimize the total cost:\n",
    "\n",
    "$\\min \\sum_{i=1}^M \\sum_{j=1}^N d_{ij} x_{ij}$\n",
    "\n",
    "\n",
    "## Part I: Solving the problem in JuMP\n",
    "\n",
    "Suppose we live in a 1D world, where customers and facilities are located on a line, and $d_{ij}$ is just the distance between customer $i$ and facility $j$ on the line. Let's solve the problem for the following data:"
   ]
  },
  {
   "cell_type": "code",
   "execution_count": 2,
   "metadata": {
    "collapsed": false,
    "deletable": true,
    "editable": true,
    "scrolled": false
   },
   "outputs": [
    {
     "data": {
      "text/plain": [
       "5"
      ]
     },
     "execution_count": 2,
     "metadata": {},
     "output_type": "execute_result"
    }
   ],
   "source": [
    "customer_locs = [3 1; 7 2; 4 3; 0 6; 4 7; 15 2; 5 10; 8 15]\n",
    "facility_locs = [1 1; 5 4; 6 10; 12 2; 15 15]\n",
    "f = [1; 1; 6; 8; 6; 10; 6; 10]\n",
    "b = [22; 18; 15; 21; 23]\n",
    "K = 3\n",
    "M = size(customer_locs,1)\n",
    "N = size(facility_locs,1)"
   ]
  },
  {
   "cell_type": "markdown",
   "metadata": {
    "deletable": true,
    "editable": true
   },
   "source": [
    "Calculate distances:"
   ]
  },
  {
   "cell_type": "code",
   "execution_count": 3,
   "metadata": {
    "collapsed": false,
    "deletable": true,
    "editable": true
   },
   "outputs": [
    {
     "data": {
      "text/plain": [
       "8×5 Array{Float64,2}:\n",
       "  2.0       3.60555   9.48683   9.05539  18.4391\n",
       "  6.08276   2.82843   8.06226   5.0      15.2643\n",
       "  3.60555   1.41421   7.28011   8.06226  16.2788\n",
       "  5.09902   5.38516   7.2111   12.6491   17.4929\n",
       "  6.7082    3.16228   3.60555   9.43398  13.6015\n",
       " 14.0357   10.198    12.0416    3.0      13.0   \n",
       "  9.84886   6.0       1.0      10.6301   11.1803\n",
       " 15.6525   11.4018    5.38516  13.6015    7.0   "
      ]
     },
     "execution_count": 3,
     "metadata": {},
     "output_type": "execute_result"
    }
   ],
   "source": [
    "d = [norm(customer_locs[i,:] - facility_locs[j,:]) for i = 1:M, j = 1:N]"
   ]
  },
  {
   "cell_type": "markdown",
   "metadata": {
    "deletable": true,
    "editable": true
   },
   "source": [
    "Let's make a model in JuMP!"
   ]
  },
  {
   "cell_type": "code",
   "execution_count": 4,
   "metadata": {
    "collapsed": false,
    "deletable": true,
    "editable": true
   },
   "outputs": [
    {
     "data": {
      "text/latex": [
       "$$ 2 x_{1,1} + 3.605551275463989 x_{1,2} + 9.486832980505138 x_{1,3} + 9.055385138137417 x_{1,4} + 18.439088914585774 x_{1,5} + 6.082762530298219 x_{2,1} + 2.8284271247461903 x_{2,2} + 8.06225774829855 x_{2,3} + 5 x_{2,4} + 15.264337522473747 x_{2,5} + 3.605551275463989 x_{3,1} + 1.4142135623730951 x_{3,2} + 7.280109889280518 x_{3,3} + 8.06225774829855 x_{3,4} + 16.278820596099706 x_{3,5} + 5.0990195135927845 x_{4,1} + 5.385164807134504 x_{4,2} + 7.211102550927978 x_{4,3} + 12.649110640673518 x_{4,4} + 17.4928556845359 x_{4,5} + 6.708203932499369 x_{5,1} + 3.1622776601683795 x_{5,2} + 3.605551275463989 x_{5,3} + 9.433981132056603 x_{5,4} + 13.601470508735444 x_{5,5} + 14.035668847618199 x_{6,1} + 10.198039027185569 x_{6,2} + 12.041594578792296 x_{6,3} + 3 x_{6,4} + 13 x_{6,5} + 9.848857801796104 x_{7,1} + 6 x_{7,2} + x_{7,3} + 10.63014581273465 x_{7,4} + 11.180339887498949 x_{7,5} + 15.652475842498529 x_{8,1} + 11.40175425099138 x_{8,2} + 5.385164807134504 x_{8,3} + 13.601470508735444 x_{8,4} + 7 x_{8,5} $$"
      ],
      "text/plain": [
       "2 x[1,1] + 3.605551275463989 x[1,2] + 9.486832980505138 x[1,3] + 9.055385138137417 x[1,4] + 18.439088914585774 x[1,5] + 6.082762530298219 x[2,1] + 2.8284271247461903 x[2,2] + 8.06225774829855 x[2,3] + 5 x[2,4] + 15.264337522473747 x[2,5] + 3.605551275463989 x[3,1] + 1.4142135623730951 x[3,2] + 7.280109889280518 x[3,3] + 8.06225774829855 x[3,4] + 16.278820596099706 x[3,5] + 5.0990195135927845 x[4,1] + 5.385164807134504 x[4,2] + 7.211102550927978 x[4,3] + 12.649110640673518 x[4,4] + 17.4928556845359 x[4,5] + 6.708203932499369 x[5,1] + 3.1622776601683795 x[5,2] + 3.605551275463989 x[5,3] + 9.433981132056603 x[5,4] + 13.601470508735444 x[5,5] + 14.035668847618199 x[6,1] + 10.198039027185569 x[6,2] + 12.041594578792296 x[6,3] + 3 x[6,4] + 13 x[6,5] + 9.848857801796104 x[7,1] + 6 x[7,2] + x[7,3] + 10.63014581273465 x[7,4] + 11.180339887498949 x[7,5] + 15.652475842498529 x[8,1] + 11.40175425099138 x[8,2] + 5.385164807134504 x[8,3] + 13.601470508735444 x[8,4] + 7 x[8,5]"
      ]
     },
     "execution_count": 4,
     "metadata": {},
     "output_type": "execute_result"
    }
   ],
   "source": [
    "using JuMP, Gurobi\n",
    "model = Model(solver=GurobiSolver(OutputFlag=0))\n",
    "\n",
    "# Add variables\n",
    "@variable(model, x[i = 1:M, j = 1:N] >= 0)\n",
    "@variable(model, y[j = 1:N], Bin)\n",
    "\n",
    "# Add constraints\n",
    "@constraint(model, mustbuild[i = 1:M, j = 1:N], x[i, j] <= b[j] * y[j])\n",
    "@constraint(model, demand[i = 1:M], sum(x[i, j] for j = 1:N) == f[i])\n",
    "@constraint(model, sum(y[j] for j = 1:N) <= K)\n",
    "\n",
    "# Add objective\n",
    "@objective(model, Min, sum(x[i, j] * d[i, j] for i = 1:M, j = 1:N))"
   ]
  },
  {
   "cell_type": "code",
   "execution_count": 5,
   "metadata": {
    "collapsed": false,
    "deletable": true,
    "editable": true
   },
   "outputs": [
    {
     "data": {
      "text/plain": [
       ":Optimal"
      ]
     },
     "execution_count": 5,
     "metadata": {},
     "output_type": "execute_result"
    },
    {
     "name": "stdout",
     "output_type": "stream",
     "text": [
      "Academic license - for non-commercial use only\n"
     ]
    }
   ],
   "source": [
    "# Solve the model\n",
    "status = solve(model)\n",
    "status"
   ]
  },
  {
   "cell_type": "code",
   "execution_count": 6,
   "metadata": {
    "collapsed": false,
    "deletable": true,
    "editable": true
   },
   "outputs": [
    {
     "data": {
      "text/plain": [
       "8×5 Array{Float64,2}:\n",
       " 0.0  1.0   0.0   0.0  0.0\n",
       " 0.0  1.0   0.0   0.0  0.0\n",
       " 0.0  6.0   0.0   0.0  0.0\n",
       " 0.0  8.0   0.0   0.0  0.0\n",
       " 0.0  6.0   0.0   0.0  0.0\n",
       " 0.0  0.0   0.0  10.0  0.0\n",
       " 0.0  0.0   6.0   0.0  0.0\n",
       " 0.0  0.0  10.0   0.0  0.0"
      ]
     },
     "execution_count": 6,
     "metadata": {},
     "output_type": "execute_result"
    }
   ],
   "source": [
    "# Check the optimal variable values\n",
    "getvalue(x)"
   ]
  },
  {
   "cell_type": "code",
   "execution_count": 7,
   "metadata": {
    "collapsed": false,
    "deletable": true,
    "editable": true
   },
   "outputs": [
    {
     "data": {
      "text/plain": [
       "5-element Array{Float64,1}:\n",
       "  0.0\n",
       "  1.0\n",
       "  1.0\n",
       "  1.0\n",
       " -0.0"
      ]
     },
     "execution_count": 7,
     "metadata": {},
     "output_type": "execute_result"
    }
   ],
   "source": [
    "getvalue(y)"
   ]
  },
  {
   "cell_type": "code",
   "execution_count": 8,
   "metadata": {
    "collapsed": false,
    "deletable": true,
    "editable": true
   },
   "outputs": [
    {
     "data": {
      "text/plain": [
       "166.8258922638801"
      ]
     },
     "execution_count": 8,
     "metadata": {},
     "output_type": "execute_result"
    }
   ],
   "source": [
    "# Check the optimal objective value\n",
    "getobjectivevalue(model)"
   ]
  },
  {
   "cell_type": "code",
   "execution_count": null,
   "metadata": {
    "collapsed": true,
    "deletable": true,
    "editable": true
   },
   "outputs": [],
   "source": []
  }
 ],
 "metadata": {
  "kernelspec": {
   "display_name": "Julia 0.6.4",
   "language": "julia",
   "name": "julia-0.6"
  },
  "language_info": {
   "file_extension": ".jl",
   "mimetype": "application/julia",
   "name": "julia",
   "version": "0.6.4"
  }
 },
 "nbformat": 4,
 "nbformat_minor": 0
}
