{
 "cells": [
  {
   "cell_type": "markdown",
   "metadata": {
    "deletable": true,
    "editable": true
   },
   "source": [
    "# Facility Location Problem\n",
    "\n",
    "Our problem involves transporting supply from facilities to consumers, for example shipping products from factories to retail locations. Let there be $M$ customers and $N$ facilities. Each customer $i = 1, \\ldots, M$ needs to be shipped $f_i$ units, and each facility $j$ has the capacity to produce $b_j$ units. The cost of transporting one unit of supply from facility $j$ to customer $i$ is given by $d_{ij}$, the distance between them. Our goal is to transport the goods from the facilities to the customers at minimum cost.\n",
    "\n",
    "The twist is that none of these facilities have been built yet, and we can only build $K$ facilities in total. Goods cannot be shipped from a facility that is not build. This means we also need to decide which facilities to build in order to deliver the goods at minimal cost.\n",
    "\n",
    "## Problem Formulation\n",
    "\n",
    "### Decision variables\n",
    "\n",
    "...\n",
    "\n",
    "### Constraints\n",
    "\n",
    "...\n",
    "\n",
    "### Objective\n",
    "\n",
    "...\n",
    "\n",
    "\n",
    "## Part I: Solving the problem in JuMP\n",
    "\n",
    "Suppose we live in a 1D world, where customers and facilities are located on a line, and $d_{ij}$ is just the distance between customer $i$ and facility $j$ on the line. Let's solve the problem for the following data:"
   ]
  },
  {
   "cell_type": "code",
   "execution_count": null,
   "metadata": {
    "collapsed": false,
    "deletable": true,
    "editable": true,
    "scrolled": false
   },
   "outputs": [],
   "source": [
    "customer_locs = [3; 7; 9; 10; 12; 15; 18; 20]\n",
    "facility_locs = [1; 5; 10; 12; 24]\n",
    "f = [1; 1; 6; 8; 6; 10; 6; 10]\n",
    "b = [22; 18; 15; 21; 23]\n",
    "K = 3\n",
    "M = length(customer_locs)\n",
    "N = length(facility_locs)"
   ]
  },
  {
   "cell_type": "markdown",
   "metadata": {
    "deletable": true,
    "editable": true
   },
   "source": [
    "Calculate distances:"
   ]
  },
  {
   "cell_type": "code",
   "execution_count": null,
   "metadata": {
    "collapsed": false,
    "deletable": true,
    "editable": true
   },
   "outputs": [],
   "source": [
    "d = [abs(customer_locs[i] - facility_locs[j]) for i = 1:M, j = 1:N]"
   ]
  },
  {
   "cell_type": "markdown",
   "metadata": {
    "deletable": true,
    "editable": true
   },
   "source": [
    "## Exercise\n",
    "\n",
    "Let's build the model in JuMP!"
   ]
  },
  {
   "cell_type": "code",
   "execution_count": null,
   "metadata": {
    "collapsed": false,
    "deletable": true,
    "editable": true
   },
   "outputs": [],
   "source": [
    "using JuMP, Gurobi\n",
    "model = Model(solver=GurobiSolver(OutputFlag=0))\n",
    "\n",
    "# Add variables\n",
    "\n",
    "# Add constraints\n",
    "\n",
    "# Add objective\n",
    "\n",
    "# Solve model\n",
    "\n",
    "# Check optimal variable values\n",
    "\n",
    "# Check optimal objective value"
   ]
  },
  {
   "cell_type": "markdown",
   "metadata": {
    "collapsed": true,
    "deletable": true,
    "editable": true
   },
   "source": [
    "## Part II - Finding next best solutions\n",
    "\n",
    "In MIPs, it is sometimes useful to know not only the best solution, but also the second best, third best and so on.\n",
    "\n",
    "Now add code to solve the model three more times. Each time, add a constraint that cuts off the current facility decision, re-solve the model and output the objective value."
   ]
  },
  {
   "cell_type": "code",
   "execution_count": null,
   "metadata": {
    "collapsed": true,
    "deletable": true,
    "editable": true
   },
   "outputs": [],
   "source": []
  }
 ],
 "metadata": {
  "kernelspec": {
   "display_name": "Julia 0.6.0",
   "language": "julia",
   "name": "julia-0.6"
  },
  "language_info": {
   "file_extension": ".jl",
   "mimetype": "application/julia",
   "name": "julia",
   "version": "0.6.0"
  }
 },
 "nbformat": 4,
 "nbformat_minor": 0
}
