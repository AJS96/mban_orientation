{
 "cells": [
  {
   "cell_type": "markdown",
   "metadata": {},
   "source": [
    "\n",
    "# Intro to Pandas, Data Manipulation, and Visualization in Python\n",
    "In this section, we will learn and practice how to read in data, conduct data manipulation and visualization in `Python`. In particular, we will be learning the `Pandas` package, which provides a fast and powerful interface to dataframes. \n",
    "\n",
    "## Pandas \n",
    "<img src=\"https://img.youtube.com/vi/lsJLLEwUYZM/0.jpg\" align=\"right\">\n",
    "`Pandas` is a library that provides high-performance, easy-to-use data structures and data analysis tools for `Python`.\n",
    "\n",
    "\n",
    "\n",
    "Let's load the package `pandas` as well as `numpy`, and `matplotlib` for visualization later. The next few parameters set up the inline plotting to look nicely for the notebook. This is standard preamble for data processing in `ipython` notebooks that you can use in the future. There are some other variations such as giving `matplotlib` the `ggplot` theme from `R` if you wish (add `plt.style.use('ggplot')`). \n",
    "\n",
    "\n"
   ]
  },
  {
   "cell_type": "code",
   "execution_count": 1,
   "metadata": {
    "collapsed": true
   },
   "outputs": [],
   "source": [
    "import pandas as pd\n",
    "import numpy as np\n",
    "import matplotlib.pylab as plt\n",
    "%matplotlib inline\n",
    "from matplotlib.pylab import rcParams\n",
    "rcParams['figure.figsize'] = 15, 6"
   ]
  },
  {
   "cell_type": "markdown",
   "metadata": {},
   "source": [
    "## Case Study\n",
    "<img  width=\"200\" height=\"40\" src=\"https://upload.wikimedia.org/wikipedia/en/thumb/9/9f/Instacart_logo_and_wordmark.svg/1280px-Instacart_logo_and_wordmark.svg.png\" align=\"left\">\n",
    "<br>\n",
    "### Instacart orders\n",
    "\n",
    "\n",
    "In this problem, we'll use the dataset from Instacart.com (https://www.instacart.com/datasets/grocery-shopping-2017), a \"sometimes-same-day\" grocery delivery service that connects customers with Personal Shoppers who pick up and deliver the groceries from local stores. The open data contains order, product, and aisles detailed information. We took a 5% sample of orders in this tutorial.\n",
    "\n",
    "\n",
    "\n",
    "### Read in Data\n",
    "Now let's read in a csv file for the dataset `orders.csv` and `orders_products.csv` using the `read_csv` function in pd. Index is very important in Pandas for reasons we will talk about later (subset, merge, ...). Let's specify the index when we read in the data with `index_col = ` parameter. \n",
    "\n",
    "To get a glimpse of the data, you can do:\n",
    "* `.shape` to look at the dimension / size / shape of the dataframe,\n",
    "* `.describe()` to see a summary of the data,\n",
    "* `.head()` to view first 5 rows, or you can do it with `[:5]`."
   ]
  },
  {
   "cell_type": "code",
   "execution_count": 2,
   "metadata": {
    "collapsed": false
   },
   "outputs": [
    {
     "name": "stdout",
     "output_type": "stream",
     "text": [
      "(171054, 6)\n",
      "             user_id   order_number      order_dow  order_hour_of_day  \\\n",
      "count  171054.000000  171054.000000  171054.000000      171054.000000   \n",
      "mean   102612.564640      17.166719       2.772195          13.445701   \n",
      "std     59637.539216      17.753241       2.046332           4.223096   \n",
      "min         3.000000       1.000000       0.000000           0.000000   \n",
      "25%     50569.000000       5.000000       1.000000          10.000000   \n",
      "50%    102074.500000      11.000000       3.000000          13.000000   \n",
      "75%    154204.000000      23.000000       5.000000          16.000000   \n",
      "max    206208.000000     100.000000       6.000000          23.000000   \n",
      "\n",
      "       days_since_prior_order  \n",
      "count           160603.000000  \n",
      "mean                11.112763  \n",
      "std                  9.219712  \n",
      "min                  0.000000  \n",
      "25%                  4.000000  \n",
      "50%                  7.000000  \n",
      "75%                 15.000000  \n",
      "max                 30.000000  \n"
     ]
    },
    {
     "data": {
      "text/html": [
       "<div>\n",
       "<style scoped>\n",
       "    .dataframe tbody tr th:only-of-type {\n",
       "        vertical-align: middle;\n",
       "    }\n",
       "\n",
       "    .dataframe tbody tr th {\n",
       "        vertical-align: top;\n",
       "    }\n",
       "\n",
       "    .dataframe thead th {\n",
       "        text-align: right;\n",
       "    }\n",
       "</style>\n",
       "<table border=\"1\" class=\"dataframe\">\n",
       "  <thead>\n",
       "    <tr style=\"text-align: right;\">\n",
       "      <th></th>\n",
       "      <th>user_id</th>\n",
       "      <th>eval_set</th>\n",
       "      <th>order_number</th>\n",
       "      <th>order_dow</th>\n",
       "      <th>order_hour_of_day</th>\n",
       "      <th>days_since_prior_order</th>\n",
       "    </tr>\n",
       "    <tr>\n",
       "      <th>order_id</th>\n",
       "      <th></th>\n",
       "      <th></th>\n",
       "      <th></th>\n",
       "      <th></th>\n",
       "      <th></th>\n",
       "      <th></th>\n",
       "    </tr>\n",
       "  </thead>\n",
       "  <tbody>\n",
       "    <tr>\n",
       "      <th>1076138</th>\n",
       "      <td>39487</td>\n",
       "      <td>prior</td>\n",
       "      <td>3</td>\n",
       "      <td>5</td>\n",
       "      <td>21</td>\n",
       "      <td>21.0</td>\n",
       "    </tr>\n",
       "    <tr>\n",
       "      <th>1609528</th>\n",
       "      <td>198072</td>\n",
       "      <td>prior</td>\n",
       "      <td>31</td>\n",
       "      <td>0</td>\n",
       "      <td>14</td>\n",
       "      <td>11.0</td>\n",
       "    </tr>\n",
       "    <tr>\n",
       "      <th>2156935</th>\n",
       "      <td>100263</td>\n",
       "      <td>prior</td>\n",
       "      <td>40</td>\n",
       "      <td>3</td>\n",
       "      <td>16</td>\n",
       "      <td>6.0</td>\n",
       "    </tr>\n",
       "    <tr>\n",
       "      <th>2661897</th>\n",
       "      <td>154498</td>\n",
       "      <td>prior</td>\n",
       "      <td>6</td>\n",
       "      <td>5</td>\n",
       "      <td>15</td>\n",
       "      <td>1.0</td>\n",
       "    </tr>\n",
       "    <tr>\n",
       "      <th>1577308</th>\n",
       "      <td>187457</td>\n",
       "      <td>prior</td>\n",
       "      <td>8</td>\n",
       "      <td>6</td>\n",
       "      <td>21</td>\n",
       "      <td>19.0</td>\n",
       "    </tr>\n",
       "  </tbody>\n",
       "</table>\n",
       "</div>"
      ],
      "text/plain": [
       "          user_id eval_set  order_number  order_dow  order_hour_of_day  \\\n",
       "order_id                                                                 \n",
       "1076138     39487    prior             3          5                 21   \n",
       "1609528    198072    prior            31          0                 14   \n",
       "2156935    100263    prior            40          3                 16   \n",
       "2661897    154498    prior             6          5                 15   \n",
       "1577308    187457    prior             8          6                 21   \n",
       "\n",
       "          days_since_prior_order  \n",
       "order_id                          \n",
       "1076138                     21.0  \n",
       "1609528                     11.0  \n",
       "2156935                      6.0  \n",
       "2661897                      1.0  \n",
       "1577308                     19.0  "
      ]
     },
     "execution_count": 2,
     "metadata": {},
     "output_type": "execute_result"
    }
   ],
   "source": [
    "orders = pd.read_csv('data/orders.csv', index_col='order_id');\n",
    "print(orders.shape)\n",
    "print(orders.describe())\n",
    "orders.head()"
   ]
  },
  {
   "cell_type": "code",
   "execution_count": 3,
   "metadata": {
    "collapsed": false
   },
   "outputs": [
    {
     "data": {
      "text/html": [
       "<div>\n",
       "<style scoped>\n",
       "    .dataframe tbody tr th:only-of-type {\n",
       "        vertical-align: middle;\n",
       "    }\n",
       "\n",
       "    .dataframe tbody tr th {\n",
       "        vertical-align: top;\n",
       "    }\n",
       "\n",
       "    .dataframe thead th {\n",
       "        text-align: right;\n",
       "    }\n",
       "</style>\n",
       "<table border=\"1\" class=\"dataframe\">\n",
       "  <thead>\n",
       "    <tr style=\"text-align: right;\">\n",
       "      <th></th>\n",
       "      <th>product_id</th>\n",
       "      <th>add_to_cart_order</th>\n",
       "      <th>reordered</th>\n",
       "    </tr>\n",
       "    <tr>\n",
       "      <th>order_id</th>\n",
       "      <th></th>\n",
       "      <th></th>\n",
       "      <th></th>\n",
       "    </tr>\n",
       "  </thead>\n",
       "  <tbody>\n",
       "    <tr>\n",
       "      <th>473</th>\n",
       "      <td>20082</td>\n",
       "      <td>1</td>\n",
       "      <td>1</td>\n",
       "    </tr>\n",
       "    <tr>\n",
       "      <th>473</th>\n",
       "      <td>24852</td>\n",
       "      <td>2</td>\n",
       "      <td>0</td>\n",
       "    </tr>\n",
       "    <tr>\n",
       "      <th>473</th>\n",
       "      <td>47144</td>\n",
       "      <td>3</td>\n",
       "      <td>1</td>\n",
       "    </tr>\n",
       "    <tr>\n",
       "      <th>473</th>\n",
       "      <td>36441</td>\n",
       "      <td>4</td>\n",
       "      <td>1</td>\n",
       "    </tr>\n",
       "    <tr>\n",
       "      <th>473</th>\n",
       "      <td>12206</td>\n",
       "      <td>5</td>\n",
       "      <td>0</td>\n",
       "    </tr>\n",
       "  </tbody>\n",
       "</table>\n",
       "</div>"
      ],
      "text/plain": [
       "          product_id  add_to_cart_order  reordered\n",
       "order_id                                          \n",
       "473            20082                  1          1\n",
       "473            24852                  2          0\n",
       "473            47144                  3          1\n",
       "473            36441                  4          1\n",
       "473            12206                  5          0"
      ]
     },
     "execution_count": 3,
     "metadata": {},
     "output_type": "execute_result"
    }
   ],
   "source": [
    "orders_products = pd.read_csv('data/orders_products.csv', index_col='order_id');\n",
    "orders_products.head()"
   ]
  },
  {
   "cell_type": "markdown",
   "metadata": {
    "collapsed": true
   },
   "source": [
    "### Data Indexing\n",
    "\n",
    "After reading in the datasets and taking a look at the description or the first few rows, we are interested in some basic dataframe manipulations. \n",
    "* **Subset columns:** To select a column, we can:\n",
    "    1. index with the name of the column as a string, \n",
    "    2. use the attribute operator . on the column name,\n",
    "    3. use the `loc[:, ]` function on the column name,\n",
    "    4. use the `iloc[:, ]` function on the column index (remember zero indexing in Python!)\n",
    "\n",
    "In this example we take the `order_hour_of_day` column using each of the method."
   ]
  },
  {
   "cell_type": "code",
   "execution_count": 4,
   "metadata": {
    "collapsed": false
   },
   "outputs": [
    {
     "name": "stdout",
     "output_type": "stream",
     "text": [
      "order_id\n",
      "1076138    21\n",
      "1609528    14\n",
      "2156935    16\n",
      "2661897    15\n",
      "1577308    21\n",
      "Name: order_hour_of_day, dtype: int64\n",
      "order_id\n",
      "1076138    21\n",
      "1609528    14\n",
      "2156935    16\n",
      "2661897    15\n",
      "1577308    21\n",
      "Name: order_hour_of_day, dtype: int64\n",
      "order_id\n",
      "1076138    21\n",
      "1609528    14\n",
      "2156935    16\n",
      "2661897    15\n",
      "1577308    21\n",
      "Name: order_hour_of_day, dtype: int64\n",
      "order_id\n",
      "1076138    21\n",
      "1609528    14\n",
      "2156935    16\n",
      "2661897    15\n",
      "1577308    21\n",
      "Name: order_hour_of_day, dtype: int64\n"
     ]
    }
   ],
   "source": [
    "print(orders['order_hour_of_day'].head())\n",
    "print(orders.order_hour_of_day.head())\n",
    "print(orders.loc[:, 'order_hour_of_day'].head())\n",
    "print(orders.iloc[:, 4].head())"
   ]
  },
  {
   "cell_type": "markdown",
   "metadata": {},
   "source": [
    "You can also select multiple columns by indexing the list of columns you would like to select:"
   ]
  },
  {
   "cell_type": "code",
   "execution_count": 5,
   "metadata": {
    "collapsed": false
   },
   "outputs": [
    {
     "data": {
      "text/html": [
       "<div>\n",
       "<style scoped>\n",
       "    .dataframe tbody tr th:only-of-type {\n",
       "        vertical-align: middle;\n",
       "    }\n",
       "\n",
       "    .dataframe tbody tr th {\n",
       "        vertical-align: top;\n",
       "    }\n",
       "\n",
       "    .dataframe thead th {\n",
       "        text-align: right;\n",
       "    }\n",
       "</style>\n",
       "<table border=\"1\" class=\"dataframe\">\n",
       "  <thead>\n",
       "    <tr style=\"text-align: right;\">\n",
       "      <th></th>\n",
       "      <th>order_dow</th>\n",
       "      <th>order_hour_of_day</th>\n",
       "    </tr>\n",
       "    <tr>\n",
       "      <th>order_id</th>\n",
       "      <th></th>\n",
       "      <th></th>\n",
       "    </tr>\n",
       "  </thead>\n",
       "  <tbody>\n",
       "    <tr>\n",
       "      <th>1076138</th>\n",
       "      <td>5</td>\n",
       "      <td>21</td>\n",
       "    </tr>\n",
       "    <tr>\n",
       "      <th>1609528</th>\n",
       "      <td>0</td>\n",
       "      <td>14</td>\n",
       "    </tr>\n",
       "    <tr>\n",
       "      <th>2156935</th>\n",
       "      <td>3</td>\n",
       "      <td>16</td>\n",
       "    </tr>\n",
       "    <tr>\n",
       "      <th>2661897</th>\n",
       "      <td>5</td>\n",
       "      <td>15</td>\n",
       "    </tr>\n",
       "    <tr>\n",
       "      <th>1577308</th>\n",
       "      <td>6</td>\n",
       "      <td>21</td>\n",
       "    </tr>\n",
       "  </tbody>\n",
       "</table>\n",
       "</div>"
      ],
      "text/plain": [
       "          order_dow  order_hour_of_day\n",
       "order_id                              \n",
       "1076138           5                 21\n",
       "1609528           0                 14\n",
       "2156935           3                 16\n",
       "2661897           5                 15\n",
       "1577308           6                 21"
      ]
     },
     "execution_count": 5,
     "metadata": {},
     "output_type": "execute_result"
    }
   ],
   "source": [
    "orders[['order_dow', 'order_hour_of_day']].head()"
   ]
  },
  {
   "cell_type": "markdown",
   "metadata": {},
   "source": [
    "* **Subset rows**: You can subset the rows of a dataframe by \n",
    "    1. `iloc[]`: based on the row numbers\n",
    "    2. `loc[]`: based on index value\n",
    "    3. `[]` with a logical condition\n",
    "\n",
    "Let's look at the following examples:"
   ]
  },
  {
   "cell_type": "markdown",
   "metadata": {},
   "source": [
    "To get the first 5 rows, use `iloc`:"
   ]
  },
  {
   "cell_type": "code",
   "execution_count": 6,
   "metadata": {
    "collapsed": false
   },
   "outputs": [
    {
     "data": {
      "text/html": [
       "<div>\n",
       "<style scoped>\n",
       "    .dataframe tbody tr th:only-of-type {\n",
       "        vertical-align: middle;\n",
       "    }\n",
       "\n",
       "    .dataframe tbody tr th {\n",
       "        vertical-align: top;\n",
       "    }\n",
       "\n",
       "    .dataframe thead th {\n",
       "        text-align: right;\n",
       "    }\n",
       "</style>\n",
       "<table border=\"1\" class=\"dataframe\">\n",
       "  <thead>\n",
       "    <tr style=\"text-align: right;\">\n",
       "      <th></th>\n",
       "      <th>user_id</th>\n",
       "      <th>eval_set</th>\n",
       "      <th>order_number</th>\n",
       "      <th>order_dow</th>\n",
       "      <th>order_hour_of_day</th>\n",
       "      <th>days_since_prior_order</th>\n",
       "    </tr>\n",
       "    <tr>\n",
       "      <th>order_id</th>\n",
       "      <th></th>\n",
       "      <th></th>\n",
       "      <th></th>\n",
       "      <th></th>\n",
       "      <th></th>\n",
       "      <th></th>\n",
       "    </tr>\n",
       "  </thead>\n",
       "  <tbody>\n",
       "    <tr>\n",
       "      <th>1076138</th>\n",
       "      <td>39487</td>\n",
       "      <td>prior</td>\n",
       "      <td>3</td>\n",
       "      <td>5</td>\n",
       "      <td>21</td>\n",
       "      <td>21.0</td>\n",
       "    </tr>\n",
       "    <tr>\n",
       "      <th>1609528</th>\n",
       "      <td>198072</td>\n",
       "      <td>prior</td>\n",
       "      <td>31</td>\n",
       "      <td>0</td>\n",
       "      <td>14</td>\n",
       "      <td>11.0</td>\n",
       "    </tr>\n",
       "    <tr>\n",
       "      <th>2156935</th>\n",
       "      <td>100263</td>\n",
       "      <td>prior</td>\n",
       "      <td>40</td>\n",
       "      <td>3</td>\n",
       "      <td>16</td>\n",
       "      <td>6.0</td>\n",
       "    </tr>\n",
       "    <tr>\n",
       "      <th>2661897</th>\n",
       "      <td>154498</td>\n",
       "      <td>prior</td>\n",
       "      <td>6</td>\n",
       "      <td>5</td>\n",
       "      <td>15</td>\n",
       "      <td>1.0</td>\n",
       "    </tr>\n",
       "    <tr>\n",
       "      <th>1577308</th>\n",
       "      <td>187457</td>\n",
       "      <td>prior</td>\n",
       "      <td>8</td>\n",
       "      <td>6</td>\n",
       "      <td>21</td>\n",
       "      <td>19.0</td>\n",
       "    </tr>\n",
       "  </tbody>\n",
       "</table>\n",
       "</div>"
      ],
      "text/plain": [
       "          user_id eval_set  order_number  order_dow  order_hour_of_day  \\\n",
       "order_id                                                                 \n",
       "1076138     39487    prior             3          5                 21   \n",
       "1609528    198072    prior            31          0                 14   \n",
       "2156935    100263    prior            40          3                 16   \n",
       "2661897    154498    prior             6          5                 15   \n",
       "1577308    187457    prior             8          6                 21   \n",
       "\n",
       "          days_since_prior_order  \n",
       "order_id                          \n",
       "1076138                     21.0  \n",
       "1609528                     11.0  \n",
       "2156935                      6.0  \n",
       "2661897                      1.0  \n",
       "1577308                     19.0  "
      ]
     },
     "execution_count": 6,
     "metadata": {},
     "output_type": "execute_result"
    }
   ],
   "source": [
    "orders.iloc[range(5)]"
   ]
  },
  {
   "cell_type": "markdown",
   "metadata": {},
   "source": [
    "To subset based on the index value, use the `loc` command:"
   ]
  },
  {
   "cell_type": "code",
   "execution_count": 7,
   "metadata": {
    "collapsed": false
   },
   "outputs": [
    {
     "data": {
      "text/html": [
       "<div>\n",
       "<style scoped>\n",
       "    .dataframe tbody tr th:only-of-type {\n",
       "        vertical-align: middle;\n",
       "    }\n",
       "\n",
       "    .dataframe tbody tr th {\n",
       "        vertical-align: top;\n",
       "    }\n",
       "\n",
       "    .dataframe thead th {\n",
       "        text-align: right;\n",
       "    }\n",
       "</style>\n",
       "<table border=\"1\" class=\"dataframe\">\n",
       "  <thead>\n",
       "    <tr style=\"text-align: right;\">\n",
       "      <th></th>\n",
       "      <th>user_id</th>\n",
       "      <th>eval_set</th>\n",
       "      <th>order_number</th>\n",
       "      <th>order_dow</th>\n",
       "      <th>order_hour_of_day</th>\n",
       "      <th>days_since_prior_order</th>\n",
       "    </tr>\n",
       "    <tr>\n",
       "      <th>order_id</th>\n",
       "      <th></th>\n",
       "      <th></th>\n",
       "      <th></th>\n",
       "      <th></th>\n",
       "      <th></th>\n",
       "      <th></th>\n",
       "    </tr>\n",
       "  </thead>\n",
       "  <tbody>\n",
       "    <tr>\n",
       "      <th>1076138</th>\n",
       "      <td>39487</td>\n",
       "      <td>prior</td>\n",
       "      <td>3</td>\n",
       "      <td>5</td>\n",
       "      <td>21</td>\n",
       "      <td>21.0</td>\n",
       "    </tr>\n",
       "    <tr>\n",
       "      <th>1609528</th>\n",
       "      <td>198072</td>\n",
       "      <td>prior</td>\n",
       "      <td>31</td>\n",
       "      <td>0</td>\n",
       "      <td>14</td>\n",
       "      <td>11.0</td>\n",
       "    </tr>\n",
       "  </tbody>\n",
       "</table>\n",
       "</div>"
      ],
      "text/plain": [
       "          user_id eval_set  order_number  order_dow  order_hour_of_day  \\\n",
       "order_id                                                                 \n",
       "1076138     39487    prior             3          5                 21   \n",
       "1609528    198072    prior            31          0                 14   \n",
       "\n",
       "          days_since_prior_order  \n",
       "order_id                          \n",
       "1076138                     21.0  \n",
       "1609528                     11.0  "
      ]
     },
     "execution_count": 7,
     "metadata": {},
     "output_type": "execute_result"
    }
   ],
   "source": [
    "orders.loc[[1076138,1609528]]"
   ]
  },
  {
   "cell_type": "markdown",
   "metadata": {},
   "source": [
    "If we only want to look at the order hour of day being 6pm:"
   ]
  },
  {
   "cell_type": "code",
   "execution_count": 8,
   "metadata": {
    "collapsed": false
   },
   "outputs": [
    {
     "name": "stdout",
     "output_type": "stream",
     "text": [
      "(9040, 6)\n"
     ]
    },
    {
     "data": {
      "text/html": [
       "<div>\n",
       "<style scoped>\n",
       "    .dataframe tbody tr th:only-of-type {\n",
       "        vertical-align: middle;\n",
       "    }\n",
       "\n",
       "    .dataframe tbody tr th {\n",
       "        vertical-align: top;\n",
       "    }\n",
       "\n",
       "    .dataframe thead th {\n",
       "        text-align: right;\n",
       "    }\n",
       "</style>\n",
       "<table border=\"1\" class=\"dataframe\">\n",
       "  <thead>\n",
       "    <tr style=\"text-align: right;\">\n",
       "      <th></th>\n",
       "      <th>user_id</th>\n",
       "      <th>eval_set</th>\n",
       "      <th>order_number</th>\n",
       "      <th>order_dow</th>\n",
       "      <th>order_hour_of_day</th>\n",
       "      <th>days_since_prior_order</th>\n",
       "    </tr>\n",
       "    <tr>\n",
       "      <th>order_id</th>\n",
       "      <th></th>\n",
       "      <th></th>\n",
       "      <th></th>\n",
       "      <th></th>\n",
       "      <th></th>\n",
       "      <th></th>\n",
       "    </tr>\n",
       "  </thead>\n",
       "  <tbody>\n",
       "    <tr>\n",
       "      <th>2936202</th>\n",
       "      <td>178492</td>\n",
       "      <td>prior</td>\n",
       "      <td>15</td>\n",
       "      <td>1</td>\n",
       "      <td>18</td>\n",
       "      <td>5.0</td>\n",
       "    </tr>\n",
       "    <tr>\n",
       "      <th>834571</th>\n",
       "      <td>136721</td>\n",
       "      <td>prior</td>\n",
       "      <td>1</td>\n",
       "      <td>2</td>\n",
       "      <td>18</td>\n",
       "      <td>NaN</td>\n",
       "    </tr>\n",
       "    <tr>\n",
       "      <th>840261</th>\n",
       "      <td>157488</td>\n",
       "      <td>prior</td>\n",
       "      <td>3</td>\n",
       "      <td>6</td>\n",
       "      <td>18</td>\n",
       "      <td>7.0</td>\n",
       "    </tr>\n",
       "    <tr>\n",
       "      <th>3246776</th>\n",
       "      <td>174758</td>\n",
       "      <td>prior</td>\n",
       "      <td>33</td>\n",
       "      <td>4</td>\n",
       "      <td>18</td>\n",
       "      <td>6.0</td>\n",
       "    </tr>\n",
       "    <tr>\n",
       "      <th>2001934</th>\n",
       "      <td>147430</td>\n",
       "      <td>prior</td>\n",
       "      <td>1</td>\n",
       "      <td>6</td>\n",
       "      <td>18</td>\n",
       "      <td>NaN</td>\n",
       "    </tr>\n",
       "  </tbody>\n",
       "</table>\n",
       "</div>"
      ],
      "text/plain": [
       "          user_id eval_set  order_number  order_dow  order_hour_of_day  \\\n",
       "order_id                                                                 \n",
       "2936202    178492    prior            15          1                 18   \n",
       "834571     136721    prior             1          2                 18   \n",
       "840261     157488    prior             3          6                 18   \n",
       "3246776    174758    prior            33          4                 18   \n",
       "2001934    147430    prior             1          6                 18   \n",
       "\n",
       "          days_since_prior_order  \n",
       "order_id                          \n",
       "2936202                      5.0  \n",
       "834571                       NaN  \n",
       "840261                       7.0  \n",
       "3246776                      6.0  \n",
       "2001934                      NaN  "
      ]
     },
     "execution_count": 8,
     "metadata": {},
     "output_type": "execute_result"
    }
   ],
   "source": [
    "orders_18pm = orders[orders['order_hour_of_day'] == 18]\n",
    "print(orders_18pm.shape)\n",
    "orders_18pm.iloc[:5,:]"
   ]
  },
  {
   "cell_type": "markdown",
   "metadata": {},
   "source": [
    "Another example use case could be that if we want to only keep observations with non-NA values for `days_since_prior_order`, we can use the `isnull()` function which returns a boolean array for indexing:"
   ]
  },
  {
   "cell_type": "code",
   "execution_count": 9,
   "metadata": {
    "collapsed": false
   },
   "outputs": [
    {
     "data": {
      "text/html": [
       "<div>\n",
       "<style scoped>\n",
       "    .dataframe tbody tr th:only-of-type {\n",
       "        vertical-align: middle;\n",
       "    }\n",
       "\n",
       "    .dataframe tbody tr th {\n",
       "        vertical-align: top;\n",
       "    }\n",
       "\n",
       "    .dataframe thead th {\n",
       "        text-align: right;\n",
       "    }\n",
       "</style>\n",
       "<table border=\"1\" class=\"dataframe\">\n",
       "  <thead>\n",
       "    <tr style=\"text-align: right;\">\n",
       "      <th></th>\n",
       "      <th>user_id</th>\n",
       "      <th>eval_set</th>\n",
       "      <th>order_number</th>\n",
       "      <th>order_dow</th>\n",
       "      <th>order_hour_of_day</th>\n",
       "      <th>days_since_prior_order</th>\n",
       "    </tr>\n",
       "    <tr>\n",
       "      <th>order_id</th>\n",
       "      <th></th>\n",
       "      <th></th>\n",
       "      <th></th>\n",
       "      <th></th>\n",
       "      <th></th>\n",
       "      <th></th>\n",
       "    </tr>\n",
       "  </thead>\n",
       "  <tbody>\n",
       "    <tr>\n",
       "      <th>1076138</th>\n",
       "      <td>39487</td>\n",
       "      <td>prior</td>\n",
       "      <td>3</td>\n",
       "      <td>5</td>\n",
       "      <td>21</td>\n",
       "      <td>21.0</td>\n",
       "    </tr>\n",
       "    <tr>\n",
       "      <th>1609528</th>\n",
       "      <td>198072</td>\n",
       "      <td>prior</td>\n",
       "      <td>31</td>\n",
       "      <td>0</td>\n",
       "      <td>14</td>\n",
       "      <td>11.0</td>\n",
       "    </tr>\n",
       "    <tr>\n",
       "      <th>2156935</th>\n",
       "      <td>100263</td>\n",
       "      <td>prior</td>\n",
       "      <td>40</td>\n",
       "      <td>3</td>\n",
       "      <td>16</td>\n",
       "      <td>6.0</td>\n",
       "    </tr>\n",
       "    <tr>\n",
       "      <th>2661897</th>\n",
       "      <td>154498</td>\n",
       "      <td>prior</td>\n",
       "      <td>6</td>\n",
       "      <td>5</td>\n",
       "      <td>15</td>\n",
       "      <td>1.0</td>\n",
       "    </tr>\n",
       "    <tr>\n",
       "      <th>1577308</th>\n",
       "      <td>187457</td>\n",
       "      <td>prior</td>\n",
       "      <td>8</td>\n",
       "      <td>6</td>\n",
       "      <td>21</td>\n",
       "      <td>19.0</td>\n",
       "    </tr>\n",
       "  </tbody>\n",
       "</table>\n",
       "</div>"
      ],
      "text/plain": [
       "          user_id eval_set  order_number  order_dow  order_hour_of_day  \\\n",
       "order_id                                                                 \n",
       "1076138     39487    prior             3          5                 21   \n",
       "1609528    198072    prior            31          0                 14   \n",
       "2156935    100263    prior            40          3                 16   \n",
       "2661897    154498    prior             6          5                 15   \n",
       "1577308    187457    prior             8          6                 21   \n",
       "\n",
       "          days_since_prior_order  \n",
       "order_id                          \n",
       "1076138                     21.0  \n",
       "1609528                     11.0  \n",
       "2156935                      6.0  \n",
       "2661897                      1.0  \n",
       "1577308                     19.0  "
      ]
     },
     "execution_count": 9,
     "metadata": {},
     "output_type": "execute_result"
    }
   ],
   "source": [
    "orders_noNA = orders[~orders['days_since_prior_order'].isnull()];\n",
    "orders_noNA.head()"
   ]
  },
  {
   "cell_type": "markdown",
   "metadata": {},
   "source": [
    "## Exercise 1: Explore `aisles` and `products` data\n",
    "Please read in the `aisles.csv` and `products.csv` files. Answer the following questions:\n",
    "* How many distinct aisles are there?\n",
    "* What's the name for aisle_id = 61? \n",
    "* How many products are there in aisle_id = 61?\n"
   ]
  },
  {
   "cell_type": "code",
   "execution_count": 10,
   "metadata": {
    "collapsed": false
   },
   "outputs": [
    {
     "name": "stdout",
     "output_type": "stream",
     "text": [
      "(134, 1)\n",
      "(134, 1)\n",
      "aisle    cookies cakes\n",
      "Name: 61, dtype: object\n"
     ]
    },
    {
     "data": {
      "text/html": [
       "<div>\n",
       "<style scoped>\n",
       "    .dataframe tbody tr th:only-of-type {\n",
       "        vertical-align: middle;\n",
       "    }\n",
       "\n",
       "    .dataframe tbody tr th {\n",
       "        vertical-align: top;\n",
       "    }\n",
       "\n",
       "    .dataframe thead th {\n",
       "        text-align: right;\n",
       "    }\n",
       "</style>\n",
       "<table border=\"1\" class=\"dataframe\">\n",
       "  <thead>\n",
       "    <tr style=\"text-align: right;\">\n",
       "      <th></th>\n",
       "      <th>aisle</th>\n",
       "    </tr>\n",
       "    <tr>\n",
       "      <th>aisle_id</th>\n",
       "      <th></th>\n",
       "    </tr>\n",
       "  </thead>\n",
       "  <tbody>\n",
       "    <tr>\n",
       "      <th>1</th>\n",
       "      <td>prepared soups salads</td>\n",
       "    </tr>\n",
       "    <tr>\n",
       "      <th>2</th>\n",
       "      <td>specialty cheeses</td>\n",
       "    </tr>\n",
       "    <tr>\n",
       "      <th>3</th>\n",
       "      <td>energy granola bars</td>\n",
       "    </tr>\n",
       "    <tr>\n",
       "      <th>4</th>\n",
       "      <td>instant foods</td>\n",
       "    </tr>\n",
       "    <tr>\n",
       "      <th>5</th>\n",
       "      <td>marinades meat preparation</td>\n",
       "    </tr>\n",
       "  </tbody>\n",
       "</table>\n",
       "</div>"
      ],
      "text/plain": [
       "                               aisle\n",
       "aisle_id                            \n",
       "1              prepared soups salads\n",
       "2                  specialty cheeses\n",
       "3                energy granola bars\n",
       "4                      instant foods\n",
       "5         marinades meat preparation"
      ]
     },
     "execution_count": 10,
     "metadata": {},
     "output_type": "execute_result"
    }
   ],
   "source": [
    "aisles = pd.read_csv('data/aisles.csv', index_col='aisle_id');\n",
    "print(aisles.shape)\n",
    "print(aisles[['aisle']].drop_duplicates().shape)\n",
    "print(aisles.loc[61])\n",
    "aisles.head()"
   ]
  },
  {
   "cell_type": "code",
   "execution_count": 11,
   "metadata": {
    "collapsed": false
   },
   "outputs": [
    {
     "name": "stdout",
     "output_type": "stream",
     "text": [
      "(874, 3)\n"
     ]
    }
   ],
   "source": [
    "products = pd.read_csv('data/products.csv', index_col='product_id');\n",
    "print(products[products['aisle_id'] == 61].shape)"
   ]
  },
  {
   "cell_type": "markdown",
   "metadata": {},
   "source": [
    "### Visualization\n",
    "\n",
    "Let's try to look at the relationship between the day-of-the-week and the hour-of-day for all orders. We can tabulate them by using the `crosstab()` function:"
   ]
  },
  {
   "cell_type": "code",
   "execution_count": 12,
   "metadata": {
    "collapsed": false
   },
   "outputs": [
    {
     "data": {
      "text/html": [
       "<div>\n",
       "<style scoped>\n",
       "    .dataframe tbody tr th:only-of-type {\n",
       "        vertical-align: middle;\n",
       "    }\n",
       "\n",
       "    .dataframe tbody tr th {\n",
       "        vertical-align: top;\n",
       "    }\n",
       "\n",
       "    .dataframe thead th {\n",
       "        text-align: right;\n",
       "    }\n",
       "</style>\n",
       "<table border=\"1\" class=\"dataframe\">\n",
       "  <thead>\n",
       "    <tr style=\"text-align: right;\">\n",
       "      <th>order_dow</th>\n",
       "      <th>0</th>\n",
       "      <th>1</th>\n",
       "      <th>2</th>\n",
       "      <th>3</th>\n",
       "      <th>4</th>\n",
       "      <th>5</th>\n",
       "      <th>6</th>\n",
       "    </tr>\n",
       "    <tr>\n",
       "      <th>order_hour_of_day</th>\n",
       "      <th></th>\n",
       "      <th></th>\n",
       "      <th></th>\n",
       "      <th></th>\n",
       "      <th></th>\n",
       "      <th></th>\n",
       "      <th></th>\n",
       "    </tr>\n",
       "  </thead>\n",
       "  <tbody>\n",
       "    <tr>\n",
       "      <th>0</th>\n",
       "      <td>208</td>\n",
       "      <td>206</td>\n",
       "      <td>152</td>\n",
       "      <td>136</td>\n",
       "      <td>130</td>\n",
       "      <td>156</td>\n",
       "      <td>167</td>\n",
       "    </tr>\n",
       "    <tr>\n",
       "      <th>1</th>\n",
       "      <td>122</td>\n",
       "      <td>101</td>\n",
       "      <td>76</td>\n",
       "      <td>76</td>\n",
       "      <td>72</td>\n",
       "      <td>78</td>\n",
       "      <td>87</td>\n",
       "    </tr>\n",
       "    <tr>\n",
       "      <th>2</th>\n",
       "      <td>73</td>\n",
       "      <td>60</td>\n",
       "      <td>45</td>\n",
       "      <td>41</td>\n",
       "      <td>41</td>\n",
       "      <td>46</td>\n",
       "      <td>63</td>\n",
       "    </tr>\n",
       "    <tr>\n",
       "      <th>3</th>\n",
       "      <td>39</td>\n",
       "      <td>32</td>\n",
       "      <td>36</td>\n",
       "      <td>42</td>\n",
       "      <td>27</td>\n",
       "      <td>39</td>\n",
       "      <td>50</td>\n",
       "    </tr>\n",
       "    <tr>\n",
       "      <th>4</th>\n",
       "      <td>50</td>\n",
       "      <td>43</td>\n",
       "      <td>35</td>\n",
       "      <td>29</td>\n",
       "      <td>39</td>\n",
       "      <td>49</td>\n",
       "      <td>45</td>\n",
       "    </tr>\n",
       "    <tr>\n",
       "      <th>5</th>\n",
       "      <td>64</td>\n",
       "      <td>89</td>\n",
       "      <td>68</td>\n",
       "      <td>62</td>\n",
       "      <td>58</td>\n",
       "      <td>92</td>\n",
       "      <td>48</td>\n",
       "    </tr>\n",
       "    <tr>\n",
       "      <th>6</th>\n",
       "      <td>177</td>\n",
       "      <td>277</td>\n",
       "      <td>227</td>\n",
       "      <td>228</td>\n",
       "      <td>229</td>\n",
       "      <td>241</td>\n",
       "      <td>156</td>\n",
       "    </tr>\n",
       "    <tr>\n",
       "      <th>7</th>\n",
       "      <td>612</td>\n",
       "      <td>812</td>\n",
       "      <td>672</td>\n",
       "      <td>625</td>\n",
       "      <td>650</td>\n",
       "      <td>661</td>\n",
       "      <td>603</td>\n",
       "    </tr>\n",
       "    <tr>\n",
       "      <th>8</th>\n",
       "      <td>1409</td>\n",
       "      <td>1697</td>\n",
       "      <td>1229</td>\n",
       "      <td>1141</td>\n",
       "      <td>1083</td>\n",
       "      <td>1231</td>\n",
       "      <td>1177</td>\n",
       "    </tr>\n",
       "    <tr>\n",
       "      <th>9</th>\n",
       "      <td>2021</td>\n",
       "      <td>2566</td>\n",
       "      <td>1777</td>\n",
       "      <td>1575</td>\n",
       "      <td>1616</td>\n",
       "      <td>1674</td>\n",
       "      <td>1531</td>\n",
       "    </tr>\n",
       "    <tr>\n",
       "      <th>10</th>\n",
       "      <td>2329</td>\n",
       "      <td>2811</td>\n",
       "      <td>1981</td>\n",
       "      <td>1794</td>\n",
       "      <td>1791</td>\n",
       "      <td>1923</td>\n",
       "      <td>1750</td>\n",
       "    </tr>\n",
       "    <tr>\n",
       "      <th>11</th>\n",
       "      <td>2630</td>\n",
       "      <td>2580</td>\n",
       "      <td>1921</td>\n",
       "      <td>1740</td>\n",
       "      <td>1605</td>\n",
       "      <td>1912</td>\n",
       "      <td>1747</td>\n",
       "    </tr>\n",
       "    <tr>\n",
       "      <th>12</th>\n",
       "      <td>2661</td>\n",
       "      <td>2309</td>\n",
       "      <td>1774</td>\n",
       "      <td>1768</td>\n",
       "      <td>1689</td>\n",
       "      <td>1835</td>\n",
       "      <td>1845</td>\n",
       "    </tr>\n",
       "    <tr>\n",
       "      <th>13</th>\n",
       "      <td>2718</td>\n",
       "      <td>2336</td>\n",
       "      <td>1822</td>\n",
       "      <td>1719</td>\n",
       "      <td>1684</td>\n",
       "      <td>1837</td>\n",
       "      <td>1899</td>\n",
       "    </tr>\n",
       "    <tr>\n",
       "      <th>14</th>\n",
       "      <td>2798</td>\n",
       "      <td>2355</td>\n",
       "      <td>1863</td>\n",
       "      <td>1681</td>\n",
       "      <td>1628</td>\n",
       "      <td>1875</td>\n",
       "      <td>1904</td>\n",
       "    </tr>\n",
       "    <tr>\n",
       "      <th>15</th>\n",
       "      <td>2710</td>\n",
       "      <td>2347</td>\n",
       "      <td>1943</td>\n",
       "      <td>1824</td>\n",
       "      <td>1708</td>\n",
       "      <td>1834</td>\n",
       "      <td>1935</td>\n",
       "    </tr>\n",
       "    <tr>\n",
       "      <th>16</th>\n",
       "      <td>2471</td>\n",
       "      <td>2242</td>\n",
       "      <td>1842</td>\n",
       "      <td>1742</td>\n",
       "      <td>1721</td>\n",
       "      <td>1753</td>\n",
       "      <td>1693</td>\n",
       "    </tr>\n",
       "    <tr>\n",
       "      <th>17</th>\n",
       "      <td>1940</td>\n",
       "      <td>1737</td>\n",
       "      <td>1623</td>\n",
       "      <td>1495</td>\n",
       "      <td>1524</td>\n",
       "      <td>1488</td>\n",
       "      <td>1561</td>\n",
       "    </tr>\n",
       "    <tr>\n",
       "      <th>18</th>\n",
       "      <td>1505</td>\n",
       "      <td>1390</td>\n",
       "      <td>1337</td>\n",
       "      <td>1218</td>\n",
       "      <td>1237</td>\n",
       "      <td>1181</td>\n",
       "      <td>1172</td>\n",
       "    </tr>\n",
       "    <tr>\n",
       "      <th>19</th>\n",
       "      <td>1146</td>\n",
       "      <td>1147</td>\n",
       "      <td>1071</td>\n",
       "      <td>895</td>\n",
       "      <td>1008</td>\n",
       "      <td>955</td>\n",
       "      <td>953</td>\n",
       "    </tr>\n",
       "    <tr>\n",
       "      <th>20</th>\n",
       "      <td>933</td>\n",
       "      <td>858</td>\n",
       "      <td>772</td>\n",
       "      <td>706</td>\n",
       "      <td>708</td>\n",
       "      <td>694</td>\n",
       "      <td>621</td>\n",
       "    </tr>\n",
       "    <tr>\n",
       "      <th>21</th>\n",
       "      <td>704</td>\n",
       "      <td>554</td>\n",
       "      <td>526</td>\n",
       "      <td>499</td>\n",
       "      <td>548</td>\n",
       "      <td>514</td>\n",
       "      <td>501</td>\n",
       "    </tr>\n",
       "    <tr>\n",
       "      <th>22</th>\n",
       "      <td>563</td>\n",
       "      <td>430</td>\n",
       "      <td>412</td>\n",
       "      <td>414</td>\n",
       "      <td>416</td>\n",
       "      <td>350</td>\n",
       "      <td>414</td>\n",
       "    </tr>\n",
       "    <tr>\n",
       "      <th>23</th>\n",
       "      <td>352</td>\n",
       "      <td>258</td>\n",
       "      <td>250</td>\n",
       "      <td>227</td>\n",
       "      <td>296</td>\n",
       "      <td>253</td>\n",
       "      <td>350</td>\n",
       "    </tr>\n",
       "  </tbody>\n",
       "</table>\n",
       "</div>"
      ],
      "text/plain": [
       "order_dow             0     1     2     3     4     5     6\n",
       "order_hour_of_day                                          \n",
       "0                   208   206   152   136   130   156   167\n",
       "1                   122   101    76    76    72    78    87\n",
       "2                    73    60    45    41    41    46    63\n",
       "3                    39    32    36    42    27    39    50\n",
       "4                    50    43    35    29    39    49    45\n",
       "5                    64    89    68    62    58    92    48\n",
       "6                   177   277   227   228   229   241   156\n",
       "7                   612   812   672   625   650   661   603\n",
       "8                  1409  1697  1229  1141  1083  1231  1177\n",
       "9                  2021  2566  1777  1575  1616  1674  1531\n",
       "10                 2329  2811  1981  1794  1791  1923  1750\n",
       "11                 2630  2580  1921  1740  1605  1912  1747\n",
       "12                 2661  2309  1774  1768  1689  1835  1845\n",
       "13                 2718  2336  1822  1719  1684  1837  1899\n",
       "14                 2798  2355  1863  1681  1628  1875  1904\n",
       "15                 2710  2347  1943  1824  1708  1834  1935\n",
       "16                 2471  2242  1842  1742  1721  1753  1693\n",
       "17                 1940  1737  1623  1495  1524  1488  1561\n",
       "18                 1505  1390  1337  1218  1237  1181  1172\n",
       "19                 1146  1147  1071   895  1008   955   953\n",
       "20                  933   858   772   706   708   694   621\n",
       "21                  704   554   526   499   548   514   501\n",
       "22                  563   430   412   414   416   350   414\n",
       "23                  352   258   250   227   296   253   350"
      ]
     },
     "execution_count": 12,
     "metadata": {},
     "output_type": "execute_result"
    }
   ],
   "source": [
    "orders_counts = pd.crosstab(orders['order_hour_of_day'], orders['order_dow'])\n",
    "orders_counts"
   ]
  },
  {
   "cell_type": "markdown",
   "metadata": {},
   "source": [
    "One interesting way to look at this data is to plot the distribution of hour-of-day by different day-of-the-week. A `Pandas` dataframe has some plot functions that can be called directly on it. For example, to do a line plot of the counts by each, "
   ]
  },
  {
   "cell_type": "code",
   "execution_count": 13,
   "metadata": {
    "collapsed": false,
    "scrolled": true
   },
   "outputs": [
    {
     "data": {
      "text/plain": [
       "<matplotlib.axes._subplots.AxesSubplot at 0x10e333950>"
      ]
     },
     "execution_count": 13,
     "metadata": {},
     "output_type": "execute_result"
    },
    {
     "data": {
      "image/png": "[encoded data removed]",
      "text/plain": [
       "<matplotlib.figure.Figure at 0x10e353450>"
      ]
     },
     "metadata": {},
     "output_type": "display_data"
    }
   ],
   "source": [
    "orders_counts.plot()"
   ]
  },
  {
   "cell_type": "markdown",
   "metadata": {},
   "source": [
    "That's pretty good already, without us needing to supply any arguments to the plot function. Monday and Sundays seem to be the days with more orders placed than other days. It also seems like there is a little bump on Monday, at around 9 to 10am."
   ]
  },
  {
   "cell_type": "markdown",
   "metadata": {
    "collapsed": true
   },
   "source": [
    "## Group, Summarize, and Sort\n",
    "\n",
    "Suppose we are intereted in knowing something on the individual user level. For example, what's the total number of orders each user had? We can use the `groupby` and `size`. For a single variable this achieves similar effect as `value_counts()` function on that column:"
   ]
  },
  {
   "cell_type": "code",
   "execution_count": 30,
   "metadata": {
    "collapsed": false
   },
   "outputs": [
    {
     "data": {
      "text/plain": [
       "user_id\n",
       "3     1\n",
       "7     1\n",
       "15    1\n",
       "17    1\n",
       "19    2\n",
       "dtype: int64"
      ]
     },
     "execution_count": 30,
     "metadata": {},
     "output_type": "execute_result"
    }
   ],
   "source": [
    "orders.groupby('user_id').size().iloc[0:5]"
   ]
  },
  {
   "cell_type": "code",
   "execution_count": 31,
   "metadata": {
    "collapsed": false
   },
   "outputs": [
    {
     "data": {
      "text/plain": [
       "154246    15\n",
       "73042     13\n",
       "60519     12\n",
       "24659     12\n",
       "146382    12\n",
       "Name: user_id, dtype: int64"
      ]
     },
     "execution_count": 31,
     "metadata": {},
     "output_type": "execute_result"
    }
   ],
   "source": [
    "orders['user_id'].value_counts().head()"
   ]
  },
  {
   "cell_type": "markdown",
   "metadata": {},
   "source": [
    "We can sort it further by the `sort_values()` function (and specifying `ascending = False` for decreasing order):"
   ]
  },
  {
   "cell_type": "code",
   "execution_count": 32,
   "metadata": {
    "collapsed": false
   },
   "outputs": [
    {
     "data": {
      "text/plain": [
       "user_id\n",
       "154246    15\n",
       "73042     13\n",
       "60519     12\n",
       "24659     12\n",
       "146382    12\n",
       "dtype: int64"
      ]
     },
     "execution_count": 32,
     "metadata": {},
     "output_type": "execute_result"
    }
   ],
   "source": [
    "orders.groupby('user_id').size().sort_values(ascending=False).head()"
   ]
  },
  {
   "cell_type": "markdown",
   "metadata": {},
   "source": [
    "More generally, you can use the `agg` for aggregating specific summary statistic. \n",
    "* You can supply a single type and it will be performed on all variables: for example, getting the mean of each variable on each user:"
   ]
  },
  {
   "cell_type": "code",
   "execution_count": 38,
   "metadata": {
    "collapsed": false
   },
   "outputs": [
    {
     "data": {
      "text/html": [
       "<div>\n",
       "<style scoped>\n",
       "    .dataframe tbody tr th:only-of-type {\n",
       "        vertical-align: middle;\n",
       "    }\n",
       "\n",
       "    .dataframe tbody tr th {\n",
       "        vertical-align: top;\n",
       "    }\n",
       "\n",
       "    .dataframe thead th {\n",
       "        text-align: right;\n",
       "    }\n",
       "</style>\n",
       "<table border=\"1\" class=\"dataframe\">\n",
       "  <thead>\n",
       "    <tr style=\"text-align: right;\">\n",
       "      <th></th>\n",
       "      <th>order_number</th>\n",
       "      <th>order_dow</th>\n",
       "      <th>order_hour_of_day</th>\n",
       "      <th>days_since_prior_order</th>\n",
       "    </tr>\n",
       "    <tr>\n",
       "      <th>user_id</th>\n",
       "      <th></th>\n",
       "      <th></th>\n",
       "      <th></th>\n",
       "      <th></th>\n",
       "    </tr>\n",
       "  </thead>\n",
       "  <tbody>\n",
       "    <tr>\n",
       "      <th>3</th>\n",
       "      <td>12.0</td>\n",
       "      <td>1.0</td>\n",
       "      <td>15.0</td>\n",
       "      <td>15.0</td>\n",
       "    </tr>\n",
       "    <tr>\n",
       "      <th>7</th>\n",
       "      <td>12.0</td>\n",
       "      <td>0.0</td>\n",
       "      <td>14.0</td>\n",
       "      <td>7.0</td>\n",
       "    </tr>\n",
       "    <tr>\n",
       "      <th>15</th>\n",
       "      <td>12.0</td>\n",
       "      <td>1.0</td>\n",
       "      <td>8.0</td>\n",
       "      <td>6.0</td>\n",
       "    </tr>\n",
       "    <tr>\n",
       "      <th>17</th>\n",
       "      <td>11.0</td>\n",
       "      <td>4.0</td>\n",
       "      <td>15.0</td>\n",
       "      <td>4.0</td>\n",
       "    </tr>\n",
       "    <tr>\n",
       "      <th>19</th>\n",
       "      <td>6.0</td>\n",
       "      <td>5.0</td>\n",
       "      <td>14.5</td>\n",
       "      <td>7.0</td>\n",
       "    </tr>\n",
       "  </tbody>\n",
       "</table>\n",
       "</div>"
      ],
      "text/plain": [
       "         order_number  order_dow  order_hour_of_day  days_since_prior_order\n",
       "user_id                                                                    \n",
       "3                12.0        1.0               15.0                    15.0\n",
       "7                12.0        0.0               14.0                     7.0\n",
       "15               12.0        1.0                8.0                     6.0\n",
       "17               11.0        4.0               15.0                     4.0\n",
       "19                6.0        5.0               14.5                     7.0"
      ]
     },
     "execution_count": 38,
     "metadata": {},
     "output_type": "execute_result"
    }
   ],
   "source": [
    "orders.groupby('user_id').agg('mean')[:5]"
   ]
  },
  {
   "cell_type": "markdown",
   "metadata": {},
   "source": [
    "* or supply a dictionary that the specfic variable as key: here only summarizses the mean of the `order_hour_of_day`, and the maximum of the `days_since_prior_order`:"
   ]
  },
  {
   "cell_type": "code",
   "execution_count": 40,
   "metadata": {
    "collapsed": false
   },
   "outputs": [
    {
     "data": {
      "text/html": [
       "<div>\n",
       "<style scoped>\n",
       "    .dataframe tbody tr th:only-of-type {\n",
       "        vertical-align: middle;\n",
       "    }\n",
       "\n",
       "    .dataframe tbody tr th {\n",
       "        vertical-align: top;\n",
       "    }\n",
       "\n",
       "    .dataframe thead th {\n",
       "        text-align: right;\n",
       "    }\n",
       "</style>\n",
       "<table border=\"1\" class=\"dataframe\">\n",
       "  <thead>\n",
       "    <tr style=\"text-align: right;\">\n",
       "      <th></th>\n",
       "      <th>order_hour_of_day</th>\n",
       "      <th>days_since_prior_order</th>\n",
       "    </tr>\n",
       "    <tr>\n",
       "      <th>user_id</th>\n",
       "      <th></th>\n",
       "      <th></th>\n",
       "    </tr>\n",
       "  </thead>\n",
       "  <tbody>\n",
       "    <tr>\n",
       "      <th>3</th>\n",
       "      <td>15.0</td>\n",
       "      <td>15.0</td>\n",
       "    </tr>\n",
       "    <tr>\n",
       "      <th>7</th>\n",
       "      <td>14.0</td>\n",
       "      <td>7.0</td>\n",
       "    </tr>\n",
       "    <tr>\n",
       "      <th>15</th>\n",
       "      <td>8.0</td>\n",
       "      <td>6.0</td>\n",
       "    </tr>\n",
       "    <tr>\n",
       "      <th>17</th>\n",
       "      <td>15.0</td>\n",
       "      <td>4.0</td>\n",
       "    </tr>\n",
       "    <tr>\n",
       "      <th>19</th>\n",
       "      <td>14.5</td>\n",
       "      <td>8.0</td>\n",
       "    </tr>\n",
       "  </tbody>\n",
       "</table>\n",
       "</div>"
      ],
      "text/plain": [
       "         order_hour_of_day  days_since_prior_order\n",
       "user_id                                           \n",
       "3                     15.0                    15.0\n",
       "7                     14.0                     7.0\n",
       "15                     8.0                     6.0\n",
       "17                    15.0                     4.0\n",
       "19                    14.5                     8.0"
      ]
     },
     "execution_count": 40,
     "metadata": {},
     "output_type": "execute_result"
    }
   ],
   "source": [
    "orders.groupby('user_id').agg({'order_hour_of_day': 'mean', 'days_since_prior_order': 'max'})[:5]"
   ]
  },
  {
   "cell_type": "markdown",
   "metadata": {},
   "source": [
    "## Exercise 2: Describing User Patterns\n",
    "\n",
    "From the `orders_products` dataframe, answer the following questions: \n",
    "* Are there more products that are reordered, or never ordered again?\n",
    "* Which `product_id` is the most frequently ordered? \n",
    "* What is that product called from the `products` dataframe?\n",
    "* Is there a relationship between the order when a product is added to cart (`add_to_cart_order`), and whether a product is reordered? \n",
    "* What about the relationship between whether the product is reordered and the total number of items in the order?"
   ]
  },
  {
   "cell_type": "code",
   "execution_count": 46,
   "metadata": {
    "collapsed": false
   },
   "outputs": [
    {
     "data": {
      "text/plain": [
       "1    42294\n",
       "0    27764\n",
       "Name: reordered, dtype: int64"
      ]
     },
     "execution_count": 46,
     "metadata": {},
     "output_type": "execute_result"
    }
   ],
   "source": [
    "orders_products['reordered'].value_counts()"
   ]
  },
  {
   "cell_type": "code",
   "execution_count": 26,
   "metadata": {
    "collapsed": false
   },
   "outputs": [
    {
     "data": {
      "text/plain": [
       "product_id\n",
       "24852    987\n",
       "13176    810\n",
       "21137    565\n",
       "21903    495\n",
       "47626    416\n",
       "dtype: int64"
      ]
     },
     "execution_count": 26,
     "metadata": {},
     "output_type": "execute_result"
    }
   ],
   "source": [
    "orders_products.groupby('product_id').size().sort_values(ascending=False).head()"
   ]
  },
  {
   "cell_type": "code",
   "execution_count": 27,
   "metadata": {
    "collapsed": false
   },
   "outputs": [
    {
     "data": {
      "text/plain": [
       "product_name     Banana\n",
       "aisle_id             24\n",
       "department_id         4\n",
       "Name: 24852, dtype: object"
      ]
     },
     "execution_count": 27,
     "metadata": {},
     "output_type": "execute_result"
    }
   ],
   "source": [
    "products.loc[24852]"
   ]
  },
  {
   "cell_type": "code",
   "execution_count": 28,
   "metadata": {
    "collapsed": false
   },
   "outputs": [
    {
     "data": {
      "text/html": [
       "<div>\n",
       "<style scoped>\n",
       "    .dataframe tbody tr th:only-of-type {\n",
       "        vertical-align: middle;\n",
       "    }\n",
       "\n",
       "    .dataframe tbody tr th {\n",
       "        vertical-align: top;\n",
       "    }\n",
       "\n",
       "    .dataframe thead th {\n",
       "        text-align: right;\n",
       "    }\n",
       "</style>\n",
       "<table border=\"1\" class=\"dataframe\">\n",
       "  <thead>\n",
       "    <tr style=\"text-align: right;\">\n",
       "      <th></th>\n",
       "      <th>add_to_cart_order</th>\n",
       "    </tr>\n",
       "    <tr>\n",
       "      <th>reordered</th>\n",
       "      <th></th>\n",
       "    </tr>\n",
       "  </thead>\n",
       "  <tbody>\n",
       "    <tr>\n",
       "      <th>0</th>\n",
       "      <td>10.067497</td>\n",
       "    </tr>\n",
       "    <tr>\n",
       "      <th>1</th>\n",
       "      <td>7.796567</td>\n",
       "    </tr>\n",
       "  </tbody>\n",
       "</table>\n",
       "</div>"
      ],
      "text/plain": [
       "           add_to_cart_order\n",
       "reordered                   \n",
       "0                  10.067497\n",
       "1                   7.796567"
      ]
     },
     "execution_count": 28,
     "metadata": {},
     "output_type": "execute_result"
    }
   ],
   "source": [
    "orders_products.groupby('reordered').agg({'add_to_cart_order': 'mean'})"
   ]
  },
  {
   "cell_type": "markdown",
   "metadata": {
    "collapsed": true
   },
   "source": [
    "## Merge and Join\n",
    "\n",
    "With many separate dataframes, it is often useful to join them to understand the relationship between variables and also to create additional features in predictions. Pandas provides high-performance, in-memory join operations that are similar to relational databases such as SQL.\n",
    "\n",
    "When the two dataframes are both indexed by the same variable that you want to join on, it is easy: use the `join` function on the left dataframe, and the right data frame is supplied as second argument.\n",
    "\n",
    "If the current index is not the right variable, we can first reindex the data using the `set_index` command:\n",
    "```python\n",
    "orders_products=orders_products.set_index('order_id')\n",
    "orders=orders.set_index('order_id')\n",
    "```"
   ]
  },
  {
   "cell_type": "code",
   "execution_count": 56,
   "metadata": {
    "collapsed": false
   },
   "outputs": [
    {
     "data": {
      "text/html": [
       "<div>\n",
       "<style scoped>\n",
       "    .dataframe tbody tr th:only-of-type {\n",
       "        vertical-align: middle;\n",
       "    }\n",
       "\n",
       "    .dataframe tbody tr th {\n",
       "        vertical-align: top;\n",
       "    }\n",
       "\n",
       "    .dataframe thead th {\n",
       "        text-align: right;\n",
       "    }\n",
       "</style>\n",
       "<table border=\"1\" class=\"dataframe\">\n",
       "  <thead>\n",
       "    <tr style=\"text-align: right;\">\n",
       "      <th></th>\n",
       "      <th>product_id</th>\n",
       "      <th>add_to_cart_order</th>\n",
       "      <th>reordered</th>\n",
       "      <th>user_id</th>\n",
       "      <th>eval_set</th>\n",
       "      <th>order_number</th>\n",
       "      <th>order_dow</th>\n",
       "      <th>order_hour_of_day</th>\n",
       "      <th>days_since_prior_order</th>\n",
       "    </tr>\n",
       "    <tr>\n",
       "      <th>order_id</th>\n",
       "      <th></th>\n",
       "      <th></th>\n",
       "      <th></th>\n",
       "      <th></th>\n",
       "      <th></th>\n",
       "      <th></th>\n",
       "      <th></th>\n",
       "      <th></th>\n",
       "      <th></th>\n",
       "    </tr>\n",
       "  </thead>\n",
       "  <tbody>\n",
       "    <tr>\n",
       "      <th>473</th>\n",
       "      <td>20082</td>\n",
       "      <td>1</td>\n",
       "      <td>1</td>\n",
       "      <td>77529</td>\n",
       "      <td>train</td>\n",
       "      <td>7</td>\n",
       "      <td>6</td>\n",
       "      <td>10</td>\n",
       "      <td>8.0</td>\n",
       "    </tr>\n",
       "    <tr>\n",
       "      <th>473</th>\n",
       "      <td>24852</td>\n",
       "      <td>2</td>\n",
       "      <td>0</td>\n",
       "      <td>77529</td>\n",
       "      <td>train</td>\n",
       "      <td>7</td>\n",
       "      <td>6</td>\n",
       "      <td>10</td>\n",
       "      <td>8.0</td>\n",
       "    </tr>\n",
       "    <tr>\n",
       "      <th>473</th>\n",
       "      <td>47144</td>\n",
       "      <td>3</td>\n",
       "      <td>1</td>\n",
       "      <td>77529</td>\n",
       "      <td>train</td>\n",
       "      <td>7</td>\n",
       "      <td>6</td>\n",
       "      <td>10</td>\n",
       "      <td>8.0</td>\n",
       "    </tr>\n",
       "    <tr>\n",
       "      <th>473</th>\n",
       "      <td>36441</td>\n",
       "      <td>4</td>\n",
       "      <td>1</td>\n",
       "      <td>77529</td>\n",
       "      <td>train</td>\n",
       "      <td>7</td>\n",
       "      <td>6</td>\n",
       "      <td>10</td>\n",
       "      <td>8.0</td>\n",
       "    </tr>\n",
       "    <tr>\n",
       "      <th>473</th>\n",
       "      <td>12206</td>\n",
       "      <td>5</td>\n",
       "      <td>0</td>\n",
       "      <td>77529</td>\n",
       "      <td>train</td>\n",
       "      <td>7</td>\n",
       "      <td>6</td>\n",
       "      <td>10</td>\n",
       "      <td>8.0</td>\n",
       "    </tr>\n",
       "  </tbody>\n",
       "</table>\n",
       "</div>"
      ],
      "text/plain": [
       "          product_id  add_to_cart_order  reordered  user_id eval_set  \\\n",
       "order_id                                                               \n",
       "473            20082                  1          1    77529    train   \n",
       "473            24852                  2          0    77529    train   \n",
       "473            47144                  3          1    77529    train   \n",
       "473            36441                  4          1    77529    train   \n",
       "473            12206                  5          0    77529    train   \n",
       "\n",
       "          order_number  order_dow  order_hour_of_day  days_since_prior_order  \n",
       "order_id                                                                      \n",
       "473                  7          6                 10                     8.0  \n",
       "473                  7          6                 10                     8.0  \n",
       "473                  7          6                 10                     8.0  \n",
       "473                  7          6                 10                     8.0  \n",
       "473                  7          6                 10                     8.0  "
      ]
     },
     "execution_count": 56,
     "metadata": {},
     "output_type": "execute_result"
    }
   ],
   "source": [
    "orders_products_joined = orders_products.join(orders);\n",
    "orders_products_joined.head()"
   ]
  },
  {
   "cell_type": "markdown",
   "metadata": {},
   "source": [
    "When the two columns do not have the same index, we can use the more flexible `merge` function:\n",
    "* the `left_on` and `right_on` options specify the column names to be joined on\n",
    "* if the variable to be joined on is an index, set `left_index` / `right_index` to `True`. \n",
    "* Finally, the `how` option allows you to specify the type of joins (left, right, inner, outer)."
   ]
  },
  {
   "cell_type": "code",
   "execution_count": 70,
   "metadata": {
    "collapsed": false
   },
   "outputs": [
    {
     "data": {
      "text/html": [
       "<div>\n",
       "<style scoped>\n",
       "    .dataframe tbody tr th:only-of-type {\n",
       "        vertical-align: middle;\n",
       "    }\n",
       "\n",
       "    .dataframe tbody tr th {\n",
       "        vertical-align: top;\n",
       "    }\n",
       "\n",
       "    .dataframe thead th {\n",
       "        text-align: right;\n",
       "    }\n",
       "</style>\n",
       "<table border=\"1\" class=\"dataframe\">\n",
       "  <thead>\n",
       "    <tr style=\"text-align: right;\">\n",
       "      <th></th>\n",
       "      <th>product_id</th>\n",
       "      <th>add_to_cart_order</th>\n",
       "      <th>reordered</th>\n",
       "      <th>product_name</th>\n",
       "      <th>aisle_id</th>\n",
       "      <th>department_id</th>\n",
       "    </tr>\n",
       "    <tr>\n",
       "      <th>order_id</th>\n",
       "      <th></th>\n",
       "      <th></th>\n",
       "      <th></th>\n",
       "      <th></th>\n",
       "      <th></th>\n",
       "      <th></th>\n",
       "    </tr>\n",
       "  </thead>\n",
       "  <tbody>\n",
       "    <tr>\n",
       "      <th>473</th>\n",
       "      <td>20082</td>\n",
       "      <td>1</td>\n",
       "      <td>1</td>\n",
       "      <td>Organic Whole Milk with DHA Omega-3</td>\n",
       "      <td>84</td>\n",
       "      <td>16</td>\n",
       "    </tr>\n",
       "    <tr>\n",
       "      <th>473</th>\n",
       "      <td>24852</td>\n",
       "      <td>2</td>\n",
       "      <td>0</td>\n",
       "      <td>Banana</td>\n",
       "      <td>24</td>\n",
       "      <td>4</td>\n",
       "    </tr>\n",
       "    <tr>\n",
       "      <th>473</th>\n",
       "      <td>47144</td>\n",
       "      <td>3</td>\n",
       "      <td>1</td>\n",
       "      <td>Unsweetened Original Almond Breeze Almond Milk</td>\n",
       "      <td>91</td>\n",
       "      <td>16</td>\n",
       "    </tr>\n",
       "    <tr>\n",
       "      <th>473</th>\n",
       "      <td>36441</td>\n",
       "      <td>4</td>\n",
       "      <td>1</td>\n",
       "      <td>Baby Wipes</td>\n",
       "      <td>56</td>\n",
       "      <td>18</td>\n",
       "    </tr>\n",
       "    <tr>\n",
       "      <th>473</th>\n",
       "      <td>12206</td>\n",
       "      <td>5</td>\n",
       "      <td>0</td>\n",
       "      <td>Basil Pesto</td>\n",
       "      <td>9</td>\n",
       "      <td>9</td>\n",
       "    </tr>\n",
       "  </tbody>\n",
       "</table>\n",
       "</div>"
      ],
      "text/plain": [
       "          product_id  add_to_cart_order  reordered  \\\n",
       "order_id                                             \n",
       "473            20082                  1          1   \n",
       "473            24852                  2          0   \n",
       "473            47144                  3          1   \n",
       "473            36441                  4          1   \n",
       "473            12206                  5          0   \n",
       "\n",
       "                                            product_name  aisle_id  \\\n",
       "order_id                                                             \n",
       "473                  Organic Whole Milk with DHA Omega-3        84   \n",
       "473                                               Banana        24   \n",
       "473       Unsweetened Original Almond Breeze Almond Milk        91   \n",
       "473                                           Baby Wipes        56   \n",
       "473                                          Basil Pesto         9   \n",
       "\n",
       "          department_id  \n",
       "order_id                 \n",
       "473                  16  \n",
       "473                   4  \n",
       "473                  16  \n",
       "473                  18  \n",
       "473                   9  "
      ]
     },
     "execution_count": 70,
     "metadata": {},
     "output_type": "execute_result"
    }
   ],
   "source": [
    "order_products_desc = orders_products.merge(products, left_on='product_id', right_index=True, how='left')\n",
    "order_products_desc.head()"
   ]
  },
  {
   "cell_type": "markdown",
   "metadata": {},
   "source": [
    "This way, we can look at the most popular products."
   ]
  },
  {
   "cell_type": "code",
   "execution_count": 74,
   "metadata": {
    "collapsed": false
   },
   "outputs": [
    {
     "data": {
      "text/plain": [
       "<matplotlib.axes._subplots.AxesSubplot at 0x124d97e10>"
      ]
     },
     "execution_count": 74,
     "metadata": {},
     "output_type": "execute_result"
    },
    {
     "data": {
      "image/png": "[encoded data removed]",
      "text/plain": [
       "<matplotlib.figure.Figure at 0x11fc71e50>"
      ]
     },
     "metadata": {},
     "output_type": "display_data"
    }
   ],
   "source": [
    "order_products_desc['product_name'].value_counts()[:10].plot(kind='bar')"
   ]
  },
  {
   "cell_type": "markdown",
   "metadata": {},
   "source": [
    "## Exercise 3: Summarizing orders by aisle information\n",
    "\n",
    "We are interested in knowing which aisles are *LEAST* popular and can make management decisions based on that. Try to answer the following questions:\n",
    "* Which aisle has the least number of products ordered from?\n",
    "* What about only among the reordered products?\n",
    "\n",
    "\n",
    "**Challenge:** Suppose there was a software glitch that all products with the `add_to_cart_order` more than 30 was not correctly charged. What percent of all orders are affected by this glitch?"
   ]
  },
  {
   "cell_type": "code",
   "execution_count": 90,
   "metadata": {
    "collapsed": false
   },
   "outputs": [
    {
     "data": {
      "text/html": [
       "<div>\n",
       "<style scoped>\n",
       "    .dataframe tbody tr th:only-of-type {\n",
       "        vertical-align: middle;\n",
       "    }\n",
       "\n",
       "    .dataframe tbody tr th {\n",
       "        vertical-align: top;\n",
       "    }\n",
       "\n",
       "    .dataframe thead th {\n",
       "        text-align: right;\n",
       "    }\n",
       "</style>\n",
       "<table border=\"1\" class=\"dataframe\">\n",
       "  <thead>\n",
       "    <tr style=\"text-align: right;\">\n",
       "      <th></th>\n",
       "      <th>product_id</th>\n",
       "      <th>add_to_cart_order</th>\n",
       "      <th>reordered</th>\n",
       "      <th>product_name</th>\n",
       "      <th>department_id</th>\n",
       "      <th>aisle</th>\n",
       "    </tr>\n",
       "    <tr>\n",
       "      <th>aisle_id</th>\n",
       "      <th></th>\n",
       "      <th></th>\n",
       "      <th></th>\n",
       "      <th></th>\n",
       "      <th></th>\n",
       "      <th></th>\n",
       "    </tr>\n",
       "  </thead>\n",
       "  <tbody>\n",
       "    <tr>\n",
       "      <th>1</th>\n",
       "      <td>26047</td>\n",
       "      <td>3</td>\n",
       "      <td>1</td>\n",
       "      <td>Tuna Salad</td>\n",
       "      <td>20</td>\n",
       "      <td>prepared soups salads</td>\n",
       "    </tr>\n",
       "    <tr>\n",
       "      <th>1</th>\n",
       "      <td>19101</td>\n",
       "      <td>14</td>\n",
       "      <td>1</td>\n",
       "      <td>Quinoa, Kale &amp; Red Lentil Soup</td>\n",
       "      <td>20</td>\n",
       "      <td>prepared soups salads</td>\n",
       "    </tr>\n",
       "    <tr>\n",
       "      <th>1</th>\n",
       "      <td>21560</td>\n",
       "      <td>4</td>\n",
       "      <td>0</td>\n",
       "      <td>Cut Hearts Of Palm</td>\n",
       "      <td>20</td>\n",
       "      <td>prepared soups salads</td>\n",
       "    </tr>\n",
       "    <tr>\n",
       "      <th>1</th>\n",
       "      <td>16178</td>\n",
       "      <td>11</td>\n",
       "      <td>0</td>\n",
       "      <td>Soup Chicken Tortilla</td>\n",
       "      <td>20</td>\n",
       "      <td>prepared soups salads</td>\n",
       "    </tr>\n",
       "    <tr>\n",
       "      <th>1</th>\n",
       "      <td>22281</td>\n",
       "      <td>1</td>\n",
       "      <td>1</td>\n",
       "      <td>Chicken Noodle Soup</td>\n",
       "      <td>20</td>\n",
       "      <td>prepared soups salads</td>\n",
       "    </tr>\n",
       "  </tbody>\n",
       "</table>\n",
       "</div>"
      ],
      "text/plain": [
       "          product_id  add_to_cart_order  reordered  \\\n",
       "aisle_id                                             \n",
       "1              26047                  3          1   \n",
       "1              19101                 14          1   \n",
       "1              21560                  4          0   \n",
       "1              16178                 11          0   \n",
       "1              22281                  1          1   \n",
       "\n",
       "                            product_name  department_id                  aisle  \n",
       "aisle_id                                                                        \n",
       "1                             Tuna Salad             20  prepared soups salads  \n",
       "1         Quinoa, Kale & Red Lentil Soup             20  prepared soups salads  \n",
       "1                     Cut Hearts Of Palm             20  prepared soups salads  \n",
       "1                  Soup Chicken Tortilla             20  prepared soups salads  \n",
       "1                    Chicken Noodle Soup             20  prepared soups salads  "
      ]
     },
     "execution_count": 90,
     "metadata": {},
     "output_type": "execute_result"
    }
   ],
   "source": [
    "orders_products_aisles = order_products_desc.set_index('aisle_id').join(aisles)\n",
    "orders_products_aisles.head()"
   ]
  },
  {
   "cell_type": "code",
   "execution_count": 91,
   "metadata": {
    "collapsed": false
   },
   "outputs": [
    {
     "data": {
      "text/plain": [
       "aisle\n",
       "baby accessories                   12\n",
       "beauty                             14\n",
       "baby bath body care                19\n",
       "skin care                          19\n",
       "kitchen supplies                   21\n",
       "ice cream toppings                 22\n",
       "specialty wines champagnes         22\n",
       "frozen juice                       24\n",
       "eye ear care                       26\n",
       "shave needs                        27\n",
       "indian foods                       27\n",
       "bulk grains rice dried goods       27\n",
       "first aid                          28\n",
       "deodorants                         35\n",
       "facial care                        35\n",
       "kosher foods                       36\n",
       "bulk dried fruits vegetables       41\n",
       "white wines                        43\n",
       "mint gum                           46\n",
       "more household                     46\n",
       "packaged seafood                   46\n",
       "frozen dessert                     48\n",
       "cocoa drink mixes                  49\n",
       "spirits                            53\n",
       "air fresheners candles             54\n",
       "seafood counter                    55\n",
       "baking supplies decor              55\n",
       "digestion                          55\n",
       "muscles joints pain relief         55\n",
       "red wines                          60\n",
       "                                 ... \n",
       "cream                             629\n",
       "spreads                           639\n",
       "other creams cheeses              667\n",
       "baby food formula                 669\n",
       "hot dogs bacon sausage            695\n",
       "packaged produce                  724\n",
       "juice nectars                     728\n",
       "soup broth bouillon               751\n",
       "fresh herbs                       762\n",
       "soft drinks                       793\n",
       "cereal                            803\n",
       "energy granola bars               829\n",
       "fresh dips tapenades              832\n",
       "lunch meat                        835\n",
       "crackers                          943\n",
       "frozen meals                      950\n",
       "eggs                             1049\n",
       "ice cream ice                    1080\n",
       "frozen produce                   1081\n",
       "bread                            1170\n",
       "refrigerated                     1211\n",
       "soy lactosefree                  1356\n",
       "chips pretzels                   1586\n",
       "milk                             1650\n",
       "water seltzer sparkling water    1867\n",
       "packaged cheese                  2138\n",
       "yogurt                           2844\n",
       "packaged vegetables fruits       3988\n",
       "fresh fruits                     7623\n",
       "fresh vegetables                 7694\n",
       "Length: 134, dtype: int64"
      ]
     },
     "execution_count": 91,
     "metadata": {},
     "output_type": "execute_result"
    }
   ],
   "source": [
    "orders_products_aisles.groupby('aisle').size().sort_values()"
   ]
  },
  {
   "cell_type": "code",
   "execution_count": 92,
   "metadata": {
    "collapsed": false
   },
   "outputs": [
    {
     "data": {
      "text/plain": [
       "aisle\n",
       "beauty                              1\n",
       "baby bath body care                 3\n",
       "shave needs                         3\n",
       "kitchen supplies                    5\n",
       "first aid                           5\n",
       "ice cream toppings                  6\n",
       "skin care                           6\n",
       "baking supplies decor               7\n",
       "baby accessories                    8\n",
       "deodorants                          8\n",
       "eye ear care                       10\n",
       "frozen juice                       10\n",
       "indian foods                       11\n",
       "specialty wines champagnes         11\n",
       "cold flu allergy                   11\n",
       "kosher foods                       12\n",
       "hair care                          13\n",
       "more household                     13\n",
       "facial care                        16\n",
       "bulk grains rice dried goods       16\n",
       "cocoa drink mixes                  17\n",
       "frozen dessert                     18\n",
       "air fresheners candles             18\n",
       "bulk dried fruits vegetables       24\n",
       "digestion                          28\n",
       "feminine care                      28\n",
       "seafood counter                    28\n",
       "muscles joints pain relief         28\n",
       "packaged seafood                   28\n",
       "spirits                            31\n",
       "                                 ... \n",
       "paper goods                       350\n",
       "frozen breakfast                  352\n",
       "fresh herbs                       393\n",
       "other creams cheeses              402\n",
       "baby food formula                 408\n",
       "hot dogs bacon sausage            421\n",
       "juice nectars                     434\n",
       "cream                             448\n",
       "energy granola bars               459\n",
       "cereal                            481\n",
       "soft drinks                       505\n",
       "lunch meat                        521\n",
       "packaged produce                  521\n",
       "fresh dips tapenades              527\n",
       "ice cream ice                     560\n",
       "crackers                          567\n",
       "frozen meals                      593\n",
       "frozen produce                    613\n",
       "eggs                              769\n",
       "refrigerated                      778\n",
       "bread                             788\n",
       "soy lactosefree                   907\n",
       "chips pretzels                    912\n",
       "packaged cheese                  1287\n",
       "milk                             1306\n",
       "water seltzer sparkling water    1354\n",
       "yogurt                           1980\n",
       "packaged vegetables fruits       2605\n",
       "fresh vegetables                 4669\n",
       "fresh fruits                     5684\n",
       "Length: 134, dtype: int64"
      ]
     },
     "execution_count": 92,
     "metadata": {},
     "output_type": "execute_result"
    }
   ],
   "source": [
    "orders_products_aisles[orders_products_aisles['reordered'] ==1].groupby('aisle').size().sort_values()"
   ]
  },
  {
   "cell_type": "markdown",
   "metadata": {},
   "source": [
    "## Reading data from SQL databases\n",
    "\n",
    "(Note: The content for this section is adapted from the Pandas Cookbook Chapter 9.)\n",
    "\n",
    "Pandas can read from HTML, JSON, SQL, Excel, HDF5, Stata, and a few other things. We'll talk about reading data from SQL databases now.\n",
    "\n",
    "You can read data from a SQL database using the `pd.read_sql` function. `read_sql` will automatically convert SQL column names to DataFrame column names.\n",
    "\n",
    "`read_sql` takes 2 arguments: a `SELECT` statement, and a database connection object. It means you can read from *any* kind of SQL database -- it doesn't matter if it's MySQL, SQLite, PostgreSQL, or something else."
   ]
  },
  {
   "cell_type": "code",
   "execution_count": 93,
   "metadata": {
    "collapsed": true
   },
   "outputs": [],
   "source": [
    "import pandas as pd\n",
    "import sqlite3"
   ]
  },
  {
   "cell_type": "code",
   "execution_count": 94,
   "metadata": {
    "collapsed": false
   },
   "outputs": [
    {
     "data": {
      "text/html": [
       "<div>\n",
       "<style scoped>\n",
       "    .dataframe tbody tr th:only-of-type {\n",
       "        vertical-align: middle;\n",
       "    }\n",
       "\n",
       "    .dataframe tbody tr th {\n",
       "        vertical-align: top;\n",
       "    }\n",
       "\n",
       "    .dataframe thead th {\n",
       "        text-align: right;\n",
       "    }\n",
       "</style>\n",
       "<table border=\"1\" class=\"dataframe\">\n",
       "  <thead>\n",
       "    <tr style=\"text-align: right;\">\n",
       "      <th></th>\n",
       "      <th>id</th>\n",
       "      <th>date_time</th>\n",
       "      <th>temp</th>\n",
       "    </tr>\n",
       "  </thead>\n",
       "  <tbody>\n",
       "    <tr>\n",
       "      <th>0</th>\n",
       "      <td>1</td>\n",
       "      <td>2012-01-01 00:00:00</td>\n",
       "      <td>-1.8</td>\n",
       "    </tr>\n",
       "    <tr>\n",
       "      <th>1</th>\n",
       "      <td>2</td>\n",
       "      <td>2012-01-01 01:00:00</td>\n",
       "      <td>-1.8</td>\n",
       "    </tr>\n",
       "    <tr>\n",
       "      <th>2</th>\n",
       "      <td>3</td>\n",
       "      <td>2012-01-01 02:00:00</td>\n",
       "      <td>-1.8</td>\n",
       "    </tr>\n",
       "    <tr>\n",
       "      <th>3</th>\n",
       "      <td>4</td>\n",
       "      <td>2012-01-01 03:00:00</td>\n",
       "      <td>-1.5</td>\n",
       "    </tr>\n",
       "    <tr>\n",
       "      <th>4</th>\n",
       "      <td>5</td>\n",
       "      <td>2012-01-01 04:00:00</td>\n",
       "      <td>-1.5</td>\n",
       "    </tr>\n",
       "  </tbody>\n",
       "</table>\n",
       "</div>"
      ],
      "text/plain": [
       "   id            date_time  temp\n",
       "0   1  2012-01-01 00:00:00  -1.8\n",
       "1   2  2012-01-01 01:00:00  -1.8\n",
       "2   3  2012-01-01 02:00:00  -1.8\n",
       "3   4  2012-01-01 03:00:00  -1.5\n",
       "4   5  2012-01-01 04:00:00  -1.5"
      ]
     },
     "execution_count": 94,
     "metadata": {},
     "output_type": "execute_result"
    }
   ],
   "source": [
    "con = sqlite3.connect(\"data/weather_2012.sqlite\")\n",
    "df = pd.read_sql(\"SELECT * from weather_2012 LIMIT 5\", con)\n",
    "df"
   ]
  },
  {
   "cell_type": "markdown",
   "metadata": {},
   "source": [
    "And that's it! If you are familiar with SQL type statements, you can try some advanced `SELECT` statements; otherwise, just select everything you need and do the data cleaning in Pandas. "
   ]
  },
  {
   "cell_type": "markdown",
   "metadata": {},
   "source": [
    "## Getting Data Ready for SciKitLearn \n",
    "\n",
    "Having a cleaned `Pandas` dataframe does not allow you to run through machine learning packages directly yet. The dataframe may need to be appropriately transformed (onehot encoded for categorical variables, scaled, etc.). Both Pandas and scikit-learn offer some useful preprocessing functions.\n",
    "\n",
    "`pd.get_dummies` takes the dataframe, and a list of categorical columns to be converted into a dummified dataframe. See the following example, where we take the `orders_products_aisles` dataframe that we merged earlier, and convert the string categorical variable `aisle` to be onehot encoded:"
   ]
  },
  {
   "cell_type": "code",
   "execution_count": 102,
   "metadata": {
    "collapsed": false
   },
   "outputs": [
    {
     "data": {
      "text/html": [
       "<div>\n",
       "<style scoped>\n",
       "    .dataframe tbody tr th:only-of-type {\n",
       "        vertical-align: middle;\n",
       "    }\n",
       "\n",
       "    .dataframe tbody tr th {\n",
       "        vertical-align: top;\n",
       "    }\n",
       "\n",
       "    .dataframe thead th {\n",
       "        text-align: right;\n",
       "    }\n",
       "</style>\n",
       "<table border=\"1\" class=\"dataframe\">\n",
       "  <thead>\n",
       "    <tr style=\"text-align: right;\">\n",
       "      <th></th>\n",
       "      <th>product_id</th>\n",
       "      <th>add_to_cart_order</th>\n",
       "      <th>department_id</th>\n",
       "      <th>aisle_air fresheners candles</th>\n",
       "      <th>aisle_asian foods</th>\n",
       "      <th>aisle_baby accessories</th>\n",
       "      <th>aisle_baby bath body care</th>\n",
       "      <th>aisle_baby food formula</th>\n",
       "      <th>aisle_bakery desserts</th>\n",
       "      <th>aisle_baking ingredients</th>\n",
       "      <th>...</th>\n",
       "      <th>aisle_spreads</th>\n",
       "      <th>aisle_tea</th>\n",
       "      <th>aisle_tofu meat alternatives</th>\n",
       "      <th>aisle_tortillas flat bread</th>\n",
       "      <th>aisle_trail mix snack mix</th>\n",
       "      <th>aisle_trash bags liners</th>\n",
       "      <th>aisle_vitamins supplements</th>\n",
       "      <th>aisle_water seltzer sparkling water</th>\n",
       "      <th>aisle_white wines</th>\n",
       "      <th>aisle_yogurt</th>\n",
       "    </tr>\n",
       "    <tr>\n",
       "      <th>aisle_id</th>\n",
       "      <th></th>\n",
       "      <th></th>\n",
       "      <th></th>\n",
       "      <th></th>\n",
       "      <th></th>\n",
       "      <th></th>\n",
       "      <th></th>\n",
       "      <th></th>\n",
       "      <th></th>\n",
       "      <th></th>\n",
       "      <th></th>\n",
       "      <th></th>\n",
       "      <th></th>\n",
       "      <th></th>\n",
       "      <th></th>\n",
       "      <th></th>\n",
       "      <th></th>\n",
       "      <th></th>\n",
       "      <th></th>\n",
       "      <th></th>\n",
       "      <th></th>\n",
       "    </tr>\n",
       "  </thead>\n",
       "  <tbody>\n",
       "    <tr>\n",
       "      <th>1</th>\n",
       "      <td>26047</td>\n",
       "      <td>3</td>\n",
       "      <td>20</td>\n",
       "      <td>0</td>\n",
       "      <td>0</td>\n",
       "      <td>0</td>\n",
       "      <td>0</td>\n",
       "      <td>0</td>\n",
       "      <td>0</td>\n",
       "      <td>0</td>\n",
       "      <td>...</td>\n",
       "      <td>0</td>\n",
       "      <td>0</td>\n",
       "      <td>0</td>\n",
       "      <td>0</td>\n",
       "      <td>0</td>\n",
       "      <td>0</td>\n",
       "      <td>0</td>\n",
       "      <td>0</td>\n",
       "      <td>0</td>\n",
       "      <td>0</td>\n",
       "    </tr>\n",
       "    <tr>\n",
       "      <th>1</th>\n",
       "      <td>19101</td>\n",
       "      <td>14</td>\n",
       "      <td>20</td>\n",
       "      <td>0</td>\n",
       "      <td>0</td>\n",
       "      <td>0</td>\n",
       "      <td>0</td>\n",
       "      <td>0</td>\n",
       "      <td>0</td>\n",
       "      <td>0</td>\n",
       "      <td>...</td>\n",
       "      <td>0</td>\n",
       "      <td>0</td>\n",
       "      <td>0</td>\n",
       "      <td>0</td>\n",
       "      <td>0</td>\n",
       "      <td>0</td>\n",
       "      <td>0</td>\n",
       "      <td>0</td>\n",
       "      <td>0</td>\n",
       "      <td>0</td>\n",
       "    </tr>\n",
       "    <tr>\n",
       "      <th>1</th>\n",
       "      <td>21560</td>\n",
       "      <td>4</td>\n",
       "      <td>20</td>\n",
       "      <td>0</td>\n",
       "      <td>0</td>\n",
       "      <td>0</td>\n",
       "      <td>0</td>\n",
       "      <td>0</td>\n",
       "      <td>0</td>\n",
       "      <td>0</td>\n",
       "      <td>...</td>\n",
       "      <td>0</td>\n",
       "      <td>0</td>\n",
       "      <td>0</td>\n",
       "      <td>0</td>\n",
       "      <td>0</td>\n",
       "      <td>0</td>\n",
       "      <td>0</td>\n",
       "      <td>0</td>\n",
       "      <td>0</td>\n",
       "      <td>0</td>\n",
       "    </tr>\n",
       "    <tr>\n",
       "      <th>1</th>\n",
       "      <td>16178</td>\n",
       "      <td>11</td>\n",
       "      <td>20</td>\n",
       "      <td>0</td>\n",
       "      <td>0</td>\n",
       "      <td>0</td>\n",
       "      <td>0</td>\n",
       "      <td>0</td>\n",
       "      <td>0</td>\n",
       "      <td>0</td>\n",
       "      <td>...</td>\n",
       "      <td>0</td>\n",
       "      <td>0</td>\n",
       "      <td>0</td>\n",
       "      <td>0</td>\n",
       "      <td>0</td>\n",
       "      <td>0</td>\n",
       "      <td>0</td>\n",
       "      <td>0</td>\n",
       "      <td>0</td>\n",
       "      <td>0</td>\n",
       "    </tr>\n",
       "    <tr>\n",
       "      <th>1</th>\n",
       "      <td>22281</td>\n",
       "      <td>1</td>\n",
       "      <td>20</td>\n",
       "      <td>0</td>\n",
       "      <td>0</td>\n",
       "      <td>0</td>\n",
       "      <td>0</td>\n",
       "      <td>0</td>\n",
       "      <td>0</td>\n",
       "      <td>0</td>\n",
       "      <td>...</td>\n",
       "      <td>0</td>\n",
       "      <td>0</td>\n",
       "      <td>0</td>\n",
       "      <td>0</td>\n",
       "      <td>0</td>\n",
       "      <td>0</td>\n",
       "      <td>0</td>\n",
       "      <td>0</td>\n",
       "      <td>0</td>\n",
       "      <td>0</td>\n",
       "    </tr>\n",
       "  </tbody>\n",
       "</table>\n",
       "<p>5 rows × 137 columns</p>\n",
       "</div>"
      ],
      "text/plain": [
       "          product_id  add_to_cart_order  department_id  \\\n",
       "aisle_id                                                 \n",
       "1              26047                  3             20   \n",
       "1              19101                 14             20   \n",
       "1              21560                  4             20   \n",
       "1              16178                 11             20   \n",
       "1              22281                  1             20   \n",
       "\n",
       "          aisle_air fresheners candles  aisle_asian foods  \\\n",
       "aisle_id                                                    \n",
       "1                                    0                  0   \n",
       "1                                    0                  0   \n",
       "1                                    0                  0   \n",
       "1                                    0                  0   \n",
       "1                                    0                  0   \n",
       "\n",
       "          aisle_baby accessories  aisle_baby bath body care  \\\n",
       "aisle_id                                                      \n",
       "1                              0                          0   \n",
       "1                              0                          0   \n",
       "1                              0                          0   \n",
       "1                              0                          0   \n",
       "1                              0                          0   \n",
       "\n",
       "          aisle_baby food formula  aisle_bakery desserts  \\\n",
       "aisle_id                                                   \n",
       "1                               0                      0   \n",
       "1                               0                      0   \n",
       "1                               0                      0   \n",
       "1                               0                      0   \n",
       "1                               0                      0   \n",
       "\n",
       "          aisle_baking ingredients      ...       aisle_spreads  aisle_tea  \\\n",
       "aisle_id                                ...                                  \n",
       "1                                0      ...                   0          0   \n",
       "1                                0      ...                   0          0   \n",
       "1                                0      ...                   0          0   \n",
       "1                                0      ...                   0          0   \n",
       "1                                0      ...                   0          0   \n",
       "\n",
       "          aisle_tofu meat alternatives  aisle_tortillas flat bread  \\\n",
       "aisle_id                                                             \n",
       "1                                    0                           0   \n",
       "1                                    0                           0   \n",
       "1                                    0                           0   \n",
       "1                                    0                           0   \n",
       "1                                    0                           0   \n",
       "\n",
       "          aisle_trail mix snack mix  aisle_trash bags liners  \\\n",
       "aisle_id                                                       \n",
       "1                                 0                        0   \n",
       "1                                 0                        0   \n",
       "1                                 0                        0   \n",
       "1                                 0                        0   \n",
       "1                                 0                        0   \n",
       "\n",
       "          aisle_vitamins supplements  aisle_water seltzer sparkling water  \\\n",
       "aisle_id                                                                    \n",
       "1                                  0                                    0   \n",
       "1                                  0                                    0   \n",
       "1                                  0                                    0   \n",
       "1                                  0                                    0   \n",
       "1                                  0                                    0   \n",
       "\n",
       "          aisle_white wines  aisle_yogurt  \n",
       "aisle_id                                   \n",
       "1                         0             0  \n",
       "1                         0             0  \n",
       "1                         0             0  \n",
       "1                         0             0  \n",
       "1                         0             0  \n",
       "\n",
       "[5 rows x 137 columns]"
      ]
     },
     "execution_count": 102,
     "metadata": {},
     "output_type": "execute_result"
    }
   ],
   "source": [
    "X_dum = pd.get_dummies(orders_products_aisles.drop(['reordered','product_name'], axis=1) , columns=['aisle'])\n",
    "X_dum.head()"
   ]
  },
  {
   "cell_type": "markdown",
   "metadata": {
    "collapsed": true
   },
   "source": [
    "Now we can run it through sklearn, which will be the topic of this afternoon's lesson."
   ]
  },
  {
   "cell_type": "code",
   "execution_count": 103,
   "metadata": {
    "collapsed": false
   },
   "outputs": [
    {
     "data": {
      "text/plain": [
       "array([0.5, 0. , 1. , ..., 1. , 1. , 1. ])"
      ]
     },
     "execution_count": 103,
     "metadata": {},
     "output_type": "execute_result"
    }
   ],
   "source": [
    "from sklearn import tree\n",
    "Y = order_products_desc['reordered']\n",
    "clf = tree.DecisionTreeClassifier()\n",
    "clf = clf.fit(X_dum, Y)\n",
    "clf.predict_proba(X_dum)[:,1]"
   ]
  },
  {
   "cell_type": "markdown",
   "metadata": {},
   "source": [
    "## Other useful references\n",
    "\n",
    "* A useful cheatsheet: https://github.com/pandas-dev/pandas/blob/master/doc/cheatsheet/Pandas_Cheat_Sheet.pdf\n",
    "* The mapping between `R` commands and `Pandas` can be found here, if you are coming from a more `R`-type background:\n",
    "https://pandas.pydata.org/pandas-docs/version/0.18.1/comparison_with_r.html"
   ]
  }
 ],
 "metadata": {
  "kernelspec": {
   "display_name": "Python 2",
   "language": "python",
   "name": "python2"
  },
  "language_info": {
   "codemirror_mode": {
    "name": "ipython",
    "version": 2
   },
   "file_extension": ".py",
   "mimetype": "text/x-python",
   "name": "python",
   "nbconvert_exporter": "python",
   "pygments_lexer": "ipython2",
   "version": "2.7.10"
  }
 },
 "nbformat": 4,
 "nbformat_minor": 2
}
