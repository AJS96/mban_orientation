{
 "cells": [
  {
   "cell_type": "markdown",
   "metadata": {},
   "source": [
    "\n",
    "# Intro to Pandas, Data Manipulation and Visualization in Python\n",
    "In this section, we will learn and practice how to read in data, conduct data manipulation and visualization in `Python`. In particular, we will be learning the `Pandas` package, which provides a fast and powerful interface to dataframes. \n",
    "\n",
    "## Pandas \n",
    "<img src=\"https://c402277.ssl.cf1.rackcdn.com/photos/13100/images/featured_story/BIC_128.png?1485963152\" align=\"right\">\n",
    "`Pandas` is a library that provides high-performance, easy-to-use data structures and data analysis tools for `Python`.\n",
    "\n",
    "\n",
    "\n",
    "Let's load the package `pandas` as well as `numpy`, and `matplotlib` for visualization later. The next few parameters set up the inline plotting to look nicely for the notebook. This is standard preamble for data processing in `ipython` notebooks that you can use in the future. There are some other variations such as giving `matplotlib` the `ggplot` theme from `R` if you wish (add `plt.style.use('ggplot')`). \n",
    "\n",
    "\n"
   ]
  },
  {
   "cell_type": "code",
   "execution_count": 1,
   "metadata": {
    "collapsed": true
   },
   "outputs": [],
   "source": [
    "import pandas as pd\n",
    "import numpy as np\n",
    "import matplotlib.pylab as plt\n",
    "%matplotlib inline\n",
    "from matplotlib.pylab import rcParams\n",
    "rcParams['figure.figsize'] = 15, 6"
   ]
  },
  {
   "cell_type": "markdown",
   "metadata": {},
   "source": [
    "## Case Study\n",
    "<img  width=\"200\" height=\"40\" src=\"https://upload.wikimedia.org/wikipedia/en/thumb/9/9f/Instacart_logo_and_wordmark.svg/1280px-Instacart_logo_and_wordmark.svg.png\" align=\"left\">\n",
    "<br>\n",
    "### Instacart orders\n",
    "\n",
    "\n",
    "In this problem, we'll use the dataset from Instacart.com (https://www.instacart.com/datasets/grocery-shopping-2017), a grocery delivery service that connects customers with Personal Shoppers who pick up and deliver the groceries from local stores. The open data contains order, product, and aisles detailed information. We took a 5% sample of orders in this tutorial.\n",
    "\n",
    "\n",
    "\n",
    "### Read in Data\n",
    "Now let's read in a csv file for the dataset `orders.csv` and `orders_products.csv` using the `read_csv` function in pd. Index is very important in Pandas for reasons we will talk about later (subset, merge, ...). Let's specify the index when we read in the data with `index_col = ` parameter. \n",
    "\n",
    "To get a glimpse of the data, you can do:\n",
    "* `.shape` to look at the dimension / size / shape of the dataframe,\n",
    "* `.describe()` to see a summary of the data,\n",
    "* `.head()` to view first 5 rows, or you can do it with `[:5]`."
   ]
  },
  {
   "cell_type": "code",
   "execution_count": 2,
   "metadata": {},
   "outputs": [
    {
     "name": "stdout",
     "output_type": "stream",
     "text": [
      "(171054, 6)\n",
      "             user_id   order_number      order_dow  order_hour_of_day  \\\n",
      "count  171054.000000  171054.000000  171054.000000      171054.000000   \n",
      "mean   102612.564640      17.166719       2.772195          13.445701   \n",
      "std     59637.539216      17.753241       2.046332           4.223096   \n",
      "min         3.000000       1.000000       0.000000           0.000000   \n",
      "25%     50569.000000       5.000000       1.000000          10.000000   \n",
      "50%    102074.500000      11.000000       3.000000          13.000000   \n",
      "75%    154204.000000      23.000000       5.000000          16.000000   \n",
      "max    206208.000000     100.000000       6.000000          23.000000   \n",
      "\n",
      "       days_since_prior_order  \n",
      "count           160603.000000  \n",
      "mean                11.112763  \n",
      "std                  9.219712  \n",
      "min                  0.000000  \n",
      "25%                  4.000000  \n",
      "50%                  7.000000  \n",
      "75%                 15.000000  \n",
      "max                 30.000000  \n"
     ]
    },
    {
     "data": {
      "text/html": [
       "<div>\n",
       "<table border=\"1\" class=\"dataframe\">\n",
       "  <thead>\n",
       "    <tr style=\"text-align: right;\">\n",
       "      <th></th>\n",
       "      <th>user_id</th>\n",
       "      <th>eval_set</th>\n",
       "      <th>order_number</th>\n",
       "      <th>order_dow</th>\n",
       "      <th>order_hour_of_day</th>\n",
       "      <th>days_since_prior_order</th>\n",
       "    </tr>\n",
       "    <tr>\n",
       "      <th>order_id</th>\n",
       "      <th></th>\n",
       "      <th></th>\n",
       "      <th></th>\n",
       "      <th></th>\n",
       "      <th></th>\n",
       "      <th></th>\n",
       "    </tr>\n",
       "  </thead>\n",
       "  <tbody>\n",
       "    <tr>\n",
       "      <th>1076138</th>\n",
       "      <td>39487</td>\n",
       "      <td>prior</td>\n",
       "      <td>3</td>\n",
       "      <td>5</td>\n",
       "      <td>21</td>\n",
       "      <td>21.0</td>\n",
       "    </tr>\n",
       "    <tr>\n",
       "      <th>1609528</th>\n",
       "      <td>198072</td>\n",
       "      <td>prior</td>\n",
       "      <td>31</td>\n",
       "      <td>0</td>\n",
       "      <td>14</td>\n",
       "      <td>11.0</td>\n",
       "    </tr>\n",
       "    <tr>\n",
       "      <th>2156935</th>\n",
       "      <td>100263</td>\n",
       "      <td>prior</td>\n",
       "      <td>40</td>\n",
       "      <td>3</td>\n",
       "      <td>16</td>\n",
       "      <td>6.0</td>\n",
       "    </tr>\n",
       "    <tr>\n",
       "      <th>2661897</th>\n",
       "      <td>154498</td>\n",
       "      <td>prior</td>\n",
       "      <td>6</td>\n",
       "      <td>5</td>\n",
       "      <td>15</td>\n",
       "      <td>1.0</td>\n",
       "    </tr>\n",
       "    <tr>\n",
       "      <th>1577308</th>\n",
       "      <td>187457</td>\n",
       "      <td>prior</td>\n",
       "      <td>8</td>\n",
       "      <td>6</td>\n",
       "      <td>21</td>\n",
       "      <td>19.0</td>\n",
       "    </tr>\n",
       "  </tbody>\n",
       "</table>\n",
       "</div>"
      ],
      "text/plain": [
       "          user_id eval_set  order_number  order_dow  order_hour_of_day  \\\n",
       "order_id                                                                 \n",
       "1076138     39487    prior             3          5                 21   \n",
       "1609528    198072    prior            31          0                 14   \n",
       "2156935    100263    prior            40          3                 16   \n",
       "2661897    154498    prior             6          5                 15   \n",
       "1577308    187457    prior             8          6                 21   \n",
       "\n",
       "          days_since_prior_order  \n",
       "order_id                          \n",
       "1076138                     21.0  \n",
       "1609528                     11.0  \n",
       "2156935                      6.0  \n",
       "2661897                      1.0  \n",
       "1577308                     19.0  "
      ]
     },
     "execution_count": 2,
     "metadata": {},
     "output_type": "execute_result"
    }
   ],
   "source": [
    "orders = pd.read_csv('data/orders.csv', index_col='order_id');\n",
    "print(orders.shape)\n",
    "print(orders.describe())\n",
    "orders.head()"
   ]
  },
  {
   "cell_type": "code",
   "execution_count": 3,
   "metadata": {},
   "outputs": [
    {
     "data": {
      "text/html": [
       "<div>\n",
       "<table border=\"1\" class=\"dataframe\">\n",
       "  <thead>\n",
       "    <tr style=\"text-align: right;\">\n",
       "      <th></th>\n",
       "      <th>product_id</th>\n",
       "      <th>add_to_cart_order</th>\n",
       "      <th>reordered</th>\n",
       "    </tr>\n",
       "    <tr>\n",
       "      <th>order_id</th>\n",
       "      <th></th>\n",
       "      <th></th>\n",
       "      <th></th>\n",
       "    </tr>\n",
       "  </thead>\n",
       "  <tbody>\n",
       "    <tr>\n",
       "      <th>473</th>\n",
       "      <td>20082</td>\n",
       "      <td>1</td>\n",
       "      <td>1</td>\n",
       "    </tr>\n",
       "    <tr>\n",
       "      <th>473</th>\n",
       "      <td>24852</td>\n",
       "      <td>2</td>\n",
       "      <td>0</td>\n",
       "    </tr>\n",
       "    <tr>\n",
       "      <th>473</th>\n",
       "      <td>47144</td>\n",
       "      <td>3</td>\n",
       "      <td>1</td>\n",
       "    </tr>\n",
       "    <tr>\n",
       "      <th>473</th>\n",
       "      <td>36441</td>\n",
       "      <td>4</td>\n",
       "      <td>1</td>\n",
       "    </tr>\n",
       "    <tr>\n",
       "      <th>473</th>\n",
       "      <td>12206</td>\n",
       "      <td>5</td>\n",
       "      <td>0</td>\n",
       "    </tr>\n",
       "  </tbody>\n",
       "</table>\n",
       "</div>"
      ],
      "text/plain": [
       "          product_id  add_to_cart_order  reordered\n",
       "order_id                                          \n",
       "473            20082                  1          1\n",
       "473            24852                  2          0\n",
       "473            47144                  3          1\n",
       "473            36441                  4          1\n",
       "473            12206                  5          0"
      ]
     },
     "execution_count": 3,
     "metadata": {},
     "output_type": "execute_result"
    }
   ],
   "source": [
    "orders_products = pd.read_csv('data/orders_products.csv', index_col='order_id');\n",
    "orders_products.head()"
   ]
  },
  {
   "cell_type": "markdown",
   "metadata": {
    "collapsed": true
   },
   "source": [
    "### Data Indexing\n",
    "\n",
    "After reading in the datasets and taking a look at the description or the first few rows, we are interested in some basic dataframe manipulations. \n",
    "* **Subset columns:** To select a column, we can:\n",
    "    1. index with the name of the column as a string, \n",
    "    2. use the attribute operator . on the column name,\n",
    "    3. use the `loc[:, ]` function on the column name,\n",
    "    4. use the `iloc[:, ]` function on the column index (remember zero indexing in Python!)\n",
    "\n",
    "In this example we take the `order_hour_of_day` column using each of the method."
   ]
  },
  {
   "cell_type": "code",
   "execution_count": 4,
   "metadata": {},
   "outputs": [
    {
     "name": "stdout",
     "output_type": "stream",
     "text": [
      "order_id\n",
      "1076138    21\n",
      "1609528    14\n",
      "2156935    16\n",
      "2661897    15\n",
      "1577308    21\n",
      "Name: order_hour_of_day, dtype: int64\n",
      "order_id\n",
      "1076138    21\n",
      "1609528    14\n",
      "2156935    16\n",
      "2661897    15\n",
      "1577308    21\n",
      "Name: order_hour_of_day, dtype: int64\n",
      "order_id\n",
      "1076138    21\n",
      "1609528    14\n",
      "2156935    16\n",
      "2661897    15\n",
      "1577308    21\n",
      "Name: order_hour_of_day, dtype: int64\n",
      "order_id\n",
      "1076138    21\n",
      "1609528    14\n",
      "2156935    16\n",
      "2661897    15\n",
      "1577308    21\n",
      "Name: order_hour_of_day, dtype: int64\n"
     ]
    }
   ],
   "source": [
    "print(orders['order_hour_of_day'].head())\n",
    "print(orders.order_hour_of_day.head())\n",
    "print(orders.loc[:, 'order_hour_of_day'].head())\n",
    "print(orders.iloc[:, 4].head())"
   ]
  },
  {
   "cell_type": "markdown",
   "metadata": {},
   "source": [
    "You can also select multiple columns by indexing the list of columns you would like to select:"
   ]
  },
  {
   "cell_type": "code",
   "execution_count": 5,
   "metadata": {},
   "outputs": [
    {
     "data": {
      "text/html": [
       "<div>\n",
       "<table border=\"1\" class=\"dataframe\">\n",
       "  <thead>\n",
       "    <tr style=\"text-align: right;\">\n",
       "      <th></th>\n",
       "      <th>order_dow</th>\n",
       "      <th>order_hour_of_day</th>\n",
       "    </tr>\n",
       "    <tr>\n",
       "      <th>order_id</th>\n",
       "      <th></th>\n",
       "      <th></th>\n",
       "    </tr>\n",
       "  </thead>\n",
       "  <tbody>\n",
       "    <tr>\n",
       "      <th>1076138</th>\n",
       "      <td>5</td>\n",
       "      <td>21</td>\n",
       "    </tr>\n",
       "    <tr>\n",
       "      <th>1609528</th>\n",
       "      <td>0</td>\n",
       "      <td>14</td>\n",
       "    </tr>\n",
       "    <tr>\n",
       "      <th>2156935</th>\n",
       "      <td>3</td>\n",
       "      <td>16</td>\n",
       "    </tr>\n",
       "    <tr>\n",
       "      <th>2661897</th>\n",
       "      <td>5</td>\n",
       "      <td>15</td>\n",
       "    </tr>\n",
       "    <tr>\n",
       "      <th>1577308</th>\n",
       "      <td>6</td>\n",
       "      <td>21</td>\n",
       "    </tr>\n",
       "  </tbody>\n",
       "</table>\n",
       "</div>"
      ],
      "text/plain": [
       "          order_dow  order_hour_of_day\n",
       "order_id                              \n",
       "1076138           5                 21\n",
       "1609528           0                 14\n",
       "2156935           3                 16\n",
       "2661897           5                 15\n",
       "1577308           6                 21"
      ]
     },
     "execution_count": 5,
     "metadata": {},
     "output_type": "execute_result"
    }
   ],
   "source": [
    "orders[['order_dow', 'order_hour_of_day']].head()"
   ]
  },
  {
   "cell_type": "markdown",
   "metadata": {},
   "source": [
    "* **Subset rows**: You can subset the rows of a dataframe by \n",
    "    1. `iloc[]`: based on the row numbers\n",
    "    2. `loc[]`: based on index value\n",
    "    3. `[]` with a logical condition\n",
    "\n",
    "Let's look at the following examples:"
   ]
  },
  {
   "cell_type": "markdown",
   "metadata": {},
   "source": [
    "To get the first 5 rows, use `iloc`:"
   ]
  },
  {
   "cell_type": "code",
   "execution_count": 6,
   "metadata": {},
   "outputs": [
    {
     "data": {
      "text/html": [
       "<div>\n",
       "<table border=\"1\" class=\"dataframe\">\n",
       "  <thead>\n",
       "    <tr style=\"text-align: right;\">\n",
       "      <th></th>\n",
       "      <th>user_id</th>\n",
       "      <th>eval_set</th>\n",
       "      <th>order_number</th>\n",
       "      <th>order_dow</th>\n",
       "      <th>order_hour_of_day</th>\n",
       "      <th>days_since_prior_order</th>\n",
       "    </tr>\n",
       "    <tr>\n",
       "      <th>order_id</th>\n",
       "      <th></th>\n",
       "      <th></th>\n",
       "      <th></th>\n",
       "      <th></th>\n",
       "      <th></th>\n",
       "      <th></th>\n",
       "    </tr>\n",
       "  </thead>\n",
       "  <tbody>\n",
       "    <tr>\n",
       "      <th>1076138</th>\n",
       "      <td>39487</td>\n",
       "      <td>prior</td>\n",
       "      <td>3</td>\n",
       "      <td>5</td>\n",
       "      <td>21</td>\n",
       "      <td>21.0</td>\n",
       "    </tr>\n",
       "    <tr>\n",
       "      <th>1609528</th>\n",
       "      <td>198072</td>\n",
       "      <td>prior</td>\n",
       "      <td>31</td>\n",
       "      <td>0</td>\n",
       "      <td>14</td>\n",
       "      <td>11.0</td>\n",
       "    </tr>\n",
       "    <tr>\n",
       "      <th>2156935</th>\n",
       "      <td>100263</td>\n",
       "      <td>prior</td>\n",
       "      <td>40</td>\n",
       "      <td>3</td>\n",
       "      <td>16</td>\n",
       "      <td>6.0</td>\n",
       "    </tr>\n",
       "    <tr>\n",
       "      <th>2661897</th>\n",
       "      <td>154498</td>\n",
       "      <td>prior</td>\n",
       "      <td>6</td>\n",
       "      <td>5</td>\n",
       "      <td>15</td>\n",
       "      <td>1.0</td>\n",
       "    </tr>\n",
       "    <tr>\n",
       "      <th>1577308</th>\n",
       "      <td>187457</td>\n",
       "      <td>prior</td>\n",
       "      <td>8</td>\n",
       "      <td>6</td>\n",
       "      <td>21</td>\n",
       "      <td>19.0</td>\n",
       "    </tr>\n",
       "  </tbody>\n",
       "</table>\n",
       "</div>"
      ],
      "text/plain": [
       "          user_id eval_set  order_number  order_dow  order_hour_of_day  \\\n",
       "order_id                                                                 \n",
       "1076138     39487    prior             3          5                 21   \n",
       "1609528    198072    prior            31          0                 14   \n",
       "2156935    100263    prior            40          3                 16   \n",
       "2661897    154498    prior             6          5                 15   \n",
       "1577308    187457    prior             8          6                 21   \n",
       "\n",
       "          days_since_prior_order  \n",
       "order_id                          \n",
       "1076138                     21.0  \n",
       "1609528                     11.0  \n",
       "2156935                      6.0  \n",
       "2661897                      1.0  \n",
       "1577308                     19.0  "
      ]
     },
     "execution_count": 6,
     "metadata": {},
     "output_type": "execute_result"
    }
   ],
   "source": [
    "orders.iloc[range(5)]"
   ]
  },
  {
   "cell_type": "markdown",
   "metadata": {},
   "source": [
    "To subset based on the index value, use the `loc` command:"
   ]
  },
  {
   "cell_type": "code",
   "execution_count": 7,
   "metadata": {},
   "outputs": [
    {
     "data": {
      "text/html": [
       "<div>\n",
       "<table border=\"1\" class=\"dataframe\">\n",
       "  <thead>\n",
       "    <tr style=\"text-align: right;\">\n",
       "      <th></th>\n",
       "      <th>user_id</th>\n",
       "      <th>eval_set</th>\n",
       "      <th>order_number</th>\n",
       "      <th>order_dow</th>\n",
       "      <th>order_hour_of_day</th>\n",
       "      <th>days_since_prior_order</th>\n",
       "    </tr>\n",
       "    <tr>\n",
       "      <th>order_id</th>\n",
       "      <th></th>\n",
       "      <th></th>\n",
       "      <th></th>\n",
       "      <th></th>\n",
       "      <th></th>\n",
       "      <th></th>\n",
       "    </tr>\n",
       "  </thead>\n",
       "  <tbody>\n",
       "    <tr>\n",
       "      <th>1076138</th>\n",
       "      <td>39487</td>\n",
       "      <td>prior</td>\n",
       "      <td>3</td>\n",
       "      <td>5</td>\n",
       "      <td>21</td>\n",
       "      <td>21.0</td>\n",
       "    </tr>\n",
       "    <tr>\n",
       "      <th>1609528</th>\n",
       "      <td>198072</td>\n",
       "      <td>prior</td>\n",
       "      <td>31</td>\n",
       "      <td>0</td>\n",
       "      <td>14</td>\n",
       "      <td>11.0</td>\n",
       "    </tr>\n",
       "  </tbody>\n",
       "</table>\n",
       "</div>"
      ],
      "text/plain": [
       "          user_id eval_set  order_number  order_dow  order_hour_of_day  \\\n",
       "order_id                                                                 \n",
       "1076138     39487    prior             3          5                 21   \n",
       "1609528    198072    prior            31          0                 14   \n",
       "\n",
       "          days_since_prior_order  \n",
       "order_id                          \n",
       "1076138                     21.0  \n",
       "1609528                     11.0  "
      ]
     },
     "execution_count": 7,
     "metadata": {},
     "output_type": "execute_result"
    }
   ],
   "source": [
    "orders.loc[[1076138,1609528]]"
   ]
  },
  {
   "cell_type": "markdown",
   "metadata": {},
   "source": [
    "If we only want to look at the order hour of day being 6pm:"
   ]
  },
  {
   "cell_type": "code",
   "execution_count": 8,
   "metadata": {},
   "outputs": [
    {
     "name": "stdout",
     "output_type": "stream",
     "text": [
      "(9040, 6)\n"
     ]
    },
    {
     "data": {
      "text/html": [
       "<div>\n",
       "<table border=\"1\" class=\"dataframe\">\n",
       "  <thead>\n",
       "    <tr style=\"text-align: right;\">\n",
       "      <th></th>\n",
       "      <th>user_id</th>\n",
       "      <th>eval_set</th>\n",
       "      <th>order_number</th>\n",
       "      <th>order_dow</th>\n",
       "      <th>order_hour_of_day</th>\n",
       "      <th>days_since_prior_order</th>\n",
       "    </tr>\n",
       "    <tr>\n",
       "      <th>order_id</th>\n",
       "      <th></th>\n",
       "      <th></th>\n",
       "      <th></th>\n",
       "      <th></th>\n",
       "      <th></th>\n",
       "      <th></th>\n",
       "    </tr>\n",
       "  </thead>\n",
       "  <tbody>\n",
       "    <tr>\n",
       "      <th>2936202</th>\n",
       "      <td>178492</td>\n",
       "      <td>prior</td>\n",
       "      <td>15</td>\n",
       "      <td>1</td>\n",
       "      <td>18</td>\n",
       "      <td>5.0</td>\n",
       "    </tr>\n",
       "    <tr>\n",
       "      <th>834571</th>\n",
       "      <td>136721</td>\n",
       "      <td>prior</td>\n",
       "      <td>1</td>\n",
       "      <td>2</td>\n",
       "      <td>18</td>\n",
       "      <td>NaN</td>\n",
       "    </tr>\n",
       "    <tr>\n",
       "      <th>840261</th>\n",
       "      <td>157488</td>\n",
       "      <td>prior</td>\n",
       "      <td>3</td>\n",
       "      <td>6</td>\n",
       "      <td>18</td>\n",
       "      <td>7.0</td>\n",
       "    </tr>\n",
       "    <tr>\n",
       "      <th>3246776</th>\n",
       "      <td>174758</td>\n",
       "      <td>prior</td>\n",
       "      <td>33</td>\n",
       "      <td>4</td>\n",
       "      <td>18</td>\n",
       "      <td>6.0</td>\n",
       "    </tr>\n",
       "    <tr>\n",
       "      <th>2001934</th>\n",
       "      <td>147430</td>\n",
       "      <td>prior</td>\n",
       "      <td>1</td>\n",
       "      <td>6</td>\n",
       "      <td>18</td>\n",
       "      <td>NaN</td>\n",
       "    </tr>\n",
       "  </tbody>\n",
       "</table>\n",
       "</div>"
      ],
      "text/plain": [
       "          user_id eval_set  order_number  order_dow  order_hour_of_day  \\\n",
       "order_id                                                                 \n",
       "2936202    178492    prior            15          1                 18   \n",
       "834571     136721    prior             1          2                 18   \n",
       "840261     157488    prior             3          6                 18   \n",
       "3246776    174758    prior            33          4                 18   \n",
       "2001934    147430    prior             1          6                 18   \n",
       "\n",
       "          days_since_prior_order  \n",
       "order_id                          \n",
       "2936202                      5.0  \n",
       "834571                       NaN  \n",
       "840261                       7.0  \n",
       "3246776                      6.0  \n",
       "2001934                      NaN  "
      ]
     },
     "execution_count": 8,
     "metadata": {},
     "output_type": "execute_result"
    }
   ],
   "source": [
    "orders_18pm = orders[orders['order_hour_of_day'] == 18]\n",
    "print(orders_18pm.shape)\n",
    "orders_18pm[:5]"
   ]
  },
  {
   "cell_type": "markdown",
   "metadata": {},
   "source": [
    "Another example use case could be that if we want to only keep observations with non-NA values for `days_since_prior_order`, we can use the `isnull()` function which returns a boolean array for indexing:"
   ]
  },
  {
   "cell_type": "code",
   "execution_count": 9,
   "metadata": {},
   "outputs": [
    {
     "data": {
      "text/html": [
       "<div>\n",
       "<table border=\"1\" class=\"dataframe\">\n",
       "  <thead>\n",
       "    <tr style=\"text-align: right;\">\n",
       "      <th></th>\n",
       "      <th>user_id</th>\n",
       "      <th>eval_set</th>\n",
       "      <th>order_number</th>\n",
       "      <th>order_dow</th>\n",
       "      <th>order_hour_of_day</th>\n",
       "      <th>days_since_prior_order</th>\n",
       "    </tr>\n",
       "    <tr>\n",
       "      <th>order_id</th>\n",
       "      <th></th>\n",
       "      <th></th>\n",
       "      <th></th>\n",
       "      <th></th>\n",
       "      <th></th>\n",
       "      <th></th>\n",
       "    </tr>\n",
       "  </thead>\n",
       "  <tbody>\n",
       "    <tr>\n",
       "      <th>1076138</th>\n",
       "      <td>39487</td>\n",
       "      <td>prior</td>\n",
       "      <td>3</td>\n",
       "      <td>5</td>\n",
       "      <td>21</td>\n",
       "      <td>21.0</td>\n",
       "    </tr>\n",
       "    <tr>\n",
       "      <th>1609528</th>\n",
       "      <td>198072</td>\n",
       "      <td>prior</td>\n",
       "      <td>31</td>\n",
       "      <td>0</td>\n",
       "      <td>14</td>\n",
       "      <td>11.0</td>\n",
       "    </tr>\n",
       "    <tr>\n",
       "      <th>2156935</th>\n",
       "      <td>100263</td>\n",
       "      <td>prior</td>\n",
       "      <td>40</td>\n",
       "      <td>3</td>\n",
       "      <td>16</td>\n",
       "      <td>6.0</td>\n",
       "    </tr>\n",
       "    <tr>\n",
       "      <th>2661897</th>\n",
       "      <td>154498</td>\n",
       "      <td>prior</td>\n",
       "      <td>6</td>\n",
       "      <td>5</td>\n",
       "      <td>15</td>\n",
       "      <td>1.0</td>\n",
       "    </tr>\n",
       "    <tr>\n",
       "      <th>1577308</th>\n",
       "      <td>187457</td>\n",
       "      <td>prior</td>\n",
       "      <td>8</td>\n",
       "      <td>6</td>\n",
       "      <td>21</td>\n",
       "      <td>19.0</td>\n",
       "    </tr>\n",
       "  </tbody>\n",
       "</table>\n",
       "</div>"
      ],
      "text/plain": [
       "          user_id eval_set  order_number  order_dow  order_hour_of_day  \\\n",
       "order_id                                                                 \n",
       "1076138     39487    prior             3          5                 21   \n",
       "1609528    198072    prior            31          0                 14   \n",
       "2156935    100263    prior            40          3                 16   \n",
       "2661897    154498    prior             6          5                 15   \n",
       "1577308    187457    prior             8          6                 21   \n",
       "\n",
       "          days_since_prior_order  \n",
       "order_id                          \n",
       "1076138                     21.0  \n",
       "1609528                     11.0  \n",
       "2156935                      6.0  \n",
       "2661897                      1.0  \n",
       "1577308                     19.0  "
      ]
     },
     "execution_count": 9,
     "metadata": {},
     "output_type": "execute_result"
    }
   ],
   "source": [
    "orders_noNA = orders[~orders['days_since_prior_order'].isnull()];\n",
    "orders_noNA.head()"
   ]
  },
  {
   "cell_type": "markdown",
   "metadata": {},
   "source": [
    "## Exercise 1: Explore `aisles` and `products` data\n",
    "Please read in the `aisles.csv` and `products.csv` files. Answer the following questions:\n",
    "* How many distinct aisles are there?\n",
    "* What's the name for aisle_id = 61? \n",
    "* How many products are there in aisle_id = 61?\n"
   ]
  },
  {
   "cell_type": "code",
   "execution_count": 10,
   "metadata": {},
   "outputs": [
    {
     "name": "stdout",
     "output_type": "stream",
     "text": [
      "(134, 1)\n",
      "(134, 1)\n",
      "aisle    cookies cakes\n",
      "Name: 61, dtype: object\n"
     ]
    },
    {
     "data": {
      "text/html": [
       "<div>\n",
       "<table border=\"1\" class=\"dataframe\">\n",
       "  <thead>\n",
       "    <tr style=\"text-align: right;\">\n",
       "      <th></th>\n",
       "      <th>aisle</th>\n",
       "    </tr>\n",
       "    <tr>\n",
       "      <th>aisle_id</th>\n",
       "      <th></th>\n",
       "    </tr>\n",
       "  </thead>\n",
       "  <tbody>\n",
       "    <tr>\n",
       "      <th>1</th>\n",
       "      <td>prepared soups salads</td>\n",
       "    </tr>\n",
       "    <tr>\n",
       "      <th>2</th>\n",
       "      <td>specialty cheeses</td>\n",
       "    </tr>\n",
       "    <tr>\n",
       "      <th>3</th>\n",
       "      <td>energy granola bars</td>\n",
       "    </tr>\n",
       "    <tr>\n",
       "      <th>4</th>\n",
       "      <td>instant foods</td>\n",
       "    </tr>\n",
       "    <tr>\n",
       "      <th>5</th>\n",
       "      <td>marinades meat preparation</td>\n",
       "    </tr>\n",
       "  </tbody>\n",
       "</table>\n",
       "</div>"
      ],
      "text/plain": [
       "                               aisle\n",
       "aisle_id                            \n",
       "1              prepared soups salads\n",
       "2                  specialty cheeses\n",
       "3                energy granola bars\n",
       "4                      instant foods\n",
       "5         marinades meat preparation"
      ]
     },
     "execution_count": 10,
     "metadata": {},
     "output_type": "execute_result"
    }
   ],
   "source": [
    "aisles = pd.read_csv('data/aisles.csv', index_col='aisle_id');\n",
    "print(aisles.shape)\n",
    "print(aisles[['aisle']].drop_duplicates().shape)\n",
    "print(aisles.loc[61])\n",
    "aisles.head()"
   ]
  },
  {
   "cell_type": "code",
   "execution_count": 11,
   "metadata": {},
   "outputs": [
    {
     "name": "stdout",
     "output_type": "stream",
     "text": [
      "(874, 3)\n"
     ]
    }
   ],
   "source": [
    "products = pd.read_csv('data/products.csv', index_col='product_id');\n",
    "print(products[products['aisle_id'] == 61].shape)"
   ]
  },
  {
   "cell_type": "markdown",
   "metadata": {},
   "source": [
    "### Visualization\n",
    "\n",
    "Let's try to look at the relationship between the day-of-the-week and the hour-of-day for all orders. We can tabulate them by using the `crosstab()` function:"
   ]
  },
  {
   "cell_type": "code",
   "execution_count": 12,
   "metadata": {},
   "outputs": [
    {
     "data": {
      "text/html": [
       "<div>\n",
       "<table border=\"1\" class=\"dataframe\">\n",
       "  <thead>\n",
       "    <tr style=\"text-align: right;\">\n",
       "      <th>order_dow</th>\n",
       "      <th>0</th>\n",
       "      <th>1</th>\n",
       "      <th>2</th>\n",
       "      <th>3</th>\n",
       "      <th>4</th>\n",
       "      <th>5</th>\n",
       "      <th>6</th>\n",
       "    </tr>\n",
       "    <tr>\n",
       "      <th>order_hour_of_day</th>\n",
       "      <th></th>\n",
       "      <th></th>\n",
       "      <th></th>\n",
       "      <th></th>\n",
       "      <th></th>\n",
       "      <th></th>\n",
       "      <th></th>\n",
       "    </tr>\n",
       "  </thead>\n",
       "  <tbody>\n",
       "    <tr>\n",
       "      <th>0</th>\n",
       "      <td>208</td>\n",
       "      <td>206</td>\n",
       "      <td>152</td>\n",
       "      <td>136</td>\n",
       "      <td>130</td>\n",
       "      <td>156</td>\n",
       "      <td>167</td>\n",
       "    </tr>\n",
       "    <tr>\n",
       "      <th>1</th>\n",
       "      <td>122</td>\n",
       "      <td>101</td>\n",
       "      <td>76</td>\n",
       "      <td>76</td>\n",
       "      <td>72</td>\n",
       "      <td>78</td>\n",
       "      <td>87</td>\n",
       "    </tr>\n",
       "    <tr>\n",
       "      <th>2</th>\n",
       "      <td>73</td>\n",
       "      <td>60</td>\n",
       "      <td>45</td>\n",
       "      <td>41</td>\n",
       "      <td>41</td>\n",
       "      <td>46</td>\n",
       "      <td>63</td>\n",
       "    </tr>\n",
       "    <tr>\n",
       "      <th>3</th>\n",
       "      <td>39</td>\n",
       "      <td>32</td>\n",
       "      <td>36</td>\n",
       "      <td>42</td>\n",
       "      <td>27</td>\n",
       "      <td>39</td>\n",
       "      <td>50</td>\n",
       "    </tr>\n",
       "    <tr>\n",
       "      <th>4</th>\n",
       "      <td>50</td>\n",
       "      <td>43</td>\n",
       "      <td>35</td>\n",
       "      <td>29</td>\n",
       "      <td>39</td>\n",
       "      <td>49</td>\n",
       "      <td>45</td>\n",
       "    </tr>\n",
       "    <tr>\n",
       "      <th>5</th>\n",
       "      <td>64</td>\n",
       "      <td>89</td>\n",
       "      <td>68</td>\n",
       "      <td>62</td>\n",
       "      <td>58</td>\n",
       "      <td>92</td>\n",
       "      <td>48</td>\n",
       "    </tr>\n",
       "    <tr>\n",
       "      <th>6</th>\n",
       "      <td>177</td>\n",
       "      <td>277</td>\n",
       "      <td>227</td>\n",
       "      <td>228</td>\n",
       "      <td>229</td>\n",
       "      <td>241</td>\n",
       "      <td>156</td>\n",
       "    </tr>\n",
       "    <tr>\n",
       "      <th>7</th>\n",
       "      <td>612</td>\n",
       "      <td>812</td>\n",
       "      <td>672</td>\n",
       "      <td>625</td>\n",
       "      <td>650</td>\n",
       "      <td>661</td>\n",
       "      <td>603</td>\n",
       "    </tr>\n",
       "    <tr>\n",
       "      <th>8</th>\n",
       "      <td>1409</td>\n",
       "      <td>1697</td>\n",
       "      <td>1229</td>\n",
       "      <td>1141</td>\n",
       "      <td>1083</td>\n",
       "      <td>1231</td>\n",
       "      <td>1177</td>\n",
       "    </tr>\n",
       "    <tr>\n",
       "      <th>9</th>\n",
       "      <td>2021</td>\n",
       "      <td>2566</td>\n",
       "      <td>1777</td>\n",
       "      <td>1575</td>\n",
       "      <td>1616</td>\n",
       "      <td>1674</td>\n",
       "      <td>1531</td>\n",
       "    </tr>\n",
       "    <tr>\n",
       "      <th>10</th>\n",
       "      <td>2329</td>\n",
       "      <td>2811</td>\n",
       "      <td>1981</td>\n",
       "      <td>1794</td>\n",
       "      <td>1791</td>\n",
       "      <td>1923</td>\n",
       "      <td>1750</td>\n",
       "    </tr>\n",
       "    <tr>\n",
       "      <th>11</th>\n",
       "      <td>2630</td>\n",
       "      <td>2580</td>\n",
       "      <td>1921</td>\n",
       "      <td>1740</td>\n",
       "      <td>1605</td>\n",
       "      <td>1912</td>\n",
       "      <td>1747</td>\n",
       "    </tr>\n",
       "    <tr>\n",
       "      <th>12</th>\n",
       "      <td>2661</td>\n",
       "      <td>2309</td>\n",
       "      <td>1774</td>\n",
       "      <td>1768</td>\n",
       "      <td>1689</td>\n",
       "      <td>1835</td>\n",
       "      <td>1845</td>\n",
       "    </tr>\n",
       "    <tr>\n",
       "      <th>13</th>\n",
       "      <td>2718</td>\n",
       "      <td>2336</td>\n",
       "      <td>1822</td>\n",
       "      <td>1719</td>\n",
       "      <td>1684</td>\n",
       "      <td>1837</td>\n",
       "      <td>1899</td>\n",
       "    </tr>\n",
       "    <tr>\n",
       "      <th>14</th>\n",
       "      <td>2798</td>\n",
       "      <td>2355</td>\n",
       "      <td>1863</td>\n",
       "      <td>1681</td>\n",
       "      <td>1628</td>\n",
       "      <td>1875</td>\n",
       "      <td>1904</td>\n",
       "    </tr>\n",
       "    <tr>\n",
       "      <th>15</th>\n",
       "      <td>2710</td>\n",
       "      <td>2347</td>\n",
       "      <td>1943</td>\n",
       "      <td>1824</td>\n",
       "      <td>1708</td>\n",
       "      <td>1834</td>\n",
       "      <td>1935</td>\n",
       "    </tr>\n",
       "    <tr>\n",
       "      <th>16</th>\n",
       "      <td>2471</td>\n",
       "      <td>2242</td>\n",
       "      <td>1842</td>\n",
       "      <td>1742</td>\n",
       "      <td>1721</td>\n",
       "      <td>1753</td>\n",
       "      <td>1693</td>\n",
       "    </tr>\n",
       "    <tr>\n",
       "      <th>17</th>\n",
       "      <td>1940</td>\n",
       "      <td>1737</td>\n",
       "      <td>1623</td>\n",
       "      <td>1495</td>\n",
       "      <td>1524</td>\n",
       "      <td>1488</td>\n",
       "      <td>1561</td>\n",
       "    </tr>\n",
       "    <tr>\n",
       "      <th>18</th>\n",
       "      <td>1505</td>\n",
       "      <td>1390</td>\n",
       "      <td>1337</td>\n",
       "      <td>1218</td>\n",
       "      <td>1237</td>\n",
       "      <td>1181</td>\n",
       "      <td>1172</td>\n",
       "    </tr>\n",
       "    <tr>\n",
       "      <th>19</th>\n",
       "      <td>1146</td>\n",
       "      <td>1147</td>\n",
       "      <td>1071</td>\n",
       "      <td>895</td>\n",
       "      <td>1008</td>\n",
       "      <td>955</td>\n",
       "      <td>953</td>\n",
       "    </tr>\n",
       "    <tr>\n",
       "      <th>20</th>\n",
       "      <td>933</td>\n",
       "      <td>858</td>\n",
       "      <td>772</td>\n",
       "      <td>706</td>\n",
       "      <td>708</td>\n",
       "      <td>694</td>\n",
       "      <td>621</td>\n",
       "    </tr>\n",
       "    <tr>\n",
       "      <th>21</th>\n",
       "      <td>704</td>\n",
       "      <td>554</td>\n",
       "      <td>526</td>\n",
       "      <td>499</td>\n",
       "      <td>548</td>\n",
       "      <td>514</td>\n",
       "      <td>501</td>\n",
       "    </tr>\n",
       "    <tr>\n",
       "      <th>22</th>\n",
       "      <td>563</td>\n",
       "      <td>430</td>\n",
       "      <td>412</td>\n",
       "      <td>414</td>\n",
       "      <td>416</td>\n",
       "      <td>350</td>\n",
       "      <td>414</td>\n",
       "    </tr>\n",
       "    <tr>\n",
       "      <th>23</th>\n",
       "      <td>352</td>\n",
       "      <td>258</td>\n",
       "      <td>250</td>\n",
       "      <td>227</td>\n",
       "      <td>296</td>\n",
       "      <td>253</td>\n",
       "      <td>350</td>\n",
       "    </tr>\n",
       "  </tbody>\n",
       "</table>\n",
       "</div>"
      ],
      "text/plain": [
       "order_dow             0     1     2     3     4     5     6\n",
       "order_hour_of_day                                          \n",
       "0                   208   206   152   136   130   156   167\n",
       "1                   122   101    76    76    72    78    87\n",
       "2                    73    60    45    41    41    46    63\n",
       "3                    39    32    36    42    27    39    50\n",
       "4                    50    43    35    29    39    49    45\n",
       "5                    64    89    68    62    58    92    48\n",
       "6                   177   277   227   228   229   241   156\n",
       "7                   612   812   672   625   650   661   603\n",
       "8                  1409  1697  1229  1141  1083  1231  1177\n",
       "9                  2021  2566  1777  1575  1616  1674  1531\n",
       "10                 2329  2811  1981  1794  1791  1923  1750\n",
       "11                 2630  2580  1921  1740  1605  1912  1747\n",
       "12                 2661  2309  1774  1768  1689  1835  1845\n",
       "13                 2718  2336  1822  1719  1684  1837  1899\n",
       "14                 2798  2355  1863  1681  1628  1875  1904\n",
       "15                 2710  2347  1943  1824  1708  1834  1935\n",
       "16                 2471  2242  1842  1742  1721  1753  1693\n",
       "17                 1940  1737  1623  1495  1524  1488  1561\n",
       "18                 1505  1390  1337  1218  1237  1181  1172\n",
       "19                 1146  1147  1071   895  1008   955   953\n",
       "20                  933   858   772   706   708   694   621\n",
       "21                  704   554   526   499   548   514   501\n",
       "22                  563   430   412   414   416   350   414\n",
       "23                  352   258   250   227   296   253   350"
      ]
     },
     "execution_count": 12,
     "metadata": {},
     "output_type": "execute_result"
    }
   ],
   "source": [
    "orders_counts = pd.crosstab(orders['order_hour_of_day'], orders['order_dow'])\n",
    "orders_counts"
   ]
  },
  {
   "cell_type": "markdown",
   "metadata": {},
   "source": [
    "One interesting way to look at this data is to plot the distribution of hour-of-day by different day-of-the-week. A `Pandas` dataframe has some plot functions that can be called directly on it. For example, to do a line plot of the counts by each, "
   ]
  },
  {
   "cell_type": "code",
   "execution_count": 13,
   "metadata": {},
   "outputs": [
    {
     "data": {
      "text/plain": [
       "<matplotlib.axes._subplots.AxesSubplot at 0x110cb6dd0>"
      ]
     },
     "execution_count": 13,
     "metadata": {},
     "output_type": "execute_result"
    },
    {
     "data": {
      "image/png": "[encoded data removed]",
      "text/plain": [
       "<matplotlib.figure.Figure at 0x10fb9b590>"
      ]
     },
     "metadata": {},
     "output_type": "display_data"
    }
   ],
   "source": [
    "orders_counts.plot()"
   ]
  },
  {
   "cell_type": "markdown",
   "metadata": {},
   "source": [
    "That's pretty good already, without us needing to supply any arguments to the plot function. Monday and Sundays seem to be the days with more orders placed than other days. It also seems like there is a little bump on Monday, at around 9 to 10am."
   ]
  },
  {
   "cell_type": "markdown",
   "metadata": {},
   "source": [
    "The lines for the other days seem to be overlapping and a bit hard to discern, so maybe it's a good idea to separate out the lines in multiple plots (think about the `facet` in `ggplot`). Try the following, which groups the counts by the two variables, count the sizes, and gives a plot separated by the first variable:"
   ]
  },
  {
   "cell_type": "code",
   "execution_count": 14,
   "metadata": {},
   "outputs": [
    {
     "data": {
      "text/plain": [
       "<matplotlib.axes._subplots.AxesSubplot at 0x111575fd0>"
      ]
     },
     "execution_count": 14,
     "metadata": {},
     "output_type": "execute_result"
    },
    {
     "data": {
      "image/png": "[encoded data removed]",
      "text/plain": [
       "<matplotlib.figure.Figure at 0x10bf9c0d0>"
      ]
     },
     "metadata": {},
     "output_type": "display_data"
    }
   ],
   "source": [
    "orders.groupby(['order_dow','order_hour_of_day']).size().plot()"
   ]
  },
  {
   "cell_type": "markdown",
   "metadata": {},
   "source": [
    "This is useful, but the labels seem a bit off. To slightly improve on this, we can do a loop of subplots:"
   ]
  },
  {
   "cell_type": "code",
   "execution_count": 15,
   "metadata": {},
   "outputs": [
    {
     "data": {
      "image/png": "[encoded data removed]",
      "text/plain": [
       "<matplotlib.figure.Figure at 0x10bf9c810>"
      ]
     },
     "metadata": {},
     "output_type": "display_data"
    }
   ],
   "source": [
    "fig, axarr = plt.subplots(1,7, sharey=True)\n",
    "for i in range(7):\n",
    "    df = orders[orders['order_dow']==i].groupby('order_hour_of_day').size()\n",
    "    df.index.name = 'hour'\n",
    "    df.plot(ax=axarr[i], title='Day ' + str(i))\n",
    "\n",
    "fig.tight_layout()"
   ]
  },
  {
   "cell_type": "markdown",
   "metadata": {},
   "source": [
    "Another question that might be interesting is to look at the median, quantile, etc. of the hour of day. We can use a `boxplot()` function:"
   ]
  },
  {
   "cell_type": "code",
   "execution_count": 16,
   "metadata": {},
   "outputs": [
    {
     "data": {
      "text/plain": [
       "<matplotlib.axes._subplots.AxesSubplot at 0x1138972d0>"
      ]
     },
     "execution_count": 16,
     "metadata": {},
     "output_type": "execute_result"
    },
    {
     "data": {
      "image/png": "[encoded data removed]",
      "text/plain": [
       "<matplotlib.figure.Figure at 0x1138a6ed0>"
      ]
     },
     "metadata": {},
     "output_type": "display_data"
    }
   ],
   "source": [
    "orders.boxplot(column='order_hour_of_day', by='order_dow')"
   ]
  },
  {
   "cell_type": "markdown",
   "metadata": {},
   "source": [
    "Maybe a heatmap could also be useful? To make a heatmap, we can use the `pcolor()` function. We provide the data and the color mapping as arguments to the function:"
   ]
  },
  {
   "cell_type": "code",
   "execution_count": 17,
   "metadata": {},
   "outputs": [
    {
     "data": {
      "text/plain": [
       "<matplotlib.colorbar.Colorbar at 0x112d189d0>"
      ]
     },
     "execution_count": 17,
     "metadata": {},
     "output_type": "execute_result"
    },
    {
     "data": {
      "image/png": "[encoded data removed]",
      "text/plain": [
       "<matplotlib.figure.Figure at 0x113281d10>"
      ]
     },
     "metadata": {},
     "output_type": "display_data"
    }
   ],
   "source": [
    "plt.pcolor(orders_counts, cmap=plt.cm.Blues)\n",
    "plt.colorbar()"
   ]
  },
  {
   "cell_type": "markdown",
   "metadata": {},
   "source": [
    "## Exercise 2: visualize the relationship between `days_since_prior_order` and `order_day_of_week`"
   ]
  },
  {
   "cell_type": "markdown",
   "metadata": {},
   "source": [
    "We are interested in looking at the `days_since_prior_order` variable and the `order_day_of_week` variable for the orders that are placed between 9am to 5pm. "
   ]
  },
  {
   "cell_type": "code",
   "execution_count": 18,
   "metadata": {},
   "outputs": [
    {
     "data": {
      "text/plain": [
       "<matplotlib.axes._subplots.AxesSubplot at 0x113a55f10>"
      ]
     },
     "execution_count": 18,
     "metadata": {},
     "output_type": "execute_result"
    },
    {
     "data": {
      "image/png": "[encoded data removed]",
      "text/plain": [
       "<matplotlib.figure.Figure at 0x112ca2890>"
      ]
     },
     "metadata": {},
     "output_type": "display_data"
    }
   ],
   "source": [
    "orders_sub = orders[(9 <= orders['order_hour_of_day']) & (orders['order_hour_of_day'] <= 17)]\n",
    "orders_sub.boxplot(column='days_since_prior_order', by='order_dow')"
   ]
  },
  {
   "cell_type": "markdown",
   "metadata": {
    "collapsed": true
   },
   "source": [
    "## Group, Summarize, and Sort\n",
    "\n",
    "Suppose we are intereted in knowing something on the individual user level. For example, what's the total number of orders each user had? We can use the `groupby` and `size`. For a single variable this achieves similar effect as `value_counts()` function on that column:"
   ]
  },
  {
   "cell_type": "code",
   "execution_count": 19,
   "metadata": {},
   "outputs": [
    {
     "data": {
      "text/plain": [
       "user_id\n",
       "3     1\n",
       "7     1\n",
       "15    1\n",
       "17    1\n",
       "19    2\n",
       "dtype: int64"
      ]
     },
     "execution_count": 19,
     "metadata": {},
     "output_type": "execute_result"
    }
   ],
   "source": [
    "orders.groupby('user_id').size()[:5]"
   ]
  },
  {
   "cell_type": "code",
   "execution_count": 20,
   "metadata": {},
   "outputs": [
    {
     "data": {
      "text/plain": [
       "154246    15\n",
       "73042     13\n",
       "60519     12\n",
       "24659     12\n",
       "146382    12\n",
       "Name: user_id, dtype: int64"
      ]
     },
     "execution_count": 20,
     "metadata": {},
     "output_type": "execute_result"
    }
   ],
   "source": [
    "orders['user_id'].value_counts().head()"
   ]
  },
  {
   "cell_type": "markdown",
   "metadata": {},
   "source": [
    "We can sort it further by the `sort_values()` function (and specifying `ascending = False` for decreasing order):"
   ]
  },
  {
   "cell_type": "code",
   "execution_count": 21,
   "metadata": {},
   "outputs": [
    {
     "data": {
      "text/plain": [
       "user_id\n",
       "154246    15\n",
       "73042     13\n",
       "60519     12\n",
       "24659     12\n",
       "146382    12\n",
       "dtype: int64"
      ]
     },
     "execution_count": 21,
     "metadata": {},
     "output_type": "execute_result"
    }
   ],
   "source": [
    "orders.groupby('user_id').size().sort_values(ascending = False)[:5]"
   ]
  },
  {
   "cell_type": "markdown",
   "metadata": {},
   "source": [
    "More generally, you can use the `agg` for aggregating specific summary statistic. \n",
    "* You can supply a single type and it will be performed on all variables: for example, getting the mean of each variable on each user:"
   ]
  },
  {
   "cell_type": "code",
   "execution_count": 22,
   "metadata": {},
   "outputs": [
    {
     "data": {
      "text/html": [
       "<div>\n",
       "<table border=\"1\" class=\"dataframe\">\n",
       "  <thead>\n",
       "    <tr style=\"text-align: right;\">\n",
       "      <th></th>\n",
       "      <th>order_number</th>\n",
       "      <th>order_dow</th>\n",
       "      <th>order_hour_of_day</th>\n",
       "      <th>days_since_prior_order</th>\n",
       "    </tr>\n",
       "    <tr>\n",
       "      <th>user_id</th>\n",
       "      <th></th>\n",
       "      <th></th>\n",
       "      <th></th>\n",
       "      <th></th>\n",
       "    </tr>\n",
       "  </thead>\n",
       "  <tbody>\n",
       "    <tr>\n",
       "      <th>3</th>\n",
       "      <td>12.0</td>\n",
       "      <td>1.0</td>\n",
       "      <td>15.0</td>\n",
       "      <td>15.0</td>\n",
       "    </tr>\n",
       "    <tr>\n",
       "      <th>7</th>\n",
       "      <td>12.0</td>\n",
       "      <td>0.0</td>\n",
       "      <td>14.0</td>\n",
       "      <td>7.0</td>\n",
       "    </tr>\n",
       "    <tr>\n",
       "      <th>15</th>\n",
       "      <td>12.0</td>\n",
       "      <td>1.0</td>\n",
       "      <td>8.0</td>\n",
       "      <td>6.0</td>\n",
       "    </tr>\n",
       "    <tr>\n",
       "      <th>17</th>\n",
       "      <td>11.0</td>\n",
       "      <td>4.0</td>\n",
       "      <td>15.0</td>\n",
       "      <td>4.0</td>\n",
       "    </tr>\n",
       "    <tr>\n",
       "      <th>19</th>\n",
       "      <td>6.0</td>\n",
       "      <td>5.0</td>\n",
       "      <td>14.5</td>\n",
       "      <td>7.0</td>\n",
       "    </tr>\n",
       "  </tbody>\n",
       "</table>\n",
       "</div>"
      ],
      "text/plain": [
       "         order_number  order_dow  order_hour_of_day  days_since_prior_order\n",
       "user_id                                                                    \n",
       "3                12.0        1.0               15.0                    15.0\n",
       "7                12.0        0.0               14.0                     7.0\n",
       "15               12.0        1.0                8.0                     6.0\n",
       "17               11.0        4.0               15.0                     4.0\n",
       "19                6.0        5.0               14.5                     7.0"
      ]
     },
     "execution_count": 22,
     "metadata": {},
     "output_type": "execute_result"
    }
   ],
   "source": [
    "orders.groupby('user_id').agg('mean')[:5]"
   ]
  },
  {
   "cell_type": "markdown",
   "metadata": {},
   "source": [
    "* or supply a dictionary that the specfic variable as key: here only summarizses the mean of the `order_hour_of_day`, and the maximum of the `days_since_prior_order`:"
   ]
  },
  {
   "cell_type": "code",
   "execution_count": 23,
   "metadata": {},
   "outputs": [
    {
     "data": {
      "text/html": [
       "<div>\n",
       "<table border=\"1\" class=\"dataframe\">\n",
       "  <thead>\n",
       "    <tr style=\"text-align: right;\">\n",
       "      <th></th>\n",
       "      <th>order_hour_of_day</th>\n",
       "      <th>days_since_prior_order</th>\n",
       "    </tr>\n",
       "    <tr>\n",
       "      <th>user_id</th>\n",
       "      <th></th>\n",
       "      <th></th>\n",
       "    </tr>\n",
       "  </thead>\n",
       "  <tbody>\n",
       "    <tr>\n",
       "      <th>3</th>\n",
       "      <td>15.0</td>\n",
       "      <td>15.0</td>\n",
       "    </tr>\n",
       "    <tr>\n",
       "      <th>7</th>\n",
       "      <td>14.0</td>\n",
       "      <td>7.0</td>\n",
       "    </tr>\n",
       "    <tr>\n",
       "      <th>15</th>\n",
       "      <td>8.0</td>\n",
       "      <td>6.0</td>\n",
       "    </tr>\n",
       "    <tr>\n",
       "      <th>17</th>\n",
       "      <td>15.0</td>\n",
       "      <td>4.0</td>\n",
       "    </tr>\n",
       "    <tr>\n",
       "      <th>19</th>\n",
       "      <td>14.5</td>\n",
       "      <td>8.0</td>\n",
       "    </tr>\n",
       "  </tbody>\n",
       "</table>\n",
       "</div>"
      ],
      "text/plain": [
       "         order_hour_of_day  days_since_prior_order\n",
       "user_id                                           \n",
       "3                     15.0                    15.0\n",
       "7                     14.0                     7.0\n",
       "15                     8.0                     6.0\n",
       "17                    15.0                     4.0\n",
       "19                    14.5                     8.0"
      ]
     },
     "execution_count": 23,
     "metadata": {},
     "output_type": "execute_result"
    }
   ],
   "source": [
    "orders.groupby('user_id').agg({'order_hour_of_day': 'mean', 'days_since_prior_order': 'max'})[:5]"
   ]
  },
  {
   "cell_type": "markdown",
   "metadata": {},
   "source": [
    "## Exercise 3: Describing User Patterns\n",
    "\n",
    "From the `orders_products` dataframe, answer the following questions: \n",
    "* Are there more products that are reordered, or never ordered again?\n",
    "* Which `product_id` is the most frequently ordered? \n",
    "* What is that product called from the `products` dataframe?\n",
    "* Is there a relationship between the order when a product is added to cart (`add_to_cart_order`), and whether a product is reordered? \n",
    "* What about the relationship between whether the product is reordered and the total number of items in the order?"
   ]
  },
  {
   "cell_type": "code",
   "execution_count": 24,
   "metadata": {},
   "outputs": [
    {
     "data": {
      "text/plain": [
       "1    42294\n",
       "0    27764\n",
       "Name: reordered, dtype: int64"
      ]
     },
     "execution_count": 24,
     "metadata": {},
     "output_type": "execute_result"
    }
   ],
   "source": [
    "orders_products['reordered'].value_counts()"
   ]
  },
  {
   "cell_type": "code",
   "execution_count": 25,
   "metadata": {},
   "outputs": [
    {
     "data": {
      "text/plain": [
       "product_id\n",
       "24852    987\n",
       "13176    810\n",
       "21137    565\n",
       "21903    495\n",
       "47626    416\n",
       "dtype: int64"
      ]
     },
     "execution_count": 25,
     "metadata": {},
     "output_type": "execute_result"
    }
   ],
   "source": [
    "orders_products.groupby('product_id').size().sort_values(ascending=False).head()"
   ]
  },
  {
   "cell_type": "code",
   "execution_count": 26,
   "metadata": {},
   "outputs": [
    {
     "data": {
      "text/plain": [
       "product_name     Banana\n",
       "aisle_id             24\n",
       "department_id         4\n",
       "Name: 24852, dtype: object"
      ]
     },
     "execution_count": 26,
     "metadata": {},
     "output_type": "execute_result"
    }
   ],
   "source": [
    "products.loc[24852]"
   ]
  },
  {
   "cell_type": "code",
   "execution_count": 27,
   "metadata": {},
   "outputs": [
    {
     "data": {
      "text/html": [
       "<div>\n",
       "<table border=\"1\" class=\"dataframe\">\n",
       "  <thead>\n",
       "    <tr style=\"text-align: right;\">\n",
       "      <th></th>\n",
       "      <th>add_to_cart_order</th>\n",
       "    </tr>\n",
       "    <tr>\n",
       "      <th>reordered</th>\n",
       "      <th></th>\n",
       "    </tr>\n",
       "  </thead>\n",
       "  <tbody>\n",
       "    <tr>\n",
       "      <th>0</th>\n",
       "      <td>10.067497</td>\n",
       "    </tr>\n",
       "    <tr>\n",
       "      <th>1</th>\n",
       "      <td>7.796567</td>\n",
       "    </tr>\n",
       "  </tbody>\n",
       "</table>\n",
       "</div>"
      ],
      "text/plain": [
       "           add_to_cart_order\n",
       "reordered                   \n",
       "0                  10.067497\n",
       "1                   7.796567"
      ]
     },
     "execution_count": 27,
     "metadata": {},
     "output_type": "execute_result"
    }
   ],
   "source": [
    "orders_products.groupby('reordered').agg({'add_to_cart_order': 'mean'})"
   ]
  },
  {
   "cell_type": "code",
   "execution_count": 28,
   "metadata": {},
   "outputs": [
    {
     "data": {
      "text/plain": [
       "<matplotlib.axes._subplots.AxesSubplot at 0x11450af50>"
      ]
     },
     "execution_count": 28,
     "metadata": {},
     "output_type": "execute_result"
    },
    {
     "data": {
      "image/png": "[encoded data removed]",
      "text/plain": [
       "<matplotlib.figure.Figure at 0x114533a90>"
      ]
     },
     "metadata": {},
     "output_type": "display_data"
    }
   ],
   "source": [
    "orders_products.boxplot(column='add_to_cart_order', by='reordered')"
   ]
  },
  {
   "cell_type": "markdown",
   "metadata": {
    "collapsed": true
   },
   "source": [
    "## Merge and Join\n",
    "\n",
    "With many separate dataframes, it is often useful to join them to understand the relationship between variables and also to create additional features in predictions. Pandas provides high-performance, in memory join operations that are similar to relational databases such as SQL.\n",
    "\n",
    "When the two dataframes are both indexed by the same variable that you want to join on, it is easy: use the `join` function on the left dataframe, and the right data frame is supplied as second argument.\n",
    "\n",
    "If the current index is not the right variable, we can first reindex the data using the `set_index` command:\n",
    "```python\n",
    "orders_products=orders_products.set_index('order_id')\n",
    "orders=orders.set_index('order_id')\n",
    "```"
   ]
  },
  {
   "cell_type": "code",
   "execution_count": 29,
   "metadata": {},
   "outputs": [
    {
     "data": {
      "text/html": [
       "<div>\n",
       "<table border=\"1\" class=\"dataframe\">\n",
       "  <thead>\n",
       "    <tr style=\"text-align: right;\">\n",
       "      <th></th>\n",
       "      <th>product_id</th>\n",
       "      <th>add_to_cart_order</th>\n",
       "      <th>reordered</th>\n",
       "      <th>user_id</th>\n",
       "      <th>eval_set</th>\n",
       "      <th>order_number</th>\n",
       "      <th>order_dow</th>\n",
       "      <th>order_hour_of_day</th>\n",
       "      <th>days_since_prior_order</th>\n",
       "    </tr>\n",
       "    <tr>\n",
       "      <th>order_id</th>\n",
       "      <th></th>\n",
       "      <th></th>\n",
       "      <th></th>\n",
       "      <th></th>\n",
       "      <th></th>\n",
       "      <th></th>\n",
       "      <th></th>\n",
       "      <th></th>\n",
       "      <th></th>\n",
       "    </tr>\n",
       "  </thead>\n",
       "  <tbody>\n",
       "    <tr>\n",
       "      <th>473</th>\n",
       "      <td>20082</td>\n",
       "      <td>1</td>\n",
       "      <td>1</td>\n",
       "      <td>77529</td>\n",
       "      <td>train</td>\n",
       "      <td>7</td>\n",
       "      <td>6</td>\n",
       "      <td>10</td>\n",
       "      <td>8.0</td>\n",
       "    </tr>\n",
       "    <tr>\n",
       "      <th>473</th>\n",
       "      <td>24852</td>\n",
       "      <td>2</td>\n",
       "      <td>0</td>\n",
       "      <td>77529</td>\n",
       "      <td>train</td>\n",
       "      <td>7</td>\n",
       "      <td>6</td>\n",
       "      <td>10</td>\n",
       "      <td>8.0</td>\n",
       "    </tr>\n",
       "    <tr>\n",
       "      <th>473</th>\n",
       "      <td>47144</td>\n",
       "      <td>3</td>\n",
       "      <td>1</td>\n",
       "      <td>77529</td>\n",
       "      <td>train</td>\n",
       "      <td>7</td>\n",
       "      <td>6</td>\n",
       "      <td>10</td>\n",
       "      <td>8.0</td>\n",
       "    </tr>\n",
       "    <tr>\n",
       "      <th>473</th>\n",
       "      <td>36441</td>\n",
       "      <td>4</td>\n",
       "      <td>1</td>\n",
       "      <td>77529</td>\n",
       "      <td>train</td>\n",
       "      <td>7</td>\n",
       "      <td>6</td>\n",
       "      <td>10</td>\n",
       "      <td>8.0</td>\n",
       "    </tr>\n",
       "    <tr>\n",
       "      <th>473</th>\n",
       "      <td>12206</td>\n",
       "      <td>5</td>\n",
       "      <td>0</td>\n",
       "      <td>77529</td>\n",
       "      <td>train</td>\n",
       "      <td>7</td>\n",
       "      <td>6</td>\n",
       "      <td>10</td>\n",
       "      <td>8.0</td>\n",
       "    </tr>\n",
       "  </tbody>\n",
       "</table>\n",
       "</div>"
      ],
      "text/plain": [
       "          product_id  add_to_cart_order  reordered  user_id eval_set  \\\n",
       "order_id                                                               \n",
       "473            20082                  1          1    77529    train   \n",
       "473            24852                  2          0    77529    train   \n",
       "473            47144                  3          1    77529    train   \n",
       "473            36441                  4          1    77529    train   \n",
       "473            12206                  5          0    77529    train   \n",
       "\n",
       "          order_number  order_dow  order_hour_of_day  days_since_prior_order  \n",
       "order_id                                                                      \n",
       "473                  7          6                 10                     8.0  \n",
       "473                  7          6                 10                     8.0  \n",
       "473                  7          6                 10                     8.0  \n",
       "473                  7          6                 10                     8.0  \n",
       "473                  7          6                 10                     8.0  "
      ]
     },
     "execution_count": 29,
     "metadata": {},
     "output_type": "execute_result"
    }
   ],
   "source": [
    "orders_products_joined = orders_products.join(orders);\n",
    "orders_products_joined.head()"
   ]
  },
  {
   "cell_type": "markdown",
   "metadata": {},
   "source": [
    "When the two columns do not have the same index, we can use the more flexible `merge` function:\n",
    "* the `left_on` and `right_on` options specify the column names to be joined on\n",
    "* if the variable to be joined on is an index, set `left_index` / `right_index` to `True`. \n",
    "* Finally, the `how` option allows you to specify the type of joins (left, right, inner, outer)."
   ]
  },
  {
   "cell_type": "code",
   "execution_count": 30,
   "metadata": {},
   "outputs": [
    {
     "data": {
      "text/html": [
       "<div>\n",
       "<table border=\"1\" class=\"dataframe\">\n",
       "  <thead>\n",
       "    <tr style=\"text-align: right;\">\n",
       "      <th></th>\n",
       "      <th>product_id</th>\n",
       "      <th>add_to_cart_order</th>\n",
       "      <th>reordered</th>\n",
       "      <th>product_name</th>\n",
       "      <th>aisle_id</th>\n",
       "      <th>department_id</th>\n",
       "    </tr>\n",
       "    <tr>\n",
       "      <th>order_id</th>\n",
       "      <th></th>\n",
       "      <th></th>\n",
       "      <th></th>\n",
       "      <th></th>\n",
       "      <th></th>\n",
       "      <th></th>\n",
       "    </tr>\n",
       "  </thead>\n",
       "  <tbody>\n",
       "    <tr>\n",
       "      <th>473</th>\n",
       "      <td>20082</td>\n",
       "      <td>1</td>\n",
       "      <td>1</td>\n",
       "      <td>Organic Whole Milk with DHA Omega-3</td>\n",
       "      <td>84</td>\n",
       "      <td>16</td>\n",
       "    </tr>\n",
       "    <tr>\n",
       "      <th>473</th>\n",
       "      <td>24852</td>\n",
       "      <td>2</td>\n",
       "      <td>0</td>\n",
       "      <td>Banana</td>\n",
       "      <td>24</td>\n",
       "      <td>4</td>\n",
       "    </tr>\n",
       "    <tr>\n",
       "      <th>473</th>\n",
       "      <td>47144</td>\n",
       "      <td>3</td>\n",
       "      <td>1</td>\n",
       "      <td>Unsweetened Original Almond Breeze Almond Milk</td>\n",
       "      <td>91</td>\n",
       "      <td>16</td>\n",
       "    </tr>\n",
       "    <tr>\n",
       "      <th>473</th>\n",
       "      <td>36441</td>\n",
       "      <td>4</td>\n",
       "      <td>1</td>\n",
       "      <td>Baby Wipes</td>\n",
       "      <td>56</td>\n",
       "      <td>18</td>\n",
       "    </tr>\n",
       "    <tr>\n",
       "      <th>473</th>\n",
       "      <td>12206</td>\n",
       "      <td>5</td>\n",
       "      <td>0</td>\n",
       "      <td>Basil Pesto</td>\n",
       "      <td>9</td>\n",
       "      <td>9</td>\n",
       "    </tr>\n",
       "  </tbody>\n",
       "</table>\n",
       "</div>"
      ],
      "text/plain": [
       "          product_id  add_to_cart_order  reordered  \\\n",
       "order_id                                             \n",
       "473            20082                  1          1   \n",
       "473            24852                  2          0   \n",
       "473            47144                  3          1   \n",
       "473            36441                  4          1   \n",
       "473            12206                  5          0   \n",
       "\n",
       "                                            product_name  aisle_id  \\\n",
       "order_id                                                             \n",
       "473                  Organic Whole Milk with DHA Omega-3        84   \n",
       "473                                               Banana        24   \n",
       "473       Unsweetened Original Almond Breeze Almond Milk        91   \n",
       "473                                           Baby Wipes        56   \n",
       "473                                          Basil Pesto         9   \n",
       "\n",
       "          department_id  \n",
       "order_id                 \n",
       "473                  16  \n",
       "473                   4  \n",
       "473                  16  \n",
       "473                  18  \n",
       "473                   9  "
      ]
     },
     "execution_count": 30,
     "metadata": {},
     "output_type": "execute_result"
    }
   ],
   "source": [
    "order_products_desc = orders_products.merge(products, left_on='product_id', right_index=True, how='left')\n",
    "order_products_desc.head()"
   ]
  },
  {
   "cell_type": "markdown",
   "metadata": {},
   "source": [
    "This way, we can look at the most popular products."
   ]
  },
  {
   "cell_type": "code",
   "execution_count": 31,
   "metadata": {},
   "outputs": [
    {
     "data": {
      "text/plain": [
       "<matplotlib.axes._subplots.AxesSubplot at 0x115707d50>"
      ]
     },
     "execution_count": 31,
     "metadata": {},
     "output_type": "execute_result"
    },
    {
     "data": {
      "image/png": "[encoded data removed]",
      "text/plain": [
       "<matplotlib.figure.Figure at 0x115707d90>"
      ]
     },
     "metadata": {},
     "output_type": "display_data"
    }
   ],
   "source": [
    "order_products_desc['product_name'].value_counts()[:10].plot(kind='bar')"
   ]
  },
  {
   "cell_type": "markdown",
   "metadata": {},
   "source": [
    "## Exercise 4: Summarizing orders by aisle information\n",
    "\n",
    "We are interested in knowing which aisles are *LEAST* popular and can make management decisions based on that. Try to answer the following questions:\n",
    "* Which aisle has the least number of products ordered from?\n",
    "* What about only among the reordered products?\n",
    "\n",
    "\n",
    "**Challenge:** Suppose there was a software glitch that all products with the `add_to_cart_order` more than 30 was not correctly charged. What percent of all orders are affected by this glitch?"
   ]
  },
  {
   "cell_type": "code",
   "execution_count": 1,
   "metadata": {},
   "outputs": [
    {
     "ename": "NameError",
     "evalue": "name 'orders_products' is not defined",
     "output_type": "error",
     "traceback": [
      "\u001b[0;31m---------------------------------------------------------------------------\u001b[0m",
      "\u001b[0;31mNameError\u001b[0m                                 Traceback (most recent call last)",
      "\u001b[0;32m<ipython-input-1-4603bddc9fab>\u001b[0m in \u001b[0;36m<module>\u001b[0;34m()\u001b[0m\n\u001b[0;32m----> 1\u001b[0;31m \u001b[0morders_products_aisles\u001b[0m \u001b[0;34m=\u001b[0m \u001b[0morders_products\u001b[0m\u001b[0;34m.\u001b[0m\u001b[0mset_index\u001b[0m\u001b[0;34m(\u001b[0m\u001b[0;34m'product_id'\u001b[0m\u001b[0;34m)\u001b[0m\u001b[0;34m.\u001b[0m\u001b[0mjoin\u001b[0m\u001b[0;34m(\u001b[0m\u001b[0maisles\u001b[0m\u001b[0;34m)\u001b[0m\u001b[0;34m\u001b[0m\u001b[0m\n\u001b[0m\u001b[1;32m      2\u001b[0m \u001b[0morders_products_aisles\u001b[0m\u001b[0;34m.\u001b[0m\u001b[0mhead\u001b[0m\u001b[0;34m(\u001b[0m\u001b[0;34m)\u001b[0m\u001b[0;34m\u001b[0m\u001b[0m\n\u001b[1;32m      3\u001b[0m \u001b[0morders_products\u001b[0m\u001b[0;34m.\u001b[0m\u001b[0mhead\u001b[0m\u001b[0;34m(\u001b[0m\u001b[0;34m)\u001b[0m\u001b[0;34m\u001b[0m\u001b[0m\n",
      "\u001b[0;31mNameError\u001b[0m: name 'orders_products' is not defined"
     ]
    }
   ],
   "source": [
    "orders_products_aisles = orders_products.set_index('product_id').join(aisles)\n",
    "orders_products_aisles.head()\n",
    "orders_products.head()"
   ]
  },
  {
   "cell_type": "code",
   "execution_count": 33,
   "metadata": {},
   "outputs": [
    {
     "data": {
      "text/plain": [
       "aisle\n",
       "beauty                            1\n",
       "soft drinks                       1\n",
       "skin care                         1\n",
       "protein meal replacements         1\n",
       "poultry counter                   1\n",
       "packaged vegetables fruits        1\n",
       "packaged produce                  1\n",
       "milk                              1\n",
       "lunch meat                        1\n",
       "latino foods                      1\n",
       "hot dogs bacon sausage            1\n",
       "honeys syrups nectars             1\n",
       "frozen juice                      1\n",
       "frozen appetizers sides           1\n",
       "water seltzer sparkling water     1\n",
       "eye ear care                      1\n",
       "butter                            1\n",
       "breakfast bars pastries           1\n",
       "first aid                         1\n",
       "cereal                            1\n",
       "cream                             1\n",
       "digestion                         1\n",
       "buns rolls                        1\n",
       "dish detergents                   1\n",
       "eggs                              1\n",
       "ice cream ice                     2\n",
       "grains rice dried goods           2\n",
       "red wines                         2\n",
       "more household                    2\n",
       "paper goods                       2\n",
       "breakfast bakery                  2\n",
       "popcorn jerky                     3\n",
       "tea                               3\n",
       "tortillas flat bread              3\n",
       "soap                              4\n",
       "body lotions soap                 4\n",
       "prepared soups salads             4\n",
       "hot cereal pancake mixes          5\n",
       "canned meat seafood               6\n",
       "kitchen supplies                  6\n",
       "nuts seeds dried fruit            7\n",
       "frozen produce                    8\n",
       "packaged poultry                  9\n",
       "frozen pizza                     12\n",
       "frozen meat seafood              15\n",
       "candy chocolate                  33\n",
       "dtype: int64"
      ]
     },
     "execution_count": 33,
     "metadata": {},
     "output_type": "execute_result"
    }
   ],
   "source": [
    "orders_products_aisles.groupby('aisle').size().sort_values()"
   ]
  },
  {
   "cell_type": "code",
   "execution_count": 34,
   "metadata": {},
   "outputs": [
    {
     "data": {
      "text/plain": [
       "aisle\n",
       "beauty                            1\n",
       "soft drinks                       1\n",
       "soap                              1\n",
       "skin care                         1\n",
       "red wines                         1\n",
       "prepared soups salads             1\n",
       "popcorn jerky                     1\n",
       "packaged produce                  1\n",
       "kitchen supplies                  1\n",
       "honeys syrups nectars             1\n",
       "grains rice dried goods           1\n",
       "water seltzer sparkling water     1\n",
       "eggs                              1\n",
       "frozen juice                      1\n",
       "buns rolls                        1\n",
       "first aid                         1\n",
       "butter                            1\n",
       "cereal                            1\n",
       "tea                               2\n",
       "tortillas flat bread              2\n",
       "breakfast bakery                  2\n",
       "paper goods                       2\n",
       "frozen pizza                      4\n",
       "frozen produce                    4\n",
       "hot cereal pancake mixes          4\n",
       "packaged poultry                  5\n",
       "nuts seeds dried fruit            7\n",
       "frozen meat seafood              12\n",
       "candy chocolate                  22\n",
       "dtype: int64"
      ]
     },
     "execution_count": 34,
     "metadata": {},
     "output_type": "execute_result"
    }
   ],
   "source": [
    "orders_products_aisles[orders_products_aisles['reordered'] ==1].groupby('aisle').size().sort_values()"
   ]
  },
  {
   "cell_type": "markdown",
   "metadata": {},
   "source": [
    "## Reading data from SQL databases\n",
    "\n",
    "(Note: The content for this section is adapted from the Pandas Cookbook Chapter 9.)\n",
    "\n",
    "Pandas can read from HTML, JSON, SQL, Excel, HDF5, Stata, and a few other things. We'll talk about reading data from SQL databases now.\n",
    "\n",
    "You can read data from a SQL database using the `pd.read_sql` function. `read_sql` will automatically convert SQL column names to DataFrame column names.\n",
    "\n",
    "`read_sql` takes 2 arguments: a `SELECT` statement, and a database connection object. It means you can read from *any* kind of SQL database -- it doesn't matter if it's MySQL, SQLite, PostgreSQL, or something else."
   ]
  },
  {
   "cell_type": "code",
   "execution_count": 36,
   "metadata": {
    "collapsed": true
   },
   "outputs": [],
   "source": [
    "import pandas as pd\n",
    "import sqlite3"
   ]
  },
  {
   "cell_type": "code",
   "execution_count": 37,
   "metadata": {},
   "outputs": [
    {
     "data": {
      "text/html": [
       "<div>\n",
       "<table border=\"1\" class=\"dataframe\">\n",
       "  <thead>\n",
       "    <tr style=\"text-align: right;\">\n",
       "      <th></th>\n",
       "      <th>id</th>\n",
       "      <th>date_time</th>\n",
       "      <th>temp</th>\n",
       "    </tr>\n",
       "  </thead>\n",
       "  <tbody>\n",
       "    <tr>\n",
       "      <th>0</th>\n",
       "      <td>1</td>\n",
       "      <td>2012-01-01 00:00:00</td>\n",
       "      <td>-1.8</td>\n",
       "    </tr>\n",
       "    <tr>\n",
       "      <th>1</th>\n",
       "      <td>2</td>\n",
       "      <td>2012-01-01 01:00:00</td>\n",
       "      <td>-1.8</td>\n",
       "    </tr>\n",
       "    <tr>\n",
       "      <th>2</th>\n",
       "      <td>3</td>\n",
       "      <td>2012-01-01 02:00:00</td>\n",
       "      <td>-1.8</td>\n",
       "    </tr>\n",
       "    <tr>\n",
       "      <th>3</th>\n",
       "      <td>4</td>\n",
       "      <td>2012-01-01 03:00:00</td>\n",
       "      <td>-1.5</td>\n",
       "    </tr>\n",
       "    <tr>\n",
       "      <th>4</th>\n",
       "      <td>5</td>\n",
       "      <td>2012-01-01 04:00:00</td>\n",
       "      <td>-1.5</td>\n",
       "    </tr>\n",
       "  </tbody>\n",
       "</table>\n",
       "</div>"
      ],
      "text/plain": [
       "   id            date_time  temp\n",
       "0   1  2012-01-01 00:00:00  -1.8\n",
       "1   2  2012-01-01 01:00:00  -1.8\n",
       "2   3  2012-01-01 02:00:00  -1.8\n",
       "3   4  2012-01-01 03:00:00  -1.5\n",
       "4   5  2012-01-01 04:00:00  -1.5"
      ]
     },
     "execution_count": 37,
     "metadata": {},
     "output_type": "execute_result"
    }
   ],
   "source": [
    "con = sqlite3.connect(\"data/weather_2012.sqlite\")\n",
    "df = pd.read_sql(\"SELECT * from weather_2012 LIMIT 5\", con)\n",
    "df"
   ]
  },
  {
   "cell_type": "markdown",
   "metadata": {},
   "source": [
    "And that's it! If you are familiar with SQL type statements, you can try some advanced `SELECT` statements; otherwise, just select everything you need and do the data cleaning in Pandas. "
   ]
  },
  {
   "cell_type": "markdown",
   "metadata": {},
   "source": [
    "## Getting Data Ready for SciKitLearn \n",
    "\n",
    "Having a cleaned `Pandas` dataframe does not allow you to run through machine learning packages directly yet. The dataframe may need to be appropriately transformed (onehot encoded for categorical variables, scaled, etc.). Both Pandas and scikit-learn offer some useful preprocessing functions.\n",
    "\n",
    "`pd.get_dummies` takes the dataframe, and a list of categorical columns to be converted into a dummified dataframe. See the following example, where we take the `orders_products_aisles` dataframe that we merged earlier, and convert the string categorical variable `aisle` to be onehot encoded:"
   ]
  },
  {
   "cell_type": "code",
   "execution_count": 38,
   "metadata": {},
   "outputs": [
    {
     "data": {
      "text/html": [
       "<div>\n",
       "<table border=\"1\" class=\"dataframe\">\n",
       "  <thead>\n",
       "    <tr style=\"text-align: right;\">\n",
       "      <th></th>\n",
       "      <th>add_to_cart_order</th>\n",
       "      <th>aisle_beauty</th>\n",
       "      <th>aisle_body lotions soap</th>\n",
       "      <th>aisle_breakfast bakery</th>\n",
       "      <th>aisle_breakfast bars pastries</th>\n",
       "      <th>aisle_buns rolls</th>\n",
       "      <th>aisle_butter</th>\n",
       "      <th>aisle_candy chocolate</th>\n",
       "      <th>aisle_canned meat seafood</th>\n",
       "      <th>aisle_cereal</th>\n",
       "      <th>...</th>\n",
       "      <th>aisle_poultry counter</th>\n",
       "      <th>aisle_prepared soups salads</th>\n",
       "      <th>aisle_protein meal replacements</th>\n",
       "      <th>aisle_red wines</th>\n",
       "      <th>aisle_skin care</th>\n",
       "      <th>aisle_soap</th>\n",
       "      <th>aisle_soft drinks</th>\n",
       "      <th>aisle_tea</th>\n",
       "      <th>aisle_tortillas flat bread</th>\n",
       "      <th>aisle_water seltzer sparkling water</th>\n",
       "    </tr>\n",
       "  </thead>\n",
       "  <tbody>\n",
       "    <tr>\n",
       "      <th>1</th>\n",
       "      <td>5</td>\n",
       "      <td>0</td>\n",
       "      <td>0</td>\n",
       "      <td>0</td>\n",
       "      <td>0</td>\n",
       "      <td>0</td>\n",
       "      <td>0</td>\n",
       "      <td>0</td>\n",
       "      <td>0</td>\n",
       "      <td>0</td>\n",
       "      <td>...</td>\n",
       "      <td>0</td>\n",
       "      <td>1</td>\n",
       "      <td>0</td>\n",
       "      <td>0</td>\n",
       "      <td>0</td>\n",
       "      <td>0</td>\n",
       "      <td>0</td>\n",
       "      <td>0</td>\n",
       "      <td>0</td>\n",
       "      <td>0</td>\n",
       "    </tr>\n",
       "    <tr>\n",
       "      <th>1</th>\n",
       "      <td>14</td>\n",
       "      <td>0</td>\n",
       "      <td>0</td>\n",
       "      <td>0</td>\n",
       "      <td>0</td>\n",
       "      <td>0</td>\n",
       "      <td>0</td>\n",
       "      <td>0</td>\n",
       "      <td>0</td>\n",
       "      <td>0</td>\n",
       "      <td>...</td>\n",
       "      <td>0</td>\n",
       "      <td>1</td>\n",
       "      <td>0</td>\n",
       "      <td>0</td>\n",
       "      <td>0</td>\n",
       "      <td>0</td>\n",
       "      <td>0</td>\n",
       "      <td>0</td>\n",
       "      <td>0</td>\n",
       "      <td>0</td>\n",
       "    </tr>\n",
       "    <tr>\n",
       "      <th>1</th>\n",
       "      <td>11</td>\n",
       "      <td>0</td>\n",
       "      <td>0</td>\n",
       "      <td>0</td>\n",
       "      <td>0</td>\n",
       "      <td>0</td>\n",
       "      <td>0</td>\n",
       "      <td>0</td>\n",
       "      <td>0</td>\n",
       "      <td>0</td>\n",
       "      <td>...</td>\n",
       "      <td>0</td>\n",
       "      <td>1</td>\n",
       "      <td>0</td>\n",
       "      <td>0</td>\n",
       "      <td>0</td>\n",
       "      <td>0</td>\n",
       "      <td>0</td>\n",
       "      <td>0</td>\n",
       "      <td>0</td>\n",
       "      <td>0</td>\n",
       "    </tr>\n",
       "    <tr>\n",
       "      <th>1</th>\n",
       "      <td>6</td>\n",
       "      <td>0</td>\n",
       "      <td>0</td>\n",
       "      <td>0</td>\n",
       "      <td>0</td>\n",
       "      <td>0</td>\n",
       "      <td>0</td>\n",
       "      <td>0</td>\n",
       "      <td>0</td>\n",
       "      <td>0</td>\n",
       "      <td>...</td>\n",
       "      <td>0</td>\n",
       "      <td>1</td>\n",
       "      <td>0</td>\n",
       "      <td>0</td>\n",
       "      <td>0</td>\n",
       "      <td>0</td>\n",
       "      <td>0</td>\n",
       "      <td>0</td>\n",
       "      <td>0</td>\n",
       "      <td>0</td>\n",
       "    </tr>\n",
       "    <tr>\n",
       "      <th>10</th>\n",
       "      <td>12</td>\n",
       "      <td>0</td>\n",
       "      <td>0</td>\n",
       "      <td>0</td>\n",
       "      <td>0</td>\n",
       "      <td>0</td>\n",
       "      <td>0</td>\n",
       "      <td>0</td>\n",
       "      <td>0</td>\n",
       "      <td>0</td>\n",
       "      <td>...</td>\n",
       "      <td>0</td>\n",
       "      <td>0</td>\n",
       "      <td>0</td>\n",
       "      <td>0</td>\n",
       "      <td>0</td>\n",
       "      <td>0</td>\n",
       "      <td>0</td>\n",
       "      <td>0</td>\n",
       "      <td>0</td>\n",
       "      <td>0</td>\n",
       "    </tr>\n",
       "  </tbody>\n",
       "</table>\n",
       "<p>5 rows × 47 columns</p>\n",
       "</div>"
      ],
      "text/plain": [
       "    add_to_cart_order  aisle_beauty  aisle_body lotions soap  \\\n",
       "1                   5             0                        0   \n",
       "1                  14             0                        0   \n",
       "1                  11             0                        0   \n",
       "1                   6             0                        0   \n",
       "10                 12             0                        0   \n",
       "\n",
       "    aisle_breakfast bakery  aisle_breakfast bars pastries  aisle_buns rolls  \\\n",
       "1                        0                              0                 0   \n",
       "1                        0                              0                 0   \n",
       "1                        0                              0                 0   \n",
       "1                        0                              0                 0   \n",
       "10                       0                              0                 0   \n",
       "\n",
       "    aisle_butter  aisle_candy chocolate  aisle_canned meat seafood  \\\n",
       "1              0                      0                          0   \n",
       "1              0                      0                          0   \n",
       "1              0                      0                          0   \n",
       "1              0                      0                          0   \n",
       "10             0                      0                          0   \n",
       "\n",
       "    aisle_cereal                 ...                   aisle_poultry counter  \\\n",
       "1              0                 ...                                       0   \n",
       "1              0                 ...                                       0   \n",
       "1              0                 ...                                       0   \n",
       "1              0                 ...                                       0   \n",
       "10             0                 ...                                       0   \n",
       "\n",
       "    aisle_prepared soups salads  aisle_protein meal replacements  \\\n",
       "1                             1                                0   \n",
       "1                             1                                0   \n",
       "1                             1                                0   \n",
       "1                             1                                0   \n",
       "10                            0                                0   \n",
       "\n",
       "    aisle_red wines  aisle_skin care  aisle_soap  aisle_soft drinks  \\\n",
       "1                 0                0           0                  0   \n",
       "1                 0                0           0                  0   \n",
       "1                 0                0           0                  0   \n",
       "1                 0                0           0                  0   \n",
       "10                0                0           0                  0   \n",
       "\n",
       "    aisle_tea  aisle_tortillas flat bread  aisle_water seltzer sparkling water  \n",
       "1           0                           0                                    0  \n",
       "1           0                           0                                    0  \n",
       "1           0                           0                                    0  \n",
       "1           0                           0                                    0  \n",
       "10          0                           0                                    0  \n",
       "\n",
       "[5 rows x 47 columns]"
      ]
     },
     "execution_count": 38,
     "metadata": {},
     "output_type": "execute_result"
    }
   ],
   "source": [
    "X_dum = pd.get_dummies(orders_products_aisles.drop('reordered', axis=1) , columns=['aisle'])\n",
    "X_dum.head()"
   ]
  },
  {
   "cell_type": "markdown",
   "metadata": {
    "collapsed": true
   },
   "source": [
    "Now we can run it through sklearn, which will be the topic of tomorrow's lesson."
   ]
  },
  {
   "cell_type": "code",
   "execution_count": 39,
   "metadata": {},
   "outputs": [
    {
     "data": {
      "text/plain": [
       "array([ 1.        ,  0.        ,  1.        , ...,  0.61235955,\n",
       "        0.60710322,  0.58320127])"
      ]
     },
     "execution_count": 39,
     "metadata": {},
     "output_type": "execute_result"
    }
   ],
   "source": [
    "from sklearn import tree\n",
    "Y = order_products_desc['reordered']\n",
    "clf = tree.DecisionTreeClassifier()\n",
    "clf = clf.fit(X_dum, Y)\n",
    "clf.predict_proba(X_dum)[:,1]"
   ]
  },
  {
   "cell_type": "markdown",
   "metadata": {},
   "source": [
    "## Other useful references\n",
    "\n",
    "* A useful cheatsheet: https://github.com/pandas-dev/pandas/blob/master/doc/cheatsheet/Pandas_Cheat_Sheet.pdf\n",
    "* The mapping between `R` commands and `Pandas` can be found here, if you are coming from a more `R`-type background:\n",
    "https://pandas.pydata.org/pandas-docs/version/0.18.1/comparison_with_r.html"
   ]
  },
  {
   "cell_type": "markdown",
   "metadata": {},
   "source": [
    "<img src=\"http://www.rantchic.com/wp-content/uploads/2014/10/panda.jpg\" align=\"left\">"
   ]
  }
 ],
 "metadata": {
  "kernelspec": {
   "display_name": "Python 2",
   "language": "python",
   "name": "python2"
  },
  "language_info": {
   "codemirror_mode": {
    "name": "ipython",
    "version": 2
   },
   "file_extension": ".py",
   "mimetype": "text/x-python",
   "name": "python",
   "nbconvert_exporter": "python",
   "pygments_lexer": "ipython2",
   "version": "2.7.13"
  }
 },
 "nbformat": 4,
 "nbformat_minor": 2
}
