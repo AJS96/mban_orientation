{
 "cells": [
  {
   "cell_type": "markdown",
   "metadata": {},
   "source": [
    "# Optimization in Python\n",
    "\n",
    "You might have noticed that we didn't do anything related to sparsity with scikit-learn models. A lot of the work we covered in the machine learning class is very recent research, and as such is typically not implemented by the popular libraries.\n",
    "\n",
    "If we want to do things like sparse regression, we're going to have to roll up our sleeves and do it ourselves. For that, we need to be able to solve optimization problems. In Julia, we did this with JuMP. In Python, we'll use a similar library called *pyomo*."
   ]
  },
  {
   "cell_type": "markdown",
   "metadata": {},
   "source": [
    "# Installing pyomo"
   ]
  },
  {
   "cell_type": "markdown",
   "metadata": {},
   "source": [
    "You can run the following command to install pyomo if you haven't already."
   ]
  },
  {
   "cell_type": "code",
   "execution_count": 1,
   "metadata": {
    "scrolled": true
   },
   "outputs": [
    {
     "name": "stdout",
     "output_type": "stream",
     "text": [
      "Requirement already satisfied: pyomo in /Users/jack/Library/Python/2.7/lib/python/site-packages\r\n",
      "Requirement already satisfied: six>=1.4 in /Users/jack/Library/Python/2.7/lib/python/site-packages (from pyomo)\r\n",
      "Requirement already satisfied: PyUtilib>=5.5 in /Users/jack/Library/Python/2.7/lib/python/site-packages (from pyomo)\r\n",
      "Requirement already satisfied: appdirs in /Users/jack/Library/Python/2.7/lib/python/site-packages (from pyomo)\r\n",
      "Requirement already satisfied: ply in /usr/local/lib/python2.7/site-packages (from pyomo)\r\n",
      "Requirement already satisfied: nose in /usr/local/lib/python2.7/site-packages (from PyUtilib>=5.5->pyomo)\r\n"
     ]
    }
   ],
   "source": [
    "!pip install pyomo --user"
   ]
  },
  {
   "cell_type": "markdown",
   "metadata": {},
   "source": [
    "# Intro to pyomo\n",
    "\n",
    "Let's see how we translate a simple, 2 variable LP to pyomo code.\n",
    "\n",
    "$$\n",
    "\\begin{align*}\n",
    "\\max_{x,y} \\quad& x + 2y \\\\\n",
    "\\text{s.t.}\\quad& x + y \\leq 1 \\\\\n",
    "& x, y \\geq 0.\n",
    "\\end{align*}\n",
    "$$"
   ]
  },
  {
   "cell_type": "markdown",
   "metadata": {},
   "source": [
    "First thing is to import the pyomo functions:"
   ]
  },
  {
   "cell_type": "code",
   "execution_count": 2,
   "metadata": {
    "collapsed": true
   },
   "outputs": [],
   "source": [
    "from pyomo.environ import *\n",
    "from pyomo.opt import SolverFactory"
   ]
  },
  {
   "cell_type": "markdown",
   "metadata": {},
   "source": [
    "Next, we construct a model object. This is a container for everything in our optimization problem: variables, constraints, solver options, etc."
   ]
  },
  {
   "cell_type": "code",
   "execution_count": 3,
   "metadata": {
    "collapsed": true
   },
   "outputs": [],
   "source": [
    "m = ConcreteModel()"
   ]
  },
  {
   "cell_type": "markdown",
   "metadata": {},
   "source": [
    "Next, we define the two decision variables in our optimization problem. We use the ``Var`` function to create the variables. The `within` keyword is used to specify the bounds on the variables, or equivalently the `bounds` keyword. The variables are added to the model object with names `x` and `y`."
   ]
  },
  {
   "cell_type": "code",
   "execution_count": 4,
   "metadata": {
    "collapsed": true
   },
   "outputs": [],
   "source": [
    "m.x = Var(within=NonNegativeReals)\n",
    "m.y = Var(bounds=(0, float('inf')))"
   ]
  },
  {
   "cell_type": "markdown",
   "metadata": {},
   "source": [
    "We now add the single constraint of our problem using the ``Constraint`` function. We write it algebraically, and save the result to the model."
   ]
  },
  {
   "cell_type": "code",
   "execution_count": 5,
   "metadata": {
    "collapsed": true
   },
   "outputs": [],
   "source": [
    "m.con = Constraint(expr=m.x + m.y <= 1)"
   ]
  },
  {
   "cell_type": "markdown",
   "metadata": {},
   "source": [
    "We specify the objective function with the `Objective` function:"
   ]
  },
  {
   "cell_type": "code",
   "execution_count": 6,
   "metadata": {
    "collapsed": true
   },
   "outputs": [],
   "source": [
    "m.obj = Objective(sense=maximize, expr=m.x + 2 * m.y)"
   ]
  },
  {
   "cell_type": "markdown",
   "metadata": {},
   "source": [
    "We solve the optimization problem by first specifying a solver using `SolverFactory` and then using this solver to solve the model:"
   ]
  },
  {
   "cell_type": "code",
   "execution_count": 7,
   "metadata": {},
   "outputs": [
    {
     "data": {
      "text/plain": [
       "{'Problem': [{'Number of objectives': 1, 'Lower bound': 2.0, 'Name': 'x3', 'Number of variables': 3, 'Upper bound': 2.0, 'Number of continuous variables': 3, 'Sense': 'maximize', 'Number of constraints': 2, 'Number of binary variables': 0, 'Number of integer variables': 0, 'Number of nonzeros': 3}], 'Solution': [OrderedDict([('number of solutions', 0), ('number of solutions displayed', 0)])], 'Solver': [{'Status': 'ok', 'Wall time': '0.000507831573486', 'Termination condition': 'optimal', 'Termination message': 'Model was solved to optimality (subject to tolerances), and an optimal solution is available.', 'Time': 0.17572498321533203, 'Message': 'Model was solved to optimality (subject to tolerances), and an optimal solution is available.', 'Error rc': 0, 'Return code': '0'}]}"
      ]
     },
     "execution_count": 7,
     "metadata": {},
     "output_type": "execute_result"
    }
   ],
   "source": [
    "solver = SolverFactory('gurobi')\n",
    "solver.solve(m)"
   ]
  },
  {
   "cell_type": "markdown",
   "metadata": {},
   "source": [
    "We can now inspect the solution values and optimal cost."
   ]
  },
  {
   "cell_type": "code",
   "execution_count": 8,
   "metadata": {},
   "outputs": [
    {
     "data": {
      "text/plain": [
       "2.0"
      ]
     },
     "execution_count": 8,
     "metadata": {},
     "output_type": "execute_result"
    }
   ],
   "source": [
    "m.obj()"
   ]
  },
  {
   "cell_type": "code",
   "execution_count": 9,
   "metadata": {},
   "outputs": [
    {
     "data": {
      "text/plain": [
       "0.0"
      ]
     },
     "execution_count": 9,
     "metadata": {},
     "output_type": "execute_result"
    }
   ],
   "source": [
    "m.x.value"
   ]
  },
  {
   "cell_type": "code",
   "execution_count": 10,
   "metadata": {},
   "outputs": [
    {
     "data": {
      "text/plain": [
       "1.0"
      ]
     },
     "execution_count": 10,
     "metadata": {},
     "output_type": "execute_result"
    }
   ],
   "source": [
    "m.y.value"
   ]
  },
  {
   "cell_type": "markdown",
   "metadata": {},
   "source": [
    "Let's put it all together to compare with Julia/JuMP"
   ]
  },
  {
   "cell_type": "code",
   "execution_count": 11,
   "metadata": {},
   "outputs": [
    {
     "name": "stdout",
     "output_type": "stream",
     "text": [
      "2.0\n",
      "0.0\n",
      "1.0\n"
     ]
    }
   ],
   "source": [
    "# Create model\n",
    "m = ConcreteModel()\n",
    "# Add variables\n",
    "m.x = Var(within=NonNegativeReals)\n",
    "m.y = Var(bounds=(0, float('inf')))\n",
    "# Add constraint\n",
    "m.con = Constraint(expr=m.x + m.y <= 1)\n",
    "# Add objective\n",
    "m.obj = Objective(sense=maximize, expr=m.x + 2 * m.y)\n",
    "# Solve model\n",
    "solver = SolverFactory('gurobi')\n",
    "solver.solve(m)\n",
    "# Inspect solution\n",
    "print m.obj()\n",
    "print m.x.value\n",
    "print m.y.value"
   ]
  },
  {
   "cell_type": "markdown",
   "metadata": {},
   "source": [
    "```julia\n",
    "# Create model\n",
    "m = Model(solver=GurobiSolver())\n",
    "# Add variables\n",
    "@variable(m, x >= 0)\n",
    "@variable(m, y >= 0)\n",
    "# Add constraint\n",
    "@constraint(m, x + y <= 1)\n",
    "# Add objective\n",
    "@objective(m, Max, x + 2y)\n",
    "# Solve model\n",
    "solve(m)\n",
    "# Inspect solution\n",
    "@show getobjectivevalue(m)\n",
    "@show getvalue(x)\n",
    "@show getvalue(y)\n",
    "```"
   ]
  },
  {
   "cell_type": "markdown",
   "metadata": {},
   "source": [
    "### Exercise\n",
    "\n",
    "Code and solve the following optimization problem:\n",
    "\n",
    "$$\n",
    "\\begin{align*}\n",
    "\\min_{x,y} \\quad& 3x - y \\\\\n",
    "\\text{s.t.}\\quad& x + 2y \\geq 1 \\\\\n",
    "& x \\geq 0 \\\\\n",
    "& 0 \\leq y \\leq 1.\n",
    "\\end{align*}\n",
    "$$"
   ]
  },
  {
   "cell_type": "code",
   "execution_count": 12,
   "metadata": {},
   "outputs": [
    {
     "name": "stdout",
     "output_type": "stream",
     "text": [
      "0.0 1.0\n"
     ]
    }
   ],
   "source": [
    "# Create the model\n",
    "m = ConcreteModel()\n",
    "# Add the variables\n",
    "m.x = Var(within=NonNegativeReals)\n",
    "m.y = Var(bounds=(0, 1))\n",
    "# Add the constraint\n",
    "m.con = Constraint(expr=m.x + 2 * m.y >= 1)\n",
    "# Add the objective\n",
    "m.obj = Objective(sense=minimize, expr=3 * m.x - m.y)\n",
    "\n",
    "solver = SolverFactory('gurobi')\n",
    "solver.solve(m)\n",
    "\n",
    "print m.x.value, m.y.value"
   ]
  },
  {
   "cell_type": "markdown",
   "metadata": {},
   "source": [
    "# Index sets\n",
    "\n",
    "Let's now move to a more complicated problem. We'll look at a transportation problem:\n",
    "\n",
    "$$\n",
    "\\begin{align}\n",
    "\\min & \\sum\\limits_{i = 1}^{m} \\sum\\limits_{j = 1}^{n} c_{ij} x_{ij}\\\\\n",
    "& \\sum\\limits_{j = 1}^{n} x_{ij} \\leq b_i && i = 1, \\ldots, m\\\\\n",
    "& \\sum\\limits_{i = 1}^{m} x_{ij} = d_j && j = 1, \\ldots, n\\\\\n",
    "& x_{ij} \\ge 0 && i = 1, \\ldots, m, j = 1, \\ldots, n\n",
    "\\end{align}\n",
    "$$\n",
    "\n",
    "And with some data:"
   ]
  },
  {
   "cell_type": "code",
   "execution_count": 13,
   "metadata": {
    "collapsed": true
   },
   "outputs": [],
   "source": [
    "import numpy as np\n",
    "\n",
    "m = 2  # Number of supply nodes\n",
    "n = 5  # Number of demand nodes\n",
    "# Supplies\n",
    "b = np.array([1000, 4000])\n",
    "# Demands\n",
    "d = np.array([500, 900, 1800, 200, 700])\n",
    "# Costs\n",
    "c = np.array([[2, 4, 5, 2, 1], \n",
    "              [3, 1, 3, 2, 3]])"
   ]
  },
  {
   "cell_type": "markdown",
   "metadata": {},
   "source": [
    "Now we can formulate the problem with pyomo"
   ]
  },
  {
   "cell_type": "code",
   "execution_count": 30,
   "metadata": {
    "collapsed": true
   },
   "outputs": [],
   "source": [
    "model = ConcreteModel()"
   ]
  },
  {
   "cell_type": "markdown",
   "metadata": {},
   "source": [
    "First step is adding variables. We can add variables with indices by passing the relevant index sets to the `Var` constructor. In this case, we need a $m$-by$n$ matrix of variables:"
   ]
  },
  {
   "cell_type": "code",
   "execution_count": 31,
   "metadata": {
    "collapsed": true
   },
   "outputs": [],
   "source": [
    "model.x = Var(range(m), range(n), within=NonNegativeReals)"
   ]
  },
  {
   "cell_type": "markdown",
   "metadata": {},
   "source": [
    "Now to add the constraints. We have to add one supply constraint for each factory, so we might try something like:"
   ]
  },
  {
   "cell_type": "code",
   "execution_count": 32,
   "metadata": {},
   "outputs": [
    {
     "name": "stdout",
     "output_type": "stream",
     "text": [
      "WARNING: Implicitly replacing the Component attribute supply (type=<class 'pyomo.core.base.constraint.SimpleConstraint'>) on block unknown with a new Component (type=<class 'pyomo.core.base.constraint.SimpleConstraint'>).\n",
      "\tThis is usually indicative of a modelling error.\n",
      "\tTo avoid this warning, use block.del_component() and block.add_component().\n"
     ]
    }
   ],
   "source": [
    "for i in range(m):\n",
    "    model.supply = Constraint(expr=sum(model.x[i, j] for j in range(n)) <= b[i])"
   ]
  },
  {
   "cell_type": "markdown",
   "metadata": {},
   "source": [
    "Can you see the problem? We are overwriting `model.supply` in each iteration of the loop, and so only the last constraint is applied.\n",
    "\n",
    "Luckily, pyomo has a (not-so-easy) way to add multiple constraints at a time. We first define a *rule* that takes in the model and any required indices, and then returns the expression for the constraint:"
   ]
  },
  {
   "cell_type": "code",
   "execution_count": 33,
   "metadata": {
    "collapsed": true
   },
   "outputs": [],
   "source": [
    "def supply_rule(model, i):\n",
    "    return sum(model.x[i, j] for j in range(n)) <= b[i]"
   ]
  },
  {
   "cell_type": "markdown",
   "metadata": {},
   "source": [
    "We then add the constraint by referencing this rule along with the index set we want the constraint to be defined over:"
   ]
  },
  {
   "cell_type": "code",
   "execution_count": 34,
   "metadata": {
    "collapsed": true
   },
   "outputs": [],
   "source": [
    "model.supply2 = Constraint(range(m), rule=supply_rule)"
   ]
  },
  {
   "cell_type": "markdown",
   "metadata": {},
   "source": [
    "We then apply the same approach for the demand constraints"
   ]
  },
  {
   "cell_type": "code",
   "execution_count": 35,
   "metadata": {
    "collapsed": true
   },
   "outputs": [],
   "source": [
    "def demand_rule(model, j):\n",
    "    return sum(model.x[i, j] for i in range(m)) == d[j]\n",
    "model.demand = Constraint(range(n), rule=demand_rule)"
   ]
  },
  {
   "cell_type": "markdown",
   "metadata": {},
   "source": [
    "Finally, we add the objective:"
   ]
  },
  {
   "cell_type": "code",
   "execution_count": 41,
   "metadata": {},
   "outputs": [
    {
     "name": "stdout",
     "output_type": "stream",
     "text": [
      "WARNING: Implicitly replacing the Component attribute obj (type=<class 'pyomo.core.base.objective.SimpleObjective'>) on block unknown with a new Component (type=<class 'pyomo.core.base.objective.SimpleObjective'>).\n",
      "\tThis is usually indicative of a modelling error.\n",
      "\tTo avoid this warning, use block.del_component() and block.add_component().\n"
     ]
    }
   ],
   "source": [
    "model.obj = Objective(sense=minimize, \n",
    "    expr=sum(c[i, j] * model.x[i, j] \n",
    "    for i in range(m) for j in range(n)))"
   ]
  },
  {
   "cell_type": "markdown",
   "metadata": {},
   "source": [
    "Now we can solve the problem"
   ]
  },
  {
   "cell_type": "code",
   "execution_count": 37,
   "metadata": {},
   "outputs": [
    {
     "data": {
      "text/plain": [
       "{'Problem': [{'Number of objectives': 1, 'Lower bound': 8600.0, 'Name': 'x11', 'Number of variables': 11, 'Upper bound': 8600.0, 'Number of continuous variables': 11, 'Sense': 'minimize', 'Number of constraints': 9, 'Number of binary variables': 0, 'Number of integer variables': 0, 'Number of nonzeros': 26}], 'Solution': [OrderedDict([('number of solutions', 0), ('number of solutions displayed', 0)])], 'Solver': [{'Status': 'ok', 'Wall time': '0.00135684013367', 'Termination condition': 'optimal', 'Termination message': 'Model was solved to optimality (subject to tolerances), and an optimal solution is available.', 'Time': 0.05796098709106445, 'Message': 'Model was solved to optimality (subject to tolerances), and an optimal solution is available.', 'Error rc': 0, 'Return code': '0'}]}"
      ]
     },
     "execution_count": 37,
     "metadata": {},
     "output_type": "execute_result"
    }
   ],
   "source": [
    "solver = SolverFactory('gurobi')\n",
    "solver.solve(model)"
   ]
  },
  {
   "cell_type": "markdown",
   "metadata": {},
   "source": [
    "It solved, so we can extract the results"
   ]
  },
  {
   "cell_type": "code",
   "execution_count": 39,
   "metadata": {},
   "outputs": [
    {
     "data": {
      "text/plain": [
       "array([[  300.,     0.,     0.,     0.,   700.],\n",
       "       [  200.,   900.,  1800.,   200.,     0.]])"
      ]
     },
     "execution_count": 39,
     "metadata": {},
     "output_type": "execute_result"
    }
   ],
   "source": [
    "flows = np.array([[model.x[i, j].value for j in range(n)] for i in range(m)])\n",
    "flows"
   ]
  },
  {
   "cell_type": "markdown",
   "metadata": {},
   "source": [
    "We can also check the objective value for the cost of this flow"
   ]
  },
  {
   "cell_type": "code",
   "execution_count": 40,
   "metadata": {},
   "outputs": [
    {
     "data": {
      "text/plain": [
       "8600.0"
      ]
     },
     "execution_count": 40,
     "metadata": {},
     "output_type": "execute_result"
    }
   ],
   "source": [
    "model.obj()"
   ]
  },
  {
   "cell_type": "markdown",
   "metadata": {},
   "source": [
    "For simplicity, here is the entire formulation and solving code together:"
   ]
  },
  {
   "cell_type": "code",
   "execution_count": 42,
   "metadata": {},
   "outputs": [
    {
     "data": {
      "text/plain": [
       "8600.0"
      ]
     },
     "execution_count": 42,
     "metadata": {},
     "output_type": "execute_result"
    }
   ],
   "source": [
    "model = ConcreteModel()\n",
    "# Variables\n",
    "model.x = Var(range(m), range(n), within=NonNegativeReals)\n",
    "# Supply constraint\n",
    "def supply_rule(model, i):\n",
    "    return sum(model.x[i, j] for j in range(n)) <= b[i]\n",
    "model.supply2 = Constraint(range(m), rule=supply_rule)\n",
    "# Demand constraint\n",
    "def demand_rule(model, j):\n",
    "    return sum(model.x[i, j] for i in range(m)) == d[j]\n",
    "model.demand = Constraint(range(n), rule=demand_rule)\n",
    "# Objective\n",
    "model.obj = Objective(sense=minimize, \n",
    "    expr=sum(c[i, j] * model.x[i, j] \n",
    "    for i in range(m) for j in range(n)))\n",
    "# Solve\n",
    "solver = SolverFactory('gurobi')\n",
    "solver.solve(model)\n",
    "# Get results\n",
    "flows = np.array([[model.x[i, j].value for j in range(n)] for i in range(m)])\n",
    "model.obj()"
   ]
  },
  {
   "cell_type": "markdown",
   "metadata": {},
   "source": [
    "# Machine Learning\n",
    "\n",
    "Now let's put our pyomo knowledge to use and implement some of the same methods we saw in the machine learning class"
   ]
  },
  {
   "cell_type": "markdown",
   "metadata": {},
   "source": [
    "# Linear Regression\n",
    "\n",
    "First let's just try a simple linear regression"
   ]
  },
  {
   "cell_type": "code",
   "execution_count": 13,
   "metadata": {
    "collapsed": true
   },
   "outputs": [],
   "source": [
    "def linear_regression(X, y):\n",
    "    n, p = X.shape\n",
    "\n",
    "    # Create model\n",
    "    m = ConcreteModel()\n",
    "\n",
    "    # Add variables\n",
    "    m.beta = Var(range(p))\n",
    "\n",
    "    # Add constraints\n",
    "\n",
    "    # Add objective\n",
    "    m.obj = Objective(sense=minimize, expr=sum(\n",
    "        pow(y[i] - sum(X[i, j] * m.beta[j] for j in range(p)), 2) \n",
    "        for i in range(n)))\n",
    "\n",
    "    solver = SolverFactory('gurobi')\n",
    "    \n",
    "    ## tee=True enables solver output\n",
    "    # results = solver.solve(m, tee=True)\n",
    "    results = solver.solve(m, tee=False)\n",
    "\n",
    "    return [m.beta[j].value for j in range(p)]"
   ]
  },
  {
   "cell_type": "markdown",
   "metadata": {},
   "source": [
    "Let's load up some data to test it out on:"
   ]
  },
  {
   "cell_type": "code",
   "execution_count": 45,
   "metadata": {
    "collapsed": true
   },
   "outputs": [],
   "source": [
    "from sklearn.datasets import load_boston\n",
    "data = load_boston()\n",
    "X = data.data\n",
    "y = data.target"
   ]
  },
  {
   "cell_type": "markdown",
   "metadata": {},
   "source": [
    "Try our linear regression function:"
   ]
  },
  {
   "cell_type": "code",
   "execution_count": 15,
   "metadata": {},
   "outputs": [
    {
     "name": "stdout",
     "output_type": "stream",
     "text": [
      "WARNING: Empty constraint block written in LP format - solver may error\n"
     ]
    },
    {
     "data": {
      "text/plain": [
       "[-0.0916297984025,\n",
       " 0.0486751200558,\n",
       " -0.00377930013364,\n",
       " 2.85636752114,\n",
       " -2.88077955069,\n",
       " 5.92521437582,\n",
       " -0.00722447905437,\n",
       " -0.967995232723,\n",
       " 0.170443393507,\n",
       " -0.00938925373266,\n",
       " -0.392425679598,\n",
       " 0.0149832093403,\n",
       " -0.41697262342]"
      ]
     },
     "execution_count": 15,
     "metadata": {},
     "output_type": "execute_result"
    }
   ],
   "source": [
    "linear_regression(X, y)"
   ]
  },
  {
   "cell_type": "markdown",
   "metadata": {},
   "source": [
    "We can compare with sklearn to make sure it's right:"
   ]
  },
  {
   "cell_type": "code",
   "execution_count": 48,
   "metadata": {},
   "outputs": [
    {
     "name": "stderr",
     "output_type": "stream",
     "text": [
      "/usr/local/lib/python2.7/site-packages/scipy/linalg/basic.py:1018: RuntimeWarning: internal gelsd driver lwork query error, required iwork dimension not returned. This is likely the result of LAPACK bug 0038, fixed in LAPACK 3.2.2 (released July 21, 2010). Falling back to 'gelss' driver.\n",
      "  warnings.warn(mesg, RuntimeWarning)\n"
     ]
    },
    {
     "data": {
      "text/plain": [
       "array([ -9.16297843e-02,   4.86751203e-02,  -3.77930006e-03,\n",
       "         2.85636751e+00,  -2.88077933e+00,   5.92521432e+00,\n",
       "        -7.22447929e-03,  -9.67995240e-01,   1.70443393e-01,\n",
       "        -9.38925373e-03,  -3.92425680e-01,   1.49832102e-02,\n",
       "        -4.16972624e-01])"
      ]
     },
     "execution_count": 48,
     "metadata": {},
     "output_type": "execute_result"
    }
   ],
   "source": [
    "from sklearn.linear_model import LinearRegression\n",
    "m = LinearRegression(fit_intercept=False)\n",
    "m.fit(X, y)\n",
    "m.coef_"
   ]
  },
  {
   "cell_type": "markdown",
   "metadata": {},
   "source": [
    "Just for reference, let's look back at how we do the same thing in JuMP!\n",
    "\n",
    "```julia\n",
    "using JuMP, Gurobi\n",
    "function linear_regression(X, y)\n",
    "    n, p = size(X)\n",
    "    m = Model(solver=GurobiSolver())\n",
    "    @variable(m, beta[1:p])\n",
    "    @objective(m, Min, sum((y[i] - sum(X[i, j] * beta[j] for j = 1:p)) ^ 2 for i = 1:n))\n",
    "    solve(m)\n",
    "    getvalue(beta)\n",
    "end\n",
    "```\n",
    "\n",
    "or even\n",
    "\n",
    "```julia\n",
    "using JuMP, Gurobi\n",
    "function linear_regression(X, y)\n",
    "    n, p = size(X)\n",
    "    m = Model(solver=GurobiSolver())\n",
    "    @variable(m, beta[1:p])\n",
    "    @objective(m, Min, sum((y - X * beta) .^ 2))\n",
    "    solve(m)\n",
    "    getvalue(beta)\n",
    "end\n",
    "```\n",
    "\n",
    "Much simpler!"
   ]
  },
  {
   "cell_type": "markdown",
   "metadata": {},
   "source": [
    "### Exercise\n",
    "\n",
    "Modify the linear regression formulation to include an intercept term, and compare to scikit-learn's LinearRegression with `fit_intercept=False` to make sure it's the same"
   ]
  },
  {
   "cell_type": "code",
   "execution_count": 46,
   "metadata": {},
   "outputs": [
    {
     "name": "stdout",
     "output_type": "stream",
     "text": [
      "WARNING: Empty constraint block written in LP format - solver may error\n"
     ]
    },
    {
     "data": {
      "text/plain": [
       "[-0.107170537728,\n",
       " 0.0463952198659,\n",
       " 0.0208602390528,\n",
       " 2.6885613979,\n",
       " -17.7957586652,\n",
       " 3.8047524989,\n",
       " 0.00075106019668,\n",
       " -1.47575881609,\n",
       " 0.30565501599,\n",
       " -0.0123293463053,\n",
       " -0.953463554686,\n",
       " 0.00939251301344,\n",
       " -0.525466631712]"
      ]
     },
     "execution_count": 46,
     "metadata": {},
     "output_type": "execute_result"
    }
   ],
   "source": [
    "def linear_regression_intercept(X, y):\n",
    "    n, p = X.shape\n",
    "\n",
    "    # Create model\n",
    "    m = ConcreteModel()\n",
    "\n",
    "    # Add variables\n",
    "    m.beta = Var(range(p))\n",
    "    m.b0 = Var()\n",
    "\n",
    "    # Add constraints\n",
    "\n",
    "    # Add objective\n",
    "    m.obj = Objective(sense=minimize, expr=sum(\n",
    "        pow(y[i] - sum(X[i, j] * m.beta[j] for j in range(p)) - m.b0, 2) \n",
    "        for i in range(n)))\n",
    "\n",
    "    solver = SolverFactory('gurobi')\n",
    "    \n",
    "    ## tee=True enables solver output\n",
    "    # results = solver.solve(m, tee=True)\n",
    "    results = solver.solve(m, tee=False)\n",
    "\n",
    "    return [m.beta[j].value for j in range(p)]\n",
    "linear_regression_intercept(X, y)"
   ]
  },
  {
   "cell_type": "code",
   "execution_count": 49,
   "metadata": {},
   "outputs": [
    {
     "data": {
      "text/plain": [
       "array([ -1.07170557e-01,   4.63952195e-02,   2.08602395e-02,\n",
       "         2.68856140e+00,  -1.77957587e+01,   3.80475246e+00,\n",
       "         7.51061703e-04,  -1.47575880e+00,   3.05655038e-01,\n",
       "        -1.23293463e-02,  -9.53463555e-01,   9.39251272e-03,\n",
       "        -5.25466633e-01])"
      ]
     },
     "execution_count": 49,
     "metadata": {},
     "output_type": "execute_result"
    }
   ],
   "source": [
    "m = LinearRegression(fit_intercept=True)\n",
    "m.fit(X, y)\n",
    "m.coef_"
   ]
  },
  {
   "cell_type": "markdown",
   "metadata": {},
   "source": [
    "# Robust Regression\n",
    "\n",
    "We saw in the class that both ridge and lasso regression were robust versions of linear regression. Both of these are provided by `sklearn`, but we need to know how to implement them if we want to extend regression ourselves"
   ]
  },
  {
   "cell_type": "code",
   "execution_count": 17,
   "metadata": {
    "collapsed": true
   },
   "outputs": [],
   "source": [
    "def ridge_regression(X, y, rho):\n",
    "    n, p = X.shape\n",
    "\n",
    "    # Create model\n",
    "    m = ConcreteModel()\n",
    "\n",
    "    # Add variables\n",
    "    m.beta = Var(range(p))\n",
    "\n",
    "    # Add objective\n",
    "    m.obj = Objective(sense=minimize, expr=sum(\n",
    "        pow(y[i] - sum(X[i, j] * m.beta[j] for j in range(p)), 2) \n",
    "        for i in range(n)) + rho * sum(pow(m.beta[j], 2) for j in range(p)))\n",
    "\n",
    "    solver = SolverFactory('gurobi')\n",
    "    \n",
    "    ## tee=True enables solver output\n",
    "    # results = solver.solve(m, tee=True)\n",
    "    results = solver.solve(m, tee=False)\n",
    "    return [m.beta[j].value for j in range(p)]"
   ]
  },
  {
   "cell_type": "code",
   "execution_count": 18,
   "metadata": {},
   "outputs": [
    {
     "name": "stdout",
     "output_type": "stream",
     "text": [
      "WARNING: Empty constraint block written in LP format - solver may error\n"
     ]
    },
    {
     "data": {
      "text/plain": [
       "[-0.0341059301407,\n",
       " 0.0910768556555,\n",
       " -0.0207819760553,\n",
       " 0.00195345979442,\n",
       " 0.00107931312039,\n",
       " 0.0365851040279,\n",
       " 0.0311371812166,\n",
       " 0.00813454917486,\n",
       " 0.00037992962216,\n",
       " 0.00124142522494,\n",
       " 0.0251751186081,\n",
       " 0.0536003278572,\n",
       " -0.0988725886313]"
      ]
     },
     "execution_count": 18,
     "metadata": {},
     "output_type": "execute_result"
    }
   ],
   "source": [
    "ridge_regression(X, y, 100000)"
   ]
  },
  {
   "cell_type": "markdown",
   "metadata": {},
   "source": [
    "### Exercise\n",
    "\n",
    "Implement Lasso regression"
   ]
  },
  {
   "cell_type": "code",
   "execution_count": 19,
   "metadata": {
    "collapsed": true
   },
   "outputs": [],
   "source": [
    "def lasso_regression(X, y, rho):\n",
    "    n, p = X.shape\n",
    "\n",
    "    # Create model\n",
    "    m = ConcreteModel()\n",
    "\n",
    "    # Add variables\n",
    "    m.beta = Var(range(p))\n",
    "    m.absb = Var(range(p))\n",
    "\n",
    "    # Add constraints\n",
    "    def absbeta1(m, j):\n",
    "        return m.beta[j] <= m.absb[j]\n",
    "    m.absb1 = Constraint(range(p), rule=absbeta1)\n",
    "    def absbeta2(m, j):\n",
    "        return -m.beta[j] <= m.absb[j]\n",
    "    m.absb2 = Constraint(range(p), rule=absbeta2)\n",
    "        \n",
    "\n",
    "    # Add objective\n",
    "    m.obj = Objective(sense=minimize, expr=sum(\n",
    "        pow(y[i] - sum(X[i, j] * m.beta[j] for j in range(p)), 2) \n",
    "        for i in range(n)) + rho * sum(m.absb[j] for j in range(p)))\n",
    "\n",
    "    solver = SolverFactory('gurobi')\n",
    "    \n",
    "    ## tee=True enables solver output\n",
    "    # results = solver.solve(m, tee=True)\n",
    "    results = solver.solve(m, tee=False)\n",
    "    return [m.beta[j].value for j in range(p)]"
   ]
  },
  {
   "cell_type": "code",
   "execution_count": 20,
   "metadata": {},
   "outputs": [
    {
     "data": {
      "text/plain": [
       "[-0.0546999181104,\n",
       " 0.0480414422887,\n",
       " 6.94905241789e-15,\n",
       " 1.03282248152e-14,\n",
       " 1.68840591366e-15,\n",
       " 4.12566721786,\n",
       " 0.0313943077664,\n",
       " -0.278349914712,\n",
       " 0.0914281435229,\n",
       " -0.00694827331105,\n",
       " -0.0895405878295,\n",
       " 0.0160443216639,\n",
       " -0.557106933706]"
      ]
     },
     "execution_count": 20,
     "metadata": {},
     "output_type": "execute_result"
    }
   ],
   "source": [
    "lasso_regression(X, y, 1000)"
   ]
  },
  {
   "cell_type": "markdown",
   "metadata": {},
   "source": [
    "# Sparse Regression"
   ]
  },
  {
   "cell_type": "code",
   "execution_count": 21,
   "metadata": {
    "collapsed": true
   },
   "outputs": [],
   "source": [
    "def sparse_regression(X, y, k):\n",
    "    n, p = X.shape\n",
    "    M = 1000\n",
    "\n",
    "    # Create model\n",
    "    m = ConcreteModel()\n",
    "\n",
    "    # Add variables\n",
    "    m.beta = Var(range(p))\n",
    "    m.z = Var(range(p), within=Binary)\n",
    "\n",
    "    # Add constraints\n",
    "    def bigm1(m, j):\n",
    "        return m.beta[j] <= M * m.z[j]\n",
    "    m.bigm1 = Constraint(range(p), rule=bigm1)\n",
    "    def bigm2(m, j):\n",
    "        return m.beta[j] >= -M * m.z[j]\n",
    "    m.bigm2 = Constraint(range(p), rule=bigm2)\n",
    "        \n",
    "    m.sparsity = Constraint(expr=sum(m.z[j] for j in range(p)) <= k)\n",
    "\n",
    "    # Add objective\n",
    "    m.obj = Objective(sense=minimize, expr=sum(\n",
    "        pow(y[i] - sum(X[i, j] * m.beta[j] for j in range(p)), 2) \n",
    "        for i in range(n)))\n",
    "\n",
    "    solver = SolverFactory('gurobi')\n",
    "    \n",
    "    ## tee=True enables solver output\n",
    "    # results = solver.solve(m, tee=True)\n",
    "    results = solver.solve(m, tee=False)\n",
    "    return [m.beta[j].value for j in range(p)]"
   ]
  },
  {
   "cell_type": "code",
   "execution_count": 22,
   "metadata": {},
   "outputs": [
    {
     "data": {
      "text/plain": [
       "[-0.206218898623,\n",
       " 0.123866171721,\n",
       " 0.0,\n",
       " 0.0,\n",
       " 0.0,\n",
       " 0.0,\n",
       " 0.0,\n",
       " 0.0,\n",
       " 0.0145808602136,\n",
       " 0.0,\n",
       " 0.392458699757,\n",
       " 0.0395267480155,\n",
       " 0.0]"
      ]
     },
     "execution_count": 22,
     "metadata": {},
     "output_type": "execute_result"
    }
   ],
   "source": [
    "sparse_regression(X, y, 5)"
   ]
  },
  {
   "cell_type": "markdown",
   "metadata": {},
   "source": [
    "### Exercise\n",
    "\n",
    "Try implementing the algorithmic framework for linear regression:\n",
    "- sparsity constraints\n",
    "- lasso regularization\n",
    "- restrict highly correlated pairs of features\n",
    "- nonlinear transformations (just $\\sqrt(x)$ and $x^2$)"
   ]
  },
  {
   "cell_type": "code",
   "execution_count": 182,
   "metadata": {
    "collapsed": true
   },
   "outputs": [],
   "source": [
    "import numpy as np\n",
    "from sklearn.preprocessing import normalize\n",
    "\n",
    "def all_regression(X_orig, y, k, rho):\n",
    "    n, p_orig = X_orig.shape\n",
    "    M = 10\n",
    "    \n",
    "    X = np.concatenate(\n",
    "        [X_orig, np.sqrt(X_orig), np.square(X_orig)], axis=1\n",
    "    )\n",
    "    p = X.shape[1]\n",
    "    \n",
    "    # Normalize data\n",
    "    X = normalize(X, axis=0)\n",
    "    y = (y - np.mean(y)) / np.linalg.norm(y)\n",
    "\n",
    "    # Create model\n",
    "    m = ConcreteModel()\n",
    "\n",
    "    # Add variables\n",
    "    m.beta = Var(range(p))\n",
    "    m.z = Var(range(p), within=Binary)\n",
    "    m.absb = Var(range(p))\n",
    "\n",
    "    # Sparsity constraints\n",
    "    def bigm1(m, j):\n",
    "        return m.beta[j] <= M * m.z[j]\n",
    "    m.bigm1 = Constraint(range(p), rule=bigm1)\n",
    "    def bigm2(m, j):\n",
    "        return m.beta[j] >= -M * m.z[j]\n",
    "    m.bigm2 = Constraint(range(p), rule=bigm2)\n",
    "    m.sparsity = Constraint(expr=sum(m.z[j] for j in range(p)) <= k)\n",
    "    \n",
    "    # Lasso constraints\n",
    "    def absbeta1(m, j):\n",
    "        return m.beta[j] <= m.absb[j]\n",
    "    m.absb1 = Constraint(range(p), rule=absbeta1)\n",
    "    def absbeta2(m, j):\n",
    "        return -m.beta[j] <= m.absb[j]\n",
    "    m.absb2 = Constraint(range(p), rule=absbeta2)\n",
    "    \n",
    "    # Correlation constraints\n",
    "    corX = np.corrcoef(np.transpose(X))\n",
    "    def cor_rule(m, i, j):\n",
    "        if i > j and abs(corX[i, j]) > 0.8:\n",
    "            return (sum(m.z[k] for k in range(i, p, p_orig)) + \n",
    "                    sum(m.z[k] for k in range(j, p, p_orig)) <= 1)\n",
    "        else:\n",
    "            return Constraint.Skip\n",
    "    m.cor = Constraint(range(p_orig), range(p_orig), rule=cor_rule)\n",
    "    \n",
    "    # Nonlinear constraints\n",
    "    def nl_rule(m, i):\n",
    "        return sum(m.z[k] for k in range(i, p, p_orig)) <= 1\n",
    "    m.nl = Constraint(range(p_orig), rule=nl_rule)\n",
    "\n",
    "    # Add objective\n",
    "    m.obj = Objective(sense=minimize, expr=sum(\n",
    "        pow(y[i] - sum(X[i, j] * m.beta[j] for j in range(p)), 2) \n",
    "        for i in range(n)) + rho * sum(m.absb[j] for j in range(p)))\n",
    "\n",
    "    solver = SolverFactory('gurobi')\n",
    "    \n",
    "    ## tee=True enables solver output\n",
    "#     results = solver.solve(m, tee=True)\n",
    "    results = solver.solve(m, tee=False)\n",
    "\n",
    "    return np.array([m.beta[j].value for j in range(p)]).reshape(-1, p_orig)"
   ]
  },
  {
   "cell_type": "code",
   "execution_count": 183,
   "metadata": {},
   "outputs": [
    {
     "data": {
      "text/plain": [
       "array([[ 0.        ,  0.        ,  0.        ,  0.02823211,  0.        ,\n",
       "         0.        ,  0.        , -0.08902008,  0.        ,  0.        ,\n",
       "         0.        ,  0.        ,  0.        ],\n",
       "       [ 0.        ,  0.        ,  0.        ,  0.        ,  0.        ,\n",
       "         0.        ,  0.        ,  0.        ,  0.        ,  0.        ,\n",
       "         0.        ,  0.29134352, -0.63119856],\n",
       "       [ 0.        ,  0.        ,  0.        ,  0.        ,  0.        ,\n",
       "         0.66037091,  0.        ,  0.        ,  0.        ,  0.        ,\n",
       "        -0.26103972,  0.        ,  0.        ]])"
      ]
     },
     "execution_count": 183,
     "metadata": {},
     "output_type": "execute_result"
    }
   ],
   "source": [
    "all_regression(X, y, 6, 0)"
   ]
  },
  {
   "cell_type": "markdown",
   "metadata": {},
   "source": [
    "# Logistic Regression"
   ]
  },
  {
   "cell_type": "markdown",
   "metadata": {},
   "source": [
    "Like JuMP, we need to use a new solver for the nonlinear problem. We can use Ipopt as before, except we have to set it up manually. You'll need to download Ipopt and add it to the PATH. \n",
    "\n",
    "On Mac, you can do this with Homebrew if you have it:"
   ]
  },
  {
   "cell_type": "code",
   "execution_count": 27,
   "metadata": {},
   "outputs": [
    {
     "name": "stdout",
     "output_type": "stream",
     "text": [
      "\u001b[33mWarning:\u001b[0m homebrew/science/ipopt 3.12.8 is already installed\r\n"
     ]
    }
   ],
   "source": [
    "!brew install ipopt"
   ]
  },
  {
   "cell_type": "markdown",
   "metadata": {},
   "source": [
    "The other way is to download a copy of ipopt and specify the path to it exactly when creating the solver. For example, I have a copy of Ipopt left over from JuMP, which I can use by modifying the SolverFactory line as indicated below:"
   ]
  },
  {
   "cell_type": "code",
   "execution_count": 189,
   "metadata": {
    "collapsed": true
   },
   "outputs": [],
   "source": [
    "def logistic_regression(X, y):\n",
    "    n, p = X.shape\n",
    "    \n",
    "    # Convert y to (-1, +1)\n",
    "    assert np.min(y) == 0\n",
    "    assert np.max(y) == 1\n",
    "    Y = y * 2 - 1\n",
    "    assert np.min(Y) == -1\n",
    "    assert np.max(Y) == 1\n",
    "\n",
    "    # Create the model\n",
    "    m = ConcreteModel()\n",
    "\n",
    "    # Add variables\n",
    "    m.b = Var(range(p))\n",
    "    m.b0 = Var()\n",
    "\n",
    "    # Set nonlinear objective function\n",
    "    m.obj = Objective(sense=maximize, expr=-sum(\n",
    "        log(1 + exp(-Y[i] * (sum(X[i, j] * m.b[j] for j in range(p)) + m.b0)))\n",
    "        for i in range(n)))\n",
    "\n",
    "    # Solve the model and get the optimal solutions\n",
    "    solver = SolverFactory('ipopt')\n",
    "    \n",
    "    ## To use the version left over from Julia\n",
    "    ## On Mac\n",
    "#     solver = SolverFactory('ipopt', executable=\"~/.julia/v0.6/Homebrew/deps/usr/Cellar/ipopt/3.12.4_1/bin/ipopt\")\n",
    "    ## On Windows the path is probably under WinRPM\n",
    "    # solver = SolverFactory('ipopt', executable='%HOME%\\.julia\\v0.6\\WinRPM\\...')\n",
    "    \n",
    "    solver.solve(m)\n",
    "    return [m.b[j].value for j in range(p)], m.b0.value"
   ]
  },
  {
   "cell_type": "markdown",
   "metadata": {},
   "source": [
    "Load up some data"
   ]
  },
  {
   "cell_type": "code",
   "execution_count": 190,
   "metadata": {
    "collapsed": true
   },
   "outputs": [],
   "source": [
    "from sklearn.datasets import load_breast_cancer\n",
    "data = load_breast_cancer()\n",
    "X = data.data\n",
    "y = data.target"
   ]
  },
  {
   "cell_type": "code",
   "execution_count": 191,
   "metadata": {},
   "outputs": [
    {
     "data": {
      "text/plain": [
       "([4149.287451897711,\n",
       "  -95.66578660735038,\n",
       "  -122.72206478857777,\n",
       "  -31.07341714231376,\n",
       "  -30864.89323095169,\n",
       "  36295.58728859856,\n",
       "  -19052.223170338486,\n",
       "  -19686.212584057354,\n",
       "  14077.28373883507,\n",
       "  -45229.08949784562,\n",
       "  -2194.661967026749,\n",
       "  98.5971333629637,\n",
       "  810.8125884802604,\n",
       "  -71.48236619171124,\n",
       "  65261.00922698214,\n",
       "  -62374.95392966877,\n",
       "  52121.75890489646,\n",
       "  -203728.94762214983,\n",
       "  62535.54339961117,\n",
       "  488515.82851625,\n",
       "  -1086.5761316328774,\n",
       "  -31.442974689271836,\n",
       "  -43.12091429394959,\n",
       "  7.303070144711609,\n",
       "  3500.0884271415753,\n",
       "  5108.102927332265,\n",
       "  -4412.6083269231385,\n",
       "  -4740.511086088049,\n",
       "  -14164.862181354463,\n",
       "  -35109.20858210006],\n",
       " -323.22751778394667)"
      ]
     },
     "execution_count": 191,
     "metadata": {},
     "output_type": "execute_result"
    }
   ],
   "source": [
    "logistic_regression(X, y)"
   ]
  },
  {
   "cell_type": "markdown",
   "metadata": {
    "collapsed": true
   },
   "source": [
    "### Exercise\n",
    "\n",
    "Implement the regularized versions of logistic regression that scikit-learn provides:\n",
    "\n",
    "![](http://scikit-learn.org/stable/_images/math/6a0bcf21baaeb0c2b879ab74fe333c0aab0d6ae6.png)\n",
    "\n",
    "![](http://scikit-learn.org/stable/_images/math/760c999ccbc78b72d2a91186ba55ce37f0d2cf37.png)"
   ]
  },
  {
   "cell_type": "code",
   "execution_count": 194,
   "metadata": {
    "collapsed": true
   },
   "outputs": [],
   "source": [
    "def logistic_regression_l1(X, y, C):\n",
    "    n, p = X.shape\n",
    "    \n",
    "    # Convert y to (-1, +1)\n",
    "    assert np.min(y) == 0\n",
    "    assert np.max(y) == 1\n",
    "    Y = y * 2 - 1\n",
    "    assert np.min(Y) == -1\n",
    "    assert np.max(Y) == 1\n",
    "\n",
    "    # Create the model\n",
    "    m = ConcreteModel()\n",
    "\n",
    "    # Add variables\n",
    "    m.b = Var(range(p))\n",
    "    m.b0 = Var()\n",
    "    \n",
    "    # Lasso constraints\n",
    "    m.absb = Var(range(p))\n",
    "    def absbeta1(m, j):\n",
    "        return m.b[j] <= m.absb[j]\n",
    "    m.absb1 = Constraint(range(p), rule=absbeta1)\n",
    "    def absbeta2(m, j):\n",
    "        return -m.b[j] <= m.absb[j]\n",
    "    m.absb2 = Constraint(range(p), rule=absbeta2)\n",
    "    \n",
    "    # Set nonlinear objective function\n",
    "    m.obj = Objective(sense=minimize, expr=sum(m.absb[j] for j in range(p)) + C * sum(\n",
    "        log(1 + exp(-Y[i] * (sum(X[i, j] * m.b[j] for j in range(p)) + m.b0)))\n",
    "        for i in range(n)))\n",
    "\n",
    "    # Solve the model and get the optimal solutions\n",
    "    solver = SolverFactory('ipopt')\n",
    "    \n",
    "    solver.solve(m)\n",
    "    return [m.b[j].value for j in range(p)], m.b0.value"
   ]
  },
  {
   "cell_type": "code",
   "execution_count": 196,
   "metadata": {},
   "outputs": [
    {
     "data": {
      "text/plain": [
       "([4.395064126333529,\n",
       "  -0.11536163425045783,\n",
       "  -0.12337302600374518,\n",
       "  -0.01936626591045223,\n",
       "  -1.3388952674378297e-05,\n",
       "  44.06235490000902,\n",
       "  -5.36467540630947e-05,\n",
       "  -114.59742041161189,\n",
       "  3.1315376518085696,\n",
       "  -1.954997632857952e-06,\n",
       "  -0.0001529369038676667,\n",
       "  1.613920185614702,\n",
       "  1.1241880096170722,\n",
       "  -0.2878801579365252,\n",
       "  -1.3917240954019008e-05,\n",
       "  59.48465136677453,\n",
       "  9.709148208013277,\n",
       "  -1.6874986336814742e-05,\n",
       "  3.363939473126625e-05,\n",
       "  3.4661698593929936e-06,\n",
       "  -1.4250319711295396,\n",
       "  -0.41697739115019217,\n",
       "  -0.15308242915283365,\n",
       "  0.0020392527812163955,\n",
       "  -43.934285053178556,\n",
       "  2.217865608175902,\n",
       "  -10.250731059784785,\n",
       "  -30.282661131054837,\n",
       "  -14.863450800923257,\n",
       "  -1.0088350216006994e-05],\n",
       " 30.87167072501216)"
      ]
     },
     "execution_count": 196,
     "metadata": {},
     "output_type": "execute_result"
    }
   ],
   "source": [
    "logistic_regression_l1(X, y, 100)"
   ]
  },
  {
   "cell_type": "code",
   "execution_count": 197,
   "metadata": {
    "collapsed": true
   },
   "outputs": [],
   "source": [
    "def logistic_regression_l2(X, y, C):\n",
    "    n, p = X.shape\n",
    "    \n",
    "    # Convert y to (-1, +1)\n",
    "    assert np.min(y) == 0\n",
    "    assert np.max(y) == 1\n",
    "    Y = y * 2 - 1\n",
    "    assert np.min(Y) == -1\n",
    "    assert np.max(Y) == 1\n",
    "\n",
    "    # Create the model\n",
    "    m = ConcreteModel()\n",
    "\n",
    "    # Add variables\n",
    "    m.b = Var(range(p))\n",
    "    m.b0 = Var()\n",
    "    \n",
    "    # Set nonlinear objective function\n",
    "    m.obj = Objective(sense=minimize, expr=0.5 * sum(pow(m.b[j], 2) for j in range(p)) + C * sum(\n",
    "        log(1 + exp(-Y[i] * (sum(X[i, j] * m.b[j] for j in range(p)) + m.b0)))\n",
    "        for i in range(n)))\n",
    "\n",
    "    # Solve the model and get the optimal solutions\n",
    "    solver = SolverFactory('ipopt')\n",
    "    \n",
    "    solver.solve(m)\n",
    "    return [m.b[j].value for j in range(p)], m.b0.value"
   ]
  },
  {
   "cell_type": "code",
   "execution_count": 200,
   "metadata": {},
   "outputs": [
    {
     "data": {
      "text/plain": [
       "([2.8967817568863046,\n",
       "  0.005420709146496229,\n",
       "  -0.16647164395112038,\n",
       "  -0.006703933468261533,\n",
       "  -13.104363377099357,\n",
       "  15.68101527364185,\n",
       "  -17.59781077821828,\n",
       "  -29.272302589577297,\n",
       "  4.614842249435604,\n",
       "  0.7355623311482853,\n",
       "  -2.504921167755782,\n",
       "  2.119095133372267,\n",
       "  0.14716767197252492,\n",
       "  -0.17226130026625208,\n",
       "  -7.096244314033477,\n",
       "  23.90707857998713,\n",
       "  24.69263290413242,\n",
       "  -6.048226654571491,\n",
       "  8.913588143100506,\n",
       "  4.7841488391800455,\n",
       "  -1.3554658525312369,\n",
       "  -0.46760590163349,\n",
       "  -0.025470881419891362,\n",
       "  -0.003363474811039968,\n",
       "  -30.59427876947118,\n",
       "  9.771808002605574,\n",
       "  -8.807735054031562,\n",
       "  -34.227909139073866,\n",
       "  -14.698540645831052,\n",
       "  -2.5928076418770276],\n",
       " 34.314051046487776)"
      ]
     },
     "execution_count": 200,
     "metadata": {},
     "output_type": "execute_result"
    }
   ],
   "source": [
    "logistic_regression_l2(X, y, 1000)"
   ]
  },
  {
   "cell_type": "code",
   "execution_count": null,
   "metadata": {
    "collapsed": true
   },
   "outputs": [],
   "source": []
  }
 ],
 "metadata": {
  "kernelspec": {
   "display_name": "Python 2",
   "language": "python",
   "name": "python2"
  },
  "language_info": {
   "codemirror_mode": {
    "name": "ipython",
    "version": 2
   },
   "file_extension": ".py",
   "mimetype": "text/x-python",
   "name": "python",
   "nbconvert_exporter": "python",
   "pygments_lexer": "ipython2",
   "version": "2.7.14"
  }
 },
 "nbformat": 4,
 "nbformat_minor": 2
}
