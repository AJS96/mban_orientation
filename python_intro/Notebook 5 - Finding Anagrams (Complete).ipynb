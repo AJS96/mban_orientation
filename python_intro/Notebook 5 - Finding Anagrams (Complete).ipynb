{
 "cells": [
  {
   "cell_type": "markdown",
   "metadata": {},
   "source": [
    "# Finding Anagrams\n",
    "We will apply the tools we have learned thus far to write code to a spelling puzzle. According to Wikipedia, an Anagram is defined as follows.\n",
    "\n",
    "    An anagram is word or phrase formed by rearranging the letters of a different word or phrase, typically using all the original letters exactly once. For example, the word anagram can be rearranged into \"nag a ram\"\n",
    "\n",
    "Given the dataset of common English words, we want to write a function to find anagrams. Specifically, we want a function `Anagrams()` that returns a list of lists, where each inner list has the words which are anagrams of one another.\n",
    "\n",
    "For example, if `anagrams = Anagrams()`, then `anagrams` should contain the list `[art,rat,tar]`, since art, rat, and tar are in the word list and are mutually anagrams.\n",
    "\n",
    "Hint: the letters in a string can be sorted via the function `sorted()`.\n"
   ]
  },
  {
   "cell_type": "code",
   "execution_count": 18,
   "metadata": {
    "collapsed": true
   },
   "outputs": [],
   "source": [
    "def Anagrams(my_word):\n",
    "    # Obtain the list of words\n",
    "    file_name = 'english_words.txt'\n",
    "    words = [line.rstrip() for line in open(file_name)]\n",
    "    \n",
    "    # Create a dictionary as follows. The keys are the words, sorted internally. The\n",
    "    # value is the list of words that can be rearranged to that key.\n",
    "    my_dict = {}\n",
    "    for word in words:\n",
    "        sorted_word = ''.join(sorted(word))\n",
    "        if sorted_word not in my_dict:\n",
    "            my_dict[sorted_word] = []\n",
    "        my_dict[sorted_word].append(word)\n",
    "        \n",
    "    \n",
    "    return my_dict\n",
    "            \n",
    "    \n",
    "    "
   ]
  },
  {
   "cell_type": "code",
   "execution_count": 9,
   "metadata": {},
   "outputs": [],
   "source": [
    "anagrams = Anagrams('cab')"
   ]
  },
  {
   "cell_type": "code",
   "execution_count": 15,
   "metadata": {},
   "outputs": [],
   "source": [
    "collections = anagrams.values()"
   ]
  },
  {
   "cell_type": "code",
   "execution_count": 17,
   "metadata": {},
   "outputs": [
    {
     "data": {
      "text/plain": [
       "[['corp', 'crop', 'proc'],\n",
       " ['later', 'alert', 'alter'],\n",
       " ['sir', 'sri', 'irs'],\n",
       " ['read', 'dear', 'dare'],\n",
       " ['lead', 'deal', 'dale'],\n",
       " ['isp', 'psi', 'sip', 'ips'],\n",
       " ['garden', 'danger', 'grande'],\n",
       " ['weird', 'wired', 'wider'],\n",
       " ['mac', 'cam', 'acm'],\n",
       " ['cast', 'acts', 'cats'],\n",
       " ['cup', 'cpu', 'upc'],\n",
       " ['early', 'layer', 'relay'],\n",
       " ['are', 'era', 'ear'],\n",
       " ['panel', 'plane', 'nepal'],\n",
       " ['notes', 'stone', 'tones'],\n",
       " ['aim', 'mai', 'mia'],\n",
       " ['per', 'pre', 'rep', 'erp'],\n",
       " ['ages', 'sage', 'sega'],\n",
       " ['mar', 'ram', 'arm'],\n",
       " ['team', 'meat', 'meta', 'mate'],\n",
       " ['edit', 'diet', 'tied', 'tide'],\n",
       " ['pool', 'loop', 'polo'],\n",
       " ['center', 'recent', 'centre'],\n",
       " ['mode', 'demo', 'dome'],\n",
       " ['lost', 'lots', 'slot'],\n",
       " ['carol', 'coral', 'carlo'],\n",
       " ['map', 'amp', 'pam'],\n",
       " ['its', 'sit', 'ist'],\n",
       " ['least', 'tales', 'steal'],\n",
       " ['top', 'pot', 'opt'],\n",
       " ['step', 'pets', 'sept', 'pest'],\n",
       " ['hurt', 'thru', 'ruth'],\n",
       " ['eat', 'tea', 'ate'],\n",
       " ['arnold', 'ronald', 'roland'],\n",
       " ['car', 'arc', 'rca'],\n",
       " ['ads', 'sad', 'das'],\n",
       " ['and', 'dan', 'dna'],\n",
       " ['mad', 'amd', 'dam'],\n",
       " ['set', 'est', 'ste'],\n",
       " ['medical', 'claimed', 'decimal'],\n",
       " ['net', 'ten', 'ent'],\n",
       " ['meals', 'salem', 'males'],\n",
       " ['usb', 'sub', 'bus'],\n",
       " ['tab', 'bat', 'tba'],\n",
       " ['brief', 'fiber', 'fibre'],\n",
       " ['panels', 'planes', 'naples'],\n",
       " ['tan', 'nat', 'ant'],\n",
       " ['post', 'stop', 'spot', 'tops'],\n",
       " ['coins', 'icons', 'sonic'],\n",
       " ['this', 'hits', 'hist', 'shit'],\n",
       " ['break', 'baker', 'brake'],\n",
       " ['care', 'race', 'acer', 'acre'],\n",
       " ['posts', 'spots', 'stops'],\n",
       " ['art', 'rat', 'tar'],\n",
       " ['gallery', 'largely', 'allergy'],\n",
       " ['fears', 'fares', 'safer'],\n",
       " ['apr', 'par', 'rap'],\n",
       " ['spa', 'asp', 'sap', 'pas'],\n",
       " ['pat', 'tap', 'apt'],\n",
       " ['relating', 'integral', 'triangle'],\n",
       " ['star', 'arts', 'rats'],\n",
       " ['now', 'own', 'won']]"
      ]
     },
     "execution_count": 17,
     "metadata": {},
     "output_type": "execute_result"
    }
   ],
   "source": [
    "[collection for collection in collections if len(collection) >= 3]"
   ]
  },
  {
   "cell_type": "code",
   "execution_count": null,
   "metadata": {
    "collapsed": true
   },
   "outputs": [],
   "source": []
  }
 ],
 "metadata": {
  "kernelspec": {
   "display_name": "Python 2",
   "language": "python",
   "name": "python2"
  },
  "language_info": {
   "codemirror_mode": {
    "name": "ipython",
    "version": 2
   },
   "file_extension": ".py",
   "mimetype": "text/x-python",
   "name": "python",
   "nbconvert_exporter": "python",
   "pygments_lexer": "ipython2",
   "version": "2.7.13"
  }
 },
 "nbformat": 4,
 "nbformat_minor": 1
}
