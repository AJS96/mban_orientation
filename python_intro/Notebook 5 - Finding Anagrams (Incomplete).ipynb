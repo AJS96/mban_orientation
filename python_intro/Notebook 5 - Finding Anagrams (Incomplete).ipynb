{
 "cells": [
  {
   "cell_type": "markdown",
   "metadata": {},
   "source": [
    "# Finding Anagrams\n",
    "We will apply the tools we have learned thus far to write code to a spelling puzzle. According to Wikipedia, an Anagram is defined as follows.\n",
    "\n",
    "    An anagram is word or phrase formed by rearranging the letters of a different word or phrase, typically using all the original letters exactly once. For example, the word anagram can be rearranged into \"nag a ram\"\n",
    "\n",
    "Given the dataset of common English words, we want to write a function to find anagrams. Specifically, we want a function `Anagrams()` that returns a list of lists, where each inner list has the words which are anagrams of one another.\n",
    "\n",
    "For example, if `anagrams = Anagrams()`, then `anagrams` should contain the list `[art,rat,tar]`, since art, rat, and tar are in the word list and are mutually anagrams.\n",
    "\n",
    "Hint: the letters in a string can be sorted via the function `sorted()`.\n"
   ]
  },
  {
   "cell_type": "code",
   "execution_count": 6,
   "metadata": {
    "collapsed": true
   },
   "outputs": [],
   "source": [
    "def Anagrams():\n",
    "    # Obtain the list of words\n",
    "    file_name = 'english_words.txt'\n",
    "    words = [line.rstrip() for line in open(file_name)]\n",
    "    \n",
    "    # Create a dictionary as follows. The keys are the words, sorted internally. The\n",
    "    # value is the list of words that can be rearranged to that key.\n",
    "    my_dict = {}\n",
    "    for word in words:\n",
    "        sorted_word = ''.join(sorted(word))\n",
    "        if sorted_word not in my_dict:\n",
    "            my_dict[sorted_word] = []\n",
    "        my_dict[sorted_word].append(word)\n",
    "    return my_dict.values()\n",
    "        "
   ]
  },
  {
   "cell_type": "code",
   "execution_count": 7,
   "metadata": {},
   "outputs": [],
   "source": [
    "anagrams = Anagrams()"
   ]
  },
  {
   "cell_type": "code",
   "execution_count": 8,
   "metadata": {},
   "outputs": [
    {
     "data": {
      "text/plain": [
       "9305"
      ]
     },
     "execution_count": 8,
     "metadata": {},
     "output_type": "execute_result"
    }
   ],
   "source": [
    "len(anagrams)"
   ]
  },
  {
   "cell_type": "code",
   "execution_count": 9,
   "metadata": {},
   "outputs": [
    {
     "data": {
      "text/plain": [
       "[['levy'], ['image'], ['dangerous'], ['vendors'], ['particles']]"
      ]
     },
     "execution_count": 9,
     "metadata": {},
     "output_type": "execute_result"
    }
   ],
   "source": [
    "anagrams[:5]"
   ]
  },
  {
   "cell_type": "code",
   "execution_count": 12,
   "metadata": {},
   "outputs": [
    {
     "data": {
      "text/plain": [
       "[['isp', 'psi', 'sip', 'ips'],\n",
       " ['per', 'pre', 'rep', 'erp'],\n",
       " ['team', 'meat', 'meta', 'mate'],\n",
       " ['edit', 'diet', 'tied', 'tide'],\n",
       " ['step', 'pets', 'sept', 'pest'],\n",
       " ['post', 'stop', 'spot', 'tops'],\n",
       " ['this', 'hits', 'hist', 'shit'],\n",
       " ['care', 'race', 'acer', 'acre'],\n",
       " ['spa', 'asp', 'sap', 'pas']]"
      ]
     },
     "execution_count": 12,
     "metadata": {},
     "output_type": "execute_result"
    }
   ],
   "source": [
    "[anagram_list for anagram_list in anagrams if len(anagram_list) >= 4]"
   ]
  },
  {
   "cell_type": "code",
   "execution_count": null,
   "metadata": {
    "collapsed": true
   },
   "outputs": [],
   "source": []
  }
 ],
 "metadata": {
  "kernelspec": {
   "display_name": "Python 2",
   "language": "python",
   "name": "python2"
  },
  "language_info": {
   "codemirror_mode": {
    "name": "ipython",
    "version": 2
   },
   "file_extension": ".py",
   "mimetype": "text/x-python",
   "name": "python",
   "nbconvert_exporter": "python",
   "pygments_lexer": "ipython2",
   "version": "2.7.13"
  }
 },
 "nbformat": 4,
 "nbformat_minor": 1
}
